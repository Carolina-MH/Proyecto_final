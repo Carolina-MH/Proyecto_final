{
 "cells": [
  {
   "cell_type": "markdown",
   "id": "db57af4f",
   "metadata": {},
   "source": [
    "# SQL"
   ]
  },
  {
   "cell_type": "markdown",
   "id": "7350cd46",
   "metadata": {},
   "source": [
    "Una vez realizada toda la limpieza y ordenado todos mis datos. Me conecto con la base de datos a SQL para establecer relaciones:"
   ]
  },
  {
   "cell_type": "code",
   "execution_count": null,
   "id": "fa2067b9",
   "metadata": {},
   "outputs": [],
   "source": [
    "import pandas as pd\n",
    "from sqlalchemy import create_engine\n",
    "%run functions.ipynb"
   ]
  },
  {
   "cell_type": "code",
   "execution_count": null,
   "id": "3d067ba6",
   "metadata": {},
   "outputs": [],
   "source": [
    "usuario = 'root'\n",
    "ruta_archivo_contraseña = '../sql.txt'  # Reemplaza con la ruta correcta al archivo de texto\n",
    "host = 'localhost'\n",
    "puerto = '3306'\n",
    "nombre_bd = 'turismo'\n",
    "# Obtén la cadena de conexión\n",
    "cadena_conexion = crear_cadena_conexion(usuario, ruta_archivo_contraseña, host, puerto, nombre_bd)\n"
   ]
  },
  {
   "cell_type": "markdown",
   "id": "bc468375",
   "metadata": {},
   "source": [
    "#### INE"
   ]
  },
  {
   "cell_type": "code",
   "execution_count": null,
   "id": "25866702",
   "metadata": {},
   "outputs": [],
   "source": [
    "ruta_csv_ine_viajeros = '../data/viajeros_combined.csv'\n",
    "# Nombre de la tabla en la que se cargarán los datos\n",
    "nombre_tabla_mysql = 'viajeros_combined'\n",
    "\n",
    "# Llamar a la función para cargar el CSV en la tabla de MySQL\n",
    "cargar_csv_a_mysql(ruta_csv_ine_viajeros, cadena_conexion, nombre_tabla_mysql)"
   ]
  },
  {
   "cell_type": "code",
   "execution_count": null,
   "id": "26e2eac3",
   "metadata": {},
   "outputs": [],
   "source": [
    "ruta_csv_ine_pernoctaciones = '../data/pernoctaciones_combined.csv'\n",
    "# Nombre de la tabla en la que se cargarán los datos\n",
    "nombre_tabla_mysql = 'pernoctaciones_combined'\n",
    "\n",
    "# Llamar a la función para cargar el CSV en la tabla de MySQL\n",
    "cargar_csv_a_mysql(ruta_csv_ine_pernoctaciones, cadena_conexion, nombre_tabla_mysql)"
   ]
  },
  {
   "cell_type": "markdown",
   "id": "b33cd070",
   "metadata": {},
   "source": [
    "AEMET"
   ]
  },
  {
   "cell_type": "code",
   "execution_count": null,
   "id": "b3606122",
   "metadata": {},
   "outputs": [],
   "source": [
    "ruta_csv_aemet_meses = '../data/meses_combined.csv'\n",
    "# Nombre de la tabla en la que se cargarán los datos\n",
    "nombre_tabla_mysql = 'meses_combined'\n",
    "\n",
    "# Llamar a la función para cargar el CSV en la tabla de MySQL\n",
    "cargar_csv_a_mysql(ruta_csv_aemet_meses, cadena_conexion, nombre_tabla_mysql)"
   ]
  }
 ],
 "metadata": {
  "kernelspec": {
   "display_name": "clase",
   "language": "python",
   "name": "clase"
  },
  "language_info": {
   "codemirror_mode": {
    "name": "ipython",
    "version": 3
   },
   "file_extension": ".py",
   "mimetype": "text/x-python",
   "name": "python",
   "nbconvert_exporter": "python",
   "pygments_lexer": "ipython3",
   "version": "3.11.4"
  }
 },
 "nbformat": 4,
 "nbformat_minor": 5
}
