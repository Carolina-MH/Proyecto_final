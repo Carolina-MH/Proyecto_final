{
 "cells": [
  {
   "cell_type": "markdown",
   "id": "0c466253",
   "metadata": {},
   "source": [
    "# API AEMET"
   ]
  },
  {
   "cell_type": "code",
   "execution_count": 1,
   "id": "ac381f04",
   "metadata": {},
   "outputs": [
    {
     "name": "stdout",
     "output_type": "stream",
     "text": [
      "Requirement already satisfied: requests in c:\\users\\carol\\anaconda3\\envs\\clima\\lib\\site-packages (2.31.0)\n",
      "Requirement already satisfied: charset-normalizer<4,>=2 in c:\\users\\carol\\anaconda3\\envs\\clima\\lib\\site-packages (from requests) (3.3.2)\n",
      "Requirement already satisfied: idna<4,>=2.5 in c:\\users\\carol\\anaconda3\\envs\\clima\\lib\\site-packages (from requests) (3.6)\n",
      "Requirement already satisfied: urllib3<3,>=1.21.1 in c:\\users\\carol\\anaconda3\\envs\\clima\\lib\\site-packages (from requests) (2.1.0)\n",
      "Requirement already satisfied: certifi>=2017.4.17 in c:\\users\\carol\\anaconda3\\envs\\clima\\lib\\site-packages (from requests) (2023.11.17)\n",
      "Note: you may need to restart the kernel to use updated packages.\n"
     ]
    }
   ],
   "source": [
    "%pip install requests"
   ]
  },
  {
   "cell_type": "code",
   "execution_count": 3,
   "id": "e914ce9e",
   "metadata": {},
   "outputs": [],
   "source": [
    "import pandas as pd\n",
    "import warnings\n",
    "warnings.filterwarnings(\"ignore\")\n",
    "import requests\n",
    "import json\n",
    "import os\n",
    "import numpy as np\n",
    "import locale\n",
    "import requests\n",
    "%run Functions.ipynb #conecto con mi otro JN y utilizo mis funciones\n",
    "pd.set_option('display.max_columns', None) \n",
    "pd.set_option('display.max_rows', None)"
   ]
  },
  {
   "cell_type": "code",
   "execution_count": 4,
   "id": "56f03e18",
   "metadata": {},
   "outputs": [],
   "source": [
    "aemet = obtener_encabezado_api(api_file_path='../api.txt')"
   ]
  },
  {
   "cell_type": "markdown",
   "id": "7af05e84",
   "metadata": {},
   "source": [
    "La API de la Agencia Estatal de Meteorología (AEMET) es esencial para enriquecer la tabla que ya tengo tratada del INE debido a su capacidad para proporcionar datos climáticos precisos y actualizados. Estos datos permiten comprender cómo las condiciones climáticas influyen en los patrones de turismo y pernoctaciones, y son fundamentales para la planificación, toma de decisiones y análisis más profundos en el sector turístico y otros campos relacionados."
   ]
  },
  {
   "cell_type": "markdown",
   "id": "e1ff6f9a",
   "metadata": {},
   "source": [
    "Limpio los datos con las funciones que he creado:"
   ]
  },
  {
   "cell_type": "markdown",
   "id": "bc891a09",
   "metadata": {},
   "source": [
    "## ENERO23"
   ]
  },
  {
   "cell_type": "code",
   "execution_count": 5,
   "id": "cc8e754a",
   "metadata": {},
   "outputs": [],
   "source": [
    "columnas_interes = ['fecha', 'provincia', 'tmed', 'prec', 'sol', 'tmin', 'tmax']"
   ]
  },
  {
   "cell_type": "code",
   "execution_count": 6,
   "id": "a9793bbf",
   "metadata": {},
   "outputs": [
    {
     "name": "stdout",
     "output_type": "stream",
     "text": [
      "{'descripcion': 'exito', 'estado': 200, 'datos': 'https://opendata.aemet.es/opendata/sh/f3b7f355', 'metadatos': 'https://opendata.aemet.es/opendata/sh/b3aa9d28'}\n"
     ]
    }
   ],
   "source": [
    "url_en23 = 'https://opendata.aemet.es/opendata/api/valores/climatologicos/diarios/datos/fechaini/2023-01-01T00%3A00%3A00UTC/fechafin/2023-01-31T00%3A00%3A00UTC/todasestaciones'\n",
    "api_file_path = '../api.txt'\n",
    "\n",
    "enero23 = solicitud_get(url_en23, api_file_path)\n",
    "print(enero23)"
   ]
  },
  {
   "cell_type": "code",
   "execution_count": null,
   "id": "cd58d312",
   "metadata": {},
   "outputs": [],
   "source": [
    "url_datos_en23= 'https://opendata.aemet.es/opendata/sh/f3b7f355'\n",
    "enero_23= procesar_datos_mes(url_datos_en23, columnas_interes)"
   ]
  },
  {
   "cell_type": "code",
   "execution_count": null,
   "id": "570c98d3",
   "metadata": {},
   "outputs": [],
   "source": [
    "enero_23= procesar_mes(enero_23)"
   ]
  },
  {
   "cell_type": "code",
   "execution_count": null,
   "id": "24aabe71",
   "metadata": {},
   "outputs": [],
   "source": [
    "enero_23.head()"
   ]
  },
  {
   "cell_type": "markdown",
   "id": "3ecd83a8",
   "metadata": {},
   "source": [
    "## FEBRERO23"
   ]
  },
  {
   "cell_type": "code",
   "execution_count": null,
   "id": "68a60878",
   "metadata": {},
   "outputs": [],
   "source": [
    "url_feb23='https://opendata.aemet.es/opendata/api/valores/climatologicos/diarios/datos/fechaini/2023-02-01T00%3A00%3A00UTC/fechafin/2023-02-28T00%3A00%3A00UTC/todasestaciones'\n",
    "api_file_path = '../api.txt'\n",
    "\n",
    "febrero23 = solicitud_get(url_feb23, api_file_path)\n",
    "print(febrero23)"
   ]
  },
  {
   "cell_type": "code",
   "execution_count": null,
   "id": "ceeb0c74",
   "metadata": {},
   "outputs": [],
   "source": [
    "url_datos_feb23= 'https://opendata.aemet.es/opendata/sh/9845be58'\n",
    "febrero_23= procesar_datos_mes(url_datos_feb23, columnas_interes)"
   ]
  },
  {
   "cell_type": "code",
   "execution_count": null,
   "id": "8bf73184",
   "metadata": {},
   "outputs": [],
   "source": [
    "febrero_23= procesar_mes(febrero_23)"
   ]
  },
  {
   "cell_type": "code",
   "execution_count": null,
   "id": "0bf5e5ca",
   "metadata": {},
   "outputs": [],
   "source": [
    "febrero_23.head()"
   ]
  },
  {
   "cell_type": "markdown",
   "id": "c35cd8f9",
   "metadata": {},
   "source": [
    "## MARZO23"
   ]
  },
  {
   "cell_type": "code",
   "execution_count": null,
   "id": "a95edf9c",
   "metadata": {},
   "outputs": [],
   "source": [
    "url_mar23='https://opendata.aemet.es/opendata/api/valores/climatologicos/diarios/datos/fechaini/2023-03-01T00%3A00%3A00UTC/fechafin/2023-03-31T00%3A00%3A00UTC/todasestaciones'\n",
    "api_file_path = '../api.txt'\n",
    "\n",
    "marzo23 = solicitud_get(url_mar23, api_file_path)\n",
    "print(marzo23)"
   ]
  },
  {
   "cell_type": "code",
   "execution_count": null,
   "id": "3aeee58e",
   "metadata": {},
   "outputs": [],
   "source": [
    "url_datos_mar23= 'https://opendata.aemet.es/opendata/sh/0270d2ab'\n",
    "marzo_23= procesar_datos_mes(url_datos_mar23, columnas_interes)"
   ]
  },
  {
   "cell_type": "code",
   "execution_count": null,
   "id": "63b90a56",
   "metadata": {},
   "outputs": [],
   "source": [
    "marzo_23= procesar_mes(marzo_23)"
   ]
  },
  {
   "cell_type": "code",
   "execution_count": null,
   "id": "2f5af2f3",
   "metadata": {},
   "outputs": [],
   "source": [
    "marzo_23.head()"
   ]
  },
  {
   "cell_type": "markdown",
   "id": "983142bd",
   "metadata": {},
   "source": [
    "## ABRIL23"
   ]
  },
  {
   "cell_type": "code",
   "execution_count": null,
   "id": "cbb5fc02",
   "metadata": {},
   "outputs": [],
   "source": [
    "url_abrl23='https://opendata.aemet.es/opendata/api/valores/climatologicos/diarios/datos/fechaini/2023-04-01T00%3A00%3A00UTC/fechafin/2023-04-31T00%3A00%3A00UTC/todasestaciones'\n",
    "api_file_path = '../api.txt'\n",
    "\n",
    "abril23 = solicitud_get(url_abrl23, api_file_path)\n",
    "print(abril23)"
   ]
  },
  {
   "cell_type": "code",
   "execution_count": null,
   "id": "9a23bf3a",
   "metadata": {},
   "outputs": [],
   "source": [
    "url_datos_abrl23= 'https://opendata.aemet.es/opendata/sh/0960f0db'\n",
    "abril_23= procesar_datos_mes(url_datos_abrl23, columnas_interes)"
   ]
  },
  {
   "cell_type": "code",
   "execution_count": null,
   "id": "5b677de4",
   "metadata": {},
   "outputs": [],
   "source": [
    "abril_23= procesar_mes(abril_23)"
   ]
  },
  {
   "cell_type": "markdown",
   "id": "4561bf21",
   "metadata": {},
   "source": [
    "## MAYO23"
   ]
  },
  {
   "cell_type": "code",
   "execution_count": null,
   "id": "d2234cbc",
   "metadata": {},
   "outputs": [],
   "source": [
    "url_datos_may23='https://opendata.aemet.es/opendata/api/valores/climatologicos/diarios/datos/fechaini/2023-05-01T00%3A00%3A00UTC/fechafin/2023-05-31T00%3A00%3A00UTC/todasestaciones'\n",
    "api_file_path = '../api.txt'\n",
    "\n",
    "mayo23 = solicitud_get(url_datos_may23, api_file_path)\n",
    "print(mayo23)"
   ]
  },
  {
   "cell_type": "code",
   "execution_count": null,
   "id": "9234058b",
   "metadata": {},
   "outputs": [],
   "source": [
    "url_datos_abrl23= 'https://opendata.aemet.es/opendata/sh/f45f0694'\n",
    "abril_23= procesar_datos_mes(url_datos_abrl23, columnas_interes)"
   ]
  },
  {
   "cell_type": "code",
   "execution_count": null,
   "id": "8df9bb8f",
   "metadata": {},
   "outputs": [],
   "source": [
    "'https://opendata.aemet.es/opendata/api/valores/climatologicos/diarios/datos/fechaini/2023-04-01T00%3A00%3A00UTC/fechafin/2023-04-31T00%3A00%3A00UTC/todasestaciones'\n",
    "'https://opendata.aemet.es/opendata/api/valores/climatologicos/diarios/datos/fechaini/2023-05-01T00%3A00%3A00UTC/fechafin/2023-05-31T00%3A00%3A00UTC/todasestaciones'\n",
    "'https://opendata.aemet.es/opendata/api/valores/climatologicos/diarios/datos/fechaini/2023-03-01T00%3A00%3A00UTC/fechafin/2023-03-31T00%3A00%3A00UTC/todasestaciones'"
   ]
  },
  {
   "cell_type": "code",
   "execution_count": null,
   "id": "7d7d59e3",
   "metadata": {},
   "outputs": [],
   "source": [
    "fechas = []"
   ]
  }
 ],
 "metadata": {
  "kernelspec": {
   "display_name": "clima",
   "language": "python",
   "name": "clima"
  },
  "language_info": {
   "codemirror_mode": {
    "name": "ipython",
    "version": 3
   },
   "file_extension": ".py",
   "mimetype": "text/x-python",
   "name": "python",
   "nbconvert_exporter": "python",
   "pygments_lexer": "ipython3",
   "version": "3.11.4"
  }
 },
 "nbformat": 4,
 "nbformat_minor": 5
}
