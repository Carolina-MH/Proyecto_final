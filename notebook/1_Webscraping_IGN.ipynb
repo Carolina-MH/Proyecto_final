{
 "cells": [
  {
   "cell_type": "code",
   "execution_count": 35,
   "id": "9c224120",
   "metadata": {},
   "outputs": [],
   "source": [
    "import pandas as pd\n",
    "%run 5_Funciones.ipynb\n",
    "from selenium.webdriver.chrome.options import Options\n",
    "from selenium import webdriver\n",
    "from selenium.webdriver.common.by import By\n",
    "import time"
   ]
  },
  {
   "cell_type": "markdown",
   "id": "0244d0d5",
   "metadata": {},
   "source": [
    "En primer lugar, voy a configurar un WebDriver para Selenium con opciones específicas, incluyendo deshabilitar la automatización para evitar la detección de bots, configurar el navegador como \"headless\" (invisible), maximizar la ventana y abrir una ventana de incógnito, utilizando el controlador de Chrome ubicado en 'drive/chromedriver':"
   ]
  },
  {
   "cell_type": "code",
   "execution_count": 2,
   "id": "1f7a94c0",
   "metadata": {},
   "outputs": [],
   "source": [
    "opciones = Options()\n",
    "opciones.add_experimental_option('excludeSwitches', ['enable-automation'])\n",
    "opciones.add_experimental_option('useAutomationExtension', False)\n",
    "opciones.headless = False\n",
    "opciones.add_argument('--start-maximized')\n",
    "opciones.add_argument('--incognito')"
   ]
  },
  {
   "cell_type": "code",
   "execution_count": 3,
   "id": "258a4d75",
   "metadata": {},
   "outputs": [],
   "source": [
    "PATH = 'drive/chromedriver'\n",
    "driver = webdriver.Chrome(options=opciones)"
   ]
  },
  {
   "cell_type": "markdown",
   "id": "3dd5ca1a",
   "metadata": {},
   "source": [
    "A continuación, voy a utilizar el WebDriver para abrir y cargar la página web que me interesa:"
   ]
  },
  {
   "cell_type": "code",
   "execution_count": 4,
   "id": "787efc97",
   "metadata": {},
   "outputs": [],
   "source": [
    "url = \"https://www.ign.es/web/ane-datos-geograficos/-/datos-geograficos/datosPoblacion?tipoBusqueda=capitales\"\n",
    "driver.get(url)"
   ]
  },
  {
   "cell_type": "code",
   "execution_count": 60,
   "id": "324e504e",
   "metadata": {},
   "outputs": [
    {
     "data": {
      "text/plain": [
       "<selenium.webdriver.remote.webelement.WebElement (session=\"af9d9e57b3b151db1f516436b93e218e\", element=\"404974492293EB46074518B2F2600239_element_44\")>"
      ]
     },
     "execution_count": 60,
     "metadata": {},
     "output_type": "execute_result"
    }
   ],
   "source": [
    "'''\n",
    "Utilizo Selenium para localizar y almacenar en la variable \n",
    "tabla el elemento HTML de la tabla específica en la página web.\n",
    "'''\n",
    "tabla = driver.find_element(By.XPATH, '//*[@id=\"p_p_id_IGNANEDatosGeograficos_WAR_IGNANEDatosGeograficosportlet_\"]/div/div/div/div/table[2]')\n",
    "tabla"
   ]
  },
  {
   "cell_type": "code",
   "execution_count": 61,
   "id": "fb3a458e",
   "metadata": {},
   "outputs": [],
   "source": [
    "'''\n",
    "Localizo y obtengo todas las filas (<tr>) dentro del \n",
    "cuerpo (<tbody>) de la tabla utilizando Selenium.\n",
    "'''\n",
    "cuerpo = tabla.find_element(By.TAG_NAME, 'tbody')\n",
    "\n",
    "filas = cuerpo.find_elements(By.TAG_NAME, 'tr')"
   ]
  },
  {
   "cell_type": "code",
   "execution_count": 62,
   "id": "f5b8ff8d",
   "metadata": {},
   "outputs": [],
   "source": [
    "'''\n",
    "Itero sobre las filas de una tabla, extrayendo el \n",
    "texto de las celdas (<td>) en cada fila y almacenando \n",
    "esos datos en una lista 'datos_lista'\n",
    "'''\n",
    "datos_filas = []\n",
    "for fila in filas:\n",
    "    celdas = fila.find_elements(By.TAG_NAME, 'td')\n",
    "    datos_fila = [celda.text for celda in celdas]\n",
    "    datos_filas.append(datos_fila)"
   ]
  },
  {
   "cell_type": "markdown",
   "id": "e907c12b",
   "metadata": {},
   "source": [
    "Una vez realizada la extracción, creo un DataFrame de Pandas llamado data utilizando la información extraída de las filas de la tabla y asignando nombres de columna específicos:"
   ]
  },
  {
   "cell_type": "code",
   "execution_count": 63,
   "id": "25234827",
   "metadata": {},
   "outputs": [],
   "source": [
    "columnas = ['Capital', 'Provincia', 'Población', 'Latitud', 'Longitud', 'XUTM ETRS89', 'YUTM ETRS89', \n",
    "            'Altura (m)', 'Huso']\n",
    "data = pd.DataFrame(datos_filas, columns=columnas)"
   ]
  },
  {
   "cell_type": "code",
   "execution_count": 64,
   "id": "60b35cad",
   "metadata": {
    "scrolled": true
   },
   "outputs": [
    {
     "data": {
      "text/plain": [
       "Capital        object\n",
       "Provincia      object\n",
       "Población      object\n",
       "Latitud        object\n",
       "Longitud       object\n",
       "XUTM ETRS89    object\n",
       "YUTM ETRS89    object\n",
       "Altura (m)     object\n",
       "Huso           object\n",
       "dtype: object"
      ]
     },
     "execution_count": 64,
     "metadata": {},
     "output_type": "execute_result"
    }
   ],
   "source": [
    "data.dtypes"
   ]
  },
  {
   "cell_type": "markdown",
   "id": "d5c77fef",
   "metadata": {},
   "source": [
    "Acontinuación, elimino las columnas y filas (Ceuta y Melilla) que no me interesan para el análisis:"
   ]
  },
  {
   "cell_type": "code",
   "execution_count": 65,
   "id": "029405f8",
   "metadata": {},
   "outputs": [],
   "source": [
    "data= data.drop(columns=['XUTM ETRS89', 'YUTM ETRS89', 'Altura (m)', 'Capital', 'Huso'])"
   ]
  },
  {
   "cell_type": "code",
   "execution_count": 66,
   "id": "d17e5bf9",
   "metadata": {},
   "outputs": [
    {
     "data": {
      "text/html": [
       "<div>\n",
       "<style scoped>\n",
       "    .dataframe tbody tr th:only-of-type {\n",
       "        vertical-align: middle;\n",
       "    }\n",
       "\n",
       "    .dataframe tbody tr th {\n",
       "        vertical-align: top;\n",
       "    }\n",
       "\n",
       "    .dataframe thead th {\n",
       "        text-align: right;\n",
       "    }\n",
       "</style>\n",
       "<table border=\"1\" class=\"dataframe\">\n",
       "  <thead>\n",
       "    <tr style=\"text-align: right;\">\n",
       "      <th></th>\n",
       "      <th>Provincia</th>\n",
       "      <th>Población</th>\n",
       "      <th>Latitud</th>\n",
       "      <th>Longitud</th>\n",
       "    </tr>\n",
       "  </thead>\n",
       "  <tbody>\n",
       "    <tr>\n",
       "      <th>0</th>\n",
       "      <td>A Coruña</td>\n",
       "      <td>246.047</td>\n",
       "      <td>43,37012643</td>\n",
       "      <td>-8,39114853</td>\n",
       "    </tr>\n",
       "    <tr>\n",
       "      <th>1</th>\n",
       "      <td>Albacete</td>\n",
       "      <td>170.475</td>\n",
       "      <td>38,99588053</td>\n",
       "      <td>-1,85574745</td>\n",
       "    </tr>\n",
       "    <tr>\n",
       "      <th>2</th>\n",
       "      <td>Alicante / Alacant</td>\n",
       "      <td>334.418</td>\n",
       "      <td>38,34548705</td>\n",
       "      <td>-0,4831832</td>\n",
       "    </tr>\n",
       "    <tr>\n",
       "      <th>3</th>\n",
       "      <td>Almería</td>\n",
       "      <td>190.013</td>\n",
       "      <td>36,83892362</td>\n",
       "      <td>-2,46413188</td>\n",
       "    </tr>\n",
       "    <tr>\n",
       "      <th>4</th>\n",
       "      <td>Ávila</td>\n",
       "      <td>58.245</td>\n",
       "      <td>40,65586958</td>\n",
       "      <td>-4,69771277</td>\n",
       "    </tr>\n",
       "  </tbody>\n",
       "</table>\n",
       "</div>"
      ],
      "text/plain": [
       "            Provincia Población      Latitud     Longitud\n",
       "0            A Coruña   246.047  43,37012643  -8,39114853\n",
       "1            Albacete   170.475  38,99588053  -1,85574745\n",
       "2  Alicante / Alacant   334.418  38,34548705   -0,4831832\n",
       "3             Almería   190.013  36,83892362  -2,46413188\n",
       "4               Ávila    58.245  40,65586958  -4,69771277"
      ]
     },
     "execution_count": 66,
     "metadata": {},
     "output_type": "execute_result"
    }
   ],
   "source": [
    "filas_eliminar= [0,13,30]\n",
    "data= data.drop(filas_eliminar).reset_index(drop=True)\n",
    "data.head()"
   ]
  },
  {
   "cell_type": "markdown",
   "id": "d7a05085",
   "metadata": {},
   "source": [
    "Realizaré una corrección de nombres de provincias en la columna 'Provincia' del DataFrame 'data' mediante un diccionario de mapeo para que en todos los CSV estén estandarizados:"
   ]
  },
  {
   "cell_type": "code",
   "execution_count": 67,
   "id": "f9fb4936",
   "metadata": {},
   "outputs": [],
   "source": [
    "correccion_provincias={'Álava': 'Araba/alava',\n",
    "                      'Santa Cruz de Tenerife':'Sta. cruz de tenerife',\n",
    "                      'Málaga':'Malaga',\n",
    "                      'Las Palmas': 'Las palmas de gran canaria',\n",
    "                      'Valencia / València':'Valencia',\n",
    "                      'La Rioja': 'La rioja',\n",
    "                      'León':'Leon',\n",
    "                      'Alicante / Alacant':'Alicante',\n",
    "                      'Almería':'Almeria',\n",
    "                      'Ávila': 'Avila',\n",
    "                      'Illes Balears': 'Islas baleares',\n",
    "                      'Cáceres': 'Caceres',\n",
    "                      'Cádiz':'Cadiz',\n",
    "                      'Castellón / Castelló': 'Castellon',\n",
    "                      'Ciudad Real': 'Ciudad real',\n",
    "                      'Córdoba': 'Cordoba',\n",
    "                      'A Coruña': 'A coruna',\n",
    "                      'Jaén': 'Jaen' }\n",
    "\n",
    "data['Provincia']= data['Provincia'].replace(correccion_provincias)"
   ]
  },
  {
   "cell_type": "markdown",
   "id": "6b91f737",
   "metadata": {},
   "source": [
    "Trato los tipos de datos:"
   ]
  },
  {
   "cell_type": "code",
   "execution_count": 68,
   "id": "05f2cfb0",
   "metadata": {},
   "outputs": [],
   "source": [
    "data['Población'] = pd.to_numeric(data['Población'].str.replace('.', ''), errors='coerce').astype(int)\n",
    "data['Latitud'] = pd.to_numeric(data['Latitud'].str.replace(',', '.'), errors='coerce')\n",
    "data['Longitud'] = pd.to_numeric(data['Longitud'].str.replace(',', '.'), errors='coerce')"
   ]
  },
  {
   "cell_type": "code",
   "execution_count": 69,
   "id": "04dbb2b0",
   "metadata": {},
   "outputs": [
    {
     "data": {
      "text/plain": [
       "Provincia     object\n",
       "Población      int32\n",
       "Latitud      float64\n",
       "Longitud     float64\n",
       "dtype: object"
      ]
     },
     "execution_count": 69,
     "metadata": {},
     "output_type": "execute_result"
    }
   ],
   "source": [
    "data.dtypes"
   ]
  },
  {
   "cell_type": "code",
   "execution_count": 71,
   "id": "60be81ba",
   "metadata": {},
   "outputs": [],
   "source": [
    "data.to_csv('../data/IGN.csv', index=False)"
   ]
  }
 ],
 "metadata": {
  "kernelspec": {
   "display_name": "clima",
   "language": "python",
   "name": "clima"
  },
  "language_info": {
   "codemirror_mode": {
    "name": "ipython",
    "version": 3
   },
   "file_extension": ".py",
   "mimetype": "text/x-python",
   "name": "python",
   "nbconvert_exporter": "python",
   "pygments_lexer": "ipython3",
   "version": "3.11.4"
  }
 },
 "nbformat": 4,
 "nbformat_minor": 5
}
