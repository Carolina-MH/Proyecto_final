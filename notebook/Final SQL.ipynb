{
 "cells": [
  {
   "cell_type": "code",
   "execution_count": 12,
   "id": "682daa7e",
   "metadata": {},
   "outputs": [],
   "source": [
    "import pandas as pd\n",
    "from sqlalchemy import create_engine\n",
    "%run Functions.ipynb"
   ]
  },
  {
   "cell_type": "code",
   "execution_count": 15,
   "id": "ebddb49e",
   "metadata": {},
   "outputs": [],
   "source": [
    "usuario = 'root'\n",
    "ruta_archivo_contraseña = '../SQL_pass.txt'  # Reemplaza con la ruta correcta al archivo de texto\n",
    "host = 'localhost'\n",
    "puerto = '3306'\n",
    "nombre_bd = 'proyecto'\n",
    "# Obtén la cadena de conexión\n",
    "cadena_conexion = crear_cadena_conexion(usuario, ruta_archivo_contraseña, host, puerto, nombre_bd)"
   ]
  },
  {
   "cell_type": "code",
   "execution_count": 16,
   "id": "61bc38d5",
   "metadata": {},
   "outputs": [
    {
     "name": "stdout",
     "output_type": "stream",
     "text": [
      "Error al cargar los datos en MySQL: No module named 'mysql'\n"
     ]
    }
   ],
   "source": [
    "ruta_csv_ine_viajeros = '../data/ine_viajeros.csv'\n",
    "# Nombre de la tabla en la que se cargarán los datos\n",
    "nombre_tabla_mysql = 'viajeros'\n",
    "\n",
    "# Llamar a la función para cargar el CSV en la tabla de MySQL\n",
    "cargar_csv_a_mysql(ruta_csv_ine_viajeros, cadena_conexion, nombre_tabla_mysql)"
   ]
  },
  {
   "cell_type": "code",
   "execution_count": null,
   "id": "e37bdc35",
   "metadata": {},
   "outputs": [],
   "source": []
  }
 ],
 "metadata": {
  "kernelspec": {
   "display_name": "clima",
   "language": "python",
   "name": "clima"
  },
  "language_info": {
   "codemirror_mode": {
    "name": "ipython",
    "version": 3
   },
   "file_extension": ".py",
   "mimetype": "text/x-python",
   "name": "python",
   "nbconvert_exporter": "python",
   "pygments_lexer": "ipython3",
   "version": "3.11.4"
  }
 },
 "nbformat": 4,
 "nbformat_minor": 5
}
