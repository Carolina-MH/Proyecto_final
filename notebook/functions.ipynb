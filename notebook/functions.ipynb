{
 "cells": [
  {
   "cell_type": "markdown",
   "id": "0f6de718",
   "metadata": {},
   "source": [
    "# INE"
   ]
  },
  {
   "cell_type": "code",
   "execution_count": 1,
   "id": "be8e4810",
   "metadata": {},
   "outputs": [],
   "source": [
    "#Leer CSV\n",
    "def leer_archivo_rango_periodo(ruta_archivo, periodo):\n",
    "    \n",
    "    #leer archivo CSV\n",
    "    ine_original = pd.read_csv(ruta_archivo, encoding='latin1',sep=\"\\t\")\n",
    "    \n",
    "    #crear copia del DF original\n",
    "    ine_copia= ine_original.copy()\n",
    "    \n",
    "    #FIltrar el DataFrame para incluir solo las filas que contienen el periodo deseado\n",
    "    ine_filtrado= ine_copia[ine_copia['Periodo'].str.contains(periodo)]\n",
    "    \n",
    "    ine_filtrado = ine_filtrado.reset_index(drop=True)\n",
    "    \n",
    "    return ine_filtrado"
   ]
  },
  {
   "cell_type": "code",
   "execution_count": 10,
   "id": "6cc11310",
   "metadata": {},
   "outputs": [],
   "source": [
    "#Limpiar columnas\n",
    "\n",
    "def procesar_columnas(df):\n",
    "\n",
    "    column_rename_dict = {\n",
    "        'ï»¿Totales Territoriales': 'Totales_Territoriales',\n",
    "        'Comunidades y Ciudades AutÃ³nomas': 'Comunidades_Ciudades_Autonomas',\n",
    "        'Provincias': 'Provincia',\n",
    "        'Viajeros y pernoctaciones': 'Viajeros_Pernoctaciones',\n",
    "        'Residencia: Nivel 1': 'Residencia_Nivel_1',\n",
    "        'Residencia: Nivel 2': 'Residencia_Nivel_2',\n",
    "        'Periodo': 'Periodo',\n",
    "        'Total': 'Total'\n",
    "    }\n",
    "\n",
    "    df.rename(columns=column_rename_dict, inplace=True)\n",
    "    df.reset_index(drop=True, inplace=True)\n",
    "\n",
    "    return df"
   ]
  },
  {
   "cell_type": "code",
   "execution_count": 3,
   "id": "0d1222ff",
   "metadata": {},
   "outputs": [],
   "source": [
    "def actualizar_valor_en_fila(dataframe, fila, columna, resta_resultado):\n",
    "    dataframe.loc[fila, columna] = resta_resultado"
   ]
  },
  {
   "cell_type": "markdown",
   "id": "89a61185",
   "metadata": {},
   "source": [
    "# AEMET"
   ]
  },
  {
   "cell_type": "code",
   "execution_count": 4,
   "id": "39ed858d",
   "metadata": {},
   "outputs": [],
   "source": [
    "def obtener_encabezado_api(api_file_path='../api.txt'):\n",
    "# utilizo un token de autorización guardado en un archivo para acceder a la API de manera segura y obtener datos climáticos actualizados\n",
    "    aemet = os.getenv(\"api\")\n",
    "\n",
    "    with open(api_file_path, 'r') as file: \n",
    "    \n",
    "        token = file.read()\n",
    "\n",
    "    header = {'Authorization': f\"password {token}\"}\n",
    "    \n",
    "    return header"
   ]
  },
  {
   "cell_type": "code",
   "execution_count": 5,
   "id": "aa69d97d",
   "metadata": {},
   "outputs": [],
   "source": [
    "def solicitud_get(url, api_file_path='../api.txt'):\n",
    "    \n",
    "    header = obtener_encabezado_api(api_file_path)\n",
    "\n",
    "    querystring = {\"api_key\": header['Authorization'].split()[-1]}\n",
    "\n",
    "    headers = {\n",
    "        'cache-control': \"no-cache\"\n",
    "    }\n",
    "\n",
    "    response = requests.request(\"GET\", url, headers=headers, params=querystring)\n",
    "\n",
    "    # Verificar si la solicitud fue exitosa (código de estado 200)\n",
    "    if response.status_code == 200:\n",
    "        return response.json()\n",
    "    else:\n",
    "        # Si la solicitud no fue exitosa, imprimir el código de estado y texto de la respuesta\n",
    "        print(f\"Error en la solicitud. Código de estado: {response.status_code}, Mensaje: {response.text}\")\n",
    "        return None"
   ]
  },
  {
   "cell_type": "code",
   "execution_count": 6,
   "id": "7ad2cecd",
   "metadata": {},
   "outputs": [],
   "source": [
    "def procesar_datos_mes(url, columnas_interes):\n",
    "    # Obtener los datos de la API\n",
    "    response = requests.get(url)\n",
    "    \n",
    "    # Verificar si la solicitud fue exitosa (código de estado 200)\n",
    "    if response.status_code == 200:\n",
    "        # Convertir la respuesta JSON a un DataFrame\n",
    "        datos = response.json()\n",
    "        df = pd.DataFrame(datos)\n",
    "        # Seleccionar columnas de interés\n",
    "        df = df[columnas_interes]\n",
    "        \n",
    "        return df"
   ]
  },
  {
   "cell_type": "code",
   "execution_count": 25,
   "id": "9f1b44b0",
   "metadata": {},
   "outputs": [],
   "source": [
    "#limpieza de datos para cada mes\n",
    "\n",
    "def procesar_mes(df_mes):\n",
    "    \n",
    "    # Reemplazar comas por puntos y convertir las columnas numéricas a tipo float\n",
    "    df_mes['tmed'] = df_mes['tmed'].str.replace(',', '.').astype(float)\n",
    "    df_mes['prec'] = df_mes['prec'].replace('Acum', np.nan)\n",
    "    df_mes['prec'] = df_mes['prec'].str.replace(',', '.').replace('Ip', np.nan).astype(float)\n",
    "    df_mes['sol'] = df_mes['sol'].str.replace(',', '.').astype(float)\n",
    "    df_mes['tmin'] = df_mes['tmin'].str.replace(',', '.').astype(float)\n",
    "    df_mes['tmax'] = df_mes['tmax'].str.replace(',', '.').astype(float)\n",
    "    \n",
    "    # Convertir la columna \"fecha\" en datetime\n",
    "    df_mes['fecha'] = pd.to_datetime(df_mes['fecha'])\n",
    "    \n",
    "    #que la columna 'fecha' se vea solo el mes y año\n",
    "    df_mes['fecha'] = pd.to_datetime(df_mes['fecha'], format='%YM%m').dt.to_period('M')\n",
    "    \n",
    "    # Agrupar por provincia y calcular la media de cada columna\n",
    "    df_media_mes = df_mes.groupby('provincia').agg({\n",
    "        'fecha':'first',\n",
    "        'tmed': 'mean',\n",
    "        'prec': 'mean',\n",
    "        'sol': 'mean',\n",
    "        'tmin': 'mean',\n",
    "        'tmax': 'mean'\n",
    "    }).reset_index()\n",
    "    \n",
    "    # Renombrar las columnas para mayor claridad\n",
    "    df_media_mes = df_media_mes.rename(columns={\n",
    "        'fecha':'periodo',\n",
    "        'tmed': 'media_tmed',\n",
    "        'prec': 'media_prec',\n",
    "        'sol': 'media_sol',\n",
    "        'tmin': 'media_tmin',\n",
    "        'tmax': 'media_tmax'\n",
    "    })\n",
    "    # Eliminar las filas correspondientes a 'CEUTA' y 'MELILLA'\n",
    "    indices_a_eliminar = df_media_mes[df_media_mes['provincia'].isin(['CEUTA', 'MELILLA'])].index\n",
    "    df_media_mes = df_media_mes.drop(indices_a_eliminar).reset_index(drop=True)\n",
    "    \n",
    "    #Capitalizar el nombre de las columnas\n",
    "    df_media_mes.columns=df_media_mes.columns.str.capitalize()\n",
    "    \n",
    "    #Capitalizar las filas de la columna 'Provincia' \n",
    "    df_media_mes['Provincia']=df_media_mes['Provincia'].apply(lambda x: x.capitalize())\n",
    "\n",
    "    \n",
    "    return df_media_mes"
   ]
  },
  {
   "cell_type": "code",
   "execution_count": 11,
   "id": "44bad84f",
   "metadata": {},
   "outputs": [],
   "source": [
    "def procesar_dataframe(dataframe):\n",
    "    # Capitalizar los nombres de las columnas\n",
    "    dataframe.columns = [col.capitalize() for col in dataframe.columns]\n",
    "\n",
    "    # Capitalizar la columna 'Provincia'\n",
    "    dataframe['Provincia'] = dataframe['Provincia'].apply(lambda x: x.capitalize() if isinstance(x, str) else x)\n",
    "\n",
    "    # Otra operación que deseas realizar en el DataFrame, por ejemplo, imprimir las primeras filas\n",
    "    return dataframe"
   ]
  },
  {
   "cell_type": "markdown",
   "id": "aed937e6",
   "metadata": {},
   "source": [
    "# CONEXIÓN SQL"
   ]
  },
  {
   "cell_type": "code",
   "execution_count": 5,
   "id": "1dc2bf9f",
   "metadata": {},
   "outputs": [],
   "source": [
    "def crear_cadena_conexion(usuario, ruta_archivo_contraseña, host, puerto):\n",
    "    with open(ruta_archivo_contraseña, 'r') as file:\n",
    "        contraseña = file.read().strip()\n",
    "\n",
    "    cadena_conexion = f'mysql+mysqlconnector://{usuario}:{contraseña}@{host}:{puerto}'\n",
    "\n",
    "    return cadena_conexion"
   ]
  },
  {
   "cell_type": "code",
   "execution_count": 6,
   "id": "664721aa",
   "metadata": {},
   "outputs": [],
   "source": [
    "def crear_base_de_datos(cadena_conexion, nombre_bd):\n",
    "    engine = create_engine(cadena_conexion)\n",
    "\n",
    "    with engine.connect() as connection:\n",
    "        connection.execute(f\"CREATE DATABASE IF NOT EXISTS {nombre_bd}\")"
   ]
  },
  {
   "cell_type": "code",
   "execution_count": 9,
   "id": "92abf55f",
   "metadata": {},
   "outputs": [],
   "source": [
    "def cargar_csv_a_mysql(ruta_csv, cadena_conexion, nombre_tabla, nombre_bd):\n",
    "\n",
    "    try:\n",
    "        # Cargar el CSV en un DataFrame\n",
    "        df = pd.read_csv(ruta_csv)\n",
    "        \n",
    "        # Crear el motor de conexión\n",
    "        engine = create_engine(cadena_conexion)\n",
    "        \n",
    "        # Seleccionar la base de datos\n",
    "        with engine.connect() as connection:\n",
    "            connection.execute(f\"USE {nombre_bd}\")\n",
    "        \n",
    "        # Cargar el DataFrame en la base de datos\n",
    "        df.to_sql(nombre_tabla, con=engine, if_exists='replace', index=False)\n",
    "\n",
    "        print(f\"Datos cargados en la tabla {nombre_tabla} con éxito.\")\n",
    "\n",
    "    except Exception as e:\n",
    "        print(f\"Error al cargar los datos en MySQL: {e}\")"
   ]
  }
 ],
 "metadata": {
  "kernelspec": {
   "display_name": "clima",
   "language": "python",
   "name": "clima"
  },
  "language_info": {
   "codemirror_mode": {
    "name": "ipython",
    "version": 3
   },
   "file_extension": ".py",
   "mimetype": "text/x-python",
   "name": "python",
   "nbconvert_exporter": "python",
   "pygments_lexer": "ipython3",
   "version": "3.11.4"
  }
 },
 "nbformat": 4,
 "nbformat_minor": 5
}
