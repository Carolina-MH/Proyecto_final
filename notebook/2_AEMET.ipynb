{
 "cells": [
  {
   "cell_type": "code",
   "execution_count": 11,
   "id": "36f615b9",
   "metadata": {},
   "outputs": [],
   "source": [
    "import pandas as pd\n",
    "import numpy as np\n",
    "import warnings\n",
    "warnings.filterwarnings(\"ignore\")\n",
    "import requests\n",
    "import json\n",
    "import os\n",
    "import locale\n",
    "import requests\n",
    "%run 5_Funciones.ipynb\n",
    "pd.set_option('display.max_columns', None) \n",
    "pd.set_option('display.max_rows', None)\n",
    "from datetime import datetime, timedelta"
   ]
  },
  {
   "cell_type": "markdown",
   "id": "15d54591",
   "metadata": {},
   "source": [
    "Primero, llamos a la función 'obtener_encabezado_api' del JN 4_Funciones, para obtener el encabezado de autorización AEMET utilizando un token almacenado en el archivo '../api.txt':"
   ]
  },
  {
   "cell_type": "code",
   "execution_count": 3,
   "id": "a4dc7184",
   "metadata": {},
   "outputs": [],
   "source": [
    "aemet = obtener_encabezado_api(api_file_path='../api.txt')"
   ]
  },
  {
   "cell_type": "markdown",
   "id": "df145b24",
   "metadata": {},
   "source": [
    "Se definen las columnas de interés para el análisis de datos climáticos:"
   ]
  },
  {
   "cell_type": "code",
   "execution_count": 9,
   "id": "0797fdb7",
   "metadata": {},
   "outputs": [],
   "source": [
    "columnas_interes= ['fecha', 'provincia', 'tmed', 'prec', 'sol', 'tmin', 'tmax']"
   ]
  },
  {
   "cell_type": "code",
   "execution_count": 10,
   "id": "73add5a9",
   "metadata": {},
   "outputs": [],
   "source": [
    "columnas_procesar= ['tmed', 'prec', 'sol', 'tmin', 'tmax']"
   ]
  },
  {
   "cell_type": "code",
   "execution_count": 12,
   "id": "f6649f59",
   "metadata": {},
   "outputs": [],
   "source": [
    "'''\n",
    "Defino la lista de años a procesar (desde 2014 hasta 2023)\n",
    "'''\n",
    "anos_a_procesar = list(range(2014, 2024))"
   ]
  },
  {
   "cell_type": "code",
   "execution_count": 13,
   "id": "aa57b66a",
   "metadata": {},
   "outputs": [],
   "source": [
    "lista_dataframes = []\n",
    "\n",
    "'''\n",
    "Creo la lista vacía 'lista_dataframes' y la lleno iterando a través de años y meses, \n",
    "generando y procesando DataFrames mensuales con la función 'procesar_datos_mes', si las \n",
    "URLs de datos son válidas.\n",
    "'''\n",
    "\n",
    "for ano in anos_a_procesar:\n",
    "    \n",
    "    for mes in range(1, 13):\n",
    "        \n",
    "        fecha_inicio = f'{ano}-{mes:02d}-01T00:00:00UTC'\n",
    "        fecha_fin = f'{ano}-{mes:02d}-31T00:00:00UTC'\n",
    "        url_datos = obtener_url_datos(fecha_inicio, fecha_fin)\n",
    "\n",
    "        if url_datos:\n",
    "            df_mes = procesar_datos_mes(url_datos, columnas_interes)\n",
    "            lista_dataframes.append(df_mes)"
   ]
  },
  {
   "cell_type": "markdown",
   "id": "eb87ddab",
   "metadata": {},
   "source": [
    "Una vez obtenido los datos de la API y procesados, el siguiente paso es concatener todos los DataFrames en uno solo:"
   ]
  },
  {
   "cell_type": "code",
   "execution_count": 15,
   "id": "f016457a",
   "metadata": {},
   "outputs": [],
   "source": [
    "df_final = pd.concat(lista_dataframes, ignore_index=True)"
   ]
  },
  {
   "cell_type": "code",
   "execution_count": 17,
   "id": "f46b8e86",
   "metadata": {},
   "outputs": [],
   "source": [
    "data = df_final.copy()"
   ]
  },
  {
   "cell_type": "code",
   "execution_count": 18,
   "id": "ade66a7a",
   "metadata": {
    "scrolled": true
   },
   "outputs": [
    {
     "data": {
      "text/plain": [
       "Provincia\n",
       "A coruña                 120\n",
       "Pontevedra               120\n",
       "Las palmas               120\n",
       "Leon                     120\n",
       "Lleida                   120\n",
       "Lugo                     120\n",
       "Madrid                   120\n",
       "Malaga                   120\n",
       "Murcia                   120\n",
       "Navarra                  120\n",
       "Ourense                  120\n",
       "Palencia                 120\n",
       "Salamanca                120\n",
       "Albacete                 120\n",
       "Segovia                  120\n",
       "Sevilla                  120\n",
       "Soria                    120\n",
       "Sta. cruz de tenerife    120\n",
       "Tarragona                120\n",
       "Teruel                   120\n",
       "Toledo                   120\n",
       "Valencia                 120\n",
       "Valladolid               120\n",
       "Zamora                   120\n",
       "La rioja                 120\n",
       "Jaen                     120\n",
       "Illes balears            120\n",
       "Huesca                   120\n",
       "Alicante                 120\n",
       "Almeria                  120\n",
       "Araba/alava              120\n",
       "Asturias                 120\n",
       "Avila                    120\n",
       "Badajoz                  120\n",
       "Barcelona                120\n",
       "Bizkaia                  120\n",
       "Burgos                   120\n",
       "Caceres                  120\n",
       "Cadiz                    120\n",
       "Cantabria                120\n",
       "Castellon                120\n",
       "Ciudad real              120\n",
       "Cordoba                  120\n",
       "Cuenca                   120\n",
       "Gipuzkoa                 120\n",
       "Girona                   120\n",
       "Granada                  120\n",
       "Guadalajara              120\n",
       "Huelva                   120\n",
       "Zaragoza                 120\n",
       "Name: count, dtype: int64"
      ]
     },
     "execution_count": 18,
     "metadata": {},
     "output_type": "execute_result"
    }
   ],
   "source": [
    "data['Provincia'].value_counts()"
   ]
  },
  {
   "cell_type": "markdown",
   "id": "5fce0b4c",
   "metadata": {},
   "source": [
    "A continuación realizaré una corrección de nombres de provincias en la columna 'Provincia' del DataFrame 'data' mediante un diccionario de mapeo:"
   ]
  },
  {
   "cell_type": "code",
   "execution_count": 19,
   "id": "9ad40963",
   "metadata": {},
   "outputs": [
    {
     "data": {
      "text/html": [
       "<div>\n",
       "<style scoped>\n",
       "    .dataframe tbody tr th:only-of-type {\n",
       "        vertical-align: middle;\n",
       "    }\n",
       "\n",
       "    .dataframe tbody tr th {\n",
       "        vertical-align: top;\n",
       "    }\n",
       "\n",
       "    .dataframe thead th {\n",
       "        text-align: right;\n",
       "    }\n",
       "</style>\n",
       "<table border=\"1\" class=\"dataframe\">\n",
       "  <thead>\n",
       "    <tr style=\"text-align: right;\">\n",
       "      <th></th>\n",
       "      <th>Provincia</th>\n",
       "      <th>Periodo</th>\n",
       "      <th>Media_tmed</th>\n",
       "      <th>Media_prec</th>\n",
       "      <th>Media_sol</th>\n",
       "      <th>Media_tmin</th>\n",
       "      <th>Media_tmax</th>\n",
       "    </tr>\n",
       "  </thead>\n",
       "  <tbody>\n",
       "    <tr>\n",
       "      <th>0</th>\n",
       "      <td>A coruna</td>\n",
       "      <td>2014-01</td>\n",
       "      <td>10.067727</td>\n",
       "      <td>8.375463</td>\n",
       "      <td>1.601290</td>\n",
       "      <td>7.825909</td>\n",
       "      <td>12.305909</td>\n",
       "    </tr>\n",
       "    <tr>\n",
       "      <th>1</th>\n",
       "      <td>Albacete</td>\n",
       "      <td>2014-01</td>\n",
       "      <td>7.683607</td>\n",
       "      <td>0.789655</td>\n",
       "      <td>4.319231</td>\n",
       "      <td>3.475410</td>\n",
       "      <td>11.872131</td>\n",
       "    </tr>\n",
       "    <tr>\n",
       "      <th>2</th>\n",
       "      <td>Alicante</td>\n",
       "      <td>2014-01</td>\n",
       "      <td>12.108871</td>\n",
       "      <td>0.263415</td>\n",
       "      <td>5.108602</td>\n",
       "      <td>7.168548</td>\n",
       "      <td>17.044355</td>\n",
       "    </tr>\n",
       "    <tr>\n",
       "      <th>3</th>\n",
       "      <td>Almeria</td>\n",
       "      <td>2014-01</td>\n",
       "      <td>12.734416</td>\n",
       "      <td>0.703401</td>\n",
       "      <td>6.237097</td>\n",
       "      <td>8.529870</td>\n",
       "      <td>16.937662</td>\n",
       "    </tr>\n",
       "    <tr>\n",
       "      <th>4</th>\n",
       "      <td>Araba/alava</td>\n",
       "      <td>2014-01</td>\n",
       "      <td>7.401613</td>\n",
       "      <td>4.291525</td>\n",
       "      <td>2.170968</td>\n",
       "      <td>3.866129</td>\n",
       "      <td>10.941935</td>\n",
       "    </tr>\n",
       "  </tbody>\n",
       "</table>\n",
       "</div>"
      ],
      "text/plain": [
       "     Provincia  Periodo  Media_tmed  Media_prec  Media_sol  Media_tmin  \\\n",
       "0     A coruna  2014-01   10.067727    8.375463   1.601290    7.825909   \n",
       "1     Albacete  2014-01    7.683607    0.789655   4.319231    3.475410   \n",
       "2     Alicante  2014-01   12.108871    0.263415   5.108602    7.168548   \n",
       "3      Almeria  2014-01   12.734416    0.703401   6.237097    8.529870   \n",
       "4  Araba/alava  2014-01    7.401613    4.291525   2.170968    3.866129   \n",
       "\n",
       "   Media_tmax  \n",
       "0   12.305909  \n",
       "1   11.872131  \n",
       "2   17.044355  \n",
       "3   16.937662  \n",
       "4   10.941935  "
      ]
     },
     "execution_count": 19,
     "metadata": {},
     "output_type": "execute_result"
    }
   ],
   "source": [
    "correccion_provincias = {'A coruña': 'A coruna',\n",
    "                         'Las palmas':'Las palmas de gran canaria',\n",
    "                         'Illes balears' : 'Islas baleares',\n",
    "                        'Bizkaia': 'Vizcaya'}\n",
    "\n",
    "data['Provincia'].replace(correccion_provincias, inplace=True)\n",
    "data.head()"
   ]
  },
  {
   "cell_type": "markdown",
   "id": "db0289e6",
   "metadata": {},
   "source": [
    "Ya casi tengo el DataFrame de clima preparado, unicamente me falta añadir la latitud y longitud de cada provincia para poder hacer la representación visual correspondiente. Por lo que, una vez tratados los datos en el JP 'Webscraping_IGN' y exportado en CSV, lo llamo a continuación y realizo un join inner por Provincia:"
   ]
  },
  {
   "cell_type": "code",
   "execution_count": 26,
   "id": "ddbc6411",
   "metadata": {},
   "outputs": [],
   "source": [
    "lat_long= pd.read_csv('../data/IGN.csv')"
   ]
  },
  {
   "cell_type": "code",
   "execution_count": 38,
   "id": "6fc8ef3c",
   "metadata": {},
   "outputs": [
    {
     "data": {
      "text/html": [
       "<div>\n",
       "<style scoped>\n",
       "    .dataframe tbody tr th:only-of-type {\n",
       "        vertical-align: middle;\n",
       "    }\n",
       "\n",
       "    .dataframe tbody tr th {\n",
       "        vertical-align: top;\n",
       "    }\n",
       "\n",
       "    .dataframe thead th {\n",
       "        text-align: right;\n",
       "    }\n",
       "</style>\n",
       "<table border=\"1\" class=\"dataframe\">\n",
       "  <thead>\n",
       "    <tr style=\"text-align: right;\">\n",
       "      <th></th>\n",
       "      <th>Provincia</th>\n",
       "      <th>Periodo</th>\n",
       "      <th>Media_tmed</th>\n",
       "      <th>Media_prec</th>\n",
       "      <th>Media_sol</th>\n",
       "      <th>Media_tmin</th>\n",
       "      <th>Media_tmax</th>\n",
       "      <th>Población</th>\n",
       "      <th>Latitud</th>\n",
       "      <th>Longitud</th>\n",
       "    </tr>\n",
       "  </thead>\n",
       "  <tbody>\n",
       "    <tr>\n",
       "      <th>0</th>\n",
       "      <td>A coruna</td>\n",
       "      <td>2014-01</td>\n",
       "      <td>10.067727</td>\n",
       "      <td>8.375463</td>\n",
       "      <td>1.601290</td>\n",
       "      <td>7.825909</td>\n",
       "      <td>12.305909</td>\n",
       "      <td>246047</td>\n",
       "      <td>43.370126</td>\n",
       "      <td>-8.391149</td>\n",
       "    </tr>\n",
       "    <tr>\n",
       "      <th>1</th>\n",
       "      <td>A coruna</td>\n",
       "      <td>2014-02</td>\n",
       "      <td>9.557014</td>\n",
       "      <td>8.672768</td>\n",
       "      <td>2.766443</td>\n",
       "      <td>6.594118</td>\n",
       "      <td>12.522624</td>\n",
       "      <td>246047</td>\n",
       "      <td>43.370126</td>\n",
       "      <td>-8.391149</td>\n",
       "    </tr>\n",
       "    <tr>\n",
       "      <th>2</th>\n",
       "      <td>A coruna</td>\n",
       "      <td>2014-03</td>\n",
       "      <td>11.561304</td>\n",
       "      <td>2.472889</td>\n",
       "      <td>5.590196</td>\n",
       "      <td>7.530870</td>\n",
       "      <td>15.593478</td>\n",
       "      <td>246047</td>\n",
       "      <td>43.370126</td>\n",
       "      <td>-8.391149</td>\n",
       "    </tr>\n",
       "    <tr>\n",
       "      <th>3</th>\n",
       "      <td>A coruna</td>\n",
       "      <td>2014-04</td>\n",
       "      <td>13.873171</td>\n",
       "      <td>2.612552</td>\n",
       "      <td>4.896732</td>\n",
       "      <td>10.282114</td>\n",
       "      <td>17.458537</td>\n",
       "      <td>246047</td>\n",
       "      <td>43.370126</td>\n",
       "      <td>-8.391149</td>\n",
       "    </tr>\n",
       "    <tr>\n",
       "      <th>4</th>\n",
       "      <td>A coruna</td>\n",
       "      <td>2014-05</td>\n",
       "      <td>14.216935</td>\n",
       "      <td>2.115447</td>\n",
       "      <td>7.304082</td>\n",
       "      <td>10.041532</td>\n",
       "      <td>18.396371</td>\n",
       "      <td>246047</td>\n",
       "      <td>43.370126</td>\n",
       "      <td>-8.391149</td>\n",
       "    </tr>\n",
       "  </tbody>\n",
       "</table>\n",
       "</div>"
      ],
      "text/plain": [
       "  Provincia  Periodo  Media_tmed  Media_prec  Media_sol  Media_tmin  \\\n",
       "0  A coruna  2014-01   10.067727    8.375463   1.601290    7.825909   \n",
       "1  A coruna  2014-02    9.557014    8.672768   2.766443    6.594118   \n",
       "2  A coruna  2014-03   11.561304    2.472889   5.590196    7.530870   \n",
       "3  A coruna  2014-04   13.873171    2.612552   4.896732   10.282114   \n",
       "4  A coruna  2014-05   14.216935    2.115447   7.304082   10.041532   \n",
       "\n",
       "   Media_tmax  Población    Latitud  Longitud  \n",
       "0   12.305909     246047  43.370126 -8.391149  \n",
       "1   12.522624     246047  43.370126 -8.391149  \n",
       "2   15.593478     246047  43.370126 -8.391149  \n",
       "3   17.458537     246047  43.370126 -8.391149  \n",
       "4   18.396371     246047  43.370126 -8.391149  "
      ]
     },
     "execution_count": 38,
     "metadata": {},
     "output_type": "execute_result"
    }
   ],
   "source": [
    "df_merged = pd.merge(data, lat_long, on='Provincia', how='inner')\n",
    "df_merged.head()"
   ]
  },
  {
   "cell_type": "code",
   "execution_count": 39,
   "id": "0056dc85",
   "metadata": {},
   "outputs": [],
   "source": [
    "df_merged['Periodo'] = df_merged['Periodo'].dt.to_timestamp()"
   ]
  },
  {
   "cell_type": "code",
   "execution_count": 40,
   "id": "fca975e6",
   "metadata": {},
   "outputs": [
    {
     "data": {
      "text/plain": [
       "Provincia             object\n",
       "Periodo       datetime64[ns]\n",
       "Media_tmed           float64\n",
       "Media_prec           float64\n",
       "Media_sol            float64\n",
       "Media_tmin           float64\n",
       "Media_tmax           float64\n",
       "Población              int64\n",
       "Latitud              float64\n",
       "Longitud             float64\n",
       "dtype: object"
      ]
     },
     "execution_count": 40,
     "metadata": {},
     "output_type": "execute_result"
    }
   ],
   "source": [
    "df_merged.dtypes"
   ]
  },
  {
   "cell_type": "code",
   "execution_count": 41,
   "id": "51edda4b",
   "metadata": {},
   "outputs": [
    {
     "data": {
      "text/plain": [
       "(6000, 10)"
      ]
     },
     "execution_count": 41,
     "metadata": {},
     "output_type": "execute_result"
    }
   ],
   "source": [
    "df_merged.shape"
   ]
  },
  {
   "cell_type": "code",
   "execution_count": 42,
   "id": "08c1a6f2",
   "metadata": {
    "scrolled": true
   },
   "outputs": [
    {
     "data": {
      "text/plain": [
       "Index(['Provincia', 'Periodo', 'Media_tmed', 'Media_prec', 'Media_sol',\n",
       "       'Media_tmin', 'Media_tmax', 'Población', 'Latitud', 'Longitud'],\n",
       "      dtype='object')"
      ]
     },
     "execution_count": 42,
     "metadata": {},
     "output_type": "execute_result"
    }
   ],
   "source": [
    "df_merged.columns"
   ]
  },
  {
   "cell_type": "markdown",
   "id": "1b760cec",
   "metadata": {},
   "source": [
    "Por último, guardo el df_merged como clima:"
   ]
  },
  {
   "cell_type": "code",
   "execution_count": 43,
   "id": "8040cbe8",
   "metadata": {},
   "outputs": [],
   "source": [
    "df_merged.to_csv('../data/clima.csv', index=False)"
   ]
  }
 ],
 "metadata": {
  "kernelspec": {
   "display_name": "clima",
   "language": "python",
   "name": "clima"
  },
  "language_info": {
   "codemirror_mode": {
    "name": "ipython",
    "version": 3
   },
   "file_extension": ".py",
   "mimetype": "text/x-python",
   "name": "python",
   "nbconvert_exporter": "python",
   "pygments_lexer": "ipython3",
   "version": "3.11.4"
  }
 },
 "nbformat": 4,
 "nbformat_minor": 5
}
