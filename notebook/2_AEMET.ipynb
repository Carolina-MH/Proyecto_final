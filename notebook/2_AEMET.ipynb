{
 "cells": [
  {
   "cell_type": "markdown",
   "id": "6734d33c",
   "metadata": {},
   "source": [
    "# API(AEMET)"
   ]
  },
  {
   "cell_type": "code",
   "execution_count": 585,
   "id": "84933ee2",
   "metadata": {},
   "outputs": [],
   "source": [
    "import pandas as pd\n",
    "import warnings\n",
    "warnings.filterwarnings(\"ignore\")\n",
    "import requests\n",
    "import json\n",
    "import os\n",
    "import numpy as np\n",
    "import locale\n",
    "%run functions.ipynb #conecto con mi otro JN y utilizo mis funciones"
   ]
  },
  {
   "cell_type": "code",
   "execution_count": 9,
   "id": "c90e968f",
   "metadata": {},
   "outputs": [],
   "source": [
    "aemet = obtener_encabezado_api(api_file_path='../api.txt')"
   ]
  },
  {
   "cell_type": "markdown",
   "id": "50bf398b",
   "metadata": {},
   "source": [
    "La API de la Agencia Estatal de Meteorología (AEMET) es esencial para enriquecer la tabla que ya tengo tratada del INE debido a su capacidad para proporcionar datos climáticos precisos y actualizados. Estos datos permiten comprender cómo las condiciones climáticas influyen en los patrones de turismo y pernoctaciones, y son fundamentales para la planificación, toma de decisiones y análisis más profundos en el sector turístico y otros campos relacionados."
   ]
  },
  {
   "cell_type": "markdown",
   "id": "63149adc",
   "metadata": {},
   "source": [
    "Limpio los datos con las funciones que he creado:"
   ]
  },
  {
   "cell_type": "markdown",
   "id": "36678215",
   "metadata": {},
   "source": [
    "## ENERO22"
   ]
  },
  {
   "cell_type": "code",
   "execution_count": 376,
   "id": "013f1dfa",
   "metadata": {},
   "outputs": [
    {
     "name": "stdout",
     "output_type": "stream",
     "text": [
      "{'descripcion': 'exito', 'estado': 200, 'datos': 'https://opendata.aemet.es/opendata/sh/b338cd98', 'metadatos': 'https://opendata.aemet.es/opendata/sh/b3aa9d28'}\n"
     ]
    }
   ],
   "source": [
    "url_en22 = 'https://opendata.aemet.es/opendata/api/valores/climatologicos/diarios/datos/fechaini/2022-01-01T00%3A00%3A00UTC/fechafin/2022-01-31T00%3A00%3A00UTC/todasestaciones'\n",
    "api_file_path = '../api.txt'\n",
    "\n",
    "enero22 = solicitud_get(url_en22, api_file_path)\n",
    "print(enero22)"
   ]
  },
  {
   "cell_type": "code",
   "execution_count": 377,
   "id": "60a5dc5c",
   "metadata": {},
   "outputs": [],
   "source": [
    "url_datos_en22= 'https://opendata.aemet.es/opendata/sh/b338cd98'\n",
    "enero_22= procesar_datos_mes(url_datos_en22, columnas_interes)"
   ]
  },
  {
   "cell_type": "code",
   "execution_count": 378,
   "id": "edc2a513",
   "metadata": {},
   "outputs": [
    {
     "data": {
      "text/html": [
       "<div>\n",
       "<style scoped>\n",
       "    .dataframe tbody tr th:only-of-type {\n",
       "        vertical-align: middle;\n",
       "    }\n",
       "\n",
       "    .dataframe tbody tr th {\n",
       "        vertical-align: top;\n",
       "    }\n",
       "\n",
       "    .dataframe thead th {\n",
       "        text-align: right;\n",
       "    }\n",
       "</style>\n",
       "<table border=\"1\" class=\"dataframe\">\n",
       "  <thead>\n",
       "    <tr style=\"text-align: right;\">\n",
       "      <th></th>\n",
       "      <th>provincia</th>\n",
       "      <th>media_tmed</th>\n",
       "      <th>media_prec</th>\n",
       "      <th>media_sol</th>\n",
       "      <th>media_tmin</th>\n",
       "      <th>media_tmax</th>\n",
       "      <th>año</th>\n",
       "      <th>mes</th>\n",
       "    </tr>\n",
       "  </thead>\n",
       "  <tbody>\n",
       "    <tr>\n",
       "      <th>0</th>\n",
       "      <td>A CORUÑA</td>\n",
       "      <td>10.129289</td>\n",
       "      <td>1.503376</td>\n",
       "      <td>5.338356</td>\n",
       "      <td>6.190377</td>\n",
       "      <td>14.065272</td>\n",
       "      <td>2022</td>\n",
       "      <td>enero</td>\n",
       "    </tr>\n",
       "    <tr>\n",
       "      <th>1</th>\n",
       "      <td>ALBACETE</td>\n",
       "      <td>6.384677</td>\n",
       "      <td>0.045968</td>\n",
       "      <td>7.015385</td>\n",
       "      <td>0.026613</td>\n",
       "      <td>12.737097</td>\n",
       "      <td>2022</td>\n",
       "      <td>enero</td>\n",
       "    </tr>\n",
       "    <tr>\n",
       "      <th>2</th>\n",
       "      <td>ALICANTE</td>\n",
       "      <td>9.916129</td>\n",
       "      <td>0.433636</td>\n",
       "      <td>6.690323</td>\n",
       "      <td>3.551613</td>\n",
       "      <td>16.283065</td>\n",
       "      <td>2022</td>\n",
       "      <td>enero</td>\n",
       "    </tr>\n",
       "    <tr>\n",
       "      <th>3</th>\n",
       "      <td>ALMERIA</td>\n",
       "      <td>11.836585</td>\n",
       "      <td>0.116129</td>\n",
       "      <td>6.777419</td>\n",
       "      <td>7.021138</td>\n",
       "      <td>16.647967</td>\n",
       "      <td>2022</td>\n",
       "      <td>enero</td>\n",
       "    </tr>\n",
       "    <tr>\n",
       "      <th>4</th>\n",
       "      <td>ARABA/ALAVA</td>\n",
       "      <td>4.653226</td>\n",
       "      <td>2.538333</td>\n",
       "      <td>5.422581</td>\n",
       "      <td>-1.283871</td>\n",
       "      <td>10.593548</td>\n",
       "      <td>2022</td>\n",
       "      <td>enero</td>\n",
       "    </tr>\n",
       "  </tbody>\n",
       "</table>\n",
       "</div>"
      ],
      "text/plain": [
       "     provincia  media_tmed  media_prec  media_sol  media_tmin  media_tmax  \\\n",
       "0     A CORUÑA   10.129289    1.503376   5.338356    6.190377   14.065272   \n",
       "1     ALBACETE    6.384677    0.045968   7.015385    0.026613   12.737097   \n",
       "2     ALICANTE    9.916129    0.433636   6.690323    3.551613   16.283065   \n",
       "3      ALMERIA   11.836585    0.116129   6.777419    7.021138   16.647967   \n",
       "4  ARABA/ALAVA    4.653226    2.538333   5.422581   -1.283871   10.593548   \n",
       "\n",
       "    año    mes  \n",
       "0  2022  enero  \n",
       "1  2022  enero  \n",
       "2  2022  enero  \n",
       "3  2022  enero  \n",
       "4  2022  enero  "
      ]
     },
     "execution_count": 378,
     "metadata": {},
     "output_type": "execute_result"
    }
   ],
   "source": [
    "enero_22= procesar_y_setear_mes(enero_22, año=2022, mes='enero')\n",
    "enero_22.head()"
   ]
  },
  {
   "cell_type": "markdown",
   "id": "85c2fe60",
   "metadata": {},
   "source": [
    "## FEBRERO22"
   ]
  },
  {
   "cell_type": "code",
   "execution_count": 372,
   "id": "785adffd",
   "metadata": {},
   "outputs": [
    {
     "name": "stdout",
     "output_type": "stream",
     "text": [
      "{'descripcion': 'exito', 'estado': 200, 'datos': 'https://opendata.aemet.es/opendata/sh/f7f48dd9', 'metadatos': 'https://opendata.aemet.es/opendata/sh/b3aa9d28'}\n"
     ]
    }
   ],
   "source": [
    "url_feb22 = 'https://opendata.aemet.es/opendata/api/valores/climatologicos/diarios/datos/fechaini/2022-02-01T00%3A00%3A00UTC/fechafin/2022-02-28T00%3A00%3A00UTC/todasestaciones'\n",
    "\n",
    "febrero22 = solicitud_get(url_feb22, api_file_path)\n",
    "print(febrero22)"
   ]
  },
  {
   "cell_type": "code",
   "execution_count": 373,
   "id": "505cb45c",
   "metadata": {},
   "outputs": [],
   "source": [
    "url_datos_feb22=  'https://opendata.aemet.es/opendata/sh/f7f48dd9'\n",
    "febrero_22= procesar_datos_mes(url_datos_feb22, columnas_interes)"
   ]
  },
  {
   "cell_type": "code",
   "execution_count": 375,
   "id": "dfc00cf0",
   "metadata": {},
   "outputs": [
    {
     "data": {
      "text/html": [
       "<div>\n",
       "<style scoped>\n",
       "    .dataframe tbody tr th:only-of-type {\n",
       "        vertical-align: middle;\n",
       "    }\n",
       "\n",
       "    .dataframe tbody tr th {\n",
       "        vertical-align: top;\n",
       "    }\n",
       "\n",
       "    .dataframe thead th {\n",
       "        text-align: right;\n",
       "    }\n",
       "</style>\n",
       "<table border=\"1\" class=\"dataframe\">\n",
       "  <thead>\n",
       "    <tr style=\"text-align: right;\">\n",
       "      <th></th>\n",
       "      <th>provincia</th>\n",
       "      <th>media_tmed</th>\n",
       "      <th>media_prec</th>\n",
       "      <th>media_sol</th>\n",
       "      <th>media_tmin</th>\n",
       "      <th>media_tmax</th>\n",
       "      <th>año</th>\n",
       "      <th>mes</th>\n",
       "    </tr>\n",
       "  </thead>\n",
       "  <tbody>\n",
       "    <tr>\n",
       "      <th>0</th>\n",
       "      <td>A CORUÑA</td>\n",
       "      <td>10.768304</td>\n",
       "      <td>1.522535</td>\n",
       "      <td>5.409023</td>\n",
       "      <td>6.922321</td>\n",
       "      <td>14.616518</td>\n",
       "      <td>2022</td>\n",
       "      <td>febrero</td>\n",
       "    </tr>\n",
       "    <tr>\n",
       "      <th>1</th>\n",
       "      <td>ALBACETE</td>\n",
       "      <td>9.515179</td>\n",
       "      <td>0.190909</td>\n",
       "      <td>7.159615</td>\n",
       "      <td>3.148214</td>\n",
       "      <td>15.877679</td>\n",
       "      <td>2022</td>\n",
       "      <td>febrero</td>\n",
       "    </tr>\n",
       "    <tr>\n",
       "      <th>2</th>\n",
       "      <td>ALICANTE</td>\n",
       "      <td>12.166964</td>\n",
       "      <td>0.072222</td>\n",
       "      <td>7.178571</td>\n",
       "      <td>5.994643</td>\n",
       "      <td>18.336607</td>\n",
       "      <td>2022</td>\n",
       "      <td>febrero</td>\n",
       "    </tr>\n",
       "    <tr>\n",
       "      <th>3</th>\n",
       "      <td>ALMERIA</td>\n",
       "      <td>13.342727</td>\n",
       "      <td>0.166429</td>\n",
       "      <td>7.192857</td>\n",
       "      <td>8.209091</td>\n",
       "      <td>18.477273</td>\n",
       "      <td>2022</td>\n",
       "      <td>febrero</td>\n",
       "    </tr>\n",
       "    <tr>\n",
       "      <th>4</th>\n",
       "      <td>ARABA/ALAVA</td>\n",
       "      <td>6.512500</td>\n",
       "      <td>0.366000</td>\n",
       "      <td>5.073214</td>\n",
       "      <td>-0.242857</td>\n",
       "      <td>13.269643</td>\n",
       "      <td>2022</td>\n",
       "      <td>febrero</td>\n",
       "    </tr>\n",
       "  </tbody>\n",
       "</table>\n",
       "</div>"
      ],
      "text/plain": [
       "     provincia  media_tmed  media_prec  media_sol  media_tmin  media_tmax  \\\n",
       "0     A CORUÑA   10.768304    1.522535   5.409023    6.922321   14.616518   \n",
       "1     ALBACETE    9.515179    0.190909   7.159615    3.148214   15.877679   \n",
       "2     ALICANTE   12.166964    0.072222   7.178571    5.994643   18.336607   \n",
       "3      ALMERIA   13.342727    0.166429   7.192857    8.209091   18.477273   \n",
       "4  ARABA/ALAVA    6.512500    0.366000   5.073214   -0.242857   13.269643   \n",
       "\n",
       "    año      mes  \n",
       "0  2022  febrero  \n",
       "1  2022  febrero  \n",
       "2  2022  febrero  \n",
       "3  2022  febrero  \n",
       "4  2022  febrero  "
      ]
     },
     "execution_count": 375,
     "metadata": {},
     "output_type": "execute_result"
    }
   ],
   "source": [
    "febrero_22 = procesar_y_setear_mes(febrero_22, año=2022, mes='febrero')\n",
    "febrero_22.head()"
   ]
  },
  {
   "cell_type": "markdown",
   "id": "e2a866e4",
   "metadata": {},
   "source": [
    "## MARZO22"
   ]
  },
  {
   "cell_type": "code",
   "execution_count": 369,
   "id": "cb13e42e",
   "metadata": {},
   "outputs": [
    {
     "name": "stdout",
     "output_type": "stream",
     "text": [
      "{'descripcion': 'exito', 'estado': 200, 'datos': 'https://opendata.aemet.es/opendata/sh/bfeac398', 'metadatos': 'https://opendata.aemet.es/opendata/sh/b3aa9d28'}\n"
     ]
    }
   ],
   "source": [
    "url_mzo22 = 'https://opendata.aemet.es/opendata/api/valores/climatologicos/diarios/datos/fechaini/2022-03-01T00%3A00%3A00UTC/fechafin/2022-03-31T00%3A00%3A00UTC/todasestaciones'\n",
    "api_file_path = '../api.txt'\n",
    "\n",
    "marzo22 = solicitud_get(url_mzo22, api_file_path)\n",
    "print(marzo22)"
   ]
  },
  {
   "cell_type": "code",
   "execution_count": 370,
   "id": "615578ff",
   "metadata": {},
   "outputs": [],
   "source": [
    "url_datos_mzo22=  'https://opendata.aemet.es/opendata/sh/bfeac398'\n",
    "marzo_22= procesar_datos_mes(url_datos_mzo22, columnas_interes)"
   ]
  },
  {
   "cell_type": "code",
   "execution_count": 371,
   "id": "55fcb46f",
   "metadata": {},
   "outputs": [
    {
     "data": {
      "text/html": [
       "<div>\n",
       "<style scoped>\n",
       "    .dataframe tbody tr th:only-of-type {\n",
       "        vertical-align: middle;\n",
       "    }\n",
       "\n",
       "    .dataframe tbody tr th {\n",
       "        vertical-align: top;\n",
       "    }\n",
       "\n",
       "    .dataframe thead th {\n",
       "        text-align: right;\n",
       "    }\n",
       "</style>\n",
       "<table border=\"1\" class=\"dataframe\">\n",
       "  <thead>\n",
       "    <tr style=\"text-align: right;\">\n",
       "      <th></th>\n",
       "      <th>provincia</th>\n",
       "      <th>media_tmed</th>\n",
       "      <th>media_prec</th>\n",
       "      <th>media_sol</th>\n",
       "      <th>media_tmin</th>\n",
       "      <th>media_tmax</th>\n",
       "      <th>año</th>\n",
       "      <th>mes</th>\n",
       "    </tr>\n",
       "  </thead>\n",
       "  <tbody>\n",
       "    <tr>\n",
       "      <th>0</th>\n",
       "      <td>A CORUÑA</td>\n",
       "      <td>11.490283</td>\n",
       "      <td>3.748899</td>\n",
       "      <td>5.258865</td>\n",
       "      <td>7.617004</td>\n",
       "      <td>15.374597</td>\n",
       "      <td>2022</td>\n",
       "      <td>marzo</td>\n",
       "    </tr>\n",
       "    <tr>\n",
       "      <th>1</th>\n",
       "      <td>ALBACETE</td>\n",
       "      <td>9.291129</td>\n",
       "      <td>2.700820</td>\n",
       "      <td>2.983929</td>\n",
       "      <td>5.733871</td>\n",
       "      <td>12.842742</td>\n",
       "      <td>2022</td>\n",
       "      <td>marzo</td>\n",
       "    </tr>\n",
       "    <tr>\n",
       "      <th>2</th>\n",
       "      <td>ALICANTE</td>\n",
       "      <td>12.988710</td>\n",
       "      <td>7.066942</td>\n",
       "      <td>3.702151</td>\n",
       "      <td>9.316935</td>\n",
       "      <td>16.670968</td>\n",
       "      <td>2022</td>\n",
       "      <td>marzo</td>\n",
       "    </tr>\n",
       "    <tr>\n",
       "      <th>3</th>\n",
       "      <td>ALMERIA</td>\n",
       "      <td>14.205405</td>\n",
       "      <td>2.833077</td>\n",
       "      <td>4.927778</td>\n",
       "      <td>10.381081</td>\n",
       "      <td>18.029054</td>\n",
       "      <td>2022</td>\n",
       "      <td>marzo</td>\n",
       "    </tr>\n",
       "    <tr>\n",
       "      <th>4</th>\n",
       "      <td>ARABA/ALAVA</td>\n",
       "      <td>8.561290</td>\n",
       "      <td>1.629508</td>\n",
       "      <td>3.272581</td>\n",
       "      <td>3.990323</td>\n",
       "      <td>13.125806</td>\n",
       "      <td>2022</td>\n",
       "      <td>marzo</td>\n",
       "    </tr>\n",
       "  </tbody>\n",
       "</table>\n",
       "</div>"
      ],
      "text/plain": [
       "     provincia  media_tmed  media_prec  media_sol  media_tmin  media_tmax  \\\n",
       "0     A CORUÑA   11.490283    3.748899   5.258865    7.617004   15.374597   \n",
       "1     ALBACETE    9.291129    2.700820   2.983929    5.733871   12.842742   \n",
       "2     ALICANTE   12.988710    7.066942   3.702151    9.316935   16.670968   \n",
       "3      ALMERIA   14.205405    2.833077   4.927778   10.381081   18.029054   \n",
       "4  ARABA/ALAVA    8.561290    1.629508   3.272581    3.990323   13.125806   \n",
       "\n",
       "    año    mes  \n",
       "0  2022  marzo  \n",
       "1  2022  marzo  \n",
       "2  2022  marzo  \n",
       "3  2022  marzo  \n",
       "4  2022  marzo  "
      ]
     },
     "execution_count": 371,
     "metadata": {},
     "output_type": "execute_result"
    }
   ],
   "source": [
    "marzo_22 = procesar_y_setear_mes(marzo_22, año=2022, mes='marzo')\n",
    "marzo_22.head()"
   ]
  },
  {
   "cell_type": "markdown",
   "id": "6d716607",
   "metadata": {},
   "source": [
    "## ABRIL22"
   ]
  },
  {
   "cell_type": "code",
   "execution_count": 379,
   "id": "7dfcae64",
   "metadata": {},
   "outputs": [
    {
     "name": "stdout",
     "output_type": "stream",
     "text": [
      "{'descripcion': 'exito', 'estado': 200, 'datos': 'https://opendata.aemet.es/opendata/sh/b4d5ad32', 'metadatos': 'https://opendata.aemet.es/opendata/sh/b3aa9d28'}\n"
     ]
    }
   ],
   "source": [
    "url_abr22 = 'https://opendata.aemet.es/opendata/api/valores/climatologicos/diarios/datos/fechaini/2022-04-01T00%3A00%3A00UTC/fechafin/2022-04-30T00%3A00%3A00UTC/todasestaciones'\n",
    "api_file_path = '../api.txt'\n",
    "\n",
    "abril22 = solicitud_get(url_abr22, api_file_path)\n",
    "print(abril22)"
   ]
  },
  {
   "cell_type": "code",
   "execution_count": 380,
   "id": "4773600a",
   "metadata": {},
   "outputs": [],
   "source": [
    "url_datos_abr22=  'https://opendata.aemet.es/opendata/sh/b4d5ad32'\n",
    "abril_22= procesar_datos_mes(url_datos_abr22, columnas_interes)"
   ]
  },
  {
   "cell_type": "code",
   "execution_count": 381,
   "id": "ff6a7428",
   "metadata": {},
   "outputs": [
    {
     "data": {
      "text/html": [
       "<div>\n",
       "<style scoped>\n",
       "    .dataframe tbody tr th:only-of-type {\n",
       "        vertical-align: middle;\n",
       "    }\n",
       "\n",
       "    .dataframe tbody tr th {\n",
       "        vertical-align: top;\n",
       "    }\n",
       "\n",
       "    .dataframe thead th {\n",
       "        text-align: right;\n",
       "    }\n",
       "</style>\n",
       "<table border=\"1\" class=\"dataframe\">\n",
       "  <thead>\n",
       "    <tr style=\"text-align: right;\">\n",
       "      <th></th>\n",
       "      <th>provincia</th>\n",
       "      <th>media_tmed</th>\n",
       "      <th>media_prec</th>\n",
       "      <th>media_sol</th>\n",
       "      <th>media_tmin</th>\n",
       "      <th>media_tmax</th>\n",
       "      <th>año</th>\n",
       "      <th>mes</th>\n",
       "    </tr>\n",
       "  </thead>\n",
       "  <tbody>\n",
       "    <tr>\n",
       "      <th>0</th>\n",
       "      <td>A CORUÑA</td>\n",
       "      <td>12.187611</td>\n",
       "      <td>2.299561</td>\n",
       "      <td>6.859701</td>\n",
       "      <td>8.303097</td>\n",
       "      <td>16.064159</td>\n",
       "      <td>2022</td>\n",
       "      <td>abril</td>\n",
       "    </tr>\n",
       "    <tr>\n",
       "      <th>1</th>\n",
       "      <td>ALBACETE</td>\n",
       "      <td>10.927500</td>\n",
       "      <td>3.810345</td>\n",
       "      <td>6.924074</td>\n",
       "      <td>5.479167</td>\n",
       "      <td>16.370833</td>\n",
       "      <td>2022</td>\n",
       "      <td>abril</td>\n",
       "    </tr>\n",
       "    <tr>\n",
       "      <th>2</th>\n",
       "      <td>ALICANTE</td>\n",
       "      <td>14.869167</td>\n",
       "      <td>2.708475</td>\n",
       "      <td>7.886667</td>\n",
       "      <td>9.794167</td>\n",
       "      <td>19.945833</td>\n",
       "      <td>2022</td>\n",
       "      <td>abril</td>\n",
       "    </tr>\n",
       "    <tr>\n",
       "      <th>3</th>\n",
       "      <td>ALMERIA</td>\n",
       "      <td>15.366443</td>\n",
       "      <td>1.734014</td>\n",
       "      <td>8.213333</td>\n",
       "      <td>10.883221</td>\n",
       "      <td>19.847651</td>\n",
       "      <td>2022</td>\n",
       "      <td>abril</td>\n",
       "    </tr>\n",
       "    <tr>\n",
       "      <th>4</th>\n",
       "      <td>ARABA/ALAVA</td>\n",
       "      <td>9.601667</td>\n",
       "      <td>2.714815</td>\n",
       "      <td>5.845000</td>\n",
       "      <td>3.841667</td>\n",
       "      <td>15.368333</td>\n",
       "      <td>2022</td>\n",
       "      <td>abril</td>\n",
       "    </tr>\n",
       "  </tbody>\n",
       "</table>\n",
       "</div>"
      ],
      "text/plain": [
       "     provincia  media_tmed  media_prec  media_sol  media_tmin  media_tmax  \\\n",
       "0     A CORUÑA   12.187611    2.299561   6.859701    8.303097   16.064159   \n",
       "1     ALBACETE   10.927500    3.810345   6.924074    5.479167   16.370833   \n",
       "2     ALICANTE   14.869167    2.708475   7.886667    9.794167   19.945833   \n",
       "3      ALMERIA   15.366443    1.734014   8.213333   10.883221   19.847651   \n",
       "4  ARABA/ALAVA    9.601667    2.714815   5.845000    3.841667   15.368333   \n",
       "\n",
       "    año    mes  \n",
       "0  2022  abril  \n",
       "1  2022  abril  \n",
       "2  2022  abril  \n",
       "3  2022  abril  \n",
       "4  2022  abril  "
      ]
     },
     "execution_count": 381,
     "metadata": {},
     "output_type": "execute_result"
    }
   ],
   "source": [
    "abril_22 = procesar_y_setear_mes(abril_22, año=2022, mes='abril')\n",
    "abril_22.head()"
   ]
  },
  {
   "cell_type": "markdown",
   "id": "42358809",
   "metadata": {},
   "source": [
    "## MAYO22"
   ]
  },
  {
   "cell_type": "code",
   "execution_count": 382,
   "id": "3548a7db",
   "metadata": {},
   "outputs": [
    {
     "name": "stdout",
     "output_type": "stream",
     "text": [
      "{'descripcion': 'exito', 'estado': 200, 'datos': 'https://opendata.aemet.es/opendata/sh/8611e676', 'metadatos': 'https://opendata.aemet.es/opendata/sh/b3aa9d28'}\n"
     ]
    }
   ],
   "source": [
    "url_my22 = 'https://opendata.aemet.es/opendata/api/valores/climatologicos/diarios/datos/fechaini/2022-05-01T00%3A00%3A00UTC/fechafin/2022-05-31T00%3A00%3A00UTC/todasestaciones'\n",
    "api_file_path = '../api.txt'\n",
    "\n",
    "mayo22 = solicitud_get(url_my22, api_file_path)\n",
    "print(mayo22)"
   ]
  },
  {
   "cell_type": "code",
   "execution_count": 383,
   "id": "2f6ed17d",
   "metadata": {},
   "outputs": [],
   "source": [
    "url_datos_my22=  'https://opendata.aemet.es/opendata/sh/8611e676'\n",
    "mayo_22= procesar_datos_mes(url_datos_my22, columnas_interes)"
   ]
  },
  {
   "cell_type": "code",
   "execution_count": 384,
   "id": "cfba1a75",
   "metadata": {},
   "outputs": [
    {
     "data": {
      "text/html": [
       "<div>\n",
       "<style scoped>\n",
       "    .dataframe tbody tr th:only-of-type {\n",
       "        vertical-align: middle;\n",
       "    }\n",
       "\n",
       "    .dataframe tbody tr th {\n",
       "        vertical-align: top;\n",
       "    }\n",
       "\n",
       "    .dataframe thead th {\n",
       "        text-align: right;\n",
       "    }\n",
       "</style>\n",
       "<table border=\"1\" class=\"dataframe\">\n",
       "  <thead>\n",
       "    <tr style=\"text-align: right;\">\n",
       "      <th></th>\n",
       "      <th>provincia</th>\n",
       "      <th>media_tmed</th>\n",
       "      <th>media_prec</th>\n",
       "      <th>media_sol</th>\n",
       "      <th>media_tmin</th>\n",
       "      <th>media_tmax</th>\n",
       "      <th>año</th>\n",
       "      <th>mes</th>\n",
       "    </tr>\n",
       "  </thead>\n",
       "  <tbody>\n",
       "    <tr>\n",
       "      <th>0</th>\n",
       "      <td>A CORUÑA</td>\n",
       "      <td>16.305809</td>\n",
       "      <td>1.342678</td>\n",
       "      <td>7.578472</td>\n",
       "      <td>12.051867</td>\n",
       "      <td>20.556432</td>\n",
       "      <td>2022</td>\n",
       "      <td>mayo</td>\n",
       "    </tr>\n",
       "    <tr>\n",
       "      <th>1</th>\n",
       "      <td>ALBACETE</td>\n",
       "      <td>18.918548</td>\n",
       "      <td>0.447967</td>\n",
       "      <td>11.362500</td>\n",
       "      <td>11.329032</td>\n",
       "      <td>26.507258</td>\n",
       "      <td>2022</td>\n",
       "      <td>mayo</td>\n",
       "    </tr>\n",
       "    <tr>\n",
       "      <th>2</th>\n",
       "      <td>ALICANTE</td>\n",
       "      <td>20.262727</td>\n",
       "      <td>0.919008</td>\n",
       "      <td>11.537975</td>\n",
       "      <td>13.944545</td>\n",
       "      <td>26.575455</td>\n",
       "      <td>2022</td>\n",
       "      <td>mayo</td>\n",
       "    </tr>\n",
       "    <tr>\n",
       "      <th>3</th>\n",
       "      <td>ALMERIA</td>\n",
       "      <td>20.394483</td>\n",
       "      <td>1.441135</td>\n",
       "      <td>11.187097</td>\n",
       "      <td>15.505517</td>\n",
       "      <td>25.275172</td>\n",
       "      <td>2022</td>\n",
       "      <td>mayo</td>\n",
       "    </tr>\n",
       "    <tr>\n",
       "      <th>4</th>\n",
       "      <td>ARABA/ALAVA</td>\n",
       "      <td>15.954839</td>\n",
       "      <td>0.389831</td>\n",
       "      <td>8.048387</td>\n",
       "      <td>8.641935</td>\n",
       "      <td>23.275806</td>\n",
       "      <td>2022</td>\n",
       "      <td>mayo</td>\n",
       "    </tr>\n",
       "  </tbody>\n",
       "</table>\n",
       "</div>"
      ],
      "text/plain": [
       "     provincia  media_tmed  media_prec  media_sol  media_tmin  media_tmax  \\\n",
       "0     A CORUÑA   16.305809    1.342678   7.578472   12.051867   20.556432   \n",
       "1     ALBACETE   18.918548    0.447967  11.362500   11.329032   26.507258   \n",
       "2     ALICANTE   20.262727    0.919008  11.537975   13.944545   26.575455   \n",
       "3      ALMERIA   20.394483    1.441135  11.187097   15.505517   25.275172   \n",
       "4  ARABA/ALAVA   15.954839    0.389831   8.048387    8.641935   23.275806   \n",
       "\n",
       "    año   mes  \n",
       "0  2022  mayo  \n",
       "1  2022  mayo  \n",
       "2  2022  mayo  \n",
       "3  2022  mayo  \n",
       "4  2022  mayo  "
      ]
     },
     "execution_count": 384,
     "metadata": {},
     "output_type": "execute_result"
    }
   ],
   "source": [
    "mayo_22 = procesar_y_setear_mes(mayo_22, año=2022, mes='mayo')\n",
    "mayo_22.head()"
   ]
  },
  {
   "cell_type": "markdown",
   "id": "eb6aabe7",
   "metadata": {},
   "source": [
    "## JUNIO22"
   ]
  },
  {
   "cell_type": "code",
   "execution_count": 385,
   "id": "54f75ff4",
   "metadata": {},
   "outputs": [
    {
     "name": "stdout",
     "output_type": "stream",
     "text": [
      "{'descripcion': 'exito', 'estado': 200, 'datos': 'https://opendata.aemet.es/opendata/sh/1e04fc76', 'metadatos': 'https://opendata.aemet.es/opendata/sh/b3aa9d28'}\n"
     ]
    }
   ],
   "source": [
    "url_jun22 = 'https://opendata.aemet.es/opendata/api/valores/climatologicos/diarios/datos/fechaini/2022-06-01T00%3A00%3A00UTC/fechafin/2022-06-30T00%3A00%3A00UTC/todasestaciones'\n",
    "api_file_path = '../api.txt'\n",
    "\n",
    "junio22 = solicitud_get(url_jun22, api_file_path)\n",
    "print(junio22)"
   ]
  },
  {
   "cell_type": "code",
   "execution_count": 386,
   "id": "fc34b579",
   "metadata": {},
   "outputs": [],
   "source": [
    "url_datos_jun22=  'https://opendata.aemet.es/opendata/sh/1e04fc76'\n",
    "junio_22= procesar_datos_mes(url_datos_jun22, columnas_interes)"
   ]
  },
  {
   "cell_type": "code",
   "execution_count": 387,
   "id": "dea419aa",
   "metadata": {},
   "outputs": [
    {
     "data": {
      "text/html": [
       "<div>\n",
       "<style scoped>\n",
       "    .dataframe tbody tr th:only-of-type {\n",
       "        vertical-align: middle;\n",
       "    }\n",
       "\n",
       "    .dataframe tbody tr th {\n",
       "        vertical-align: top;\n",
       "    }\n",
       "\n",
       "    .dataframe thead th {\n",
       "        text-align: right;\n",
       "    }\n",
       "</style>\n",
       "<table border=\"1\" class=\"dataframe\">\n",
       "  <thead>\n",
       "    <tr style=\"text-align: right;\">\n",
       "      <th></th>\n",
       "      <th>provincia</th>\n",
       "      <th>media_tmed</th>\n",
       "      <th>media_prec</th>\n",
       "      <th>media_sol</th>\n",
       "      <th>media_tmin</th>\n",
       "      <th>media_tmax</th>\n",
       "      <th>año</th>\n",
       "      <th>mes</th>\n",
       "    </tr>\n",
       "  </thead>\n",
       "  <tbody>\n",
       "    <tr>\n",
       "      <th>0</th>\n",
       "      <td>A CORUÑA</td>\n",
       "      <td>17.140529</td>\n",
       "      <td>2.204545</td>\n",
       "      <td>6.298592</td>\n",
       "      <td>13.666520</td>\n",
       "      <td>20.613656</td>\n",
       "      <td>2022</td>\n",
       "      <td>junio</td>\n",
       "    </tr>\n",
       "    <tr>\n",
       "      <th>1</th>\n",
       "      <td>ALBACETE</td>\n",
       "      <td>24.450420</td>\n",
       "      <td>0.089655</td>\n",
       "      <td>11.862500</td>\n",
       "      <td>16.366387</td>\n",
       "      <td>32.522689</td>\n",
       "      <td>2022</td>\n",
       "      <td>junio</td>\n",
       "    </tr>\n",
       "    <tr>\n",
       "      <th>2</th>\n",
       "      <td>ALICANTE</td>\n",
       "      <td>24.780000</td>\n",
       "      <td>0.255085</td>\n",
       "      <td>12.430000</td>\n",
       "      <td>18.069167</td>\n",
       "      <td>31.484167</td>\n",
       "      <td>2022</td>\n",
       "      <td>junio</td>\n",
       "    </tr>\n",
       "    <tr>\n",
       "      <th>3</th>\n",
       "      <td>ALMERIA</td>\n",
       "      <td>23.676154</td>\n",
       "      <td>0.050394</td>\n",
       "      <td>10.983051</td>\n",
       "      <td>18.652308</td>\n",
       "      <td>28.700000</td>\n",
       "      <td>2022</td>\n",
       "      <td>junio</td>\n",
       "    </tr>\n",
       "    <tr>\n",
       "      <th>4</th>\n",
       "      <td>ARABA/ALAVA</td>\n",
       "      <td>19.431667</td>\n",
       "      <td>0.510909</td>\n",
       "      <td>7.826667</td>\n",
       "      <td>12.016667</td>\n",
       "      <td>26.850000</td>\n",
       "      <td>2022</td>\n",
       "      <td>junio</td>\n",
       "    </tr>\n",
       "  </tbody>\n",
       "</table>\n",
       "</div>"
      ],
      "text/plain": [
       "     provincia  media_tmed  media_prec  media_sol  media_tmin  media_tmax  \\\n",
       "0     A CORUÑA   17.140529    2.204545   6.298592   13.666520   20.613656   \n",
       "1     ALBACETE   24.450420    0.089655  11.862500   16.366387   32.522689   \n",
       "2     ALICANTE   24.780000    0.255085  12.430000   18.069167   31.484167   \n",
       "3      ALMERIA   23.676154    0.050394  10.983051   18.652308   28.700000   \n",
       "4  ARABA/ALAVA   19.431667    0.510909   7.826667   12.016667   26.850000   \n",
       "\n",
       "    año    mes  \n",
       "0  2022  junio  \n",
       "1  2022  junio  \n",
       "2  2022  junio  \n",
       "3  2022  junio  \n",
       "4  2022  junio  "
      ]
     },
     "execution_count": 387,
     "metadata": {},
     "output_type": "execute_result"
    }
   ],
   "source": [
    "junio_22 = procesar_y_setear_mes(junio_22, año=2022, mes='junio')\n",
    "junio_22.head()"
   ]
  },
  {
   "cell_type": "markdown",
   "id": "da5c6fa9",
   "metadata": {},
   "source": [
    "## JULIO22"
   ]
  },
  {
   "cell_type": "code",
   "execution_count": 388,
   "id": "c6adb98d",
   "metadata": {},
   "outputs": [
    {
     "name": "stdout",
     "output_type": "stream",
     "text": [
      "{'descripcion': 'exito', 'estado': 200, 'datos': 'https://opendata.aemet.es/opendata/sh/5dbc83a2', 'metadatos': 'https://opendata.aemet.es/opendata/sh/b3aa9d28'}\n"
     ]
    }
   ],
   "source": [
    "url_jul22 = 'https://opendata.aemet.es/opendata/api/valores/climatologicos/diarios/datos/fechaini/2022-07-01T00%3A00%3A00UTC/fechafin/2022-07-31T00%3A00%3A00UTC/todasestaciones'\n",
    "api_file_path = '../api.txt'\n",
    "\n",
    "julio22 = solicitud_get(url_jul22, api_file_path)\n",
    "print(julio22)"
   ]
  },
  {
   "cell_type": "code",
   "execution_count": 389,
   "id": "d7ac0065",
   "metadata": {},
   "outputs": [],
   "source": [
    "url_datos_jul22=  'https://opendata.aemet.es/opendata/sh/5dbc83a2'\n",
    "julio_22= procesar_datos_mes(url_datos_jul22, columnas_interes)"
   ]
  },
  {
   "cell_type": "code",
   "execution_count": 390,
   "id": "e758806b",
   "metadata": {},
   "outputs": [
    {
     "data": {
      "text/html": [
       "<div>\n",
       "<style scoped>\n",
       "    .dataframe tbody tr th:only-of-type {\n",
       "        vertical-align: middle;\n",
       "    }\n",
       "\n",
       "    .dataframe tbody tr th {\n",
       "        vertical-align: top;\n",
       "    }\n",
       "\n",
       "    .dataframe thead th {\n",
       "        text-align: right;\n",
       "    }\n",
       "</style>\n",
       "<table border=\"1\" class=\"dataframe\">\n",
       "  <thead>\n",
       "    <tr style=\"text-align: right;\">\n",
       "      <th></th>\n",
       "      <th>provincia</th>\n",
       "      <th>media_tmed</th>\n",
       "      <th>media_prec</th>\n",
       "      <th>media_sol</th>\n",
       "      <th>media_tmin</th>\n",
       "      <th>media_tmax</th>\n",
       "      <th>año</th>\n",
       "      <th>mes</th>\n",
       "    </tr>\n",
       "  </thead>\n",
       "  <tbody>\n",
       "    <tr>\n",
       "      <th>0</th>\n",
       "      <td>A CORUÑA</td>\n",
       "      <td>20.661382</td>\n",
       "      <td>0.122785</td>\n",
       "      <td>9.775510</td>\n",
       "      <td>15.865041</td>\n",
       "      <td>25.458943</td>\n",
       "      <td>2022</td>\n",
       "      <td>julio</td>\n",
       "    </tr>\n",
       "    <tr>\n",
       "      <th>1</th>\n",
       "      <td>ALBACETE</td>\n",
       "      <td>27.159677</td>\n",
       "      <td>0.350000</td>\n",
       "      <td>12.430645</td>\n",
       "      <td>18.901613</td>\n",
       "      <td>35.417742</td>\n",
       "      <td>2022</td>\n",
       "      <td>julio</td>\n",
       "    </tr>\n",
       "    <tr>\n",
       "      <th>2</th>\n",
       "      <td>ALICANTE</td>\n",
       "      <td>27.262903</td>\n",
       "      <td>0.001653</td>\n",
       "      <td>12.211957</td>\n",
       "      <td>20.855645</td>\n",
       "      <td>33.681452</td>\n",
       "      <td>2022</td>\n",
       "      <td>julio</td>\n",
       "    </tr>\n",
       "    <tr>\n",
       "      <th>3</th>\n",
       "      <td>ALMERIA</td>\n",
       "      <td>26.990278</td>\n",
       "      <td>0.013571</td>\n",
       "      <td>9.216129</td>\n",
       "      <td>21.835417</td>\n",
       "      <td>32.145833</td>\n",
       "      <td>2022</td>\n",
       "      <td>julio</td>\n",
       "    </tr>\n",
       "    <tr>\n",
       "      <th>4</th>\n",
       "      <td>ARABA/ALAVA</td>\n",
       "      <td>20.906452</td>\n",
       "      <td>0.091667</td>\n",
       "      <td>9.348387</td>\n",
       "      <td>12.354839</td>\n",
       "      <td>29.464516</td>\n",
       "      <td>2022</td>\n",
       "      <td>julio</td>\n",
       "    </tr>\n",
       "  </tbody>\n",
       "</table>\n",
       "</div>"
      ],
      "text/plain": [
       "     provincia  media_tmed  media_prec  media_sol  media_tmin  media_tmax  \\\n",
       "0     A CORUÑA   20.661382    0.122785   9.775510   15.865041   25.458943   \n",
       "1     ALBACETE   27.159677    0.350000  12.430645   18.901613   35.417742   \n",
       "2     ALICANTE   27.262903    0.001653  12.211957   20.855645   33.681452   \n",
       "3      ALMERIA   26.990278    0.013571   9.216129   21.835417   32.145833   \n",
       "4  ARABA/ALAVA   20.906452    0.091667   9.348387   12.354839   29.464516   \n",
       "\n",
       "    año    mes  \n",
       "0  2022  julio  \n",
       "1  2022  julio  \n",
       "2  2022  julio  \n",
       "3  2022  julio  \n",
       "4  2022  julio  "
      ]
     },
     "execution_count": 390,
     "metadata": {},
     "output_type": "execute_result"
    }
   ],
   "source": [
    "julio_22 = procesar_y_setear_mes(julio_22, año=2022, mes='julio')\n",
    "julio_22.head()"
   ]
  },
  {
   "cell_type": "markdown",
   "id": "4e762370",
   "metadata": {},
   "source": [
    "## AGOSTO22"
   ]
  },
  {
   "cell_type": "code",
   "execution_count": 391,
   "id": "a1dca10b",
   "metadata": {},
   "outputs": [
    {
     "name": "stdout",
     "output_type": "stream",
     "text": [
      "{'descripcion': 'exito', 'estado': 200, 'datos': 'https://opendata.aemet.es/opendata/sh/00aee56b', 'metadatos': 'https://opendata.aemet.es/opendata/sh/b3aa9d28'}\n"
     ]
    }
   ],
   "source": [
    "url_ag22 = 'https://opendata.aemet.es/opendata/api/valores/climatologicos/diarios/datos/fechaini/2022-08-01T00%3A00%3A00UTC/fechafin/2022-08-31T00%3A00%3A00UTC/todasestaciones'\n",
    "api_file_path = '../api.txt'\n",
    "\n",
    "agosto22 = solicitud_get(url_ag22, api_file_path)\n",
    "print(agosto22)"
   ]
  },
  {
   "cell_type": "code",
   "execution_count": 392,
   "id": "7ef03058",
   "metadata": {},
   "outputs": [],
   "source": [
    "url_datos_ag22= 'https://opendata.aemet.es/opendata/sh/00aee56b'\n",
    "agosto_22= procesar_datos_mes(url_datos_ag22, columnas_interes)"
   ]
  },
  {
   "cell_type": "code",
   "execution_count": 393,
   "id": "e7518828",
   "metadata": {},
   "outputs": [
    {
     "data": {
      "text/html": [
       "<div>\n",
       "<style scoped>\n",
       "    .dataframe tbody tr th:only-of-type {\n",
       "        vertical-align: middle;\n",
       "    }\n",
       "\n",
       "    .dataframe tbody tr th {\n",
       "        vertical-align: top;\n",
       "    }\n",
       "\n",
       "    .dataframe thead th {\n",
       "        text-align: right;\n",
       "    }\n",
       "</style>\n",
       "<table border=\"1\" class=\"dataframe\">\n",
       "  <thead>\n",
       "    <tr style=\"text-align: right;\">\n",
       "      <th></th>\n",
       "      <th>provincia</th>\n",
       "      <th>media_tmed</th>\n",
       "      <th>media_prec</th>\n",
       "      <th>media_sol</th>\n",
       "      <th>media_tmin</th>\n",
       "      <th>media_tmax</th>\n",
       "      <th>año</th>\n",
       "      <th>mes</th>\n",
       "    </tr>\n",
       "  </thead>\n",
       "  <tbody>\n",
       "    <tr>\n",
       "      <th>0</th>\n",
       "      <td>A CORUÑA</td>\n",
       "      <td>20.262083</td>\n",
       "      <td>0.400420</td>\n",
       "      <td>8.037162</td>\n",
       "      <td>15.996667</td>\n",
       "      <td>24.530000</td>\n",
       "      <td>2022</td>\n",
       "      <td>agosto</td>\n",
       "    </tr>\n",
       "    <tr>\n",
       "      <th>1</th>\n",
       "      <td>ALBACETE</td>\n",
       "      <td>25.786179</td>\n",
       "      <td>0.931707</td>\n",
       "      <td>11.014286</td>\n",
       "      <td>17.927642</td>\n",
       "      <td>33.652846</td>\n",
       "      <td>2022</td>\n",
       "      <td>agosto</td>\n",
       "    </tr>\n",
       "    <tr>\n",
       "      <th>2</th>\n",
       "      <td>ALICANTE</td>\n",
       "      <td>27.542742</td>\n",
       "      <td>0.188710</td>\n",
       "      <td>11.206452</td>\n",
       "      <td>21.107258</td>\n",
       "      <td>33.979839</td>\n",
       "      <td>2022</td>\n",
       "      <td>agosto</td>\n",
       "    </tr>\n",
       "    <tr>\n",
       "      <th>3</th>\n",
       "      <td>ALMERIA</td>\n",
       "      <td>27.325175</td>\n",
       "      <td>0.088571</td>\n",
       "      <td>6.398387</td>\n",
       "      <td>21.953147</td>\n",
       "      <td>32.699301</td>\n",
       "      <td>2022</td>\n",
       "      <td>agosto</td>\n",
       "    </tr>\n",
       "    <tr>\n",
       "      <th>4</th>\n",
       "      <td>ARABA/ALAVA</td>\n",
       "      <td>22.341935</td>\n",
       "      <td>0.213208</td>\n",
       "      <td>8.469355</td>\n",
       "      <td>14.454839</td>\n",
       "      <td>30.235484</td>\n",
       "      <td>2022</td>\n",
       "      <td>agosto</td>\n",
       "    </tr>\n",
       "  </tbody>\n",
       "</table>\n",
       "</div>"
      ],
      "text/plain": [
       "     provincia  media_tmed  media_prec  media_sol  media_tmin  media_tmax  \\\n",
       "0     A CORUÑA   20.262083    0.400420   8.037162   15.996667   24.530000   \n",
       "1     ALBACETE   25.786179    0.931707  11.014286   17.927642   33.652846   \n",
       "2     ALICANTE   27.542742    0.188710  11.206452   21.107258   33.979839   \n",
       "3      ALMERIA   27.325175    0.088571   6.398387   21.953147   32.699301   \n",
       "4  ARABA/ALAVA   22.341935    0.213208   8.469355   14.454839   30.235484   \n",
       "\n",
       "    año     mes  \n",
       "0  2022  agosto  \n",
       "1  2022  agosto  \n",
       "2  2022  agosto  \n",
       "3  2022  agosto  \n",
       "4  2022  agosto  "
      ]
     },
     "execution_count": 393,
     "metadata": {},
     "output_type": "execute_result"
    }
   ],
   "source": [
    "agosto_22 = procesar_y_setear_mes(agosto_22, año=2022, mes='agosto')\n",
    "agosto_22.head()"
   ]
  },
  {
   "cell_type": "markdown",
   "id": "b4fff368",
   "metadata": {},
   "source": [
    "## SEPTIEMBRE22"
   ]
  },
  {
   "cell_type": "code",
   "execution_count": 394,
   "id": "2fee3fae",
   "metadata": {},
   "outputs": [
    {
     "name": "stdout",
     "output_type": "stream",
     "text": [
      "{'descripcion': 'exito', 'estado': 200, 'datos': 'https://opendata.aemet.es/opendata/sh/ce82dd04', 'metadatos': 'https://opendata.aemet.es/opendata/sh/b3aa9d28'}\n"
     ]
    }
   ],
   "source": [
    "url_sep22 = 'https://opendata.aemet.es/opendata/api/valores/climatologicos/diarios/datos/fechaini/2022-09-01T00%3A00%3A00UTC/fechafin/2022-09-30T00%3A00%3A00UTC/todasestaciones'\n",
    "api_file_path = '../api.txt'\n",
    "\n",
    "septiembre22 = solicitud_get(url_sep22, api_file_path)\n",
    "print(septiembre22)"
   ]
  },
  {
   "cell_type": "code",
   "execution_count": 395,
   "id": "931f0e27",
   "metadata": {},
   "outputs": [],
   "source": [
    "url_datos_sep22= 'https://opendata.aemet.es/opendata/sh/ce82dd04'\n",
    "septiembre_22= procesar_datos_mes(url_datos_sep22, columnas_interes)"
   ]
  },
  {
   "cell_type": "code",
   "execution_count": 396,
   "id": "92edc913",
   "metadata": {},
   "outputs": [
    {
     "data": {
      "text/html": [
       "<div>\n",
       "<style scoped>\n",
       "    .dataframe tbody tr th:only-of-type {\n",
       "        vertical-align: middle;\n",
       "    }\n",
       "\n",
       "    .dataframe tbody tr th {\n",
       "        vertical-align: top;\n",
       "    }\n",
       "\n",
       "    .dataframe thead th {\n",
       "        text-align: right;\n",
       "    }\n",
       "</style>\n",
       "<table border=\"1\" class=\"dataframe\">\n",
       "  <thead>\n",
       "    <tr style=\"text-align: right;\">\n",
       "      <th></th>\n",
       "      <th>provincia</th>\n",
       "      <th>media_tmed</th>\n",
       "      <th>media_prec</th>\n",
       "      <th>media_sol</th>\n",
       "      <th>media_tmin</th>\n",
       "      <th>media_tmax</th>\n",
       "      <th>año</th>\n",
       "      <th>mes</th>\n",
       "    </tr>\n",
       "  </thead>\n",
       "  <tbody>\n",
       "    <tr>\n",
       "      <th>0</th>\n",
       "      <td>A CORUÑA</td>\n",
       "      <td>18.676695</td>\n",
       "      <td>3.230568</td>\n",
       "      <td>6.824648</td>\n",
       "      <td>14.812288</td>\n",
       "      <td>22.547458</td>\n",
       "      <td>2022</td>\n",
       "      <td>septiembre</td>\n",
       "    </tr>\n",
       "    <tr>\n",
       "      <th>1</th>\n",
       "      <td>ALBACETE</td>\n",
       "      <td>21.633333</td>\n",
       "      <td>0.981667</td>\n",
       "      <td>8.618182</td>\n",
       "      <td>15.055833</td>\n",
       "      <td>28.206667</td>\n",
       "      <td>2022</td>\n",
       "      <td>septiembre</td>\n",
       "    </tr>\n",
       "    <tr>\n",
       "      <th>2</th>\n",
       "      <td>ALICANTE</td>\n",
       "      <td>24.683333</td>\n",
       "      <td>2.377119</td>\n",
       "      <td>8.538889</td>\n",
       "      <td>18.810833</td>\n",
       "      <td>30.550000</td>\n",
       "      <td>2022</td>\n",
       "      <td>septiembre</td>\n",
       "    </tr>\n",
       "    <tr>\n",
       "      <th>3</th>\n",
       "      <td>ALMERIA</td>\n",
       "      <td>23.904225</td>\n",
       "      <td>0.090345</td>\n",
       "      <td>6.974419</td>\n",
       "      <td>19.039437</td>\n",
       "      <td>28.771127</td>\n",
       "      <td>2022</td>\n",
       "      <td>septiembre</td>\n",
       "    </tr>\n",
       "    <tr>\n",
       "      <th>4</th>\n",
       "      <td>ARABA/ALAVA</td>\n",
       "      <td>17.236667</td>\n",
       "      <td>0.650909</td>\n",
       "      <td>6.813333</td>\n",
       "      <td>9.420000</td>\n",
       "      <td>25.053333</td>\n",
       "      <td>2022</td>\n",
       "      <td>septiembre</td>\n",
       "    </tr>\n",
       "  </tbody>\n",
       "</table>\n",
       "</div>"
      ],
      "text/plain": [
       "     provincia  media_tmed  media_prec  media_sol  media_tmin  media_tmax  \\\n",
       "0     A CORUÑA   18.676695    3.230568   6.824648   14.812288   22.547458   \n",
       "1     ALBACETE   21.633333    0.981667   8.618182   15.055833   28.206667   \n",
       "2     ALICANTE   24.683333    2.377119   8.538889   18.810833   30.550000   \n",
       "3      ALMERIA   23.904225    0.090345   6.974419   19.039437   28.771127   \n",
       "4  ARABA/ALAVA   17.236667    0.650909   6.813333    9.420000   25.053333   \n",
       "\n",
       "    año         mes  \n",
       "0  2022  septiembre  \n",
       "1  2022  septiembre  \n",
       "2  2022  septiembre  \n",
       "3  2022  septiembre  \n",
       "4  2022  septiembre  "
      ]
     },
     "execution_count": 396,
     "metadata": {},
     "output_type": "execute_result"
    }
   ],
   "source": [
    "septiembre_22 = procesar_y_setear_mes(septiembre_22, año=2022, mes='septiembre')\n",
    "septiembre_22.head()"
   ]
  },
  {
   "cell_type": "markdown",
   "id": "98789725",
   "metadata": {},
   "source": [
    "## OCTUBRE22"
   ]
  },
  {
   "cell_type": "code",
   "execution_count": 397,
   "id": "fb0c034f",
   "metadata": {},
   "outputs": [
    {
     "name": "stdout",
     "output_type": "stream",
     "text": [
      "{'descripcion': 'exito', 'estado': 200, 'datos': 'https://opendata.aemet.es/opendata/sh/10e075b0', 'metadatos': 'https://opendata.aemet.es/opendata/sh/b3aa9d28'}\n"
     ]
    }
   ],
   "source": [
    "url_oct22 = 'https://opendata.aemet.es/opendata/api/valores/climatologicos/diarios/datos/fechaini/2022-10-01T00%3A00%3A00UTC/fechafin/2022-10-31T00%3A00%3A00UTC/todasestaciones'\n",
    "api_file_path = '../api.txt'\n",
    "\n",
    "octubre22 = solicitud_get(url_oct22, api_file_path)\n",
    "print(octubre22) "
   ]
  },
  {
   "cell_type": "code",
   "execution_count": 398,
   "id": "46e3319f",
   "metadata": {},
   "outputs": [],
   "source": [
    "url_datos_oct22= 'https://opendata.aemet.es/opendata/sh/10e075b0'\n",
    "octubre_22 = procesar_datos_mes(url_datos_oct22, columnas_interes)"
   ]
  },
  {
   "cell_type": "code",
   "execution_count": 399,
   "id": "b55393b7",
   "metadata": {},
   "outputs": [
    {
     "data": {
      "text/html": [
       "<div>\n",
       "<style scoped>\n",
       "    .dataframe tbody tr th:only-of-type {\n",
       "        vertical-align: middle;\n",
       "    }\n",
       "\n",
       "    .dataframe tbody tr th {\n",
       "        vertical-align: top;\n",
       "    }\n",
       "\n",
       "    .dataframe thead th {\n",
       "        text-align: right;\n",
       "    }\n",
       "</style>\n",
       "<table border=\"1\" class=\"dataframe\">\n",
       "  <thead>\n",
       "    <tr style=\"text-align: right;\">\n",
       "      <th></th>\n",
       "      <th>provincia</th>\n",
       "      <th>media_tmed</th>\n",
       "      <th>media_prec</th>\n",
       "      <th>media_sol</th>\n",
       "      <th>media_tmin</th>\n",
       "      <th>media_tmax</th>\n",
       "      <th>año</th>\n",
       "      <th>mes</th>\n",
       "    </tr>\n",
       "  </thead>\n",
       "  <tbody>\n",
       "    <tr>\n",
       "      <th>0</th>\n",
       "      <td>A CORUÑA</td>\n",
       "      <td>17.074797</td>\n",
       "      <td>7.699574</td>\n",
       "      <td>4.360390</td>\n",
       "      <td>13.951220</td>\n",
       "      <td>20.199187</td>\n",
       "      <td>2022</td>\n",
       "      <td>octubre</td>\n",
       "    </tr>\n",
       "    <tr>\n",
       "      <th>1</th>\n",
       "      <td>ALBACETE</td>\n",
       "      <td>18.606504</td>\n",
       "      <td>0.519672</td>\n",
       "      <td>5.747170</td>\n",
       "      <td>12.440650</td>\n",
       "      <td>24.782927</td>\n",
       "      <td>2022</td>\n",
       "      <td>octubre</td>\n",
       "    </tr>\n",
       "    <tr>\n",
       "      <th>2</th>\n",
       "      <td>ALICANTE</td>\n",
       "      <td>20.960870</td>\n",
       "      <td>0.838983</td>\n",
       "      <td>7.208046</td>\n",
       "      <td>15.174783</td>\n",
       "      <td>26.753913</td>\n",
       "      <td>2022</td>\n",
       "      <td>octubre</td>\n",
       "    </tr>\n",
       "    <tr>\n",
       "      <th>3</th>\n",
       "      <td>ALMERIA</td>\n",
       "      <td>21.492523</td>\n",
       "      <td>0.054630</td>\n",
       "      <td>7.119355</td>\n",
       "      <td>16.188785</td>\n",
       "      <td>26.795327</td>\n",
       "      <td>2022</td>\n",
       "      <td>octubre</td>\n",
       "    </tr>\n",
       "    <tr>\n",
       "      <th>4</th>\n",
       "      <td>ARABA/ALAVA</td>\n",
       "      <td>17.472581</td>\n",
       "      <td>1.156000</td>\n",
       "      <td>5.466129</td>\n",
       "      <td>10.345161</td>\n",
       "      <td>24.595161</td>\n",
       "      <td>2022</td>\n",
       "      <td>octubre</td>\n",
       "    </tr>\n",
       "  </tbody>\n",
       "</table>\n",
       "</div>"
      ],
      "text/plain": [
       "     provincia  media_tmed  media_prec  media_sol  media_tmin  media_tmax  \\\n",
       "0     A CORUÑA   17.074797    7.699574   4.360390   13.951220   20.199187   \n",
       "1     ALBACETE   18.606504    0.519672   5.747170   12.440650   24.782927   \n",
       "2     ALICANTE   20.960870    0.838983   7.208046   15.174783   26.753913   \n",
       "3      ALMERIA   21.492523    0.054630   7.119355   16.188785   26.795327   \n",
       "4  ARABA/ALAVA   17.472581    1.156000   5.466129   10.345161   24.595161   \n",
       "\n",
       "    año      mes  \n",
       "0  2022  octubre  \n",
       "1  2022  octubre  \n",
       "2  2022  octubre  \n",
       "3  2022  octubre  \n",
       "4  2022  octubre  "
      ]
     },
     "execution_count": 399,
     "metadata": {},
     "output_type": "execute_result"
    }
   ],
   "source": [
    "octubre_22 = procesar_y_setear_mes(octubre_22, año=2022, mes='octubre')\n",
    "octubre_22.head()"
   ]
  },
  {
   "cell_type": "markdown",
   "id": "82ab125c",
   "metadata": {},
   "source": [
    "## NOVIEMBRE22"
   ]
  },
  {
   "cell_type": "code",
   "execution_count": 400,
   "id": "6d84877d",
   "metadata": {},
   "outputs": [
    {
     "name": "stdout",
     "output_type": "stream",
     "text": [
      "{'descripcion': 'exito', 'estado': 200, 'datos': 'https://opendata.aemet.es/opendata/sh/1aaa0a38', 'metadatos': 'https://opendata.aemet.es/opendata/sh/b3aa9d28'}\n"
     ]
    }
   ],
   "source": [
    "url_nov22 = 'https://opendata.aemet.es/opendata/api/valores/climatologicos/diarios/datos/fechaini/2022-11-01T00%3A00%3A00UTC/fechafin/2022-11-30T00%3A00%3A00UTC/todasestaciones'\n",
    "api_file_path = '../api.txt'\n",
    "\n",
    "noviembre22 = solicitud_get(url_nov22, api_file_path)\n",
    "print(noviembre22) "
   ]
  },
  {
   "cell_type": "code",
   "execution_count": 401,
   "id": "82d829bc",
   "metadata": {},
   "outputs": [],
   "source": [
    "url_datos_nov22= 'https://opendata.aemet.es/opendata/sh/1aaa0a38'\n",
    "noviembre_22= procesar_datos_mes(url_datos_nov22, columnas_interes)"
   ]
  },
  {
   "cell_type": "code",
   "execution_count": 402,
   "id": "7d100db8",
   "metadata": {},
   "outputs": [
    {
     "data": {
      "text/html": [
       "<div>\n",
       "<style scoped>\n",
       "    .dataframe tbody tr th:only-of-type {\n",
       "        vertical-align: middle;\n",
       "    }\n",
       "\n",
       "    .dataframe tbody tr th {\n",
       "        vertical-align: top;\n",
       "    }\n",
       "\n",
       "    .dataframe thead th {\n",
       "        text-align: right;\n",
       "    }\n",
       "</style>\n",
       "<table border=\"1\" class=\"dataframe\">\n",
       "  <thead>\n",
       "    <tr style=\"text-align: right;\">\n",
       "      <th></th>\n",
       "      <th>provincia</th>\n",
       "      <th>media_tmed</th>\n",
       "      <th>media_prec</th>\n",
       "      <th>media_sol</th>\n",
       "      <th>media_tmin</th>\n",
       "      <th>media_tmax</th>\n",
       "      <th>año</th>\n",
       "      <th>mes</th>\n",
       "    </tr>\n",
       "  </thead>\n",
       "  <tbody>\n",
       "    <tr>\n",
       "      <th>0</th>\n",
       "      <td>A CORUÑA</td>\n",
       "      <td>13.310417</td>\n",
       "      <td>6.299571</td>\n",
       "      <td>3.182000</td>\n",
       "      <td>10.267083</td>\n",
       "      <td>16.355417</td>\n",
       "      <td>2022</td>\n",
       "      <td>noviembre</td>\n",
       "    </tr>\n",
       "    <tr>\n",
       "      <th>1</th>\n",
       "      <td>ALBACETE</td>\n",
       "      <td>12.128814</td>\n",
       "      <td>0.794737</td>\n",
       "      <td>5.203704</td>\n",
       "      <td>6.997458</td>\n",
       "      <td>17.261017</td>\n",
       "      <td>2022</td>\n",
       "      <td>noviembre</td>\n",
       "    </tr>\n",
       "    <tr>\n",
       "      <th>2</th>\n",
       "      <td>ALICANTE</td>\n",
       "      <td>16.556410</td>\n",
       "      <td>1.467227</td>\n",
       "      <td>6.667816</td>\n",
       "      <td>11.092308</td>\n",
       "      <td>22.012821</td>\n",
       "      <td>2022</td>\n",
       "      <td>noviembre</td>\n",
       "    </tr>\n",
       "    <tr>\n",
       "      <th>3</th>\n",
       "      <td>ALMERIA</td>\n",
       "      <td>16.593277</td>\n",
       "      <td>0.167164</td>\n",
       "      <td>6.873333</td>\n",
       "      <td>11.676471</td>\n",
       "      <td>21.517647</td>\n",
       "      <td>2022</td>\n",
       "      <td>noviembre</td>\n",
       "    </tr>\n",
       "    <tr>\n",
       "      <th>4</th>\n",
       "      <td>ARABA/ALAVA</td>\n",
       "      <td>9.786667</td>\n",
       "      <td>2.984000</td>\n",
       "      <td>3.458333</td>\n",
       "      <td>4.308333</td>\n",
       "      <td>15.261667</td>\n",
       "      <td>2022</td>\n",
       "      <td>noviembre</td>\n",
       "    </tr>\n",
       "  </tbody>\n",
       "</table>\n",
       "</div>"
      ],
      "text/plain": [
       "     provincia  media_tmed  media_prec  media_sol  media_tmin  media_tmax  \\\n",
       "0     A CORUÑA   13.310417    6.299571   3.182000   10.267083   16.355417   \n",
       "1     ALBACETE   12.128814    0.794737   5.203704    6.997458   17.261017   \n",
       "2     ALICANTE   16.556410    1.467227   6.667816   11.092308   22.012821   \n",
       "3      ALMERIA   16.593277    0.167164   6.873333   11.676471   21.517647   \n",
       "4  ARABA/ALAVA    9.786667    2.984000   3.458333    4.308333   15.261667   \n",
       "\n",
       "    año        mes  \n",
       "0  2022  noviembre  \n",
       "1  2022  noviembre  \n",
       "2  2022  noviembre  \n",
       "3  2022  noviembre  \n",
       "4  2022  noviembre  "
      ]
     },
     "execution_count": 402,
     "metadata": {},
     "output_type": "execute_result"
    }
   ],
   "source": [
    "noviembre_22 = procesar_y_setear_mes(noviembre_22, año=2022, mes='noviembre')\n",
    "noviembre_22.head()"
   ]
  },
  {
   "cell_type": "markdown",
   "id": "8d9c4854",
   "metadata": {},
   "source": [
    "## DICIEMBRE22"
   ]
  },
  {
   "cell_type": "code",
   "execution_count": 403,
   "id": "626c07cf",
   "metadata": {},
   "outputs": [
    {
     "name": "stdout",
     "output_type": "stream",
     "text": [
      "{'descripcion': 'exito', 'estado': 200, 'datos': 'https://opendata.aemet.es/opendata/sh/1dbadfee', 'metadatos': 'https://opendata.aemet.es/opendata/sh/b3aa9d28'}\n"
     ]
    }
   ],
   "source": [
    "url_dic22= 'https://opendata.aemet.es/opendata/api/valores/climatologicos/diarios/datos/fechaini/2022-12-01T00%3A00%3A00UTC/fechafin/2022-12-31T00%3A00%3A00UTC/todasestaciones'\n",
    "api_file_path = '../api.txt'\n",
    "\n",
    "diciembre22 = solicitud_get(url_dic22, api_file_path)\n",
    "print(diciembre22) "
   ]
  },
  {
   "cell_type": "code",
   "execution_count": 404,
   "id": "f3ae677c",
   "metadata": {},
   "outputs": [],
   "source": [
    "url_datos_dic22= 'https://opendata.aemet.es/opendata/sh/1dbadfee'\n",
    "diciembre_22= procesar_datos_mes(url_datos_dic22, columnas_interes)"
   ]
  },
  {
   "cell_type": "code",
   "execution_count": 405,
   "id": "5ff739cf",
   "metadata": {},
   "outputs": [
    {
     "data": {
      "text/html": [
       "<div>\n",
       "<style scoped>\n",
       "    .dataframe tbody tr th:only-of-type {\n",
       "        vertical-align: middle;\n",
       "    }\n",
       "\n",
       "    .dataframe tbody tr th {\n",
       "        vertical-align: top;\n",
       "    }\n",
       "\n",
       "    .dataframe thead th {\n",
       "        text-align: right;\n",
       "    }\n",
       "</style>\n",
       "<table border=\"1\" class=\"dataframe\">\n",
       "  <thead>\n",
       "    <tr style=\"text-align: right;\">\n",
       "      <th></th>\n",
       "      <th>provincia</th>\n",
       "      <th>media_tmed</th>\n",
       "      <th>media_prec</th>\n",
       "      <th>media_sol</th>\n",
       "      <th>media_tmin</th>\n",
       "      <th>media_tmax</th>\n",
       "      <th>año</th>\n",
       "      <th>mes</th>\n",
       "    </tr>\n",
       "  </thead>\n",
       "  <tbody>\n",
       "    <tr>\n",
       "      <th>0</th>\n",
       "      <td>A CORUÑA</td>\n",
       "      <td>11.919421</td>\n",
       "      <td>10.436797</td>\n",
       "      <td>2.552903</td>\n",
       "      <td>9.270661</td>\n",
       "      <td>14.563636</td>\n",
       "      <td>2022</td>\n",
       "      <td>diciembre</td>\n",
       "    </tr>\n",
       "    <tr>\n",
       "      <th>1</th>\n",
       "      <td>ALBACETE</td>\n",
       "      <td>10.366393</td>\n",
       "      <td>2.361017</td>\n",
       "      <td>3.254545</td>\n",
       "      <td>5.925410</td>\n",
       "      <td>14.795902</td>\n",
       "      <td>2022</td>\n",
       "      <td>diciembre</td>\n",
       "    </tr>\n",
       "    <tr>\n",
       "      <th>2</th>\n",
       "      <td>ALICANTE</td>\n",
       "      <td>13.939516</td>\n",
       "      <td>0.532000</td>\n",
       "      <td>4.976344</td>\n",
       "      <td>8.792742</td>\n",
       "      <td>19.090323</td>\n",
       "      <td>2022</td>\n",
       "      <td>diciembre</td>\n",
       "    </tr>\n",
       "    <tr>\n",
       "      <th>3</th>\n",
       "      <td>ALMERIA</td>\n",
       "      <td>14.474016</td>\n",
       "      <td>1.621739</td>\n",
       "      <td>5.477419</td>\n",
       "      <td>9.506299</td>\n",
       "      <td>19.447244</td>\n",
       "      <td>2022</td>\n",
       "      <td>diciembre</td>\n",
       "    </tr>\n",
       "    <tr>\n",
       "      <th>4</th>\n",
       "      <td>ARABA/ALAVA</td>\n",
       "      <td>8.711290</td>\n",
       "      <td>1.028070</td>\n",
       "      <td>2.946774</td>\n",
       "      <td>4.993548</td>\n",
       "      <td>12.425806</td>\n",
       "      <td>2022</td>\n",
       "      <td>diciembre</td>\n",
       "    </tr>\n",
       "  </tbody>\n",
       "</table>\n",
       "</div>"
      ],
      "text/plain": [
       "     provincia  media_tmed  media_prec  media_sol  media_tmin  media_tmax  \\\n",
       "0     A CORUÑA   11.919421   10.436797   2.552903    9.270661   14.563636   \n",
       "1     ALBACETE   10.366393    2.361017   3.254545    5.925410   14.795902   \n",
       "2     ALICANTE   13.939516    0.532000   4.976344    8.792742   19.090323   \n",
       "3      ALMERIA   14.474016    1.621739   5.477419    9.506299   19.447244   \n",
       "4  ARABA/ALAVA    8.711290    1.028070   2.946774    4.993548   12.425806   \n",
       "\n",
       "    año        mes  \n",
       "0  2022  diciembre  \n",
       "1  2022  diciembre  \n",
       "2  2022  diciembre  \n",
       "3  2022  diciembre  \n",
       "4  2022  diciembre  "
      ]
     },
     "execution_count": 405,
     "metadata": {},
     "output_type": "execute_result"
    }
   ],
   "source": [
    "diciembre_22 = procesar_y_setear_mes(diciembre_22, año=2022, mes='diciembre')\n",
    "diciembre_22.head()"
   ]
  },
  {
   "cell_type": "markdown",
   "id": "b441cc77",
   "metadata": {},
   "source": [
    "## ENERO21"
   ]
  },
  {
   "cell_type": "code",
   "execution_count": 406,
   "id": "8cc55d31",
   "metadata": {
    "scrolled": true
   },
   "outputs": [
    {
     "name": "stdout",
     "output_type": "stream",
     "text": [
      "{'descripcion': 'exito', 'estado': 200, 'datos': 'https://opendata.aemet.es/opendata/sh/986e8bf6', 'metadatos': 'https://opendata.aemet.es/opendata/sh/b3aa9d28'}\n"
     ]
    }
   ],
   "source": [
    "url_e21 = 'https://opendata.aemet.es/opendata/api/valores/climatologicos/diarios/datos/fechaini/2021-01-01T00%3A00%3A00UTC/fechafin/2021-01-31T00%3A00%3A00UTC/todasestaciones'\n",
    "api_file_path = '../api.txt'\n",
    "\n",
    "enero21 = solicitud_get(url_e21, api_file_path)\n",
    "print(enero21)"
   ]
  },
  {
   "cell_type": "code",
   "execution_count": 407,
   "id": "e5f64923",
   "metadata": {},
   "outputs": [],
   "source": [
    "columnas_interes = ['fecha', 'provincia', 'tmed', 'prec', 'sol', 'tmin', 'tmax']\n",
    "url_datos_enero21=  'https://opendata.aemet.es/opendata/sh/986e8bf6'\n",
    "enero_21= procesar_datos_mes(url_datos_enero21, columnas_interes)"
   ]
  },
  {
   "cell_type": "code",
   "execution_count": 408,
   "id": "606a801d",
   "metadata": {},
   "outputs": [
    {
     "data": {
      "text/html": [
       "<div>\n",
       "<style scoped>\n",
       "    .dataframe tbody tr th:only-of-type {\n",
       "        vertical-align: middle;\n",
       "    }\n",
       "\n",
       "    .dataframe tbody tr th {\n",
       "        vertical-align: top;\n",
       "    }\n",
       "\n",
       "    .dataframe thead th {\n",
       "        text-align: right;\n",
       "    }\n",
       "</style>\n",
       "<table border=\"1\" class=\"dataframe\">\n",
       "  <thead>\n",
       "    <tr style=\"text-align: right;\">\n",
       "      <th></th>\n",
       "      <th>provincia</th>\n",
       "      <th>media_tmed</th>\n",
       "      <th>media_prec</th>\n",
       "      <th>media_sol</th>\n",
       "      <th>media_tmin</th>\n",
       "      <th>media_tmax</th>\n",
       "      <th>año</th>\n",
       "      <th>mes</th>\n",
       "    </tr>\n",
       "  </thead>\n",
       "  <tbody>\n",
       "    <tr>\n",
       "      <th>0</th>\n",
       "      <td>A CORUÑA</td>\n",
       "      <td>8.940244</td>\n",
       "      <td>5.844215</td>\n",
       "      <td>3.199329</td>\n",
       "      <td>6.200000</td>\n",
       "      <td>11.676016</td>\n",
       "      <td>2021</td>\n",
       "      <td>enero</td>\n",
       "    </tr>\n",
       "    <tr>\n",
       "      <th>1</th>\n",
       "      <td>ALBACETE</td>\n",
       "      <td>4.436290</td>\n",
       "      <td>1.712281</td>\n",
       "      <td>4.996296</td>\n",
       "      <td>0.243548</td>\n",
       "      <td>8.635484</td>\n",
       "      <td>2021</td>\n",
       "      <td>enero</td>\n",
       "    </tr>\n",
       "    <tr>\n",
       "      <th>2</th>\n",
       "      <td>ALICANTE</td>\n",
       "      <td>10.770968</td>\n",
       "      <td>2.059836</td>\n",
       "      <td>6.378495</td>\n",
       "      <td>5.426613</td>\n",
       "      <td>16.119355</td>\n",
       "      <td>2021</td>\n",
       "      <td>enero</td>\n",
       "    </tr>\n",
       "    <tr>\n",
       "      <th>3</th>\n",
       "      <td>ALMERIA</td>\n",
       "      <td>11.317143</td>\n",
       "      <td>1.746667</td>\n",
       "      <td>6.545161</td>\n",
       "      <td>6.750714</td>\n",
       "      <td>15.882143</td>\n",
       "      <td>2021</td>\n",
       "      <td>enero</td>\n",
       "    </tr>\n",
       "    <tr>\n",
       "      <th>4</th>\n",
       "      <td>ARABA/ALAVA</td>\n",
       "      <td>4.748387</td>\n",
       "      <td>2.807843</td>\n",
       "      <td>2.667742</td>\n",
       "      <td>0.995161</td>\n",
       "      <td>8.511290</td>\n",
       "      <td>2021</td>\n",
       "      <td>enero</td>\n",
       "    </tr>\n",
       "  </tbody>\n",
       "</table>\n",
       "</div>"
      ],
      "text/plain": [
       "     provincia  media_tmed  media_prec  media_sol  media_tmin  media_tmax  \\\n",
       "0     A CORUÑA    8.940244    5.844215   3.199329    6.200000   11.676016   \n",
       "1     ALBACETE    4.436290    1.712281   4.996296    0.243548    8.635484   \n",
       "2     ALICANTE   10.770968    2.059836   6.378495    5.426613   16.119355   \n",
       "3      ALMERIA   11.317143    1.746667   6.545161    6.750714   15.882143   \n",
       "4  ARABA/ALAVA    4.748387    2.807843   2.667742    0.995161    8.511290   \n",
       "\n",
       "    año    mes  \n",
       "0  2021  enero  \n",
       "1  2021  enero  \n",
       "2  2021  enero  \n",
       "3  2021  enero  \n",
       "4  2021  enero  "
      ]
     },
     "execution_count": 408,
     "metadata": {},
     "output_type": "execute_result"
    }
   ],
   "source": [
    "enero_21 = procesar_y_setear_mes(enero_21, año=2021, mes='enero')\n",
    "enero_21.head()"
   ]
  },
  {
   "cell_type": "markdown",
   "id": "57fb5917",
   "metadata": {},
   "source": [
    "## FEBRERO21"
   ]
  },
  {
   "cell_type": "code",
   "execution_count": 409,
   "id": "4750c80a",
   "metadata": {},
   "outputs": [
    {
     "name": "stdout",
     "output_type": "stream",
     "text": [
      "{'descripcion': 'exito', 'estado': 200, 'datos': 'https://opendata.aemet.es/opendata/sh/b98e6079', 'metadatos': 'https://opendata.aemet.es/opendata/sh/b3aa9d28'}\n"
     ]
    }
   ],
   "source": [
    "url_f21 = 'https://opendata.aemet.es/opendata/api/valores/climatologicos/diarios/datos/fechaini/2021-02-01T00%3A00%3A00UTC/fechafin/2021-02-28T00%3A00%3A00UTC/todasestaciones'\n",
    "api_file_path = '../api.txt'\n",
    "febrero21 = solicitud_get(url_f21, api_file_path)\n",
    "print(febrero21)"
   ]
  },
  {
   "cell_type": "code",
   "execution_count": 410,
   "id": "6a764b32",
   "metadata": {},
   "outputs": [],
   "source": [
    "url_datos_febrero21=  'https://opendata.aemet.es/opendata/sh/b98e6079'\n",
    "febrero_21= procesar_datos_mes(url_datos_febrero21, columnas_interes)"
   ]
  },
  {
   "cell_type": "code",
   "execution_count": 411,
   "id": "5eb71e0d",
   "metadata": {},
   "outputs": [
    {
     "data": {
      "text/html": [
       "<div>\n",
       "<style scoped>\n",
       "    .dataframe tbody tr th:only-of-type {\n",
       "        vertical-align: middle;\n",
       "    }\n",
       "\n",
       "    .dataframe tbody tr th {\n",
       "        vertical-align: top;\n",
       "    }\n",
       "\n",
       "    .dataframe thead th {\n",
       "        text-align: right;\n",
       "    }\n",
       "</style>\n",
       "<table border=\"1\" class=\"dataframe\">\n",
       "  <thead>\n",
       "    <tr style=\"text-align: right;\">\n",
       "      <th></th>\n",
       "      <th>provincia</th>\n",
       "      <th>media_tmed</th>\n",
       "      <th>media_prec</th>\n",
       "      <th>media_sol</th>\n",
       "      <th>media_tmin</th>\n",
       "      <th>media_tmax</th>\n",
       "      <th>año</th>\n",
       "      <th>mes</th>\n",
       "    </tr>\n",
       "  </thead>\n",
       "  <tbody>\n",
       "    <tr>\n",
       "      <th>0</th>\n",
       "      <td>A CORUÑA</td>\n",
       "      <td>11.546818</td>\n",
       "      <td>8.797209</td>\n",
       "      <td>3.903731</td>\n",
       "      <td>8.729545</td>\n",
       "      <td>14.364545</td>\n",
       "      <td>2021</td>\n",
       "      <td>febrero</td>\n",
       "    </tr>\n",
       "    <tr>\n",
       "      <th>1</th>\n",
       "      <td>ALBACETE</td>\n",
       "      <td>9.745536</td>\n",
       "      <td>0.422523</td>\n",
       "      <td>5.934615</td>\n",
       "      <td>4.592857</td>\n",
       "      <td>14.897321</td>\n",
       "      <td>2021</td>\n",
       "      <td>febrero</td>\n",
       "    </tr>\n",
       "    <tr>\n",
       "      <th>2</th>\n",
       "      <td>ALICANTE</td>\n",
       "      <td>13.300909</td>\n",
       "      <td>0.095413</td>\n",
       "      <td>6.919048</td>\n",
       "      <td>7.901818</td>\n",
       "      <td>18.702727</td>\n",
       "      <td>2021</td>\n",
       "      <td>febrero</td>\n",
       "    </tr>\n",
       "    <tr>\n",
       "      <th>3</th>\n",
       "      <td>ALMERIA</td>\n",
       "      <td>14.025564</td>\n",
       "      <td>0.146392</td>\n",
       "      <td>4.172549</td>\n",
       "      <td>9.425564</td>\n",
       "      <td>18.627068</td>\n",
       "      <td>2021</td>\n",
       "      <td>febrero</td>\n",
       "    </tr>\n",
       "    <tr>\n",
       "      <th>4</th>\n",
       "      <td>ARABA/ALAVA</td>\n",
       "      <td>9.103571</td>\n",
       "      <td>1.692453</td>\n",
       "      <td>3.917857</td>\n",
       "      <td>4.367857</td>\n",
       "      <td>13.832143</td>\n",
       "      <td>2021</td>\n",
       "      <td>febrero</td>\n",
       "    </tr>\n",
       "  </tbody>\n",
       "</table>\n",
       "</div>"
      ],
      "text/plain": [
       "     provincia  media_tmed  media_prec  media_sol  media_tmin  media_tmax  \\\n",
       "0     A CORUÑA   11.546818    8.797209   3.903731    8.729545   14.364545   \n",
       "1     ALBACETE    9.745536    0.422523   5.934615    4.592857   14.897321   \n",
       "2     ALICANTE   13.300909    0.095413   6.919048    7.901818   18.702727   \n",
       "3      ALMERIA   14.025564    0.146392   4.172549    9.425564   18.627068   \n",
       "4  ARABA/ALAVA    9.103571    1.692453   3.917857    4.367857   13.832143   \n",
       "\n",
       "    año      mes  \n",
       "0  2021  febrero  \n",
       "1  2021  febrero  \n",
       "2  2021  febrero  \n",
       "3  2021  febrero  \n",
       "4  2021  febrero  "
      ]
     },
     "execution_count": 411,
     "metadata": {},
     "output_type": "execute_result"
    }
   ],
   "source": [
    "febrero_21 = procesar_y_setear_mes(febrero_21, año=2021, mes='febrero')\n",
    "febrero_21.head()"
   ]
  },
  {
   "cell_type": "markdown",
   "id": "019412cb",
   "metadata": {},
   "source": [
    "## MARZO21"
   ]
  },
  {
   "cell_type": "code",
   "execution_count": 412,
   "id": "a96b1843",
   "metadata": {},
   "outputs": [
    {
     "name": "stdout",
     "output_type": "stream",
     "text": [
      "{'descripcion': 'exito', 'estado': 200, 'datos': 'https://opendata.aemet.es/opendata/sh/0cddc92b', 'metadatos': 'https://opendata.aemet.es/opendata/sh/b3aa9d28'}\n"
     ]
    }
   ],
   "source": [
    "url_mzo21= 'https://opendata.aemet.es/opendata/api/valores/climatologicos/diarios/datos/fechaini/2021-03-01T00%3A00%3A00UTC/fechafin/2021-03-31T00%3A00%3A00UTC/todasestaciones'\n",
    "api_file_path = '../api.txt'\n",
    "mzo21 = solicitud_get(url_mzo21, api_file_path)\n",
    "print(mzo21)"
   ]
  },
  {
   "cell_type": "code",
   "execution_count": 413,
   "id": "42d2b353",
   "metadata": {},
   "outputs": [],
   "source": [
    "url_datos_mzo21=  'https://opendata.aemet.es/opendata/sh/0cddc92b'\n",
    "marzo_21= procesar_datos_mes(url_datos_mzo21, columnas_interes)"
   ]
  },
  {
   "cell_type": "code",
   "execution_count": 414,
   "id": "ca9b74ad",
   "metadata": {},
   "outputs": [
    {
     "data": {
      "text/html": [
       "<div>\n",
       "<style scoped>\n",
       "    .dataframe tbody tr th:only-of-type {\n",
       "        vertical-align: middle;\n",
       "    }\n",
       "\n",
       "    .dataframe tbody tr th {\n",
       "        vertical-align: top;\n",
       "    }\n",
       "\n",
       "    .dataframe thead th {\n",
       "        text-align: right;\n",
       "    }\n",
       "</style>\n",
       "<table border=\"1\" class=\"dataframe\">\n",
       "  <thead>\n",
       "    <tr style=\"text-align: right;\">\n",
       "      <th></th>\n",
       "      <th>provincia</th>\n",
       "      <th>media_tmed</th>\n",
       "      <th>media_prec</th>\n",
       "      <th>media_sol</th>\n",
       "      <th>media_tmin</th>\n",
       "      <th>media_tmax</th>\n",
       "      <th>año</th>\n",
       "      <th>mes</th>\n",
       "    </tr>\n",
       "  </thead>\n",
       "  <tbody>\n",
       "    <tr>\n",
       "      <th>0</th>\n",
       "      <td>A CORUÑA</td>\n",
       "      <td>11.585830</td>\n",
       "      <td>0.652941</td>\n",
       "      <td>6.928571</td>\n",
       "      <td>7.182996</td>\n",
       "      <td>15.988664</td>\n",
       "      <td>2021</td>\n",
       "      <td>marzo</td>\n",
       "    </tr>\n",
       "    <tr>\n",
       "      <th>1</th>\n",
       "      <td>ALBACETE</td>\n",
       "      <td>9.632258</td>\n",
       "      <td>0.754472</td>\n",
       "      <td>7.020690</td>\n",
       "      <td>3.666129</td>\n",
       "      <td>15.600806</td>\n",
       "      <td>2021</td>\n",
       "      <td>marzo</td>\n",
       "    </tr>\n",
       "    <tr>\n",
       "      <th>2</th>\n",
       "      <td>ALICANTE</td>\n",
       "      <td>12.774000</td>\n",
       "      <td>2.648980</td>\n",
       "      <td>7.262319</td>\n",
       "      <td>7.559000</td>\n",
       "      <td>17.980000</td>\n",
       "      <td>2021</td>\n",
       "      <td>marzo</td>\n",
       "    </tr>\n",
       "    <tr>\n",
       "      <th>3</th>\n",
       "      <td>ALMERIA</td>\n",
       "      <td>14.368182</td>\n",
       "      <td>1.101613</td>\n",
       "      <td>3.508065</td>\n",
       "      <td>9.658333</td>\n",
       "      <td>19.070455</td>\n",
       "      <td>2021</td>\n",
       "      <td>marzo</td>\n",
       "    </tr>\n",
       "    <tr>\n",
       "      <th>4</th>\n",
       "      <td>ARABA/ALAVA</td>\n",
       "      <td>8.358065</td>\n",
       "      <td>1.026316</td>\n",
       "      <td>5.341935</td>\n",
       "      <td>2.670968</td>\n",
       "      <td>14.032258</td>\n",
       "      <td>2021</td>\n",
       "      <td>marzo</td>\n",
       "    </tr>\n",
       "  </tbody>\n",
       "</table>\n",
       "</div>"
      ],
      "text/plain": [
       "     provincia  media_tmed  media_prec  media_sol  media_tmin  media_tmax  \\\n",
       "0     A CORUÑA   11.585830    0.652941   6.928571    7.182996   15.988664   \n",
       "1     ALBACETE    9.632258    0.754472   7.020690    3.666129   15.600806   \n",
       "2     ALICANTE   12.774000    2.648980   7.262319    7.559000   17.980000   \n",
       "3      ALMERIA   14.368182    1.101613   3.508065    9.658333   19.070455   \n",
       "4  ARABA/ALAVA    8.358065    1.026316   5.341935    2.670968   14.032258   \n",
       "\n",
       "    año    mes  \n",
       "0  2021  marzo  \n",
       "1  2021  marzo  \n",
       "2  2021  marzo  \n",
       "3  2021  marzo  \n",
       "4  2021  marzo  "
      ]
     },
     "execution_count": 414,
     "metadata": {},
     "output_type": "execute_result"
    }
   ],
   "source": [
    "marzo_21 = procesar_y_setear_mes(marzo_21, año=2021, mes='marzo')\n",
    "marzo_21.head()"
   ]
  },
  {
   "cell_type": "markdown",
   "id": "7659fabf",
   "metadata": {},
   "source": [
    "## ABRIL21"
   ]
  },
  {
   "cell_type": "code",
   "execution_count": 415,
   "id": "82e8cae4",
   "metadata": {},
   "outputs": [
    {
     "name": "stdout",
     "output_type": "stream",
     "text": [
      "{'descripcion': 'exito', 'estado': 200, 'datos': 'https://opendata.aemet.es/opendata/sh/5c9e1db9', 'metadatos': 'https://opendata.aemet.es/opendata/sh/b3aa9d28'}\n"
     ]
    }
   ],
   "source": [
    "url_abr21 = 'https://opendata.aemet.es/opendata/api/valores/climatologicos/diarios/datos/fechaini/2021-04-01T00%3A00%3A00UTC/fechafin/2021-04-30T00%3A00%3A00UTC/todasestaciones'\n",
    "api_file_path = '../api.txt'\n",
    "\n",
    "abril21 = solicitud_get(url_abr21, api_file_path)\n",
    "print(abril21)"
   ]
  },
  {
   "cell_type": "code",
   "execution_count": 416,
   "id": "f38c9a93",
   "metadata": {},
   "outputs": [],
   "source": [
    "url_datos_abr21=  'https://opendata.aemet.es/opendata/sh/5c9e1db9'\n",
    "abril_21= procesar_datos_mes(url_datos_abr21, columnas_interes)"
   ]
  },
  {
   "cell_type": "code",
   "execution_count": 417,
   "id": "8020e0ae",
   "metadata": {},
   "outputs": [
    {
     "data": {
      "text/html": [
       "<div>\n",
       "<style scoped>\n",
       "    .dataframe tbody tr th:only-of-type {\n",
       "        vertical-align: middle;\n",
       "    }\n",
       "\n",
       "    .dataframe tbody tr th {\n",
       "        vertical-align: top;\n",
       "    }\n",
       "\n",
       "    .dataframe thead th {\n",
       "        text-align: right;\n",
       "    }\n",
       "</style>\n",
       "<table border=\"1\" class=\"dataframe\">\n",
       "  <thead>\n",
       "    <tr style=\"text-align: right;\">\n",
       "      <th></th>\n",
       "      <th>provincia</th>\n",
       "      <th>media_tmed</th>\n",
       "      <th>media_prec</th>\n",
       "      <th>media_sol</th>\n",
       "      <th>media_tmin</th>\n",
       "      <th>media_tmax</th>\n",
       "      <th>año</th>\n",
       "      <th>mes</th>\n",
       "    </tr>\n",
       "  </thead>\n",
       "  <tbody>\n",
       "    <tr>\n",
       "      <th>0</th>\n",
       "      <td>A CORUÑA</td>\n",
       "      <td>13.098319</td>\n",
       "      <td>2.184279</td>\n",
       "      <td>6.977119</td>\n",
       "      <td>8.736555</td>\n",
       "      <td>17.453361</td>\n",
       "      <td>2021</td>\n",
       "      <td>abril</td>\n",
       "    </tr>\n",
       "    <tr>\n",
       "      <th>1</th>\n",
       "      <td>ALBACETE</td>\n",
       "      <td>12.074167</td>\n",
       "      <td>2.244828</td>\n",
       "      <td>6.937500</td>\n",
       "      <td>6.670833</td>\n",
       "      <td>17.480833</td>\n",
       "      <td>2021</td>\n",
       "      <td>abril</td>\n",
       "    </tr>\n",
       "    <tr>\n",
       "      <th>2</th>\n",
       "      <td>ALICANTE</td>\n",
       "      <td>15.032222</td>\n",
       "      <td>2.706098</td>\n",
       "      <td>7.073333</td>\n",
       "      <td>10.364444</td>\n",
       "      <td>19.688889</td>\n",
       "      <td>2021</td>\n",
       "      <td>abril</td>\n",
       "    </tr>\n",
       "    <tr>\n",
       "      <th>3</th>\n",
       "      <td>ALMERIA</td>\n",
       "      <td>16.279389</td>\n",
       "      <td>1.177119</td>\n",
       "      <td>5.756410</td>\n",
       "      <td>12.127481</td>\n",
       "      <td>20.426718</td>\n",
       "      <td>2021</td>\n",
       "      <td>abril</td>\n",
       "    </tr>\n",
       "    <tr>\n",
       "      <th>4</th>\n",
       "      <td>ARABA/ALAVA</td>\n",
       "      <td>9.511667</td>\n",
       "      <td>1.763158</td>\n",
       "      <td>5.676667</td>\n",
       "      <td>3.533333</td>\n",
       "      <td>15.498333</td>\n",
       "      <td>2021</td>\n",
       "      <td>abril</td>\n",
       "    </tr>\n",
       "  </tbody>\n",
       "</table>\n",
       "</div>"
      ],
      "text/plain": [
       "     provincia  media_tmed  media_prec  media_sol  media_tmin  media_tmax  \\\n",
       "0     A CORUÑA   13.098319    2.184279   6.977119    8.736555   17.453361   \n",
       "1     ALBACETE   12.074167    2.244828   6.937500    6.670833   17.480833   \n",
       "2     ALICANTE   15.032222    2.706098   7.073333   10.364444   19.688889   \n",
       "3      ALMERIA   16.279389    1.177119   5.756410   12.127481   20.426718   \n",
       "4  ARABA/ALAVA    9.511667    1.763158   5.676667    3.533333   15.498333   \n",
       "\n",
       "    año    mes  \n",
       "0  2021  abril  \n",
       "1  2021  abril  \n",
       "2  2021  abril  \n",
       "3  2021  abril  \n",
       "4  2021  abril  "
      ]
     },
     "execution_count": 417,
     "metadata": {},
     "output_type": "execute_result"
    }
   ],
   "source": [
    "abril_21 = procesar_y_setear_mes(abril_21, año=2021, mes='abril')\n",
    "abril_21.head()"
   ]
  },
  {
   "cell_type": "markdown",
   "id": "a7ef9834",
   "metadata": {},
   "source": [
    "## MAYO21"
   ]
  },
  {
   "cell_type": "code",
   "execution_count": 418,
   "id": "9ddbf7ea",
   "metadata": {},
   "outputs": [
    {
     "name": "stdout",
     "output_type": "stream",
     "text": [
      "{'descripcion': 'exito', 'estado': 200, 'datos': 'https://opendata.aemet.es/opendata/sh/3e453900', 'metadatos': 'https://opendata.aemet.es/opendata/sh/b3aa9d28'}\n"
     ]
    }
   ],
   "source": [
    "url_my21 ='https://opendata.aemet.es/opendata/api/valores/climatologicos/diarios/datos/fechaini/2021-05-01T00%3A00%3A00UTC/fechafin/2021-05-31T00%3A00%3A00UTC/todasestaciones'\n",
    "api_file_path = '../api.txt'\n",
    "\n",
    "my21 = solicitud_get(url_my21, api_file_path)\n",
    "print(my21)"
   ]
  },
  {
   "cell_type": "code",
   "execution_count": 419,
   "id": "f83c3d3a",
   "metadata": {},
   "outputs": [],
   "source": [
    "url_datos_my21=  'https://opendata.aemet.es/opendata/sh/3e453900'\n",
    "mayo_21= procesar_datos_mes(url_datos_my21, columnas_interes)"
   ]
  },
  {
   "cell_type": "code",
   "execution_count": 420,
   "id": "2f8e0d6a",
   "metadata": {},
   "outputs": [
    {
     "data": {
      "text/html": [
       "<div>\n",
       "<style scoped>\n",
       "    .dataframe tbody tr th:only-of-type {\n",
       "        vertical-align: middle;\n",
       "    }\n",
       "\n",
       "    .dataframe tbody tr th {\n",
       "        vertical-align: top;\n",
       "    }\n",
       "\n",
       "    .dataframe thead th {\n",
       "        text-align: right;\n",
       "    }\n",
       "</style>\n",
       "<table border=\"1\" class=\"dataframe\">\n",
       "  <thead>\n",
       "    <tr style=\"text-align: right;\">\n",
       "      <th></th>\n",
       "      <th>provincia</th>\n",
       "      <th>media_tmed</th>\n",
       "      <th>media_prec</th>\n",
       "      <th>media_sol</th>\n",
       "      <th>media_tmin</th>\n",
       "      <th>media_tmax</th>\n",
       "      <th>año</th>\n",
       "      <th>mes</th>\n",
       "    </tr>\n",
       "  </thead>\n",
       "  <tbody>\n",
       "    <tr>\n",
       "      <th>0</th>\n",
       "      <td>A CORUÑA</td>\n",
       "      <td>13.899592</td>\n",
       "      <td>3.461181</td>\n",
       "      <td>8.184615</td>\n",
       "      <td>9.862857</td>\n",
       "      <td>17.933061</td>\n",
       "      <td>2021</td>\n",
       "      <td>mayo</td>\n",
       "    </tr>\n",
       "    <tr>\n",
       "      <th>1</th>\n",
       "      <td>ALBACETE</td>\n",
       "      <td>17.479832</td>\n",
       "      <td>1.018261</td>\n",
       "      <td>10.046296</td>\n",
       "      <td>10.863866</td>\n",
       "      <td>24.094118</td>\n",
       "      <td>2021</td>\n",
       "      <td>mayo</td>\n",
       "    </tr>\n",
       "    <tr>\n",
       "      <th>2</th>\n",
       "      <td>ALICANTE</td>\n",
       "      <td>19.213445</td>\n",
       "      <td>2.142478</td>\n",
       "      <td>10.540909</td>\n",
       "      <td>13.585714</td>\n",
       "      <td>24.842017</td>\n",
       "      <td>2021</td>\n",
       "      <td>mayo</td>\n",
       "    </tr>\n",
       "    <tr>\n",
       "      <th>3</th>\n",
       "      <td>ALMERIA</td>\n",
       "      <td>19.430065</td>\n",
       "      <td>1.170968</td>\n",
       "      <td>5.503571</td>\n",
       "      <td>14.524837</td>\n",
       "      <td>24.342484</td>\n",
       "      <td>2021</td>\n",
       "      <td>mayo</td>\n",
       "    </tr>\n",
       "    <tr>\n",
       "      <th>4</th>\n",
       "      <td>ARABA/ALAVA</td>\n",
       "      <td>12.800000</td>\n",
       "      <td>2.774576</td>\n",
       "      <td>7.198387</td>\n",
       "      <td>5.567742</td>\n",
       "      <td>20.043548</td>\n",
       "      <td>2021</td>\n",
       "      <td>mayo</td>\n",
       "    </tr>\n",
       "  </tbody>\n",
       "</table>\n",
       "</div>"
      ],
      "text/plain": [
       "     provincia  media_tmed  media_prec  media_sol  media_tmin  media_tmax  \\\n",
       "0     A CORUÑA   13.899592    3.461181   8.184615    9.862857   17.933061   \n",
       "1     ALBACETE   17.479832    1.018261  10.046296   10.863866   24.094118   \n",
       "2     ALICANTE   19.213445    2.142478  10.540909   13.585714   24.842017   \n",
       "3      ALMERIA   19.430065    1.170968   5.503571   14.524837   24.342484   \n",
       "4  ARABA/ALAVA   12.800000    2.774576   7.198387    5.567742   20.043548   \n",
       "\n",
       "    año   mes  \n",
       "0  2021  mayo  \n",
       "1  2021  mayo  \n",
       "2  2021  mayo  \n",
       "3  2021  mayo  \n",
       "4  2021  mayo  "
      ]
     },
     "execution_count": 420,
     "metadata": {},
     "output_type": "execute_result"
    }
   ],
   "source": [
    "mayo_21 = procesar_y_setear_mes(mayo_21, año=2021, mes='mayo')\n",
    "mayo_21.head()"
   ]
  },
  {
   "cell_type": "markdown",
   "id": "65289b14",
   "metadata": {},
   "source": [
    "## JUNIO21"
   ]
  },
  {
   "cell_type": "code",
   "execution_count": 421,
   "id": "47930b2c",
   "metadata": {},
   "outputs": [
    {
     "name": "stdout",
     "output_type": "stream",
     "text": [
      "{'descripcion': 'exito', 'estado': 200, 'datos': 'https://opendata.aemet.es/opendata/sh/e4256069', 'metadatos': 'https://opendata.aemet.es/opendata/sh/b3aa9d28'}\n"
     ]
    }
   ],
   "source": [
    "url_jn21='https://opendata.aemet.es/opendata/api/valores/climatologicos/diarios/datos/fechaini/2021-06-01T00%3A00%3A00UTC/fechafin/2021-06-30T00%3A00%3A00UTC/todasestaciones'\n",
    "api_file_path = '../api.txt'\n",
    "\n",
    "junio21 = solicitud_get(url_jn21, api_file_path)\n",
    "print(junio21)"
   ]
  },
  {
   "cell_type": "code",
   "execution_count": 422,
   "id": "a1e5f641",
   "metadata": {},
   "outputs": [],
   "source": [
    "url_datos_jun21=  'https://opendata.aemet.es/opendata/sh/e4256069'\n",
    "junio_21= procesar_datos_mes(url_datos_jun21, columnas_interes)"
   ]
  },
  {
   "cell_type": "code",
   "execution_count": 423,
   "id": "380e2306",
   "metadata": {},
   "outputs": [
    {
     "data": {
      "text/html": [
       "<div>\n",
       "<style scoped>\n",
       "    .dataframe tbody tr th:only-of-type {\n",
       "        vertical-align: middle;\n",
       "    }\n",
       "\n",
       "    .dataframe tbody tr th {\n",
       "        vertical-align: top;\n",
       "    }\n",
       "\n",
       "    .dataframe thead th {\n",
       "        text-align: right;\n",
       "    }\n",
       "</style>\n",
       "<table border=\"1\" class=\"dataframe\">\n",
       "  <thead>\n",
       "    <tr style=\"text-align: right;\">\n",
       "      <th></th>\n",
       "      <th>provincia</th>\n",
       "      <th>media_tmed</th>\n",
       "      <th>media_prec</th>\n",
       "      <th>media_sol</th>\n",
       "      <th>media_tmin</th>\n",
       "      <th>media_tmax</th>\n",
       "      <th>año</th>\n",
       "      <th>mes</th>\n",
       "    </tr>\n",
       "  </thead>\n",
       "  <tbody>\n",
       "    <tr>\n",
       "      <th>0</th>\n",
       "      <td>A CORUÑA</td>\n",
       "      <td>16.472152</td>\n",
       "      <td>2.916810</td>\n",
       "      <td>7.811111</td>\n",
       "      <td>12.662447</td>\n",
       "      <td>20.283122</td>\n",
       "      <td>2021</td>\n",
       "      <td>junio</td>\n",
       "    </tr>\n",
       "    <tr>\n",
       "      <th>1</th>\n",
       "      <td>ALBACETE</td>\n",
       "      <td>21.565138</td>\n",
       "      <td>1.614423</td>\n",
       "      <td>10.453571</td>\n",
       "      <td>14.648624</td>\n",
       "      <td>28.484404</td>\n",
       "      <td>2021</td>\n",
       "      <td>junio</td>\n",
       "    </tr>\n",
       "    <tr>\n",
       "      <th>2</th>\n",
       "      <td>ALICANTE</td>\n",
       "      <td>22.762500</td>\n",
       "      <td>0.496667</td>\n",
       "      <td>10.828889</td>\n",
       "      <td>17.431667</td>\n",
       "      <td>28.090833</td>\n",
       "      <td>2021</td>\n",
       "      <td>junio</td>\n",
       "    </tr>\n",
       "    <tr>\n",
       "      <th>3</th>\n",
       "      <td>ALMERIA</td>\n",
       "      <td>22.950000</td>\n",
       "      <td>0.693220</td>\n",
       "      <td>6.604000</td>\n",
       "      <td>18.141667</td>\n",
       "      <td>27.762879</td>\n",
       "      <td>2021</td>\n",
       "      <td>junio</td>\n",
       "    </tr>\n",
       "    <tr>\n",
       "      <th>4</th>\n",
       "      <td>ARABA/ALAVA</td>\n",
       "      <td>17.006667</td>\n",
       "      <td>2.680702</td>\n",
       "      <td>7.040000</td>\n",
       "      <td>10.678333</td>\n",
       "      <td>23.335000</td>\n",
       "      <td>2021</td>\n",
       "      <td>junio</td>\n",
       "    </tr>\n",
       "  </tbody>\n",
       "</table>\n",
       "</div>"
      ],
      "text/plain": [
       "     provincia  media_tmed  media_prec  media_sol  media_tmin  media_tmax  \\\n",
       "0     A CORUÑA   16.472152    2.916810   7.811111   12.662447   20.283122   \n",
       "1     ALBACETE   21.565138    1.614423  10.453571   14.648624   28.484404   \n",
       "2     ALICANTE   22.762500    0.496667  10.828889   17.431667   28.090833   \n",
       "3      ALMERIA   22.950000    0.693220   6.604000   18.141667   27.762879   \n",
       "4  ARABA/ALAVA   17.006667    2.680702   7.040000   10.678333   23.335000   \n",
       "\n",
       "    año    mes  \n",
       "0  2021  junio  \n",
       "1  2021  junio  \n",
       "2  2021  junio  \n",
       "3  2021  junio  \n",
       "4  2021  junio  "
      ]
     },
     "execution_count": 423,
     "metadata": {},
     "output_type": "execute_result"
    }
   ],
   "source": [
    "junio_21 = procesar_y_setear_mes(junio_21, año=2021, mes='junio')\n",
    "junio_21.head()"
   ]
  },
  {
   "cell_type": "markdown",
   "id": "35b3af60",
   "metadata": {},
   "source": [
    "## JULIO21\n"
   ]
  },
  {
   "cell_type": "code",
   "execution_count": 424,
   "id": "c2d40332",
   "metadata": {},
   "outputs": [
    {
     "name": "stdout",
     "output_type": "stream",
     "text": [
      "{'descripcion': 'exito', 'estado': 200, 'datos': 'https://opendata.aemet.es/opendata/sh/b733cc85', 'metadatos': 'https://opendata.aemet.es/opendata/sh/b3aa9d28'}\n"
     ]
    }
   ],
   "source": [
    "url_jl21='https://opendata.aemet.es/opendata/api/valores/climatologicos/diarios/datos/fechaini/2021-07-01T00%3A00%3A00UTC/fechafin/2021-07-31T00%3A00%3A00UTC/todasestaciones'\n",
    "api_file_path = '../api.txt'\n",
    "\n",
    "julio21 = solicitud_get(url_jl21, api_file_path)\n",
    "print(julio21)    "
   ]
  },
  {
   "cell_type": "code",
   "execution_count": 425,
   "id": "0025ae78",
   "metadata": {},
   "outputs": [],
   "source": [
    "url_datos_jul21=  'https://opendata.aemet.es/opendata/sh/b733cc85'\n",
    "julio_21= procesar_datos_mes(url_datos_jul21, columnas_interes)"
   ]
  },
  {
   "cell_type": "code",
   "execution_count": 426,
   "id": "e26934dd",
   "metadata": {},
   "outputs": [
    {
     "data": {
      "text/html": [
       "<div>\n",
       "<style scoped>\n",
       "    .dataframe tbody tr th:only-of-type {\n",
       "        vertical-align: middle;\n",
       "    }\n",
       "\n",
       "    .dataframe tbody tr th {\n",
       "        vertical-align: top;\n",
       "    }\n",
       "\n",
       "    .dataframe thead th {\n",
       "        text-align: right;\n",
       "    }\n",
       "</style>\n",
       "<table border=\"1\" class=\"dataframe\">\n",
       "  <thead>\n",
       "    <tr style=\"text-align: right;\">\n",
       "      <th></th>\n",
       "      <th>provincia</th>\n",
       "      <th>media_tmed</th>\n",
       "      <th>media_prec</th>\n",
       "      <th>media_sol</th>\n",
       "      <th>media_tmin</th>\n",
       "      <th>media_tmax</th>\n",
       "      <th>año</th>\n",
       "      <th>mes</th>\n",
       "    </tr>\n",
       "  </thead>\n",
       "  <tbody>\n",
       "    <tr>\n",
       "      <th>0</th>\n",
       "      <td>A CORUÑA</td>\n",
       "      <td>18.231855</td>\n",
       "      <td>0.965106</td>\n",
       "      <td>6.723973</td>\n",
       "      <td>14.704839</td>\n",
       "      <td>21.758871</td>\n",
       "      <td>2021</td>\n",
       "      <td>julio</td>\n",
       "    </tr>\n",
       "    <tr>\n",
       "      <th>1</th>\n",
       "      <td>ALBACETE</td>\n",
       "      <td>25.816216</td>\n",
       "      <td>0.004505</td>\n",
       "      <td>12.487097</td>\n",
       "      <td>17.725225</td>\n",
       "      <td>33.909009</td>\n",
       "      <td>2021</td>\n",
       "      <td>julio</td>\n",
       "    </tr>\n",
       "    <tr>\n",
       "      <th>2</th>\n",
       "      <td>ALICANTE</td>\n",
       "      <td>25.779032</td>\n",
       "      <td>0.407377</td>\n",
       "      <td>12.139785</td>\n",
       "      <td>19.683065</td>\n",
       "      <td>31.876613</td>\n",
       "      <td>2021</td>\n",
       "      <td>julio</td>\n",
       "    </tr>\n",
       "    <tr>\n",
       "      <th>3</th>\n",
       "      <td>ALMERIA</td>\n",
       "      <td>26.011475</td>\n",
       "      <td>0.184677</td>\n",
       "      <td>8.088889</td>\n",
       "      <td>20.853279</td>\n",
       "      <td>31.165574</td>\n",
       "      <td>2021</td>\n",
       "      <td>julio</td>\n",
       "    </tr>\n",
       "    <tr>\n",
       "      <th>4</th>\n",
       "      <td>ARABA/ALAVA</td>\n",
       "      <td>18.795161</td>\n",
       "      <td>0.066667</td>\n",
       "      <td>7.887097</td>\n",
       "      <td>11.854839</td>\n",
       "      <td>25.737097</td>\n",
       "      <td>2021</td>\n",
       "      <td>julio</td>\n",
       "    </tr>\n",
       "  </tbody>\n",
       "</table>\n",
       "</div>"
      ],
      "text/plain": [
       "     provincia  media_tmed  media_prec  media_sol  media_tmin  media_tmax  \\\n",
       "0     A CORUÑA   18.231855    0.965106   6.723973   14.704839   21.758871   \n",
       "1     ALBACETE   25.816216    0.004505  12.487097   17.725225   33.909009   \n",
       "2     ALICANTE   25.779032    0.407377  12.139785   19.683065   31.876613   \n",
       "3      ALMERIA   26.011475    0.184677   8.088889   20.853279   31.165574   \n",
       "4  ARABA/ALAVA   18.795161    0.066667   7.887097   11.854839   25.737097   \n",
       "\n",
       "    año    mes  \n",
       "0  2021  julio  \n",
       "1  2021  julio  \n",
       "2  2021  julio  \n",
       "3  2021  julio  \n",
       "4  2021  julio  "
      ]
     },
     "execution_count": 426,
     "metadata": {},
     "output_type": "execute_result"
    }
   ],
   "source": [
    "julio_21 = procesar_y_setear_mes(julio_21, año=2021, mes='julio')\n",
    "julio_21.head()"
   ]
  },
  {
   "cell_type": "markdown",
   "id": "214cff55",
   "metadata": {},
   "source": [
    "## AGOSTO21"
   ]
  },
  {
   "cell_type": "code",
   "execution_count": 427,
   "id": "61b91f8c",
   "metadata": {},
   "outputs": [
    {
     "name": "stdout",
     "output_type": "stream",
     "text": [
      "{'descripcion': 'exito', 'estado': 200, 'datos': 'https://opendata.aemet.es/opendata/sh/e491ac07', 'metadatos': 'https://opendata.aemet.es/opendata/sh/b3aa9d28'}\n"
     ]
    }
   ],
   "source": [
    "url_ag21='https://opendata.aemet.es/opendata/api/valores/climatologicos/diarios/datos/fechaini/2021-08-01T00%3A00%3A00UTC/fechafin/2021-08-31T00%3A00%3A00UTC/todasestaciones'\n",
    "api_file_path = '../api.txt'\n",
    "\n",
    "agosto21 = solicitud_get(url_ag21, api_file_path)\n",
    "print(agosto21)"
   ]
  },
  {
   "cell_type": "code",
   "execution_count": 428,
   "id": "2dcc82ce",
   "metadata": {},
   "outputs": [],
   "source": [
    "url_datos_ag21= 'https://opendata.aemet.es/opendata/sh/e491ac07'\n",
    "agosto_21= procesar_datos_mes(url_datos_ag21, columnas_interes)"
   ]
  },
  {
   "cell_type": "code",
   "execution_count": 429,
   "id": "6a8fe1ca",
   "metadata": {
    "scrolled": true
   },
   "outputs": [
    {
     "data": {
      "text/html": [
       "<div>\n",
       "<style scoped>\n",
       "    .dataframe tbody tr th:only-of-type {\n",
       "        vertical-align: middle;\n",
       "    }\n",
       "\n",
       "    .dataframe tbody tr th {\n",
       "        vertical-align: top;\n",
       "    }\n",
       "\n",
       "    .dataframe thead th {\n",
       "        text-align: right;\n",
       "    }\n",
       "</style>\n",
       "<table border=\"1\" class=\"dataframe\">\n",
       "  <thead>\n",
       "    <tr style=\"text-align: right;\">\n",
       "      <th></th>\n",
       "      <th>provincia</th>\n",
       "      <th>media_tmed</th>\n",
       "      <th>media_prec</th>\n",
       "      <th>media_sol</th>\n",
       "      <th>media_tmin</th>\n",
       "      <th>media_tmax</th>\n",
       "      <th>año</th>\n",
       "      <th>mes</th>\n",
       "    </tr>\n",
       "  </thead>\n",
       "  <tbody>\n",
       "    <tr>\n",
       "      <th>0</th>\n",
       "      <td>A CORUÑA</td>\n",
       "      <td>19.207692</td>\n",
       "      <td>0.541026</td>\n",
       "      <td>8.318792</td>\n",
       "      <td>15.094737</td>\n",
       "      <td>23.321053</td>\n",
       "      <td>2021</td>\n",
       "      <td>agosto</td>\n",
       "    </tr>\n",
       "    <tr>\n",
       "      <th>1</th>\n",
       "      <td>ALBACETE</td>\n",
       "      <td>26.107258</td>\n",
       "      <td>1.037190</td>\n",
       "      <td>10.096226</td>\n",
       "      <td>18.595968</td>\n",
       "      <td>33.614516</td>\n",
       "      <td>2021</td>\n",
       "      <td>agosto</td>\n",
       "    </tr>\n",
       "    <tr>\n",
       "      <th>2</th>\n",
       "      <td>ALICANTE</td>\n",
       "      <td>26.900806</td>\n",
       "      <td>0.013223</td>\n",
       "      <td>9.769892</td>\n",
       "      <td>21.286290</td>\n",
       "      <td>32.508871</td>\n",
       "      <td>2021</td>\n",
       "      <td>agosto</td>\n",
       "    </tr>\n",
       "    <tr>\n",
       "      <th>3</th>\n",
       "      <td>ALMERIA</td>\n",
       "      <td>27.076613</td>\n",
       "      <td>0.046721</td>\n",
       "      <td>9.690323</td>\n",
       "      <td>22.304032</td>\n",
       "      <td>31.847581</td>\n",
       "      <td>2021</td>\n",
       "      <td>agosto</td>\n",
       "    </tr>\n",
       "    <tr>\n",
       "      <th>4</th>\n",
       "      <td>ARABA/ALAVA</td>\n",
       "      <td>19.269355</td>\n",
       "      <td>0.347541</td>\n",
       "      <td>7.912903</td>\n",
       "      <td>12.012903</td>\n",
       "      <td>26.525806</td>\n",
       "      <td>2021</td>\n",
       "      <td>agosto</td>\n",
       "    </tr>\n",
       "  </tbody>\n",
       "</table>\n",
       "</div>"
      ],
      "text/plain": [
       "     provincia  media_tmed  media_prec  media_sol  media_tmin  media_tmax  \\\n",
       "0     A CORUÑA   19.207692    0.541026   8.318792   15.094737   23.321053   \n",
       "1     ALBACETE   26.107258    1.037190  10.096226   18.595968   33.614516   \n",
       "2     ALICANTE   26.900806    0.013223   9.769892   21.286290   32.508871   \n",
       "3      ALMERIA   27.076613    0.046721   9.690323   22.304032   31.847581   \n",
       "4  ARABA/ALAVA   19.269355    0.347541   7.912903   12.012903   26.525806   \n",
       "\n",
       "    año     mes  \n",
       "0  2021  agosto  \n",
       "1  2021  agosto  \n",
       "2  2021  agosto  \n",
       "3  2021  agosto  \n",
       "4  2021  agosto  "
      ]
     },
     "execution_count": 429,
     "metadata": {},
     "output_type": "execute_result"
    }
   ],
   "source": [
    "agosto_21 = procesar_y_setear_mes(agosto_21, año=2021, mes='agosto')\n",
    "agosto_21.head()"
   ]
  },
  {
   "cell_type": "markdown",
   "id": "6aabf5cc",
   "metadata": {},
   "source": [
    "## SEPTIEMBRE21"
   ]
  },
  {
   "cell_type": "code",
   "execution_count": 430,
   "id": "db086b50",
   "metadata": {},
   "outputs": [
    {
     "name": "stdout",
     "output_type": "stream",
     "text": [
      "{'descripcion': 'exito', 'estado': 200, 'datos': 'https://opendata.aemet.es/opendata/sh/16508fca', 'metadatos': 'https://opendata.aemet.es/opendata/sh/b3aa9d28'}\n"
     ]
    }
   ],
   "source": [
    "url_sep21 = 'https://opendata.aemet.es/opendata/api/valores/climatologicos/diarios/datos/fechaini/2021-09-01T00%3A00%3A00UTC/fechafin/2021-09-30T00%3A00%3A00UTC/todasestaciones'\n",
    "api_file_path = '../api.txt'\n",
    "\n",
    "septiembre21 = solicitud_get(url_sep21, api_file_path)\n",
    "print(septiembre21) "
   ]
  },
  {
   "cell_type": "code",
   "execution_count": 431,
   "id": "6e44cea4",
   "metadata": {},
   "outputs": [],
   "source": [
    "url_datos_sep21= 'https://opendata.aemet.es/opendata/sh/16508fca'\n",
    "septiembre_21 = procesar_datos_mes(url_datos_sep21, columnas_interes)"
   ]
  },
  {
   "cell_type": "code",
   "execution_count": 432,
   "id": "429308b4",
   "metadata": {},
   "outputs": [
    {
     "data": {
      "text/html": [
       "<div>\n",
       "<style scoped>\n",
       "    .dataframe tbody tr th:only-of-type {\n",
       "        vertical-align: middle;\n",
       "    }\n",
       "\n",
       "    .dataframe tbody tr th {\n",
       "        vertical-align: top;\n",
       "    }\n",
       "\n",
       "    .dataframe thead th {\n",
       "        text-align: right;\n",
       "    }\n",
       "</style>\n",
       "<table border=\"1\" class=\"dataframe\">\n",
       "  <thead>\n",
       "    <tr style=\"text-align: right;\">\n",
       "      <th></th>\n",
       "      <th>provincia</th>\n",
       "      <th>media_tmed</th>\n",
       "      <th>media_prec</th>\n",
       "      <th>media_sol</th>\n",
       "      <th>media_tmin</th>\n",
       "      <th>media_tmax</th>\n",
       "      <th>año</th>\n",
       "      <th>mes</th>\n",
       "    </tr>\n",
       "  </thead>\n",
       "  <tbody>\n",
       "    <tr>\n",
       "      <th>0</th>\n",
       "      <td>A CORUÑA</td>\n",
       "      <td>18.563404</td>\n",
       "      <td>2.992411</td>\n",
       "      <td>6.838732</td>\n",
       "      <td>14.752340</td>\n",
       "      <td>22.368511</td>\n",
       "      <td>2021</td>\n",
       "      <td>septiembre</td>\n",
       "    </tr>\n",
       "    <tr>\n",
       "      <th>1</th>\n",
       "      <td>ALBACETE</td>\n",
       "      <td>21.185000</td>\n",
       "      <td>1.835897</td>\n",
       "      <td>8.240000</td>\n",
       "      <td>15.124167</td>\n",
       "      <td>27.255000</td>\n",
       "      <td>2021</td>\n",
       "      <td>septiembre</td>\n",
       "    </tr>\n",
       "    <tr>\n",
       "      <th>2</th>\n",
       "      <td>ALICANTE</td>\n",
       "      <td>24.458824</td>\n",
       "      <td>1.309483</td>\n",
       "      <td>8.576667</td>\n",
       "      <td>19.005042</td>\n",
       "      <td>29.904202</td>\n",
       "      <td>2021</td>\n",
       "      <td>septiembre</td>\n",
       "    </tr>\n",
       "    <tr>\n",
       "      <th>3</th>\n",
       "      <td>ALMERIA</td>\n",
       "      <td>24.738889</td>\n",
       "      <td>0.068908</td>\n",
       "      <td>9.103333</td>\n",
       "      <td>20.005556</td>\n",
       "      <td>29.463889</td>\n",
       "      <td>2021</td>\n",
       "      <td>septiembre</td>\n",
       "    </tr>\n",
       "    <tr>\n",
       "      <th>4</th>\n",
       "      <td>ARABA/ALAVA</td>\n",
       "      <td>18.433333</td>\n",
       "      <td>1.828571</td>\n",
       "      <td>5.290000</td>\n",
       "      <td>12.130000</td>\n",
       "      <td>24.728333</td>\n",
       "      <td>2021</td>\n",
       "      <td>septiembre</td>\n",
       "    </tr>\n",
       "  </tbody>\n",
       "</table>\n",
       "</div>"
      ],
      "text/plain": [
       "     provincia  media_tmed  media_prec  media_sol  media_tmin  media_tmax  \\\n",
       "0     A CORUÑA   18.563404    2.992411   6.838732   14.752340   22.368511   \n",
       "1     ALBACETE   21.185000    1.835897   8.240000   15.124167   27.255000   \n",
       "2     ALICANTE   24.458824    1.309483   8.576667   19.005042   29.904202   \n",
       "3      ALMERIA   24.738889    0.068908   9.103333   20.005556   29.463889   \n",
       "4  ARABA/ALAVA   18.433333    1.828571   5.290000   12.130000   24.728333   \n",
       "\n",
       "    año         mes  \n",
       "0  2021  septiembre  \n",
       "1  2021  septiembre  \n",
       "2  2021  septiembre  \n",
       "3  2021  septiembre  \n",
       "4  2021  septiembre  "
      ]
     },
     "execution_count": 432,
     "metadata": {},
     "output_type": "execute_result"
    }
   ],
   "source": [
    "septiembre_21 = procesar_y_setear_mes(septiembre_21, año=2021, mes='septiembre')\n",
    "septiembre_21.head()"
   ]
  },
  {
   "cell_type": "markdown",
   "id": "8cd14d10",
   "metadata": {},
   "source": [
    "## OCTUBRE21"
   ]
  },
  {
   "cell_type": "code",
   "execution_count": 433,
   "id": "dbe57370",
   "metadata": {},
   "outputs": [
    {
     "name": "stdout",
     "output_type": "stream",
     "text": [
      "{'descripcion': 'exito', 'estado': 200, 'datos': 'https://opendata.aemet.es/opendata/sh/7a619e93', 'metadatos': 'https://opendata.aemet.es/opendata/sh/b3aa9d28'}\n"
     ]
    }
   ],
   "source": [
    "url_oct21 = 'https://opendata.aemet.es/opendata/api/valores/climatologicos/diarios/datos/fechaini/2021-10-01T00%3A00%3A00UTC/fechafin/2021-10-31T00%3A00%3A00UTC/todasestaciones'\n",
    "api_file_path = '../api.txt'\n",
    "\n",
    "octubre21 = solicitud_get(url_oct21, api_file_path)\n",
    "print(octubre21) "
   ]
  },
  {
   "cell_type": "code",
   "execution_count": 434,
   "id": "fd320c77",
   "metadata": {},
   "outputs": [],
   "source": [
    "url_datos_oct21= 'https://opendata.aemet.es/opendata/sh/7a619e93'\n",
    "octubre_21 = procesar_datos_mes(url_datos_oct21, columnas_interes)"
   ]
  },
  {
   "cell_type": "code",
   "execution_count": 435,
   "id": "ec81490d",
   "metadata": {
    "scrolled": true
   },
   "outputs": [
    {
     "data": {
      "text/html": [
       "<div>\n",
       "<style scoped>\n",
       "    .dataframe tbody tr th:only-of-type {\n",
       "        vertical-align: middle;\n",
       "    }\n",
       "\n",
       "    .dataframe tbody tr th {\n",
       "        vertical-align: top;\n",
       "    }\n",
       "\n",
       "    .dataframe thead th {\n",
       "        text-align: right;\n",
       "    }\n",
       "</style>\n",
       "<table border=\"1\" class=\"dataframe\">\n",
       "  <thead>\n",
       "    <tr style=\"text-align: right;\">\n",
       "      <th></th>\n",
       "      <th>provincia</th>\n",
       "      <th>media_tmed</th>\n",
       "      <th>media_prec</th>\n",
       "      <th>media_sol</th>\n",
       "      <th>media_tmin</th>\n",
       "      <th>media_tmax</th>\n",
       "      <th>año</th>\n",
       "      <th>mes</th>\n",
       "    </tr>\n",
       "  </thead>\n",
       "  <tbody>\n",
       "    <tr>\n",
       "      <th>0</th>\n",
       "      <td>A CORUÑA</td>\n",
       "      <td>15.848178</td>\n",
       "      <td>4.034348</td>\n",
       "      <td>6.020690</td>\n",
       "      <td>11.961943</td>\n",
       "      <td>19.734413</td>\n",
       "      <td>2021</td>\n",
       "      <td>octubre</td>\n",
       "    </tr>\n",
       "    <tr>\n",
       "      <th>1</th>\n",
       "      <td>ALBACETE</td>\n",
       "      <td>16.633065</td>\n",
       "      <td>1.369106</td>\n",
       "      <td>7.454545</td>\n",
       "      <td>10.691935</td>\n",
       "      <td>22.568548</td>\n",
       "      <td>2021</td>\n",
       "      <td>octubre</td>\n",
       "    </tr>\n",
       "    <tr>\n",
       "      <th>2</th>\n",
       "      <td>ALICANTE</td>\n",
       "      <td>19.454032</td>\n",
       "      <td>1.847934</td>\n",
       "      <td>7.444086</td>\n",
       "      <td>14.068548</td>\n",
       "      <td>24.837903</td>\n",
       "      <td>2021</td>\n",
       "      <td>octubre</td>\n",
       "    </tr>\n",
       "    <tr>\n",
       "      <th>3</th>\n",
       "      <td>ALMERIA</td>\n",
       "      <td>19.749438</td>\n",
       "      <td>0.264167</td>\n",
       "      <td>8.174194</td>\n",
       "      <td>14.639326</td>\n",
       "      <td>24.869663</td>\n",
       "      <td>2021</td>\n",
       "      <td>octubre</td>\n",
       "    </tr>\n",
       "    <tr>\n",
       "      <th>4</th>\n",
       "      <td>ARABA/ALAVA</td>\n",
       "      <td>12.217742</td>\n",
       "      <td>0.960714</td>\n",
       "      <td>5.782258</td>\n",
       "      <td>4.719355</td>\n",
       "      <td>19.714516</td>\n",
       "      <td>2021</td>\n",
       "      <td>octubre</td>\n",
       "    </tr>\n",
       "  </tbody>\n",
       "</table>\n",
       "</div>"
      ],
      "text/plain": [
       "     provincia  media_tmed  media_prec  media_sol  media_tmin  media_tmax  \\\n",
       "0     A CORUÑA   15.848178    4.034348   6.020690   11.961943   19.734413   \n",
       "1     ALBACETE   16.633065    1.369106   7.454545   10.691935   22.568548   \n",
       "2     ALICANTE   19.454032    1.847934   7.444086   14.068548   24.837903   \n",
       "3      ALMERIA   19.749438    0.264167   8.174194   14.639326   24.869663   \n",
       "4  ARABA/ALAVA   12.217742    0.960714   5.782258    4.719355   19.714516   \n",
       "\n",
       "    año      mes  \n",
       "0  2021  octubre  \n",
       "1  2021  octubre  \n",
       "2  2021  octubre  \n",
       "3  2021  octubre  \n",
       "4  2021  octubre  "
      ]
     },
     "execution_count": 435,
     "metadata": {},
     "output_type": "execute_result"
    }
   ],
   "source": [
    "octubre_21 = procesar_y_setear_mes(octubre_21, año=2021, mes='octubre')\n",
    "octubre_21.head()"
   ]
  },
  {
   "cell_type": "markdown",
   "id": "71c95bfc",
   "metadata": {},
   "source": [
    "## NOVIEMBRE21"
   ]
  },
  {
   "cell_type": "code",
   "execution_count": 436,
   "id": "b8a0c5b6",
   "metadata": {},
   "outputs": [
    {
     "name": "stdout",
     "output_type": "stream",
     "text": [
      "{'descripcion': 'exito', 'estado': 200, 'datos': 'https://opendata.aemet.es/opendata/sh/9fca8e37', 'metadatos': 'https://opendata.aemet.es/opendata/sh/b3aa9d28'}\n"
     ]
    }
   ],
   "source": [
    "url_nov21 = 'https://opendata.aemet.es/opendata/api/valores/climatologicos/diarios/datos/fechaini/2021-11-01T00%3A00%3A00UTC/fechafin/2021-11-30T00%3A00%3A00UTC/todasestaciones'\n",
    "api_file_path = '../api.txt'\n",
    "\n",
    "noviembre21 = solicitud_get(url_nov21, api_file_path)\n",
    "print(noviembre21) "
   ]
  },
  {
   "cell_type": "code",
   "execution_count": 437,
   "id": "132a28b5",
   "metadata": {},
   "outputs": [],
   "source": [
    "url_datos_nov21= 'https://opendata.aemet.es/opendata/sh/9fca8e37'\n",
    "noviembre_21 = procesar_datos_mes(url_datos_nov21, columnas_interes)"
   ]
  },
  {
   "cell_type": "code",
   "execution_count": 438,
   "id": "d8a9f907",
   "metadata": {
    "scrolled": true
   },
   "outputs": [
    {
     "data": {
      "text/html": [
       "<div>\n",
       "<style scoped>\n",
       "    .dataframe tbody tr th:only-of-type {\n",
       "        vertical-align: middle;\n",
       "    }\n",
       "\n",
       "    .dataframe tbody tr th {\n",
       "        vertical-align: top;\n",
       "    }\n",
       "\n",
       "    .dataframe thead th {\n",
       "        text-align: right;\n",
       "    }\n",
       "</style>\n",
       "<table border=\"1\" class=\"dataframe\">\n",
       "  <thead>\n",
       "    <tr style=\"text-align: right;\">\n",
       "      <th></th>\n",
       "      <th>provincia</th>\n",
       "      <th>media_tmed</th>\n",
       "      <th>media_prec</th>\n",
       "      <th>media_sol</th>\n",
       "      <th>media_tmin</th>\n",
       "      <th>media_tmax</th>\n",
       "      <th>año</th>\n",
       "      <th>mes</th>\n",
       "    </tr>\n",
       "  </thead>\n",
       "  <tbody>\n",
       "    <tr>\n",
       "      <th>0</th>\n",
       "      <td>A CORUÑA</td>\n",
       "      <td>11.236820</td>\n",
       "      <td>2.289823</td>\n",
       "      <td>5.308088</td>\n",
       "      <td>7.805021</td>\n",
       "      <td>14.674059</td>\n",
       "      <td>2021</td>\n",
       "      <td>noviembre</td>\n",
       "    </tr>\n",
       "    <tr>\n",
       "      <th>1</th>\n",
       "      <td>ALBACETE</td>\n",
       "      <td>8.404202</td>\n",
       "      <td>0.983051</td>\n",
       "      <td>6.032727</td>\n",
       "      <td>3.588235</td>\n",
       "      <td>13.224370</td>\n",
       "      <td>2021</td>\n",
       "      <td>noviembre</td>\n",
       "    </tr>\n",
       "    <tr>\n",
       "      <th>2</th>\n",
       "      <td>ALICANTE</td>\n",
       "      <td>13.713559</td>\n",
       "      <td>3.088793</td>\n",
       "      <td>5.867778</td>\n",
       "      <td>8.903390</td>\n",
       "      <td>18.516949</td>\n",
       "      <td>2021</td>\n",
       "      <td>noviembre</td>\n",
       "    </tr>\n",
       "    <tr>\n",
       "      <th>3</th>\n",
       "      <td>ALMERIA</td>\n",
       "      <td>13.871429</td>\n",
       "      <td>0.207874</td>\n",
       "      <td>7.840000</td>\n",
       "      <td>9.285714</td>\n",
       "      <td>18.452747</td>\n",
       "      <td>2021</td>\n",
       "      <td>noviembre</td>\n",
       "    </tr>\n",
       "    <tr>\n",
       "      <th>4</th>\n",
       "      <td>ARABA/ALAVA</td>\n",
       "      <td>7.193333</td>\n",
       "      <td>5.978947</td>\n",
       "      <td>2.370000</td>\n",
       "      <td>3.793333</td>\n",
       "      <td>10.591667</td>\n",
       "      <td>2021</td>\n",
       "      <td>noviembre</td>\n",
       "    </tr>\n",
       "  </tbody>\n",
       "</table>\n",
       "</div>"
      ],
      "text/plain": [
       "     provincia  media_tmed  media_prec  media_sol  media_tmin  media_tmax  \\\n",
       "0     A CORUÑA   11.236820    2.289823   5.308088    7.805021   14.674059   \n",
       "1     ALBACETE    8.404202    0.983051   6.032727    3.588235   13.224370   \n",
       "2     ALICANTE   13.713559    3.088793   5.867778    8.903390   18.516949   \n",
       "3      ALMERIA   13.871429    0.207874   7.840000    9.285714   18.452747   \n",
       "4  ARABA/ALAVA    7.193333    5.978947   2.370000    3.793333   10.591667   \n",
       "\n",
       "    año        mes  \n",
       "0  2021  noviembre  \n",
       "1  2021  noviembre  \n",
       "2  2021  noviembre  \n",
       "3  2021  noviembre  \n",
       "4  2021  noviembre  "
      ]
     },
     "execution_count": 438,
     "metadata": {},
     "output_type": "execute_result"
    }
   ],
   "source": [
    "noviembre_21 = procesar_y_setear_mes(noviembre_21, año=2021, mes='noviembre')\n",
    "noviembre_21.head()"
   ]
  },
  {
   "cell_type": "markdown",
   "id": "c5fd5ea1",
   "metadata": {},
   "source": [
    "## DICIEMBRE21"
   ]
  },
  {
   "cell_type": "code",
   "execution_count": 439,
   "id": "cf0ef961",
   "metadata": {},
   "outputs": [
    {
     "name": "stdout",
     "output_type": "stream",
     "text": [
      "{'descripcion': 'exito', 'estado': 200, 'datos': 'https://opendata.aemet.es/opendata/sh/18089b18', 'metadatos': 'https://opendata.aemet.es/opendata/sh/b3aa9d28'}\n"
     ]
    }
   ],
   "source": [
    "url_dic21= 'https://opendata.aemet.es/opendata/api/valores/climatologicos/diarios/datos/fechaini/2021-12-01T00%3A00%3A00UTC/fechafin/2021-12-31T00%3A00%3A00UTC/todasestaciones'\n",
    "api_file_path = '../api.txt'\n",
    "\n",
    "diciembre21 = solicitud_get(url_dic21, api_file_path)\n",
    "print(diciembre21) "
   ]
  },
  {
   "cell_type": "code",
   "execution_count": 440,
   "id": "9debc8fc",
   "metadata": {},
   "outputs": [],
   "source": [
    "url_datos_dic21= 'https://opendata.aemet.es/opendata/sh/18089b18'\n",
    "diciembre_21= procesar_datos_mes(url_datos_dic21, columnas_interes)"
   ]
  },
  {
   "cell_type": "code",
   "execution_count": 441,
   "id": "8f06ec2d",
   "metadata": {
    "scrolled": false
   },
   "outputs": [
    {
     "data": {
      "text/html": [
       "<div>\n",
       "<style scoped>\n",
       "    .dataframe tbody tr th:only-of-type {\n",
       "        vertical-align: middle;\n",
       "    }\n",
       "\n",
       "    .dataframe tbody tr th {\n",
       "        vertical-align: top;\n",
       "    }\n",
       "\n",
       "    .dataframe thead th {\n",
       "        text-align: right;\n",
       "    }\n",
       "</style>\n",
       "<table border=\"1\" class=\"dataframe\">\n",
       "  <thead>\n",
       "    <tr style=\"text-align: right;\">\n",
       "      <th></th>\n",
       "      <th>provincia</th>\n",
       "      <th>media_tmed</th>\n",
       "      <th>media_prec</th>\n",
       "      <th>media_sol</th>\n",
       "      <th>media_tmin</th>\n",
       "      <th>media_tmax</th>\n",
       "      <th>año</th>\n",
       "      <th>mes</th>\n",
       "    </tr>\n",
       "  </thead>\n",
       "  <tbody>\n",
       "    <tr>\n",
       "      <th>0</th>\n",
       "      <td>A CORUÑA</td>\n",
       "      <td>12.082857</td>\n",
       "      <td>4.536929</td>\n",
       "      <td>3.425517</td>\n",
       "      <td>9.235510</td>\n",
       "      <td>14.923673</td>\n",
       "      <td>2021</td>\n",
       "      <td>diciembre</td>\n",
       "    </tr>\n",
       "    <tr>\n",
       "      <th>1</th>\n",
       "      <td>ALBACETE</td>\n",
       "      <td>8.972581</td>\n",
       "      <td>0.352066</td>\n",
       "      <td>5.281132</td>\n",
       "      <td>4.372581</td>\n",
       "      <td>13.582258</td>\n",
       "      <td>2021</td>\n",
       "      <td>diciembre</td>\n",
       "    </tr>\n",
       "    <tr>\n",
       "      <th>2</th>\n",
       "      <td>ALICANTE</td>\n",
       "      <td>13.292742</td>\n",
       "      <td>0.051240</td>\n",
       "      <td>5.622581</td>\n",
       "      <td>8.221774</td>\n",
       "      <td>18.371774</td>\n",
       "      <td>2021</td>\n",
       "      <td>diciembre</td>\n",
       "    </tr>\n",
       "    <tr>\n",
       "      <th>3</th>\n",
       "      <td>ALMERIA</td>\n",
       "      <td>13.890323</td>\n",
       "      <td>0.069655</td>\n",
       "      <td>5.983871</td>\n",
       "      <td>9.392742</td>\n",
       "      <td>18.392742</td>\n",
       "      <td>2021</td>\n",
       "      <td>diciembre</td>\n",
       "    </tr>\n",
       "    <tr>\n",
       "      <th>4</th>\n",
       "      <td>ARABA/ALAVA</td>\n",
       "      <td>6.579032</td>\n",
       "      <td>6.454386</td>\n",
       "      <td>3.069355</td>\n",
       "      <td>2.900000</td>\n",
       "      <td>10.259677</td>\n",
       "      <td>2021</td>\n",
       "      <td>diciembre</td>\n",
       "    </tr>\n",
       "  </tbody>\n",
       "</table>\n",
       "</div>"
      ],
      "text/plain": [
       "     provincia  media_tmed  media_prec  media_sol  media_tmin  media_tmax  \\\n",
       "0     A CORUÑA   12.082857    4.536929   3.425517    9.235510   14.923673   \n",
       "1     ALBACETE    8.972581    0.352066   5.281132    4.372581   13.582258   \n",
       "2     ALICANTE   13.292742    0.051240   5.622581    8.221774   18.371774   \n",
       "3      ALMERIA   13.890323    0.069655   5.983871    9.392742   18.392742   \n",
       "4  ARABA/ALAVA    6.579032    6.454386   3.069355    2.900000   10.259677   \n",
       "\n",
       "    año        mes  \n",
       "0  2021  diciembre  \n",
       "1  2021  diciembre  \n",
       "2  2021  diciembre  \n",
       "3  2021  diciembre  \n",
       "4  2021  diciembre  "
      ]
     },
     "execution_count": 441,
     "metadata": {},
     "output_type": "execute_result"
    }
   ],
   "source": [
    "diciembre_21 = procesar_y_setear_mes(diciembre_21, año=2021, mes='diciembre')\n",
    "diciembre_21.head()"
   ]
  },
  {
   "cell_type": "markdown",
   "id": "f1c6f0f7",
   "metadata": {},
   "source": [
    "## ENERO20"
   ]
  },
  {
   "cell_type": "code",
   "execution_count": 442,
   "id": "c4ac1f8e",
   "metadata": {},
   "outputs": [
    {
     "name": "stdout",
     "output_type": "stream",
     "text": [
      "{'descripcion': 'exito', 'estado': 200, 'datos': 'https://opendata.aemet.es/opendata/sh/86664742', 'metadatos': 'https://opendata.aemet.es/opendata/sh/b3aa9d28'}\n"
     ]
    }
   ],
   "source": [
    "url_en20 = 'https://opendata.aemet.es/opendata/api/valores/climatologicos/diarios/datos/fechaini/2020-01-01T00%3A00%3A00UTC/fechafin/2020-01-31T00%3A00%3A00UTC/todasestaciones'\n",
    "api_file_path = '../api.txt'\n",
    "\n",
    "enero20 = solicitud_get(url_en20, api_file_path)\n",
    "print(enero20)"
   ]
  },
  {
   "cell_type": "code",
   "execution_count": 443,
   "id": "b9347d12",
   "metadata": {},
   "outputs": [],
   "source": [
    "url_datos_en20= 'https://opendata.aemet.es/opendata/sh/86664742'\n",
    "enero_20= procesar_datos_mes(url_datos_en20, columnas_interes)"
   ]
  },
  {
   "cell_type": "code",
   "execution_count": 444,
   "id": "226131d7",
   "metadata": {},
   "outputs": [
    {
     "data": {
      "text/html": [
       "<div>\n",
       "<style scoped>\n",
       "    .dataframe tbody tr th:only-of-type {\n",
       "        vertical-align: middle;\n",
       "    }\n",
       "\n",
       "    .dataframe tbody tr th {\n",
       "        vertical-align: top;\n",
       "    }\n",
       "\n",
       "    .dataframe thead th {\n",
       "        text-align: right;\n",
       "    }\n",
       "</style>\n",
       "<table border=\"1\" class=\"dataframe\">\n",
       "  <thead>\n",
       "    <tr style=\"text-align: right;\">\n",
       "      <th></th>\n",
       "      <th>provincia</th>\n",
       "      <th>media_tmed</th>\n",
       "      <th>media_prec</th>\n",
       "      <th>media_sol</th>\n",
       "      <th>media_tmin</th>\n",
       "      <th>media_tmax</th>\n",
       "      <th>año</th>\n",
       "      <th>mes</th>\n",
       "    </tr>\n",
       "  </thead>\n",
       "  <tbody>\n",
       "    <tr>\n",
       "      <th>0</th>\n",
       "      <td>A CORUÑA</td>\n",
       "      <td>10.294118</td>\n",
       "      <td>6.768947</td>\n",
       "      <td>3.769828</td>\n",
       "      <td>7.373039</td>\n",
       "      <td>13.210294</td>\n",
       "      <td>2020</td>\n",
       "      <td>enero</td>\n",
       "    </tr>\n",
       "    <tr>\n",
       "      <th>1</th>\n",
       "      <td>ALBACETE</td>\n",
       "      <td>6.709917</td>\n",
       "      <td>1.557851</td>\n",
       "      <td>5.264815</td>\n",
       "      <td>1.499174</td>\n",
       "      <td>11.919835</td>\n",
       "      <td>2020</td>\n",
       "      <td>enero</td>\n",
       "    </tr>\n",
       "    <tr>\n",
       "      <th>2</th>\n",
       "      <td>ALICANTE</td>\n",
       "      <td>10.698374</td>\n",
       "      <td>2.205042</td>\n",
       "      <td>6.613953</td>\n",
       "      <td>4.880488</td>\n",
       "      <td>16.519512</td>\n",
       "      <td>2020</td>\n",
       "      <td>enero</td>\n",
       "    </tr>\n",
       "    <tr>\n",
       "      <th>3</th>\n",
       "      <td>ALMERIA</td>\n",
       "      <td>11.479861</td>\n",
       "      <td>0.850667</td>\n",
       "      <td>6.409677</td>\n",
       "      <td>6.564583</td>\n",
       "      <td>16.393056</td>\n",
       "      <td>2020</td>\n",
       "      <td>enero</td>\n",
       "    </tr>\n",
       "    <tr>\n",
       "      <th>4</th>\n",
       "      <td>ARABA/ALAVA</td>\n",
       "      <td>5.338710</td>\n",
       "      <td>1.067857</td>\n",
       "      <td>3.430645</td>\n",
       "      <td>0.751613</td>\n",
       "      <td>9.929032</td>\n",
       "      <td>2020</td>\n",
       "      <td>enero</td>\n",
       "    </tr>\n",
       "  </tbody>\n",
       "</table>\n",
       "</div>"
      ],
      "text/plain": [
       "     provincia  media_tmed  media_prec  media_sol  media_tmin  media_tmax  \\\n",
       "0     A CORUÑA   10.294118    6.768947   3.769828    7.373039   13.210294   \n",
       "1     ALBACETE    6.709917    1.557851   5.264815    1.499174   11.919835   \n",
       "2     ALICANTE   10.698374    2.205042   6.613953    4.880488   16.519512   \n",
       "3      ALMERIA   11.479861    0.850667   6.409677    6.564583   16.393056   \n",
       "4  ARABA/ALAVA    5.338710    1.067857   3.430645    0.751613    9.929032   \n",
       "\n",
       "    año    mes  \n",
       "0  2020  enero  \n",
       "1  2020  enero  \n",
       "2  2020  enero  \n",
       "3  2020  enero  \n",
       "4  2020  enero  "
      ]
     },
     "execution_count": 444,
     "metadata": {},
     "output_type": "execute_result"
    }
   ],
   "source": [
    "enero_20 = procesar_y_setear_mes(enero_20, año=2020, mes='enero')\n",
    "enero_20.head()"
   ]
  },
  {
   "cell_type": "markdown",
   "id": "aa8719a2",
   "metadata": {},
   "source": [
    "## FEBRERO20"
   ]
  },
  {
   "cell_type": "code",
   "execution_count": 445,
   "id": "c6ed2d2b",
   "metadata": {},
   "outputs": [
    {
     "name": "stdout",
     "output_type": "stream",
     "text": [
      "{'descripcion': 'exito', 'estado': 200, 'datos': 'https://opendata.aemet.es/opendata/sh/56d7bb3d', 'metadatos': 'https://opendata.aemet.es/opendata/sh/b3aa9d28'}\n"
     ]
    }
   ],
   "source": [
    "url_feb20 = 'https://opendata.aemet.es/opendata/api/valores/climatologicos/diarios/datos/fechaini/2020-02-01T00%3A00%3A00UTC/fechafin/2020-02-29T00%3A00%3A00UTC/todasestaciones'\n",
    "api_file_path = '../api.txt'\n",
    "\n",
    "febrero20 = solicitud_get(url_feb20, api_file_path)\n",
    "print(febrero20)"
   ]
  },
  {
   "cell_type": "code",
   "execution_count": 446,
   "id": "2ed324ff",
   "metadata": {},
   "outputs": [],
   "source": [
    "url_datos_feb20=  'https://opendata.aemet.es/opendata/sh/56d7bb3d'\n",
    "febrero_20= procesar_datos_mes(url_datos_feb20, columnas_interes)"
   ]
  },
  {
   "cell_type": "code",
   "execution_count": 447,
   "id": "8400c803",
   "metadata": {
    "scrolled": true
   },
   "outputs": [
    {
     "data": {
      "text/html": [
       "<div>\n",
       "<style scoped>\n",
       "    .dataframe tbody tr th:only-of-type {\n",
       "        vertical-align: middle;\n",
       "    }\n",
       "\n",
       "    .dataframe tbody tr th {\n",
       "        vertical-align: top;\n",
       "    }\n",
       "\n",
       "    .dataframe thead th {\n",
       "        text-align: right;\n",
       "    }\n",
       "</style>\n",
       "<table border=\"1\" class=\"dataframe\">\n",
       "  <thead>\n",
       "    <tr style=\"text-align: right;\">\n",
       "      <th></th>\n",
       "      <th>provincia</th>\n",
       "      <th>media_tmed</th>\n",
       "      <th>media_prec</th>\n",
       "      <th>media_sol</th>\n",
       "      <th>media_tmin</th>\n",
       "      <th>media_tmax</th>\n",
       "      <th>año</th>\n",
       "      <th>mes</th>\n",
       "    </tr>\n",
       "  </thead>\n",
       "  <tbody>\n",
       "    <tr>\n",
       "      <th>0</th>\n",
       "      <td>A CORUÑA</td>\n",
       "      <td>12.005607</td>\n",
       "      <td>2.291429</td>\n",
       "      <td>4.735398</td>\n",
       "      <td>8.682710</td>\n",
       "      <td>15.328972</td>\n",
       "      <td>2020</td>\n",
       "      <td>febrero</td>\n",
       "    </tr>\n",
       "    <tr>\n",
       "      <th>1</th>\n",
       "      <td>ALBACETE</td>\n",
       "      <td>11.039474</td>\n",
       "      <td>0.026316</td>\n",
       "      <td>7.000000</td>\n",
       "      <td>4.828947</td>\n",
       "      <td>17.241228</td>\n",
       "      <td>2020</td>\n",
       "      <td>febrero</td>\n",
       "    </tr>\n",
       "    <tr>\n",
       "      <th>2</th>\n",
       "      <td>ALICANTE</td>\n",
       "      <td>13.914655</td>\n",
       "      <td>0.065179</td>\n",
       "      <td>8.223256</td>\n",
       "      <td>7.398276</td>\n",
       "      <td>20.432759</td>\n",
       "      <td>2020</td>\n",
       "      <td>febrero</td>\n",
       "    </tr>\n",
       "    <tr>\n",
       "      <th>3</th>\n",
       "      <td>ALMERIA</td>\n",
       "      <td>14.179167</td>\n",
       "      <td>0.011888</td>\n",
       "      <td>7.886207</td>\n",
       "      <td>8.941667</td>\n",
       "      <td>19.415972</td>\n",
       "      <td>2020</td>\n",
       "      <td>febrero</td>\n",
       "    </tr>\n",
       "    <tr>\n",
       "      <th>4</th>\n",
       "      <td>ARABA/ALAVA</td>\n",
       "      <td>8.713793</td>\n",
       "      <td>0.340000</td>\n",
       "      <td>5.687931</td>\n",
       "      <td>2.082759</td>\n",
       "      <td>15.355172</td>\n",
       "      <td>2020</td>\n",
       "      <td>febrero</td>\n",
       "    </tr>\n",
       "  </tbody>\n",
       "</table>\n",
       "</div>"
      ],
      "text/plain": [
       "     provincia  media_tmed  media_prec  media_sol  media_tmin  media_tmax  \\\n",
       "0     A CORUÑA   12.005607    2.291429   4.735398    8.682710   15.328972   \n",
       "1     ALBACETE   11.039474    0.026316   7.000000    4.828947   17.241228   \n",
       "2     ALICANTE   13.914655    0.065179   8.223256    7.398276   20.432759   \n",
       "3      ALMERIA   14.179167    0.011888   7.886207    8.941667   19.415972   \n",
       "4  ARABA/ALAVA    8.713793    0.340000   5.687931    2.082759   15.355172   \n",
       "\n",
       "    año      mes  \n",
       "0  2020  febrero  \n",
       "1  2020  febrero  \n",
       "2  2020  febrero  \n",
       "3  2020  febrero  \n",
       "4  2020  febrero  "
      ]
     },
     "execution_count": 447,
     "metadata": {},
     "output_type": "execute_result"
    }
   ],
   "source": [
    "febrero_20 = procesar_y_setear_mes(febrero_20, año=2020, mes='febrero')\n",
    "febrero_20.head()"
   ]
  },
  {
   "cell_type": "markdown",
   "id": "c13938cc",
   "metadata": {},
   "source": [
    "## MARZO20"
   ]
  },
  {
   "cell_type": "code",
   "execution_count": 448,
   "id": "71308496",
   "metadata": {},
   "outputs": [
    {
     "name": "stdout",
     "output_type": "stream",
     "text": [
      "{'descripcion': 'exito', 'estado': 200, 'datos': 'https://opendata.aemet.es/opendata/sh/32dbe22f', 'metadatos': 'https://opendata.aemet.es/opendata/sh/b3aa9d28'}\n"
     ]
    }
   ],
   "source": [
    "url_mzo20 = 'https://opendata.aemet.es/opendata/api/valores/climatologicos/diarios/datos/fechaini/2020-03-01T00%3A00%3A00UTC/fechafin/2020-03-31T00%3A00%3A00UTC/todasestaciones'\n",
    "api_file_path = '../api.txt'\n",
    "\n",
    "marzo20 = solicitud_get(url_mzo20, api_file_path)\n",
    "print(marzo20)"
   ]
  },
  {
   "cell_type": "code",
   "execution_count": 449,
   "id": "e1c52501",
   "metadata": {},
   "outputs": [],
   "source": [
    "url_datos_mzo20=  'https://opendata.aemet.es/opendata/sh/32dbe22f'\n",
    "marzo_20= procesar_datos_mes(url_datos_mzo20, columnas_interes)"
   ]
  },
  {
   "cell_type": "code",
   "execution_count": 450,
   "id": "5ff12bf9",
   "metadata": {
    "scrolled": true
   },
   "outputs": [
    {
     "data": {
      "text/html": [
       "<div>\n",
       "<style scoped>\n",
       "    .dataframe tbody tr th:only-of-type {\n",
       "        vertical-align: middle;\n",
       "    }\n",
       "\n",
       "    .dataframe tbody tr th {\n",
       "        vertical-align: top;\n",
       "    }\n",
       "\n",
       "    .dataframe thead th {\n",
       "        text-align: right;\n",
       "    }\n",
       "</style>\n",
       "<table border=\"1\" class=\"dataframe\">\n",
       "  <thead>\n",
       "    <tr style=\"text-align: right;\">\n",
       "      <th></th>\n",
       "      <th>provincia</th>\n",
       "      <th>media_tmed</th>\n",
       "      <th>media_prec</th>\n",
       "      <th>media_sol</th>\n",
       "      <th>media_tmin</th>\n",
       "      <th>media_tmax</th>\n",
       "      <th>año</th>\n",
       "      <th>mes</th>\n",
       "    </tr>\n",
       "  </thead>\n",
       "  <tbody>\n",
       "    <tr>\n",
       "      <th>0</th>\n",
       "      <td>A CORUÑA</td>\n",
       "      <td>11.459350</td>\n",
       "      <td>4.151376</td>\n",
       "      <td>5.730986</td>\n",
       "      <td>8.051626</td>\n",
       "      <td>14.868699</td>\n",
       "      <td>2020</td>\n",
       "      <td>marzo</td>\n",
       "    </tr>\n",
       "    <tr>\n",
       "      <th>1</th>\n",
       "      <td>ALBACETE</td>\n",
       "      <td>10.226271</td>\n",
       "      <td>4.284615</td>\n",
       "      <td>5.523729</td>\n",
       "      <td>5.063559</td>\n",
       "      <td>15.387288</td>\n",
       "      <td>2020</td>\n",
       "      <td>marzo</td>\n",
       "    </tr>\n",
       "    <tr>\n",
       "      <th>2</th>\n",
       "      <td>ALICANTE</td>\n",
       "      <td>14.154032</td>\n",
       "      <td>3.393333</td>\n",
       "      <td>6.230108</td>\n",
       "      <td>9.204032</td>\n",
       "      <td>19.095161</td>\n",
       "      <td>2020</td>\n",
       "      <td>marzo</td>\n",
       "    </tr>\n",
       "    <tr>\n",
       "      <th>3</th>\n",
       "      <td>ALMERIA</td>\n",
       "      <td>14.942384</td>\n",
       "      <td>0.804575</td>\n",
       "      <td>6.460000</td>\n",
       "      <td>10.615894</td>\n",
       "      <td>19.261589</td>\n",
       "      <td>2020</td>\n",
       "      <td>marzo</td>\n",
       "    </tr>\n",
       "    <tr>\n",
       "      <th>4</th>\n",
       "      <td>ARABA/ALAVA</td>\n",
       "      <td>8.316129</td>\n",
       "      <td>2.576667</td>\n",
       "      <td>5.687097</td>\n",
       "      <td>1.974194</td>\n",
       "      <td>14.659677</td>\n",
       "      <td>2020</td>\n",
       "      <td>marzo</td>\n",
       "    </tr>\n",
       "  </tbody>\n",
       "</table>\n",
       "</div>"
      ],
      "text/plain": [
       "     provincia  media_tmed  media_prec  media_sol  media_tmin  media_tmax  \\\n",
       "0     A CORUÑA   11.459350    4.151376   5.730986    8.051626   14.868699   \n",
       "1     ALBACETE   10.226271    4.284615   5.523729    5.063559   15.387288   \n",
       "2     ALICANTE   14.154032    3.393333   6.230108    9.204032   19.095161   \n",
       "3      ALMERIA   14.942384    0.804575   6.460000   10.615894   19.261589   \n",
       "4  ARABA/ALAVA    8.316129    2.576667   5.687097    1.974194   14.659677   \n",
       "\n",
       "    año    mes  \n",
       "0  2020  marzo  \n",
       "1  2020  marzo  \n",
       "2  2020  marzo  \n",
       "3  2020  marzo  \n",
       "4  2020  marzo  "
      ]
     },
     "execution_count": 450,
     "metadata": {},
     "output_type": "execute_result"
    }
   ],
   "source": [
    "marzo_20 = procesar_y_setear_mes(marzo_20, año=2020, mes='marzo')\n",
    "marzo_20.head()"
   ]
  },
  {
   "cell_type": "markdown",
   "id": "1be887dc",
   "metadata": {},
   "source": [
    "## ABRIL20"
   ]
  },
  {
   "cell_type": "code",
   "execution_count": 451,
   "id": "7c77f1b8",
   "metadata": {},
   "outputs": [
    {
     "name": "stdout",
     "output_type": "stream",
     "text": [
      "{'descripcion': 'exito', 'estado': 200, 'datos': 'https://opendata.aemet.es/opendata/sh/4b1fc5d3', 'metadatos': 'https://opendata.aemet.es/opendata/sh/b3aa9d28'}\n"
     ]
    }
   ],
   "source": [
    "url_abr20 = 'https://opendata.aemet.es/opendata/api/valores/climatologicos/diarios/datos/fechaini/2020-04-01T00%3A00%3A00UTC/fechafin/2020-04-30T00%3A00%3A00UTC/todasestaciones'\n",
    "api_file_path = '../api.txt'\n",
    "\n",
    "abril20 = solicitud_get(url_abr20, api_file_path)\n",
    "print(abril20)"
   ]
  },
  {
   "cell_type": "code",
   "execution_count": 452,
   "id": "14fc6d7d",
   "metadata": {},
   "outputs": [],
   "source": [
    "url_datos_abr20=  'https://opendata.aemet.es/opendata/sh/4b1fc5d3'\n",
    "abril_20= procesar_datos_mes(url_datos_abr20, columnas_interes)"
   ]
  },
  {
   "cell_type": "code",
   "execution_count": 453,
   "id": "6aa7c54d",
   "metadata": {
    "scrolled": false
   },
   "outputs": [
    {
     "data": {
      "text/html": [
       "<div>\n",
       "<style scoped>\n",
       "    .dataframe tbody tr th:only-of-type {\n",
       "        vertical-align: middle;\n",
       "    }\n",
       "\n",
       "    .dataframe tbody tr th {\n",
       "        vertical-align: top;\n",
       "    }\n",
       "\n",
       "    .dataframe thead th {\n",
       "        text-align: right;\n",
       "    }\n",
       "</style>\n",
       "<table border=\"1\" class=\"dataframe\">\n",
       "  <thead>\n",
       "    <tr style=\"text-align: right;\">\n",
       "      <th></th>\n",
       "      <th>provincia</th>\n",
       "      <th>media_tmed</th>\n",
       "      <th>media_prec</th>\n",
       "      <th>media_sol</th>\n",
       "      <th>media_tmin</th>\n",
       "      <th>media_tmax</th>\n",
       "      <th>año</th>\n",
       "      <th>mes</th>\n",
       "    </tr>\n",
       "  </thead>\n",
       "  <tbody>\n",
       "    <tr>\n",
       "      <th>0</th>\n",
       "      <td>A CORUÑA</td>\n",
       "      <td>13.406356</td>\n",
       "      <td>4.371359</td>\n",
       "      <td>3.888667</td>\n",
       "      <td>10.103814</td>\n",
       "      <td>16.700424</td>\n",
       "      <td>2020</td>\n",
       "      <td>abril</td>\n",
       "    </tr>\n",
       "    <tr>\n",
       "      <th>1</th>\n",
       "      <td>ALBACETE</td>\n",
       "      <td>13.052137</td>\n",
       "      <td>1.822523</td>\n",
       "      <td>6.310000</td>\n",
       "      <td>7.941026</td>\n",
       "      <td>18.165812</td>\n",
       "      <td>2020</td>\n",
       "      <td>abril</td>\n",
       "    </tr>\n",
       "    <tr>\n",
       "      <th>2</th>\n",
       "      <td>ALICANTE</td>\n",
       "      <td>15.711017</td>\n",
       "      <td>1.649558</td>\n",
       "      <td>7.545556</td>\n",
       "      <td>10.855085</td>\n",
       "      <td>20.568644</td>\n",
       "      <td>2020</td>\n",
       "      <td>abril</td>\n",
       "    </tr>\n",
       "    <tr>\n",
       "      <th>3</th>\n",
       "      <td>ALMERIA</td>\n",
       "      <td>16.114286</td>\n",
       "      <td>0.737584</td>\n",
       "      <td>NaN</td>\n",
       "      <td>12.145578</td>\n",
       "      <td>20.080952</td>\n",
       "      <td>2020</td>\n",
       "      <td>abril</td>\n",
       "    </tr>\n",
       "    <tr>\n",
       "      <th>4</th>\n",
       "      <td>ARABA/ALAVA</td>\n",
       "      <td>12.736667</td>\n",
       "      <td>2.325000</td>\n",
       "      <td>5.290000</td>\n",
       "      <td>7.346667</td>\n",
       "      <td>18.121667</td>\n",
       "      <td>2020</td>\n",
       "      <td>abril</td>\n",
       "    </tr>\n",
       "  </tbody>\n",
       "</table>\n",
       "</div>"
      ],
      "text/plain": [
       "     provincia  media_tmed  media_prec  media_sol  media_tmin  media_tmax  \\\n",
       "0     A CORUÑA   13.406356    4.371359   3.888667   10.103814   16.700424   \n",
       "1     ALBACETE   13.052137    1.822523   6.310000    7.941026   18.165812   \n",
       "2     ALICANTE   15.711017    1.649558   7.545556   10.855085   20.568644   \n",
       "3      ALMERIA   16.114286    0.737584        NaN   12.145578   20.080952   \n",
       "4  ARABA/ALAVA   12.736667    2.325000   5.290000    7.346667   18.121667   \n",
       "\n",
       "    año    mes  \n",
       "0  2020  abril  \n",
       "1  2020  abril  \n",
       "2  2020  abril  \n",
       "3  2020  abril  \n",
       "4  2020  abril  "
      ]
     },
     "execution_count": 453,
     "metadata": {},
     "output_type": "execute_result"
    }
   ],
   "source": [
    "abril_20 = procesar_y_setear_mes(abril_20, año=2020, mes='abril')\n",
    "abril_20.head()"
   ]
  },
  {
   "cell_type": "markdown",
   "id": "52f4a1c3",
   "metadata": {},
   "source": [
    "## MAYO20"
   ]
  },
  {
   "cell_type": "code",
   "execution_count": 454,
   "id": "3353d4c2",
   "metadata": {},
   "outputs": [
    {
     "name": "stdout",
     "output_type": "stream",
     "text": [
      "{'descripcion': 'exito', 'estado': 200, 'datos': 'https://opendata.aemet.es/opendata/sh/f0ccfc72', 'metadatos': 'https://opendata.aemet.es/opendata/sh/b3aa9d28'}\n"
     ]
    }
   ],
   "source": [
    "url_my20 = 'https://opendata.aemet.es/opendata/api/valores/climatologicos/diarios/datos/fechaini/2020-05-01T00%3A00%3A00UTC/fechafin/2020-05-31T00%3A00%3A00UTC/todasestaciones'\n",
    "api_file_path = '../api.txt'\n",
    "\n",
    "mayo20 = solicitud_get(url_my20, api_file_path)\n",
    "print(mayo20)"
   ]
  },
  {
   "cell_type": "code",
   "execution_count": 455,
   "id": "b52a20a5",
   "metadata": {},
   "outputs": [],
   "source": [
    "url_datos_my20=  'https://opendata.aemet.es/opendata/sh/f0ccfc72'\n",
    "mayo_20= procesar_datos_mes(url_datos_my20, columnas_interes)"
   ]
  },
  {
   "cell_type": "code",
   "execution_count": 456,
   "id": "69f5be11",
   "metadata": {
    "scrolled": false
   },
   "outputs": [
    {
     "data": {
      "text/html": [
       "<div>\n",
       "<style scoped>\n",
       "    .dataframe tbody tr th:only-of-type {\n",
       "        vertical-align: middle;\n",
       "    }\n",
       "\n",
       "    .dataframe tbody tr th {\n",
       "        vertical-align: top;\n",
       "    }\n",
       "\n",
       "    .dataframe thead th {\n",
       "        text-align: right;\n",
       "    }\n",
       "</style>\n",
       "<table border=\"1\" class=\"dataframe\">\n",
       "  <thead>\n",
       "    <tr style=\"text-align: right;\">\n",
       "      <th></th>\n",
       "      <th>provincia</th>\n",
       "      <th>media_tmed</th>\n",
       "      <th>media_prec</th>\n",
       "      <th>media_sol</th>\n",
       "      <th>media_tmin</th>\n",
       "      <th>media_tmax</th>\n",
       "      <th>año</th>\n",
       "      <th>mes</th>\n",
       "    </tr>\n",
       "  </thead>\n",
       "  <tbody>\n",
       "    <tr>\n",
       "      <th>0</th>\n",
       "      <td>A CORUÑA</td>\n",
       "      <td>16.840081</td>\n",
       "      <td>1.074678</td>\n",
       "      <td>8.495364</td>\n",
       "      <td>12.589069</td>\n",
       "      <td>21.094332</td>\n",
       "      <td>2020</td>\n",
       "      <td>mayo</td>\n",
       "    </tr>\n",
       "    <tr>\n",
       "      <th>1</th>\n",
       "      <td>ALBACETE</td>\n",
       "      <td>17.870968</td>\n",
       "      <td>1.876423</td>\n",
       "      <td>9.638710</td>\n",
       "      <td>11.278226</td>\n",
       "      <td>24.459677</td>\n",
       "      <td>2020</td>\n",
       "      <td>mayo</td>\n",
       "    </tr>\n",
       "    <tr>\n",
       "      <th>2</th>\n",
       "      <td>ALICANTE</td>\n",
       "      <td>20.310484</td>\n",
       "      <td>1.005785</td>\n",
       "      <td>10.875269</td>\n",
       "      <td>14.337097</td>\n",
       "      <td>26.284677</td>\n",
       "      <td>2020</td>\n",
       "      <td>mayo</td>\n",
       "    </tr>\n",
       "    <tr>\n",
       "      <th>3</th>\n",
       "      <td>ALMERIA</td>\n",
       "      <td>20.653247</td>\n",
       "      <td>0.154839</td>\n",
       "      <td>11.444444</td>\n",
       "      <td>15.663636</td>\n",
       "      <td>25.646104</td>\n",
       "      <td>2020</td>\n",
       "      <td>mayo</td>\n",
       "    </tr>\n",
       "    <tr>\n",
       "      <th>4</th>\n",
       "      <td>ARABA/ALAVA</td>\n",
       "      <td>15.438710</td>\n",
       "      <td>3.529825</td>\n",
       "      <td>8.222581</td>\n",
       "      <td>8.043548</td>\n",
       "      <td>22.838710</td>\n",
       "      <td>2020</td>\n",
       "      <td>mayo</td>\n",
       "    </tr>\n",
       "  </tbody>\n",
       "</table>\n",
       "</div>"
      ],
      "text/plain": [
       "     provincia  media_tmed  media_prec  media_sol  media_tmin  media_tmax  \\\n",
       "0     A CORUÑA   16.840081    1.074678   8.495364   12.589069   21.094332   \n",
       "1     ALBACETE   17.870968    1.876423   9.638710   11.278226   24.459677   \n",
       "2     ALICANTE   20.310484    1.005785  10.875269   14.337097   26.284677   \n",
       "3      ALMERIA   20.653247    0.154839  11.444444   15.663636   25.646104   \n",
       "4  ARABA/ALAVA   15.438710    3.529825   8.222581    8.043548   22.838710   \n",
       "\n",
       "    año   mes  \n",
       "0  2020  mayo  \n",
       "1  2020  mayo  \n",
       "2  2020  mayo  \n",
       "3  2020  mayo  \n",
       "4  2020  mayo  "
      ]
     },
     "execution_count": 456,
     "metadata": {},
     "output_type": "execute_result"
    }
   ],
   "source": [
    "mayo_20 = procesar_y_setear_mes(mayo_20, año=2020, mes='mayo')\n",
    "mayo_20.head()"
   ]
  },
  {
   "cell_type": "markdown",
   "id": "2c3c24a9",
   "metadata": {},
   "source": [
    "## JUNIO20"
   ]
  },
  {
   "cell_type": "code",
   "execution_count": 457,
   "id": "d1d94a11",
   "metadata": {},
   "outputs": [
    {
     "name": "stdout",
     "output_type": "stream",
     "text": [
      "{'descripcion': 'exito', 'estado': 200, 'datos': 'https://opendata.aemet.es/opendata/sh/6de2a2e1', 'metadatos': 'https://opendata.aemet.es/opendata/sh/b3aa9d28'}\n"
     ]
    }
   ],
   "source": [
    "url_jun20 = 'https://opendata.aemet.es/opendata/api/valores/climatologicos/diarios/datos/fechaini/2020-06-01T00%3A00%3A00UTC/fechafin/2020-06-30T00%3A00%3A00UTC/todasestaciones'\n",
    "api_file_path = '../api.txt'\n",
    "\n",
    "junio20 = solicitud_get(url_jun20, api_file_path)\n",
    "print(junio20)"
   ]
  },
  {
   "cell_type": "code",
   "execution_count": 458,
   "id": "510bca58",
   "metadata": {},
   "outputs": [],
   "source": [
    "url_datos_jun20=  'https://opendata.aemet.es/opendata/sh/6de2a2e1'\n",
    "junio_20= procesar_datos_mes(url_datos_jun20, columnas_interes)"
   ]
  },
  {
   "cell_type": "code",
   "execution_count": 459,
   "id": "d9b50cef",
   "metadata": {
    "scrolled": false
   },
   "outputs": [
    {
     "data": {
      "text/html": [
       "<div>\n",
       "<style scoped>\n",
       "    .dataframe tbody tr th:only-of-type {\n",
       "        vertical-align: middle;\n",
       "    }\n",
       "\n",
       "    .dataframe tbody tr th {\n",
       "        vertical-align: top;\n",
       "    }\n",
       "\n",
       "    .dataframe thead th {\n",
       "        text-align: right;\n",
       "    }\n",
       "</style>\n",
       "<table border=\"1\" class=\"dataframe\">\n",
       "  <thead>\n",
       "    <tr style=\"text-align: right;\">\n",
       "      <th></th>\n",
       "      <th>provincia</th>\n",
       "      <th>media_tmed</th>\n",
       "      <th>media_prec</th>\n",
       "      <th>media_sol</th>\n",
       "      <th>media_tmin</th>\n",
       "      <th>media_tmax</th>\n",
       "      <th>año</th>\n",
       "      <th>mes</th>\n",
       "    </tr>\n",
       "  </thead>\n",
       "  <tbody>\n",
       "    <tr>\n",
       "      <th>0</th>\n",
       "      <td>A CORUÑA</td>\n",
       "      <td>16.626360</td>\n",
       "      <td>1.387387</td>\n",
       "      <td>6.479021</td>\n",
       "      <td>13.132636</td>\n",
       "      <td>20.126778</td>\n",
       "      <td>2021</td>\n",
       "      <td>junio</td>\n",
       "    </tr>\n",
       "    <tr>\n",
       "      <th>1</th>\n",
       "      <td>ALBACETE</td>\n",
       "      <td>22.353774</td>\n",
       "      <td>0.099029</td>\n",
       "      <td>11.423214</td>\n",
       "      <td>14.876415</td>\n",
       "      <td>29.838679</td>\n",
       "      <td>2021</td>\n",
       "      <td>junio</td>\n",
       "    </tr>\n",
       "    <tr>\n",
       "      <th>2</th>\n",
       "      <td>ALICANTE</td>\n",
       "      <td>22.915385</td>\n",
       "      <td>0.379091</td>\n",
       "      <td>11.830682</td>\n",
       "      <td>16.911966</td>\n",
       "      <td>28.925641</td>\n",
       "      <td>2021</td>\n",
       "      <td>junio</td>\n",
       "    </tr>\n",
       "    <tr>\n",
       "      <th>3</th>\n",
       "      <td>ALMERIA</td>\n",
       "      <td>22.316892</td>\n",
       "      <td>0.076522</td>\n",
       "      <td>12.610000</td>\n",
       "      <td>17.477027</td>\n",
       "      <td>27.152703</td>\n",
       "      <td>2021</td>\n",
       "      <td>junio</td>\n",
       "    </tr>\n",
       "    <tr>\n",
       "      <th>4</th>\n",
       "      <td>ARABA/ALAVA</td>\n",
       "      <td>16.830000</td>\n",
       "      <td>1.800000</td>\n",
       "      <td>6.895000</td>\n",
       "      <td>10.446667</td>\n",
       "      <td>23.205000</td>\n",
       "      <td>2021</td>\n",
       "      <td>junio</td>\n",
       "    </tr>\n",
       "  </tbody>\n",
       "</table>\n",
       "</div>"
      ],
      "text/plain": [
       "     provincia  media_tmed  media_prec  media_sol  media_tmin  media_tmax  \\\n",
       "0     A CORUÑA   16.626360    1.387387   6.479021   13.132636   20.126778   \n",
       "1     ALBACETE   22.353774    0.099029  11.423214   14.876415   29.838679   \n",
       "2     ALICANTE   22.915385    0.379091  11.830682   16.911966   28.925641   \n",
       "3      ALMERIA   22.316892    0.076522  12.610000   17.477027   27.152703   \n",
       "4  ARABA/ALAVA   16.830000    1.800000   6.895000   10.446667   23.205000   \n",
       "\n",
       "    año    mes  \n",
       "0  2021  junio  \n",
       "1  2021  junio  \n",
       "2  2021  junio  \n",
       "3  2021  junio  \n",
       "4  2021  junio  "
      ]
     },
     "execution_count": 459,
     "metadata": {},
     "output_type": "execute_result"
    }
   ],
   "source": [
    "junio_20 = procesar_y_setear_mes(junio_20, año=2021, mes='junio')\n",
    "junio_20.head()"
   ]
  },
  {
   "cell_type": "markdown",
   "id": "02cead7b",
   "metadata": {},
   "source": [
    "## JULIO20"
   ]
  },
  {
   "cell_type": "code",
   "execution_count": 460,
   "id": "d316beb8",
   "metadata": {},
   "outputs": [
    {
     "name": "stdout",
     "output_type": "stream",
     "text": [
      "{'descripcion': 'exito', 'estado': 200, 'datos': 'https://opendata.aemet.es/opendata/sh/46e0f9b8', 'metadatos': 'https://opendata.aemet.es/opendata/sh/b3aa9d28'}\n"
     ]
    }
   ],
   "source": [
    "url_jul20 = 'https://opendata.aemet.es/opendata/api/valores/climatologicos/diarios/datos/fechaini/2020-07-01T00%3A00%3A00UTC/fechafin/2020-07-31T00%3A00%3A00UTC/todasestaciones'\n",
    "api_file_path = '../api.txt'\n",
    "\n",
    "julio20 = solicitud_get(url_jul20, api_file_path)\n",
    "print(julio20)"
   ]
  },
  {
   "cell_type": "code",
   "execution_count": 461,
   "id": "3ffc24ae",
   "metadata": {},
   "outputs": [],
   "source": [
    "url_datos_jul20= 'https://opendata.aemet.es/opendata/sh/46e0f9b8'\n",
    "julio_20= procesar_datos_mes(url_datos_jul20, columnas_interes)"
   ]
  },
  {
   "cell_type": "code",
   "execution_count": 462,
   "id": "2bea5daa",
   "metadata": {
    "scrolled": true
   },
   "outputs": [
    {
     "data": {
      "text/html": [
       "<div>\n",
       "<style scoped>\n",
       "    .dataframe tbody tr th:only-of-type {\n",
       "        vertical-align: middle;\n",
       "    }\n",
       "\n",
       "    .dataframe tbody tr th {\n",
       "        vertical-align: top;\n",
       "    }\n",
       "\n",
       "    .dataframe thead th {\n",
       "        text-align: right;\n",
       "    }\n",
       "</style>\n",
       "<table border=\"1\" class=\"dataframe\">\n",
       "  <thead>\n",
       "    <tr style=\"text-align: right;\">\n",
       "      <th></th>\n",
       "      <th>provincia</th>\n",
       "      <th>media_tmed</th>\n",
       "      <th>media_prec</th>\n",
       "      <th>media_sol</th>\n",
       "      <th>media_tmin</th>\n",
       "      <th>media_tmax</th>\n",
       "      <th>año</th>\n",
       "      <th>mes</th>\n",
       "    </tr>\n",
       "  </thead>\n",
       "  <tbody>\n",
       "    <tr>\n",
       "      <th>0</th>\n",
       "      <td>A CORUÑA</td>\n",
       "      <td>19.745968</td>\n",
       "      <td>0.051915</td>\n",
       "      <td>10.102027</td>\n",
       "      <td>15.214516</td>\n",
       "      <td>24.279839</td>\n",
       "      <td>2020</td>\n",
       "      <td>julio</td>\n",
       "    </tr>\n",
       "    <tr>\n",
       "      <th>1</th>\n",
       "      <td>ALBACETE</td>\n",
       "      <td>26.603000</td>\n",
       "      <td>0.543299</td>\n",
       "      <td>11.809677</td>\n",
       "      <td>18.404000</td>\n",
       "      <td>34.806000</td>\n",
       "      <td>2020</td>\n",
       "      <td>julio</td>\n",
       "    </tr>\n",
       "    <tr>\n",
       "      <th>2</th>\n",
       "      <td>ALICANTE</td>\n",
       "      <td>26.208871</td>\n",
       "      <td>0.038655</td>\n",
       "      <td>12.067742</td>\n",
       "      <td>20.375000</td>\n",
       "      <td>32.050000</td>\n",
       "      <td>2020</td>\n",
       "      <td>julio</td>\n",
       "    </tr>\n",
       "    <tr>\n",
       "      <th>3</th>\n",
       "      <td>ALMERIA</td>\n",
       "      <td>26.865753</td>\n",
       "      <td>0.006087</td>\n",
       "      <td>12.083871</td>\n",
       "      <td>22.039726</td>\n",
       "      <td>31.693151</td>\n",
       "      <td>2020</td>\n",
       "      <td>julio</td>\n",
       "    </tr>\n",
       "    <tr>\n",
       "      <th>4</th>\n",
       "      <td>ARABA/ALAVA</td>\n",
       "      <td>19.537097</td>\n",
       "      <td>0.315254</td>\n",
       "      <td>9.232258</td>\n",
       "      <td>11.974194</td>\n",
       "      <td>27.093548</td>\n",
       "      <td>2020</td>\n",
       "      <td>julio</td>\n",
       "    </tr>\n",
       "  </tbody>\n",
       "</table>\n",
       "</div>"
      ],
      "text/plain": [
       "     provincia  media_tmed  media_prec  media_sol  media_tmin  media_tmax  \\\n",
       "0     A CORUÑA   19.745968    0.051915  10.102027   15.214516   24.279839   \n",
       "1     ALBACETE   26.603000    0.543299  11.809677   18.404000   34.806000   \n",
       "2     ALICANTE   26.208871    0.038655  12.067742   20.375000   32.050000   \n",
       "3      ALMERIA   26.865753    0.006087  12.083871   22.039726   31.693151   \n",
       "4  ARABA/ALAVA   19.537097    0.315254   9.232258   11.974194   27.093548   \n",
       "\n",
       "    año    mes  \n",
       "0  2020  julio  \n",
       "1  2020  julio  \n",
       "2  2020  julio  \n",
       "3  2020  julio  \n",
       "4  2020  julio  "
      ]
     },
     "execution_count": 462,
     "metadata": {},
     "output_type": "execute_result"
    }
   ],
   "source": [
    "julio_20 = procesar_y_setear_mes(julio_20, año=2020, mes='julio')\n",
    "julio_20.head()"
   ]
  },
  {
   "cell_type": "markdown",
   "id": "c4920ac7",
   "metadata": {},
   "source": [
    "## AGOSTO20"
   ]
  },
  {
   "cell_type": "code",
   "execution_count": 463,
   "id": "ec42084c",
   "metadata": {},
   "outputs": [
    {
     "name": "stdout",
     "output_type": "stream",
     "text": [
      "{'descripcion': 'exito', 'estado': 200, 'datos': 'https://opendata.aemet.es/opendata/sh/c9158638', 'metadatos': 'https://opendata.aemet.es/opendata/sh/b3aa9d28'}\n"
     ]
    }
   ],
   "source": [
    "url_ag20 = 'https://opendata.aemet.es/opendata/api/valores/climatologicos/diarios/datos/fechaini/2020-08-01T00%3A00%3A00UTC/fechafin/2020-08-31T00%3A00%3A00UTC/todasestaciones'\n",
    "api_file_path = '../api.txt'\n",
    "\n",
    "agosto20 = solicitud_get(url_ag20, api_file_path)\n",
    "print(agosto20)"
   ]
  },
  {
   "cell_type": "code",
   "execution_count": 464,
   "id": "87b13e8a",
   "metadata": {},
   "outputs": [],
   "source": [
    "url_datos_ag20= 'https://opendata.aemet.es/opendata/sh/c9158638'\n",
    "agosto_20= procesar_datos_mes(url_datos_ag20, columnas_interes)"
   ]
  },
  {
   "cell_type": "code",
   "execution_count": 465,
   "id": "13893d88",
   "metadata": {
    "scrolled": true
   },
   "outputs": [
    {
     "data": {
      "text/html": [
       "<div>\n",
       "<style scoped>\n",
       "    .dataframe tbody tr th:only-of-type {\n",
       "        vertical-align: middle;\n",
       "    }\n",
       "\n",
       "    .dataframe tbody tr th {\n",
       "        vertical-align: top;\n",
       "    }\n",
       "\n",
       "    .dataframe thead th {\n",
       "        text-align: right;\n",
       "    }\n",
       "</style>\n",
       "<table border=\"1\" class=\"dataframe\">\n",
       "  <thead>\n",
       "    <tr style=\"text-align: right;\">\n",
       "      <th></th>\n",
       "      <th>provincia</th>\n",
       "      <th>media_tmed</th>\n",
       "      <th>media_prec</th>\n",
       "      <th>media_sol</th>\n",
       "      <th>media_tmin</th>\n",
       "      <th>media_tmax</th>\n",
       "      <th>año</th>\n",
       "      <th>mes</th>\n",
       "    </tr>\n",
       "  </thead>\n",
       "  <tbody>\n",
       "    <tr>\n",
       "      <th>0</th>\n",
       "      <td>A CORUÑA</td>\n",
       "      <td>19.467073</td>\n",
       "      <td>3.038912</td>\n",
       "      <td>7.091558</td>\n",
       "      <td>15.711789</td>\n",
       "      <td>23.221545</td>\n",
       "      <td>2020</td>\n",
       "      <td>agosto</td>\n",
       "    </tr>\n",
       "    <tr>\n",
       "      <th>1</th>\n",
       "      <td>ALBACETE</td>\n",
       "      <td>26.240426</td>\n",
       "      <td>0.200000</td>\n",
       "      <td>11.183636</td>\n",
       "      <td>18.297872</td>\n",
       "      <td>34.198936</td>\n",
       "      <td>2020</td>\n",
       "      <td>agosto</td>\n",
       "    </tr>\n",
       "    <tr>\n",
       "      <th>2</th>\n",
       "      <td>ALICANTE</td>\n",
       "      <td>26.675806</td>\n",
       "      <td>0.381513</td>\n",
       "      <td>10.959140</td>\n",
       "      <td>20.513710</td>\n",
       "      <td>32.848387</td>\n",
       "      <td>2020</td>\n",
       "      <td>agosto</td>\n",
       "    </tr>\n",
       "    <tr>\n",
       "      <th>3</th>\n",
       "      <td>ALMERIA</td>\n",
       "      <td>26.666000</td>\n",
       "      <td>0.015054</td>\n",
       "      <td>11.261290</td>\n",
       "      <td>21.705333</td>\n",
       "      <td>31.620667</td>\n",
       "      <td>2020</td>\n",
       "      <td>agosto</td>\n",
       "    </tr>\n",
       "    <tr>\n",
       "      <th>4</th>\n",
       "      <td>ARABA/ALAVA</td>\n",
       "      <td>20.204839</td>\n",
       "      <td>1.431481</td>\n",
       "      <td>7.590323</td>\n",
       "      <td>12.262903</td>\n",
       "      <td>28.150000</td>\n",
       "      <td>2020</td>\n",
       "      <td>agosto</td>\n",
       "    </tr>\n",
       "  </tbody>\n",
       "</table>\n",
       "</div>"
      ],
      "text/plain": [
       "     provincia  media_tmed  media_prec  media_sol  media_tmin  media_tmax  \\\n",
       "0     A CORUÑA   19.467073    3.038912   7.091558   15.711789   23.221545   \n",
       "1     ALBACETE   26.240426    0.200000  11.183636   18.297872   34.198936   \n",
       "2     ALICANTE   26.675806    0.381513  10.959140   20.513710   32.848387   \n",
       "3      ALMERIA   26.666000    0.015054  11.261290   21.705333   31.620667   \n",
       "4  ARABA/ALAVA   20.204839    1.431481   7.590323   12.262903   28.150000   \n",
       "\n",
       "    año     mes  \n",
       "0  2020  agosto  \n",
       "1  2020  agosto  \n",
       "2  2020  agosto  \n",
       "3  2020  agosto  \n",
       "4  2020  agosto  "
      ]
     },
     "execution_count": 465,
     "metadata": {},
     "output_type": "execute_result"
    }
   ],
   "source": [
    "agosto_20 = procesar_y_setear_mes(agosto_20, año=2020, mes='agosto')\n",
    "agosto_20.head()"
   ]
  },
  {
   "cell_type": "markdown",
   "id": "61a87e16",
   "metadata": {},
   "source": [
    "## SEPTIEMBRE20"
   ]
  },
  {
   "cell_type": "code",
   "execution_count": 466,
   "id": "5a5df680",
   "metadata": {},
   "outputs": [
    {
     "name": "stdout",
     "output_type": "stream",
     "text": [
      "{'descripcion': 'exito', 'estado': 200, 'datos': 'https://opendata.aemet.es/opendata/sh/c8dec084', 'metadatos': 'https://opendata.aemet.es/opendata/sh/b3aa9d28'}\n"
     ]
    }
   ],
   "source": [
    "url_sep20 = 'https://opendata.aemet.es/opendata/api/valores/climatologicos/diarios/datos/fechaini/2020-09-01T00%3A00%3A00UTC/fechafin/2020-09-30T00%3A00%3A00UTC/todasestaciones'\n",
    "api_file_path = '../api.txt'\n",
    "\n",
    "septiembre20 = solicitud_get(url_sep20, api_file_path)\n",
    "print(septiembre20)"
   ]
  },
  {
   "cell_type": "code",
   "execution_count": 467,
   "id": "351ad25f",
   "metadata": {},
   "outputs": [],
   "source": [
    "url_datos_sep20= 'https://opendata.aemet.es/opendata/sh/c8dec084'\n",
    "septiembre_20= procesar_datos_mes(url_datos_sep20, columnas_interes)"
   ]
  },
  {
   "cell_type": "code",
   "execution_count": 468,
   "id": "84baa9df",
   "metadata": {
    "scrolled": true
   },
   "outputs": [
    {
     "data": {
      "text/html": [
       "<div>\n",
       "<style scoped>\n",
       "    .dataframe tbody tr th:only-of-type {\n",
       "        vertical-align: middle;\n",
       "    }\n",
       "\n",
       "    .dataframe tbody tr th {\n",
       "        vertical-align: top;\n",
       "    }\n",
       "\n",
       "    .dataframe thead th {\n",
       "        text-align: right;\n",
       "    }\n",
       "</style>\n",
       "<table border=\"1\" class=\"dataframe\">\n",
       "  <thead>\n",
       "    <tr style=\"text-align: right;\">\n",
       "      <th></th>\n",
       "      <th>provincia</th>\n",
       "      <th>media_tmed</th>\n",
       "      <th>media_prec</th>\n",
       "      <th>media_sol</th>\n",
       "      <th>media_tmin</th>\n",
       "      <th>media_tmax</th>\n",
       "      <th>año</th>\n",
       "      <th>mes</th>\n",
       "    </tr>\n",
       "  </thead>\n",
       "  <tbody>\n",
       "    <tr>\n",
       "      <th>0</th>\n",
       "      <td>A CORUÑA</td>\n",
       "      <td>18.763333</td>\n",
       "      <td>1.307339</td>\n",
       "      <td>7.921918</td>\n",
       "      <td>14.425833</td>\n",
       "      <td>23.101250</td>\n",
       "      <td>2020</td>\n",
       "      <td>septiembre</td>\n",
       "    </tr>\n",
       "    <tr>\n",
       "      <th>1</th>\n",
       "      <td>ALBACETE</td>\n",
       "      <td>20.784091</td>\n",
       "      <td>0.748864</td>\n",
       "      <td>9.035185</td>\n",
       "      <td>13.918182</td>\n",
       "      <td>27.642045</td>\n",
       "      <td>2020</td>\n",
       "      <td>septiembre</td>\n",
       "    </tr>\n",
       "    <tr>\n",
       "      <th>2</th>\n",
       "      <td>ALICANTE</td>\n",
       "      <td>22.946667</td>\n",
       "      <td>0.165812</td>\n",
       "      <td>9.438202</td>\n",
       "      <td>17.082500</td>\n",
       "      <td>28.813333</td>\n",
       "      <td>2020</td>\n",
       "      <td>septiembre</td>\n",
       "    </tr>\n",
       "    <tr>\n",
       "      <th>3</th>\n",
       "      <td>ALMERIA</td>\n",
       "      <td>23.445270</td>\n",
       "      <td>0.263333</td>\n",
       "      <td>9.013333</td>\n",
       "      <td>18.743243</td>\n",
       "      <td>28.154054</td>\n",
       "      <td>2020</td>\n",
       "      <td>septiembre</td>\n",
       "    </tr>\n",
       "    <tr>\n",
       "      <th>4</th>\n",
       "      <td>ARABA/ALAVA</td>\n",
       "      <td>17.200000</td>\n",
       "      <td>2.424528</td>\n",
       "      <td>7.303333</td>\n",
       "      <td>9.516667</td>\n",
       "      <td>24.900000</td>\n",
       "      <td>2020</td>\n",
       "      <td>septiembre</td>\n",
       "    </tr>\n",
       "  </tbody>\n",
       "</table>\n",
       "</div>"
      ],
      "text/plain": [
       "     provincia  media_tmed  media_prec  media_sol  media_tmin  media_tmax  \\\n",
       "0     A CORUÑA   18.763333    1.307339   7.921918   14.425833   23.101250   \n",
       "1     ALBACETE   20.784091    0.748864   9.035185   13.918182   27.642045   \n",
       "2     ALICANTE   22.946667    0.165812   9.438202   17.082500   28.813333   \n",
       "3      ALMERIA   23.445270    0.263333   9.013333   18.743243   28.154054   \n",
       "4  ARABA/ALAVA   17.200000    2.424528   7.303333    9.516667   24.900000   \n",
       "\n",
       "    año         mes  \n",
       "0  2020  septiembre  \n",
       "1  2020  septiembre  \n",
       "2  2020  septiembre  \n",
       "3  2020  septiembre  \n",
       "4  2020  septiembre  "
      ]
     },
     "execution_count": 468,
     "metadata": {},
     "output_type": "execute_result"
    }
   ],
   "source": [
    "septiembre_20 = procesar_y_setear_mes(septiembre_20, año=2020, mes='septiembre')\n",
    "septiembre_20.head()"
   ]
  },
  {
   "cell_type": "markdown",
   "id": "8b12edb9",
   "metadata": {},
   "source": [
    "## OCTUBRE20"
   ]
  },
  {
   "cell_type": "code",
   "execution_count": 469,
   "id": "1f3be26e",
   "metadata": {},
   "outputs": [
    {
     "name": "stdout",
     "output_type": "stream",
     "text": [
      "{'descripcion': 'exito', 'estado': 200, 'datos': 'https://opendata.aemet.es/opendata/sh/23c6bfc9', 'metadatos': 'https://opendata.aemet.es/opendata/sh/b3aa9d28'}\n"
     ]
    }
   ],
   "source": [
    "url_oct20 = 'https://opendata.aemet.es/opendata/api/valores/climatologicos/diarios/datos/fechaini/2020-10-01T00%3A00%3A00UTC/fechafin/2020-10-31T00%3A00%3A00UTC/todasestaciones'\n",
    "api_file_path = '../api.txt'\n",
    "\n",
    "octubre20 = solicitud_get(url_oct20, api_file_path)\n",
    "print(octubre20) "
   ]
  },
  {
   "cell_type": "code",
   "execution_count": 470,
   "id": "b10745de",
   "metadata": {},
   "outputs": [],
   "source": [
    "url_datos_oct20= 'https://opendata.aemet.es/opendata/sh/23c6bfc9'\n",
    "octubre_20 = procesar_datos_mes(url_datos_oct20, columnas_interes)"
   ]
  },
  {
   "cell_type": "code",
   "execution_count": 471,
   "id": "7ad7461d",
   "metadata": {
    "scrolled": true
   },
   "outputs": [
    {
     "data": {
      "text/html": [
       "<div>\n",
       "<style scoped>\n",
       "    .dataframe tbody tr th:only-of-type {\n",
       "        vertical-align: middle;\n",
       "    }\n",
       "\n",
       "    .dataframe tbody tr th {\n",
       "        vertical-align: top;\n",
       "    }\n",
       "\n",
       "    .dataframe thead th {\n",
       "        text-align: right;\n",
       "    }\n",
       "</style>\n",
       "<table border=\"1\" class=\"dataframe\">\n",
       "  <thead>\n",
       "    <tr style=\"text-align: right;\">\n",
       "      <th></th>\n",
       "      <th>provincia</th>\n",
       "      <th>media_tmed</th>\n",
       "      <th>media_prec</th>\n",
       "      <th>media_sol</th>\n",
       "      <th>media_tmin</th>\n",
       "      <th>media_tmax</th>\n",
       "      <th>año</th>\n",
       "      <th>mes</th>\n",
       "    </tr>\n",
       "  </thead>\n",
       "  <tbody>\n",
       "    <tr>\n",
       "      <th>0</th>\n",
       "      <td>A CORUÑA</td>\n",
       "      <td>14.561633</td>\n",
       "      <td>4.365417</td>\n",
       "      <td>4.166216</td>\n",
       "      <td>11.576735</td>\n",
       "      <td>17.548163</td>\n",
       "      <td>2020</td>\n",
       "      <td>octubre</td>\n",
       "    </tr>\n",
       "    <tr>\n",
       "      <th>1</th>\n",
       "      <td>ALBACETE</td>\n",
       "      <td>13.984553</td>\n",
       "      <td>0.863115</td>\n",
       "      <td>8.110526</td>\n",
       "      <td>7.540650</td>\n",
       "      <td>20.418699</td>\n",
       "      <td>2020</td>\n",
       "      <td>octubre</td>\n",
       "    </tr>\n",
       "    <tr>\n",
       "      <th>2</th>\n",
       "      <td>ALICANTE</td>\n",
       "      <td>18.218548</td>\n",
       "      <td>0.225203</td>\n",
       "      <td>8.765591</td>\n",
       "      <td>11.660484</td>\n",
       "      <td>24.777419</td>\n",
       "      <td>2020</td>\n",
       "      <td>octubre</td>\n",
       "    </tr>\n",
       "    <tr>\n",
       "      <th>3</th>\n",
       "      <td>ALMERIA</td>\n",
       "      <td>18.167333</td>\n",
       "      <td>0.111828</td>\n",
       "      <td>8.664516</td>\n",
       "      <td>12.884667</td>\n",
       "      <td>23.444000</td>\n",
       "      <td>2020</td>\n",
       "      <td>octubre</td>\n",
       "    </tr>\n",
       "    <tr>\n",
       "      <th>4</th>\n",
       "      <td>ARABA/ALAVA</td>\n",
       "      <td>11.862903</td>\n",
       "      <td>3.833898</td>\n",
       "      <td>4.341935</td>\n",
       "      <td>6.556452</td>\n",
       "      <td>17.177419</td>\n",
       "      <td>2020</td>\n",
       "      <td>octubre</td>\n",
       "    </tr>\n",
       "  </tbody>\n",
       "</table>\n",
       "</div>"
      ],
      "text/plain": [
       "     provincia  media_tmed  media_prec  media_sol  media_tmin  media_tmax  \\\n",
       "0     A CORUÑA   14.561633    4.365417   4.166216   11.576735   17.548163   \n",
       "1     ALBACETE   13.984553    0.863115   8.110526    7.540650   20.418699   \n",
       "2     ALICANTE   18.218548    0.225203   8.765591   11.660484   24.777419   \n",
       "3      ALMERIA   18.167333    0.111828   8.664516   12.884667   23.444000   \n",
       "4  ARABA/ALAVA   11.862903    3.833898   4.341935    6.556452   17.177419   \n",
       "\n",
       "    año      mes  \n",
       "0  2020  octubre  \n",
       "1  2020  octubre  \n",
       "2  2020  octubre  \n",
       "3  2020  octubre  \n",
       "4  2020  octubre  "
      ]
     },
     "execution_count": 471,
     "metadata": {},
     "output_type": "execute_result"
    }
   ],
   "source": [
    "octubre_20 = procesar_y_setear_mes(octubre_20, año=2020, mes='octubre')\n",
    "octubre_20.head()"
   ]
  },
  {
   "cell_type": "markdown",
   "id": "3cc3439c",
   "metadata": {},
   "source": [
    "## NOVIEMBRE20"
   ]
  },
  {
   "cell_type": "code",
   "execution_count": 472,
   "id": "a9dc2b98",
   "metadata": {},
   "outputs": [
    {
     "name": "stdout",
     "output_type": "stream",
     "text": [
      "{'descripcion': 'exito', 'estado': 200, 'datos': 'https://opendata.aemet.es/opendata/sh/543d2a91', 'metadatos': 'https://opendata.aemet.es/opendata/sh/b3aa9d28'}\n"
     ]
    }
   ],
   "source": [
    "url_nov20 = 'https://opendata.aemet.es/opendata/api/valores/climatologicos/diarios/datos/fechaini/2020-11-01T00%3A00%3A00UTC/fechafin/2020-11-30T00%3A00%3A00UTC/todasestaciones'\n",
    "api_file_path = '../api.txt'\n",
    "\n",
    "noviembre20 = solicitud_get(url_nov20, api_file_path)\n",
    "print(noviembre20) "
   ]
  },
  {
   "cell_type": "code",
   "execution_count": 473,
   "id": "8b37bc3f",
   "metadata": {},
   "outputs": [],
   "source": [
    "url_datos_nov20= 'https://opendata.aemet.es/opendata/sh/543d2a91'\n",
    "noviembre_20 = procesar_datos_mes(url_datos_nov20, columnas_interes)"
   ]
  },
  {
   "cell_type": "code",
   "execution_count": 474,
   "id": "66bcf8ca",
   "metadata": {},
   "outputs": [
    {
     "data": {
      "text/html": [
       "<div>\n",
       "<style scoped>\n",
       "    .dataframe tbody tr th:only-of-type {\n",
       "        vertical-align: middle;\n",
       "    }\n",
       "\n",
       "    .dataframe tbody tr th {\n",
       "        vertical-align: top;\n",
       "    }\n",
       "\n",
       "    .dataframe thead th {\n",
       "        text-align: right;\n",
       "    }\n",
       "</style>\n",
       "<table border=\"1\" class=\"dataframe\">\n",
       "  <thead>\n",
       "    <tr style=\"text-align: right;\">\n",
       "      <th></th>\n",
       "      <th>provincia</th>\n",
       "      <th>media_tmed</th>\n",
       "      <th>media_prec</th>\n",
       "      <th>media_sol</th>\n",
       "      <th>media_tmin</th>\n",
       "      <th>media_tmax</th>\n",
       "      <th>año</th>\n",
       "      <th>mes</th>\n",
       "    </tr>\n",
       "  </thead>\n",
       "  <tbody>\n",
       "    <tr>\n",
       "      <th>0</th>\n",
       "      <td>A CORUÑA</td>\n",
       "      <td>13.431381</td>\n",
       "      <td>4.028511</td>\n",
       "      <td>4.401361</td>\n",
       "      <td>10.237238</td>\n",
       "      <td>16.632636</td>\n",
       "      <td>2020</td>\n",
       "      <td>noviembre</td>\n",
       "    </tr>\n",
       "    <tr>\n",
       "      <th>1</th>\n",
       "      <td>ALBACETE</td>\n",
       "      <td>11.836667</td>\n",
       "      <td>2.661667</td>\n",
       "      <td>5.826415</td>\n",
       "      <td>6.506667</td>\n",
       "      <td>17.160833</td>\n",
       "      <td>2020</td>\n",
       "      <td>noviembre</td>\n",
       "    </tr>\n",
       "    <tr>\n",
       "      <th>2</th>\n",
       "      <td>ALICANTE</td>\n",
       "      <td>15.717544</td>\n",
       "      <td>0.998165</td>\n",
       "      <td>6.610465</td>\n",
       "      <td>10.228070</td>\n",
       "      <td>21.203509</td>\n",
       "      <td>2020</td>\n",
       "      <td>noviembre</td>\n",
       "    </tr>\n",
       "    <tr>\n",
       "      <th>3</th>\n",
       "      <td>ALMERIA</td>\n",
       "      <td>16.323448</td>\n",
       "      <td>1.281818</td>\n",
       "      <td>6.930000</td>\n",
       "      <td>11.704828</td>\n",
       "      <td>20.940690</td>\n",
       "      <td>2020</td>\n",
       "      <td>noviembre</td>\n",
       "    </tr>\n",
       "    <tr>\n",
       "      <th>4</th>\n",
       "      <td>ARABA/ALAVA</td>\n",
       "      <td>9.746667</td>\n",
       "      <td>1.058929</td>\n",
       "      <td>4.533333</td>\n",
       "      <td>4.360000</td>\n",
       "      <td>15.130000</td>\n",
       "      <td>2020</td>\n",
       "      <td>noviembre</td>\n",
       "    </tr>\n",
       "  </tbody>\n",
       "</table>\n",
       "</div>"
      ],
      "text/plain": [
       "     provincia  media_tmed  media_prec  media_sol  media_tmin  media_tmax  \\\n",
       "0     A CORUÑA   13.431381    4.028511   4.401361   10.237238   16.632636   \n",
       "1     ALBACETE   11.836667    2.661667   5.826415    6.506667   17.160833   \n",
       "2     ALICANTE   15.717544    0.998165   6.610465   10.228070   21.203509   \n",
       "3      ALMERIA   16.323448    1.281818   6.930000   11.704828   20.940690   \n",
       "4  ARABA/ALAVA    9.746667    1.058929   4.533333    4.360000   15.130000   \n",
       "\n",
       "    año        mes  \n",
       "0  2020  noviembre  \n",
       "1  2020  noviembre  \n",
       "2  2020  noviembre  \n",
       "3  2020  noviembre  \n",
       "4  2020  noviembre  "
      ]
     },
     "execution_count": 474,
     "metadata": {},
     "output_type": "execute_result"
    }
   ],
   "source": [
    "noviembre_20 = procesar_y_setear_mes(noviembre_20, año=2020, mes='noviembre')\n",
    "noviembre_20.head()"
   ]
  },
  {
   "cell_type": "markdown",
   "id": "5ac198cd",
   "metadata": {},
   "source": [
    "## DICIEMBRE20"
   ]
  },
  {
   "cell_type": "code",
   "execution_count": 475,
   "id": "a65e44f5",
   "metadata": {},
   "outputs": [
    {
     "name": "stdout",
     "output_type": "stream",
     "text": [
      "{'descripcion': 'exito', 'estado': 200, 'datos': 'https://opendata.aemet.es/opendata/sh/550f538f', 'metadatos': 'https://opendata.aemet.es/opendata/sh/b3aa9d28'}\n"
     ]
    }
   ],
   "source": [
    "url_dic20= 'https://opendata.aemet.es/opendata/api/valores/climatologicos/diarios/datos/fechaini/2020-12-01T00%3A00%3A00UTC/fechafin/2020-12-31T00%3A00%3A00UTC/todasestaciones'\n",
    "api_file_path = '../api.txt'\n",
    "\n",
    "diciembre20 = solicitud_get(url_dic20, api_file_path)\n",
    "print(diciembre20) "
   ]
  },
  {
   "cell_type": "code",
   "execution_count": 476,
   "id": "4a6926a0",
   "metadata": {},
   "outputs": [],
   "source": [
    "url_datos_dic20= 'https://opendata.aemet.es/opendata/sh/550f538f'\n",
    "diciembre_20= procesar_datos_mes(url_datos_dic20, columnas_interes)"
   ]
  },
  {
   "cell_type": "code",
   "execution_count": 477,
   "id": "922d0258",
   "metadata": {
    "scrolled": true
   },
   "outputs": [
    {
     "data": {
      "text/html": [
       "<div>\n",
       "<style scoped>\n",
       "    .dataframe tbody tr th:only-of-type {\n",
       "        vertical-align: middle;\n",
       "    }\n",
       "\n",
       "    .dataframe tbody tr th {\n",
       "        vertical-align: top;\n",
       "    }\n",
       "\n",
       "    .dataframe thead th {\n",
       "        text-align: right;\n",
       "    }\n",
       "</style>\n",
       "<table border=\"1\" class=\"dataframe\">\n",
       "  <thead>\n",
       "    <tr style=\"text-align: right;\">\n",
       "      <th></th>\n",
       "      <th>provincia</th>\n",
       "      <th>media_tmed</th>\n",
       "      <th>media_prec</th>\n",
       "      <th>media_sol</th>\n",
       "      <th>media_tmin</th>\n",
       "      <th>media_tmax</th>\n",
       "      <th>año</th>\n",
       "      <th>mes</th>\n",
       "    </tr>\n",
       "  </thead>\n",
       "  <tbody>\n",
       "    <tr>\n",
       "      <th>0</th>\n",
       "      <td>A CORUÑA</td>\n",
       "      <td>10.233878</td>\n",
       "      <td>7.775207</td>\n",
       "      <td>2.098649</td>\n",
       "      <td>7.640816</td>\n",
       "      <td>12.828571</td>\n",
       "      <td>2020</td>\n",
       "      <td>diciembre</td>\n",
       "    </tr>\n",
       "    <tr>\n",
       "      <th>1</th>\n",
       "      <td>ALBACETE</td>\n",
       "      <td>6.778226</td>\n",
       "      <td>0.714634</td>\n",
       "      <td>5.110000</td>\n",
       "      <td>2.020968</td>\n",
       "      <td>11.525000</td>\n",
       "      <td>2020</td>\n",
       "      <td>diciembre</td>\n",
       "    </tr>\n",
       "    <tr>\n",
       "      <th>2</th>\n",
       "      <td>ALICANTE</td>\n",
       "      <td>11.990244</td>\n",
       "      <td>0.189167</td>\n",
       "      <td>6.617204</td>\n",
       "      <td>6.378049</td>\n",
       "      <td>17.597561</td>\n",
       "      <td>2020</td>\n",
       "      <td>diciembre</td>\n",
       "    </tr>\n",
       "    <tr>\n",
       "      <th>3</th>\n",
       "      <td>ALMERIA</td>\n",
       "      <td>12.791429</td>\n",
       "      <td>0.037634</td>\n",
       "      <td>7.093548</td>\n",
       "      <td>8.021429</td>\n",
       "      <td>17.557857</td>\n",
       "      <td>2020</td>\n",
       "      <td>diciembre</td>\n",
       "    </tr>\n",
       "    <tr>\n",
       "      <th>4</th>\n",
       "      <td>ARABA/ALAVA</td>\n",
       "      <td>6.256452</td>\n",
       "      <td>5.535088</td>\n",
       "      <td>2.387097</td>\n",
       "      <td>2.927419</td>\n",
       "      <td>9.590323</td>\n",
       "      <td>2020</td>\n",
       "      <td>diciembre</td>\n",
       "    </tr>\n",
       "  </tbody>\n",
       "</table>\n",
       "</div>"
      ],
      "text/plain": [
       "     provincia  media_tmed  media_prec  media_sol  media_tmin  media_tmax  \\\n",
       "0     A CORUÑA   10.233878    7.775207   2.098649    7.640816   12.828571   \n",
       "1     ALBACETE    6.778226    0.714634   5.110000    2.020968   11.525000   \n",
       "2     ALICANTE   11.990244    0.189167   6.617204    6.378049   17.597561   \n",
       "3      ALMERIA   12.791429    0.037634   7.093548    8.021429   17.557857   \n",
       "4  ARABA/ALAVA    6.256452    5.535088   2.387097    2.927419    9.590323   \n",
       "\n",
       "    año        mes  \n",
       "0  2020  diciembre  \n",
       "1  2020  diciembre  \n",
       "2  2020  diciembre  \n",
       "3  2020  diciembre  \n",
       "4  2020  diciembre  "
      ]
     },
     "execution_count": 477,
     "metadata": {},
     "output_type": "execute_result"
    }
   ],
   "source": [
    "diciembre_20 = procesar_y_setear_mes(diciembre_20, año=2020, mes='diciembre')\n",
    "diciembre_20.head()"
   ]
  },
  {
   "cell_type": "markdown",
   "id": "9316e48a",
   "metadata": {},
   "source": [
    "## ENERO19"
   ]
  },
  {
   "cell_type": "code",
   "execution_count": 478,
   "id": "e8a242cc",
   "metadata": {},
   "outputs": [
    {
     "name": "stdout",
     "output_type": "stream",
     "text": [
      "{'descripcion': 'exito', 'estado': 200, 'datos': 'https://opendata.aemet.es/opendata/sh/4921b452', 'metadatos': 'https://opendata.aemet.es/opendata/sh/b3aa9d28'}\n"
     ]
    }
   ],
   "source": [
    "url_en19 = 'https://opendata.aemet.es/opendata/api/valores/climatologicos/diarios/datos/fechaini/2019-01-01T00%3A00%3A00UTC/fechafin/2019-01-31T00%3A00%3A00UTC/todasestaciones'\n",
    "api_file_path = '../api.txt'\n",
    "\n",
    "enero19 = solicitud_get(url_en19, api_file_path)\n",
    "print(enero19)"
   ]
  },
  {
   "cell_type": "code",
   "execution_count": 479,
   "id": "ec3700dd",
   "metadata": {},
   "outputs": [],
   "source": [
    "url_datos_en19= 'https://opendata.aemet.es/opendata/sh/4921b452'\n",
    "enero_19= procesar_datos_mes(url_datos_en19, columnas_interes)"
   ]
  },
  {
   "cell_type": "code",
   "execution_count": 480,
   "id": "3e68b4a0",
   "metadata": {
    "scrolled": true
   },
   "outputs": [
    {
     "data": {
      "text/html": [
       "<div>\n",
       "<style scoped>\n",
       "    .dataframe tbody tr th:only-of-type {\n",
       "        vertical-align: middle;\n",
       "    }\n",
       "\n",
       "    .dataframe tbody tr th {\n",
       "        vertical-align: top;\n",
       "    }\n",
       "\n",
       "    .dataframe thead th {\n",
       "        text-align: right;\n",
       "    }\n",
       "</style>\n",
       "<table border=\"1\" class=\"dataframe\">\n",
       "  <thead>\n",
       "    <tr style=\"text-align: right;\">\n",
       "      <th></th>\n",
       "      <th>provincia</th>\n",
       "      <th>media_tmed</th>\n",
       "      <th>media_prec</th>\n",
       "      <th>media_sol</th>\n",
       "      <th>media_tmin</th>\n",
       "      <th>media_tmax</th>\n",
       "      <th>año</th>\n",
       "      <th>mes</th>\n",
       "    </tr>\n",
       "  </thead>\n",
       "  <tbody>\n",
       "    <tr>\n",
       "      <th>0</th>\n",
       "      <td>A CORUÑA</td>\n",
       "      <td>9.088710</td>\n",
       "      <td>3.441304</td>\n",
       "      <td>3.798529</td>\n",
       "      <td>5.790726</td>\n",
       "      <td>12.392339</td>\n",
       "      <td>2019</td>\n",
       "      <td>enero</td>\n",
       "    </tr>\n",
       "    <tr>\n",
       "      <th>1</th>\n",
       "      <td>ALBACETE</td>\n",
       "      <td>6.612903</td>\n",
       "      <td>0.131818</td>\n",
       "      <td>6.670909</td>\n",
       "      <td>0.508602</td>\n",
       "      <td>12.716129</td>\n",
       "      <td>2019</td>\n",
       "      <td>enero</td>\n",
       "    </tr>\n",
       "    <tr>\n",
       "      <th>2</th>\n",
       "      <td>ALICANTE</td>\n",
       "      <td>10.133871</td>\n",
       "      <td>0.091736</td>\n",
       "      <td>6.831183</td>\n",
       "      <td>4.155645</td>\n",
       "      <td>16.129839</td>\n",
       "      <td>2019</td>\n",
       "      <td>enero</td>\n",
       "    </tr>\n",
       "    <tr>\n",
       "      <th>3</th>\n",
       "      <td>ALMERIA</td>\n",
       "      <td>12.023810</td>\n",
       "      <td>0.050336</td>\n",
       "      <td>7.603226</td>\n",
       "      <td>6.736054</td>\n",
       "      <td>17.312925</td>\n",
       "      <td>2019</td>\n",
       "      <td>enero</td>\n",
       "    </tr>\n",
       "    <tr>\n",
       "      <th>4</th>\n",
       "      <td>ARABA/ALAVA</td>\n",
       "      <td>4.633871</td>\n",
       "      <td>6.223729</td>\n",
       "      <td>2.580645</td>\n",
       "      <td>0.650000</td>\n",
       "      <td>8.616129</td>\n",
       "      <td>2019</td>\n",
       "      <td>enero</td>\n",
       "    </tr>\n",
       "  </tbody>\n",
       "</table>\n",
       "</div>"
      ],
      "text/plain": [
       "     provincia  media_tmed  media_prec  media_sol  media_tmin  media_tmax  \\\n",
       "0     A CORUÑA    9.088710    3.441304   3.798529    5.790726   12.392339   \n",
       "1     ALBACETE    6.612903    0.131818   6.670909    0.508602   12.716129   \n",
       "2     ALICANTE   10.133871    0.091736   6.831183    4.155645   16.129839   \n",
       "3      ALMERIA   12.023810    0.050336   7.603226    6.736054   17.312925   \n",
       "4  ARABA/ALAVA    4.633871    6.223729   2.580645    0.650000    8.616129   \n",
       "\n",
       "    año    mes  \n",
       "0  2019  enero  \n",
       "1  2019  enero  \n",
       "2  2019  enero  \n",
       "3  2019  enero  \n",
       "4  2019  enero  "
      ]
     },
     "execution_count": 480,
     "metadata": {},
     "output_type": "execute_result"
    }
   ],
   "source": [
    "enero_19 = procesar_y_setear_mes(enero_19, año=2019, mes='enero')\n",
    "enero_19.head()"
   ]
  },
  {
   "cell_type": "markdown",
   "id": "d6aa29ff",
   "metadata": {},
   "source": [
    "## FEBRERO19"
   ]
  },
  {
   "cell_type": "code",
   "execution_count": 481,
   "id": "5351ef6f",
   "metadata": {},
   "outputs": [
    {
     "name": "stdout",
     "output_type": "stream",
     "text": [
      "{'descripcion': 'exito', 'estado': 200, 'datos': 'https://opendata.aemet.es/opendata/sh/188ecd8a', 'metadatos': 'https://opendata.aemet.es/opendata/sh/b3aa9d28'}\n"
     ]
    }
   ],
   "source": [
    "url_feb19 = 'https://opendata.aemet.es/opendata/api/valores/climatologicos/diarios/datos/fechaini/2019-02-01T00%3A00%3A00UTC/fechafin/2019-02-28T00%3A00%3A00UTC/todasestaciones'\n",
    "api_file_path = '../api.txt'\n",
    "\n",
    "febrero19 = solicitud_get(url_feb19, api_file_path)\n",
    "print(febrero19)"
   ]
  },
  {
   "cell_type": "code",
   "execution_count": 482,
   "id": "a5638252",
   "metadata": {},
   "outputs": [],
   "source": [
    "url_datos_feb19=  'https://opendata.aemet.es/opendata/sh/188ecd8a'\n",
    "febrero_19= procesar_datos_mes(url_datos_feb19, columnas_interes)"
   ]
  },
  {
   "cell_type": "code",
   "execution_count": 483,
   "id": "9aca83ed",
   "metadata": {
    "scrolled": true
   },
   "outputs": [
    {
     "data": {
      "text/html": [
       "<div>\n",
       "<style scoped>\n",
       "    .dataframe tbody tr th:only-of-type {\n",
       "        vertical-align: middle;\n",
       "    }\n",
       "\n",
       "    .dataframe tbody tr th {\n",
       "        vertical-align: top;\n",
       "    }\n",
       "\n",
       "    .dataframe thead th {\n",
       "        text-align: right;\n",
       "    }\n",
       "</style>\n",
       "<table border=\"1\" class=\"dataframe\">\n",
       "  <thead>\n",
       "    <tr style=\"text-align: right;\">\n",
       "      <th></th>\n",
       "      <th>provincia</th>\n",
       "      <th>media_tmed</th>\n",
       "      <th>media_prec</th>\n",
       "      <th>media_sol</th>\n",
       "      <th>media_tmin</th>\n",
       "      <th>media_tmax</th>\n",
       "      <th>año</th>\n",
       "      <th>mes</th>\n",
       "    </tr>\n",
       "  </thead>\n",
       "  <tbody>\n",
       "    <tr>\n",
       "      <th>0</th>\n",
       "      <td>A CORUÑA</td>\n",
       "      <td>11.364414</td>\n",
       "      <td>1.770673</td>\n",
       "      <td>6.068254</td>\n",
       "      <td>7.122072</td>\n",
       "      <td>15.616667</td>\n",
       "      <td>2019</td>\n",
       "      <td>febrero</td>\n",
       "    </tr>\n",
       "    <tr>\n",
       "      <th>1</th>\n",
       "      <td>ALBACETE</td>\n",
       "      <td>9.293548</td>\n",
       "      <td>0.116304</td>\n",
       "      <td>8.723077</td>\n",
       "      <td>2.065591</td>\n",
       "      <td>16.519355</td>\n",
       "      <td>2019</td>\n",
       "      <td>febrero</td>\n",
       "    </tr>\n",
       "    <tr>\n",
       "      <th>2</th>\n",
       "      <td>ALICANTE</td>\n",
       "      <td>10.861607</td>\n",
       "      <td>0.055357</td>\n",
       "      <td>9.092857</td>\n",
       "      <td>4.135714</td>\n",
       "      <td>17.591964</td>\n",
       "      <td>2019</td>\n",
       "      <td>febrero</td>\n",
       "    </tr>\n",
       "    <tr>\n",
       "      <th>3</th>\n",
       "      <td>ALMERIA</td>\n",
       "      <td>12.138655</td>\n",
       "      <td>0.055714</td>\n",
       "      <td>8.807143</td>\n",
       "      <td>6.531933</td>\n",
       "      <td>17.739496</td>\n",
       "      <td>2019</td>\n",
       "      <td>febrero</td>\n",
       "    </tr>\n",
       "    <tr>\n",
       "      <th>4</th>\n",
       "      <td>ARABA/ALAVA</td>\n",
       "      <td>7.067857</td>\n",
       "      <td>1.883333</td>\n",
       "      <td>6.782143</td>\n",
       "      <td>-0.194643</td>\n",
       "      <td>14.319643</td>\n",
       "      <td>2019</td>\n",
       "      <td>febrero</td>\n",
       "    </tr>\n",
       "  </tbody>\n",
       "</table>\n",
       "</div>"
      ],
      "text/plain": [
       "     provincia  media_tmed  media_prec  media_sol  media_tmin  media_tmax  \\\n",
       "0     A CORUÑA   11.364414    1.770673   6.068254    7.122072   15.616667   \n",
       "1     ALBACETE    9.293548    0.116304   8.723077    2.065591   16.519355   \n",
       "2     ALICANTE   10.861607    0.055357   9.092857    4.135714   17.591964   \n",
       "3      ALMERIA   12.138655    0.055714   8.807143    6.531933   17.739496   \n",
       "4  ARABA/ALAVA    7.067857    1.883333   6.782143   -0.194643   14.319643   \n",
       "\n",
       "    año      mes  \n",
       "0  2019  febrero  \n",
       "1  2019  febrero  \n",
       "2  2019  febrero  \n",
       "3  2019  febrero  \n",
       "4  2019  febrero  "
      ]
     },
     "execution_count": 483,
     "metadata": {},
     "output_type": "execute_result"
    }
   ],
   "source": [
    "febrero_19 = procesar_y_setear_mes(febrero_19, año=2019, mes='febrero')\n",
    "febrero_19.head()"
   ]
  },
  {
   "cell_type": "markdown",
   "id": "b67f5835",
   "metadata": {},
   "source": [
    "## MARZO19"
   ]
  },
  {
   "cell_type": "code",
   "execution_count": 484,
   "id": "d89ce805",
   "metadata": {
    "scrolled": true
   },
   "outputs": [
    {
     "name": "stdout",
     "output_type": "stream",
     "text": [
      "{'descripcion': 'exito', 'estado': 200, 'datos': 'https://opendata.aemet.es/opendata/sh/a23abaa4', 'metadatos': 'https://opendata.aemet.es/opendata/sh/b3aa9d28'}\n"
     ]
    }
   ],
   "source": [
    "url_mzo19 = 'https://opendata.aemet.es/opendata/api/valores/climatologicos/diarios/datos/fechaini/2019-03-01T00%3A00%3A00UTC/fechafin/2019-03-31T00%3A00%3A00UTC/todasestaciones'\n",
    "api_file_path = '../api.txt'\n",
    "\n",
    "marzo19 = solicitud_get(url_mzo19, api_file_path)\n",
    "print(marzo19)"
   ]
  },
  {
   "cell_type": "code",
   "execution_count": 485,
   "id": "dbe9f6ad",
   "metadata": {},
   "outputs": [],
   "source": [
    "url_datos_mzo19=  'https://opendata.aemet.es/opendata/sh/a23abaa4'\n",
    "marzo_19= procesar_datos_mes(url_datos_mzo19, columnas_interes)"
   ]
  },
  {
   "cell_type": "code",
   "execution_count": 486,
   "id": "321bf7fc",
   "metadata": {
    "scrolled": true
   },
   "outputs": [
    {
     "data": {
      "text/html": [
       "<div>\n",
       "<style scoped>\n",
       "    .dataframe tbody tr th:only-of-type {\n",
       "        vertical-align: middle;\n",
       "    }\n",
       "\n",
       "    .dataframe tbody tr th {\n",
       "        vertical-align: top;\n",
       "    }\n",
       "\n",
       "    .dataframe thead th {\n",
       "        text-align: right;\n",
       "    }\n",
       "</style>\n",
       "<table border=\"1\" class=\"dataframe\">\n",
       "  <thead>\n",
       "    <tr style=\"text-align: right;\">\n",
       "      <th></th>\n",
       "      <th>provincia</th>\n",
       "      <th>media_tmed</th>\n",
       "      <th>media_prec</th>\n",
       "      <th>media_sol</th>\n",
       "      <th>media_tmin</th>\n",
       "      <th>media_tmax</th>\n",
       "      <th>año</th>\n",
       "      <th>mes</th>\n",
       "    </tr>\n",
       "  </thead>\n",
       "  <tbody>\n",
       "    <tr>\n",
       "      <th>0</th>\n",
       "      <td>A CORUÑA</td>\n",
       "      <td>11.691532</td>\n",
       "      <td>2.531381</td>\n",
       "      <td>6.835294</td>\n",
       "      <td>7.400403</td>\n",
       "      <td>15.987500</td>\n",
       "      <td>2019</td>\n",
       "      <td>marzo</td>\n",
       "    </tr>\n",
       "    <tr>\n",
       "      <th>1</th>\n",
       "      <td>ALBACETE</td>\n",
       "      <td>11.173387</td>\n",
       "      <td>0.684298</td>\n",
       "      <td>8.885714</td>\n",
       "      <td>3.891935</td>\n",
       "      <td>18.456452</td>\n",
       "      <td>2019</td>\n",
       "      <td>marzo</td>\n",
       "    </tr>\n",
       "    <tr>\n",
       "      <th>2</th>\n",
       "      <td>ALICANTE</td>\n",
       "      <td>12.740650</td>\n",
       "      <td>0.828333</td>\n",
       "      <td>8.707527</td>\n",
       "      <td>6.112195</td>\n",
       "      <td>19.363415</td>\n",
       "      <td>2019</td>\n",
       "      <td>marzo</td>\n",
       "    </tr>\n",
       "    <tr>\n",
       "      <th>3</th>\n",
       "      <td>ALMERIA</td>\n",
       "      <td>14.581102</td>\n",
       "      <td>0.278431</td>\n",
       "      <td>8.529032</td>\n",
       "      <td>9.638583</td>\n",
       "      <td>19.523622</td>\n",
       "      <td>2019</td>\n",
       "      <td>marzo</td>\n",
       "    </tr>\n",
       "    <tr>\n",
       "      <th>4</th>\n",
       "      <td>ARABA/ALAVA</td>\n",
       "      <td>8.542623</td>\n",
       "      <td>0.677193</td>\n",
       "      <td>7.703226</td>\n",
       "      <td>1.308197</td>\n",
       "      <td>15.780328</td>\n",
       "      <td>2019</td>\n",
       "      <td>marzo</td>\n",
       "    </tr>\n",
       "  </tbody>\n",
       "</table>\n",
       "</div>"
      ],
      "text/plain": [
       "     provincia  media_tmed  media_prec  media_sol  media_tmin  media_tmax  \\\n",
       "0     A CORUÑA   11.691532    2.531381   6.835294    7.400403   15.987500   \n",
       "1     ALBACETE   11.173387    0.684298   8.885714    3.891935   18.456452   \n",
       "2     ALICANTE   12.740650    0.828333   8.707527    6.112195   19.363415   \n",
       "3      ALMERIA   14.581102    0.278431   8.529032    9.638583   19.523622   \n",
       "4  ARABA/ALAVA    8.542623    0.677193   7.703226    1.308197   15.780328   \n",
       "\n",
       "    año    mes  \n",
       "0  2019  marzo  \n",
       "1  2019  marzo  \n",
       "2  2019  marzo  \n",
       "3  2019  marzo  \n",
       "4  2019  marzo  "
      ]
     },
     "execution_count": 486,
     "metadata": {},
     "output_type": "execute_result"
    }
   ],
   "source": [
    "marzo_19 = procesar_y_setear_mes(marzo_19, año=2019, mes='marzo')\n",
    "marzo_19.head()"
   ]
  },
  {
   "cell_type": "markdown",
   "id": "7fc8d00a",
   "metadata": {},
   "source": [
    "## ABRIL19"
   ]
  },
  {
   "cell_type": "code",
   "execution_count": 487,
   "id": "199dc425",
   "metadata": {},
   "outputs": [
    {
     "name": "stdout",
     "output_type": "stream",
     "text": [
      "{'descripcion': 'exito', 'estado': 200, 'datos': 'https://opendata.aemet.es/opendata/sh/8dc909ad', 'metadatos': 'https://opendata.aemet.es/opendata/sh/b3aa9d28'}\n"
     ]
    }
   ],
   "source": [
    "url_abr19 = 'https://opendata.aemet.es/opendata/api/valores/climatologicos/diarios/datos/fechaini/2019-04-01T00%3A00%3A00UTC/fechafin/2019-04-30T00%3A00%3A00UTC/todasestaciones'\n",
    "api_file_path = '../api.txt'\n",
    "\n",
    "abril19 = solicitud_get(url_abr19, api_file_path)\n",
    "print(abril19)"
   ]
  },
  {
   "cell_type": "code",
   "execution_count": 488,
   "id": "763408f4",
   "metadata": {},
   "outputs": [],
   "source": [
    "url_datos_abr19=  'https://opendata.aemet.es/opendata/sh/8dc909ad'\n",
    "abril_19= procesar_datos_mes(url_datos_abr19, columnas_interes)"
   ]
  },
  {
   "cell_type": "code",
   "execution_count": 489,
   "id": "921cff4e",
   "metadata": {
    "scrolled": false
   },
   "outputs": [
    {
     "data": {
      "text/html": [
       "<div>\n",
       "<style scoped>\n",
       "    .dataframe tbody tr th:only-of-type {\n",
       "        vertical-align: middle;\n",
       "    }\n",
       "\n",
       "    .dataframe tbody tr th {\n",
       "        vertical-align: top;\n",
       "    }\n",
       "\n",
       "    .dataframe thead th {\n",
       "        text-align: right;\n",
       "    }\n",
       "</style>\n",
       "<table border=\"1\" class=\"dataframe\">\n",
       "  <thead>\n",
       "    <tr style=\"text-align: right;\">\n",
       "      <th></th>\n",
       "      <th>provincia</th>\n",
       "      <th>media_tmed</th>\n",
       "      <th>media_prec</th>\n",
       "      <th>media_sol</th>\n",
       "      <th>media_tmin</th>\n",
       "      <th>media_tmax</th>\n",
       "      <th>año</th>\n",
       "      <th>mes</th>\n",
       "    </tr>\n",
       "  </thead>\n",
       "  <tbody>\n",
       "    <tr>\n",
       "      <th>0</th>\n",
       "      <td>A CORUÑA</td>\n",
       "      <td>12.008017</td>\n",
       "      <td>4.688106</td>\n",
       "      <td>6.258519</td>\n",
       "      <td>8.148101</td>\n",
       "      <td>15.865823</td>\n",
       "      <td>2019</td>\n",
       "      <td>abril</td>\n",
       "    </tr>\n",
       "    <tr>\n",
       "      <th>1</th>\n",
       "      <td>ALBACETE</td>\n",
       "      <td>11.467521</td>\n",
       "      <td>4.981739</td>\n",
       "      <td>7.768519</td>\n",
       "      <td>6.119658</td>\n",
       "      <td>16.817094</td>\n",
       "      <td>2019</td>\n",
       "      <td>abril</td>\n",
       "    </tr>\n",
       "    <tr>\n",
       "      <th>2</th>\n",
       "      <td>ALICANTE</td>\n",
       "      <td>14.464957</td>\n",
       "      <td>6.569027</td>\n",
       "      <td>7.941111</td>\n",
       "      <td>9.428205</td>\n",
       "      <td>19.505128</td>\n",
       "      <td>2019</td>\n",
       "      <td>abril</td>\n",
       "    </tr>\n",
       "    <tr>\n",
       "      <th>3</th>\n",
       "      <td>ALMERIA</td>\n",
       "      <td>15.465101</td>\n",
       "      <td>1.325676</td>\n",
       "      <td>9.146667</td>\n",
       "      <td>11.003356</td>\n",
       "      <td>19.929530</td>\n",
       "      <td>2019</td>\n",
       "      <td>abril</td>\n",
       "    </tr>\n",
       "    <tr>\n",
       "      <th>4</th>\n",
       "      <td>ARABA/ALAVA</td>\n",
       "      <td>9.975000</td>\n",
       "      <td>2.286441</td>\n",
       "      <td>5.526667</td>\n",
       "      <td>3.906667</td>\n",
       "      <td>16.045000</td>\n",
       "      <td>2019</td>\n",
       "      <td>abril</td>\n",
       "    </tr>\n",
       "  </tbody>\n",
       "</table>\n",
       "</div>"
      ],
      "text/plain": [
       "     provincia  media_tmed  media_prec  media_sol  media_tmin  media_tmax  \\\n",
       "0     A CORUÑA   12.008017    4.688106   6.258519    8.148101   15.865823   \n",
       "1     ALBACETE   11.467521    4.981739   7.768519    6.119658   16.817094   \n",
       "2     ALICANTE   14.464957    6.569027   7.941111    9.428205   19.505128   \n",
       "3      ALMERIA   15.465101    1.325676   9.146667   11.003356   19.929530   \n",
       "4  ARABA/ALAVA    9.975000    2.286441   5.526667    3.906667   16.045000   \n",
       "\n",
       "    año    mes  \n",
       "0  2019  abril  \n",
       "1  2019  abril  \n",
       "2  2019  abril  \n",
       "3  2019  abril  \n",
       "4  2019  abril  "
      ]
     },
     "execution_count": 489,
     "metadata": {},
     "output_type": "execute_result"
    }
   ],
   "source": [
    "abril_19 = procesar_y_setear_mes(abril_19, año=2019, mes='abril')\n",
    "abril_19.head()"
   ]
  },
  {
   "cell_type": "markdown",
   "id": "3749e3ac",
   "metadata": {},
   "source": [
    "## MAYO19"
   ]
  },
  {
   "cell_type": "code",
   "execution_count": 490,
   "id": "bd00f3a2",
   "metadata": {},
   "outputs": [
    {
     "name": "stdout",
     "output_type": "stream",
     "text": [
      "{'descripcion': 'exito', 'estado': 200, 'datos': 'https://opendata.aemet.es/opendata/sh/3227ed55', 'metadatos': 'https://opendata.aemet.es/opendata/sh/b3aa9d28'}\n"
     ]
    }
   ],
   "source": [
    "url_my19 = 'https://opendata.aemet.es/opendata/api/valores/climatologicos/diarios/datos/fechaini/2019-05-01T00%3A00%3A00UTC/fechafin/2019-05-31T00%3A00%3A00UTC/todasestaciones'\n",
    "api_file_path = '../api.txt'\n",
    "\n",
    "mayo19 = solicitud_get(url_my19, api_file_path)\n",
    "print(mayo19)"
   ]
  },
  {
   "cell_type": "code",
   "execution_count": 491,
   "id": "5d3513dc",
   "metadata": {},
   "outputs": [],
   "source": [
    "url_datos_my19=  'https://opendata.aemet.es/opendata/sh/3227ed55'\n",
    "mayo_19= procesar_datos_mes(url_datos_my19, columnas_interes)"
   ]
  },
  {
   "cell_type": "code",
   "execution_count": 492,
   "id": "90084f5f",
   "metadata": {
    "scrolled": true
   },
   "outputs": [
    {
     "data": {
      "text/html": [
       "<div>\n",
       "<style scoped>\n",
       "    .dataframe tbody tr th:only-of-type {\n",
       "        vertical-align: middle;\n",
       "    }\n",
       "\n",
       "    .dataframe tbody tr th {\n",
       "        vertical-align: top;\n",
       "    }\n",
       "\n",
       "    .dataframe thead th {\n",
       "        text-align: right;\n",
       "    }\n",
       "</style>\n",
       "<table border=\"1\" class=\"dataframe\">\n",
       "  <thead>\n",
       "    <tr style=\"text-align: right;\">\n",
       "      <th></th>\n",
       "      <th>provincia</th>\n",
       "      <th>media_tmed</th>\n",
       "      <th>media_prec</th>\n",
       "      <th>media_sol</th>\n",
       "      <th>media_tmin</th>\n",
       "      <th>media_tmax</th>\n",
       "      <th>año</th>\n",
       "      <th>mes</th>\n",
       "    </tr>\n",
       "  </thead>\n",
       "  <tbody>\n",
       "    <tr>\n",
       "      <th>0</th>\n",
       "      <td>A CORUÑA</td>\n",
       "      <td>14.989474</td>\n",
       "      <td>1.383128</td>\n",
       "      <td>8.838235</td>\n",
       "      <td>10.632794</td>\n",
       "      <td>19.340891</td>\n",
       "      <td>2019</td>\n",
       "      <td>mayo</td>\n",
       "    </tr>\n",
       "    <tr>\n",
       "      <th>1</th>\n",
       "      <td>ALBACETE</td>\n",
       "      <td>17.135484</td>\n",
       "      <td>0.235772</td>\n",
       "      <td>10.617857</td>\n",
       "      <td>10.009677</td>\n",
       "      <td>24.262903</td>\n",
       "      <td>2019</td>\n",
       "      <td>mayo</td>\n",
       "    </tr>\n",
       "    <tr>\n",
       "      <th>2</th>\n",
       "      <td>ALICANTE</td>\n",
       "      <td>18.205691</td>\n",
       "      <td>0.241803</td>\n",
       "      <td>10.668817</td>\n",
       "      <td>12.524390</td>\n",
       "      <td>23.891870</td>\n",
       "      <td>2019</td>\n",
       "      <td>mayo</td>\n",
       "    </tr>\n",
       "    <tr>\n",
       "      <th>3</th>\n",
       "      <td>ALMERIA</td>\n",
       "      <td>19.587662</td>\n",
       "      <td>0.047097</td>\n",
       "      <td>11.077419</td>\n",
       "      <td>14.905844</td>\n",
       "      <td>24.272078</td>\n",
       "      <td>2019</td>\n",
       "      <td>mayo</td>\n",
       "    </tr>\n",
       "    <tr>\n",
       "      <th>4</th>\n",
       "      <td>ARABA/ALAVA</td>\n",
       "      <td>11.848387</td>\n",
       "      <td>1.646552</td>\n",
       "      <td>7.029032</td>\n",
       "      <td>4.982258</td>\n",
       "      <td>18.714516</td>\n",
       "      <td>2019</td>\n",
       "      <td>mayo</td>\n",
       "    </tr>\n",
       "  </tbody>\n",
       "</table>\n",
       "</div>"
      ],
      "text/plain": [
       "     provincia  media_tmed  media_prec  media_sol  media_tmin  media_tmax  \\\n",
       "0     A CORUÑA   14.989474    1.383128   8.838235   10.632794   19.340891   \n",
       "1     ALBACETE   17.135484    0.235772  10.617857   10.009677   24.262903   \n",
       "2     ALICANTE   18.205691    0.241803  10.668817   12.524390   23.891870   \n",
       "3      ALMERIA   19.587662    0.047097  11.077419   14.905844   24.272078   \n",
       "4  ARABA/ALAVA   11.848387    1.646552   7.029032    4.982258   18.714516   \n",
       "\n",
       "    año   mes  \n",
       "0  2019  mayo  \n",
       "1  2019  mayo  \n",
       "2  2019  mayo  \n",
       "3  2019  mayo  \n",
       "4  2019  mayo  "
      ]
     },
     "execution_count": 492,
     "metadata": {},
     "output_type": "execute_result"
    }
   ],
   "source": [
    "mayo_19 = procesar_y_setear_mes(mayo_19, año=2019, mes='mayo')\n",
    "mayo_19.head()"
   ]
  },
  {
   "cell_type": "markdown",
   "id": "9e236da9",
   "metadata": {},
   "source": [
    "## JUNIO19"
   ]
  },
  {
   "cell_type": "code",
   "execution_count": 493,
   "id": "2ea92456",
   "metadata": {},
   "outputs": [
    {
     "name": "stdout",
     "output_type": "stream",
     "text": [
      "{'descripcion': 'exito', 'estado': 200, 'datos': 'https://opendata.aemet.es/opendata/sh/cae4a15a', 'metadatos': 'https://opendata.aemet.es/opendata/sh/b3aa9d28'}\n"
     ]
    }
   ],
   "source": [
    "url_jun19 = 'https://opendata.aemet.es/opendata/api/valores/climatologicos/diarios/datos/fechaini/2019-06-01T00%3A00%3A00UTC/fechafin/2019-06-30T00%3A00%3A00UTC/todasestaciones'\n",
    "api_file_path = '../api.txt'\n",
    "\n",
    "junio19 = solicitud_get(url_jun19, api_file_path)\n",
    "print(junio19)"
   ]
  },
  {
   "cell_type": "code",
   "execution_count": 494,
   "id": "0803416d",
   "metadata": {},
   "outputs": [],
   "source": [
    "url_datos_jun19=  'https://opendata.aemet.es/opendata/sh/cae4a15a'\n",
    "junio_19= procesar_datos_mes(url_datos_jun19, columnas_interes)"
   ]
  },
  {
   "cell_type": "code",
   "execution_count": 495,
   "id": "5ba961de",
   "metadata": {
    "scrolled": true
   },
   "outputs": [
    {
     "data": {
      "text/html": [
       "<div>\n",
       "<style scoped>\n",
       "    .dataframe tbody tr th:only-of-type {\n",
       "        vertical-align: middle;\n",
       "    }\n",
       "\n",
       "    .dataframe tbody tr th {\n",
       "        vertical-align: top;\n",
       "    }\n",
       "\n",
       "    .dataframe thead th {\n",
       "        text-align: right;\n",
       "    }\n",
       "</style>\n",
       "<table border=\"1\" class=\"dataframe\">\n",
       "  <thead>\n",
       "    <tr style=\"text-align: right;\">\n",
       "      <th></th>\n",
       "      <th>provincia</th>\n",
       "      <th>media_tmed</th>\n",
       "      <th>media_prec</th>\n",
       "      <th>media_sol</th>\n",
       "      <th>media_tmin</th>\n",
       "      <th>media_tmax</th>\n",
       "      <th>año</th>\n",
       "      <th>mes</th>\n",
       "    </tr>\n",
       "  </thead>\n",
       "  <tbody>\n",
       "    <tr>\n",
       "      <th>0</th>\n",
       "      <td>A CORUÑA</td>\n",
       "      <td>15.702252</td>\n",
       "      <td>2.460526</td>\n",
       "      <td>6.946923</td>\n",
       "      <td>11.907207</td>\n",
       "      <td>19.496396</td>\n",
       "      <td>2019</td>\n",
       "      <td>junio</td>\n",
       "    </tr>\n",
       "    <tr>\n",
       "      <th>1</th>\n",
       "      <td>ALBACETE</td>\n",
       "      <td>22.074167</td>\n",
       "      <td>0.266667</td>\n",
       "      <td>12.235185</td>\n",
       "      <td>13.852500</td>\n",
       "      <td>30.287500</td>\n",
       "      <td>2019</td>\n",
       "      <td>junio</td>\n",
       "    </tr>\n",
       "    <tr>\n",
       "      <th>2</th>\n",
       "      <td>ALICANTE</td>\n",
       "      <td>22.269748</td>\n",
       "      <td>0.038136</td>\n",
       "      <td>12.040000</td>\n",
       "      <td>16.087395</td>\n",
       "      <td>28.453782</td>\n",
       "      <td>2019</td>\n",
       "      <td>junio</td>\n",
       "    </tr>\n",
       "    <tr>\n",
       "      <th>3</th>\n",
       "      <td>ALMERIA</td>\n",
       "      <td>21.950000</td>\n",
       "      <td>0.042953</td>\n",
       "      <td>12.096667</td>\n",
       "      <td>17.104795</td>\n",
       "      <td>26.795205</td>\n",
       "      <td>2019</td>\n",
       "      <td>junio</td>\n",
       "    </tr>\n",
       "    <tr>\n",
       "      <th>4</th>\n",
       "      <td>ARABA/ALAVA</td>\n",
       "      <td>18.113333</td>\n",
       "      <td>0.441071</td>\n",
       "      <td>9.001667</td>\n",
       "      <td>9.591667</td>\n",
       "      <td>26.620000</td>\n",
       "      <td>2019</td>\n",
       "      <td>junio</td>\n",
       "    </tr>\n",
       "  </tbody>\n",
       "</table>\n",
       "</div>"
      ],
      "text/plain": [
       "     provincia  media_tmed  media_prec  media_sol  media_tmin  media_tmax  \\\n",
       "0     A CORUÑA   15.702252    2.460526   6.946923   11.907207   19.496396   \n",
       "1     ALBACETE   22.074167    0.266667  12.235185   13.852500   30.287500   \n",
       "2     ALICANTE   22.269748    0.038136  12.040000   16.087395   28.453782   \n",
       "3      ALMERIA   21.950000    0.042953  12.096667   17.104795   26.795205   \n",
       "4  ARABA/ALAVA   18.113333    0.441071   9.001667    9.591667   26.620000   \n",
       "\n",
       "    año    mes  \n",
       "0  2019  junio  \n",
       "1  2019  junio  \n",
       "2  2019  junio  \n",
       "3  2019  junio  \n",
       "4  2019  junio  "
      ]
     },
     "execution_count": 495,
     "metadata": {},
     "output_type": "execute_result"
    }
   ],
   "source": [
    "junio_19 = procesar_y_setear_mes(junio_19, año=2019, mes='junio')\n",
    "junio_19.head()"
   ]
  },
  {
   "cell_type": "markdown",
   "id": "b4c1f41d",
   "metadata": {},
   "source": [
    "## JULIO19"
   ]
  },
  {
   "cell_type": "code",
   "execution_count": 496,
   "id": "687ad714",
   "metadata": {},
   "outputs": [
    {
     "name": "stdout",
     "output_type": "stream",
     "text": [
      "{'descripcion': 'exito', 'estado': 200, 'datos': 'https://opendata.aemet.es/opendata/sh/e1025e62', 'metadatos': 'https://opendata.aemet.es/opendata/sh/b3aa9d28'}\n"
     ]
    }
   ],
   "source": [
    "url_jul19 = 'https://opendata.aemet.es/opendata/api/valores/climatologicos/diarios/datos/fechaini/2019-07-01T00%3A00%3A00UTC/fechafin/2019-07-31T00%3A00%3A00UTC/todasestaciones'\n",
    "api_file_path = '../api.txt'\n",
    "\n",
    "julio19 = solicitud_get(url_jul19, api_file_path)\n",
    "print(julio19)"
   ]
  },
  {
   "cell_type": "code",
   "execution_count": 497,
   "id": "5e4987b8",
   "metadata": {},
   "outputs": [],
   "source": [
    "url_datos_jul19=  'https://opendata.aemet.es/opendata/sh/e1025e62'\n",
    "julio_19= procesar_datos_mes(url_datos_jul19, columnas_interes)"
   ]
  },
  {
   "cell_type": "code",
   "execution_count": 498,
   "id": "433a1b75",
   "metadata": {
    "scrolled": true
   },
   "outputs": [
    {
     "data": {
      "text/html": [
       "<div>\n",
       "<style scoped>\n",
       "    .dataframe tbody tr th:only-of-type {\n",
       "        vertical-align: middle;\n",
       "    }\n",
       "\n",
       "    .dataframe tbody tr th {\n",
       "        vertical-align: top;\n",
       "    }\n",
       "\n",
       "    .dataframe thead th {\n",
       "        text-align: right;\n",
       "    }\n",
       "</style>\n",
       "<table border=\"1\" class=\"dataframe\">\n",
       "  <thead>\n",
       "    <tr style=\"text-align: right;\">\n",
       "      <th></th>\n",
       "      <th>provincia</th>\n",
       "      <th>media_tmed</th>\n",
       "      <th>media_prec</th>\n",
       "      <th>media_sol</th>\n",
       "      <th>media_tmin</th>\n",
       "      <th>media_tmax</th>\n",
       "      <th>año</th>\n",
       "      <th>mes</th>\n",
       "    </tr>\n",
       "  </thead>\n",
       "  <tbody>\n",
       "    <tr>\n",
       "      <th>0</th>\n",
       "      <td>A CORUÑA</td>\n",
       "      <td>19.202128</td>\n",
       "      <td>0.529787</td>\n",
       "      <td>8.688652</td>\n",
       "      <td>15.191489</td>\n",
       "      <td>23.220000</td>\n",
       "      <td>2019</td>\n",
       "      <td>julio</td>\n",
       "    </tr>\n",
       "    <tr>\n",
       "      <th>1</th>\n",
       "      <td>ALBACETE</td>\n",
       "      <td>25.976613</td>\n",
       "      <td>0.518852</td>\n",
       "      <td>11.870968</td>\n",
       "      <td>18.188710</td>\n",
       "      <td>33.763710</td>\n",
       "      <td>2019</td>\n",
       "      <td>julio</td>\n",
       "    </tr>\n",
       "    <tr>\n",
       "      <th>2</th>\n",
       "      <td>ALICANTE</td>\n",
       "      <td>26.481148</td>\n",
       "      <td>0.040678</td>\n",
       "      <td>11.572043</td>\n",
       "      <td>20.730328</td>\n",
       "      <td>32.228689</td>\n",
       "      <td>2019</td>\n",
       "      <td>julio</td>\n",
       "    </tr>\n",
       "    <tr>\n",
       "      <th>3</th>\n",
       "      <td>ALMERIA</td>\n",
       "      <td>25.873203</td>\n",
       "      <td>0.003247</td>\n",
       "      <td>11.564516</td>\n",
       "      <td>21.041558</td>\n",
       "      <td>30.720261</td>\n",
       "      <td>2019</td>\n",
       "      <td>julio</td>\n",
       "    </tr>\n",
       "    <tr>\n",
       "      <th>4</th>\n",
       "      <td>ARABA/ALAVA</td>\n",
       "      <td>20.495161</td>\n",
       "      <td>1.675439</td>\n",
       "      <td>8.156452</td>\n",
       "      <td>13.095161</td>\n",
       "      <td>27.896774</td>\n",
       "      <td>2019</td>\n",
       "      <td>julio</td>\n",
       "    </tr>\n",
       "  </tbody>\n",
       "</table>\n",
       "</div>"
      ],
      "text/plain": [
       "     provincia  media_tmed  media_prec  media_sol  media_tmin  media_tmax  \\\n",
       "0     A CORUÑA   19.202128    0.529787   8.688652   15.191489   23.220000   \n",
       "1     ALBACETE   25.976613    0.518852  11.870968   18.188710   33.763710   \n",
       "2     ALICANTE   26.481148    0.040678  11.572043   20.730328   32.228689   \n",
       "3      ALMERIA   25.873203    0.003247  11.564516   21.041558   30.720261   \n",
       "4  ARABA/ALAVA   20.495161    1.675439   8.156452   13.095161   27.896774   \n",
       "\n",
       "    año    mes  \n",
       "0  2019  julio  \n",
       "1  2019  julio  \n",
       "2  2019  julio  \n",
       "3  2019  julio  \n",
       "4  2019  julio  "
      ]
     },
     "execution_count": 498,
     "metadata": {},
     "output_type": "execute_result"
    }
   ],
   "source": [
    "julio_19 = procesar_y_setear_mes(julio_19, año=2019, mes='julio')\n",
    "julio_19.head()"
   ]
  },
  {
   "cell_type": "markdown",
   "id": "bcb65e4a",
   "metadata": {},
   "source": [
    "## AGOSTO19"
   ]
  },
  {
   "cell_type": "code",
   "execution_count": 499,
   "id": "a8dfb3bc",
   "metadata": {},
   "outputs": [
    {
     "name": "stdout",
     "output_type": "stream",
     "text": [
      "{'descripcion': 'exito', 'estado': 200, 'datos': 'https://opendata.aemet.es/opendata/sh/512795bb', 'metadatos': 'https://opendata.aemet.es/opendata/sh/b3aa9d28'}\n"
     ]
    }
   ],
   "source": [
    "url_ag19 = 'https://opendata.aemet.es/opendata/api/valores/climatologicos/diarios/datos/fechaini/2019-08-01T00%3A00%3A00UTC/fechafin/2019-08-31T00%3A00%3A00UTC/todasestaciones'\n",
    "api_file_path = '../api.txt'\n",
    "\n",
    "agosto19 = solicitud_get(url_ag19, api_file_path)\n",
    "print(agosto19)"
   ]
  },
  {
   "cell_type": "code",
   "execution_count": 500,
   "id": "489439ca",
   "metadata": {},
   "outputs": [],
   "source": [
    "url_datos_ag19= 'https://opendata.aemet.es/opendata/sh/512795bb'\n",
    "agosto_19= procesar_datos_mes(url_datos_ag19, columnas_interes)"
   ]
  },
  {
   "cell_type": "code",
   "execution_count": 501,
   "id": "5eefe849",
   "metadata": {
    "scrolled": false
   },
   "outputs": [
    {
     "data": {
      "text/html": [
       "<div>\n",
       "<style scoped>\n",
       "    .dataframe tbody tr th:only-of-type {\n",
       "        vertical-align: middle;\n",
       "    }\n",
       "\n",
       "    .dataframe tbody tr th {\n",
       "        vertical-align: top;\n",
       "    }\n",
       "\n",
       "    .dataframe thead th {\n",
       "        text-align: right;\n",
       "    }\n",
       "</style>\n",
       "<table border=\"1\" class=\"dataframe\">\n",
       "  <thead>\n",
       "    <tr style=\"text-align: right;\">\n",
       "      <th></th>\n",
       "      <th>provincia</th>\n",
       "      <th>media_tmed</th>\n",
       "      <th>media_prec</th>\n",
       "      <th>media_sol</th>\n",
       "      <th>media_tmin</th>\n",
       "      <th>media_tmax</th>\n",
       "      <th>año</th>\n",
       "      <th>mes</th>\n",
       "    </tr>\n",
       "  </thead>\n",
       "  <tbody>\n",
       "    <tr>\n",
       "      <th>0</th>\n",
       "      <td>A CORUÑA</td>\n",
       "      <td>19.656897</td>\n",
       "      <td>1.407075</td>\n",
       "      <td>7.630645</td>\n",
       "      <td>15.500431</td>\n",
       "      <td>23.815517</td>\n",
       "      <td>2019</td>\n",
       "      <td>agosto</td>\n",
       "    </tr>\n",
       "    <tr>\n",
       "      <th>1</th>\n",
       "      <td>ALBACETE</td>\n",
       "      <td>25.584874</td>\n",
       "      <td>0.411017</td>\n",
       "      <td>10.666667</td>\n",
       "      <td>17.718487</td>\n",
       "      <td>33.452941</td>\n",
       "      <td>2019</td>\n",
       "      <td>agosto</td>\n",
       "    </tr>\n",
       "    <tr>\n",
       "      <th>2</th>\n",
       "      <td>ALICANTE</td>\n",
       "      <td>26.165546</td>\n",
       "      <td>1.928333</td>\n",
       "      <td>10.908889</td>\n",
       "      <td>20.344538</td>\n",
       "      <td>31.988235</td>\n",
       "      <td>2019</td>\n",
       "      <td>agosto</td>\n",
       "    </tr>\n",
       "    <tr>\n",
       "      <th>3</th>\n",
       "      <td>ALMERIA</td>\n",
       "      <td>26.145455</td>\n",
       "      <td>0.014935</td>\n",
       "      <td>10.974194</td>\n",
       "      <td>21.464286</td>\n",
       "      <td>30.829221</td>\n",
       "      <td>2019</td>\n",
       "      <td>agosto</td>\n",
       "    </tr>\n",
       "    <tr>\n",
       "      <th>4</th>\n",
       "      <td>ARABA/ALAVA</td>\n",
       "      <td>20.595161</td>\n",
       "      <td>0.923636</td>\n",
       "      <td>8.662903</td>\n",
       "      <td>13.187097</td>\n",
       "      <td>28.000000</td>\n",
       "      <td>2019</td>\n",
       "      <td>agosto</td>\n",
       "    </tr>\n",
       "  </tbody>\n",
       "</table>\n",
       "</div>"
      ],
      "text/plain": [
       "     provincia  media_tmed  media_prec  media_sol  media_tmin  media_tmax  \\\n",
       "0     A CORUÑA   19.656897    1.407075   7.630645   15.500431   23.815517   \n",
       "1     ALBACETE   25.584874    0.411017  10.666667   17.718487   33.452941   \n",
       "2     ALICANTE   26.165546    1.928333  10.908889   20.344538   31.988235   \n",
       "3      ALMERIA   26.145455    0.014935  10.974194   21.464286   30.829221   \n",
       "4  ARABA/ALAVA   20.595161    0.923636   8.662903   13.187097   28.000000   \n",
       "\n",
       "    año     mes  \n",
       "0  2019  agosto  \n",
       "1  2019  agosto  \n",
       "2  2019  agosto  \n",
       "3  2019  agosto  \n",
       "4  2019  agosto  "
      ]
     },
     "execution_count": 501,
     "metadata": {},
     "output_type": "execute_result"
    }
   ],
   "source": [
    "agosto_19 = procesar_y_setear_mes(agosto_19, año=2019, mes='agosto')\n",
    "agosto_19.head()"
   ]
  },
  {
   "cell_type": "markdown",
   "id": "765c550a",
   "metadata": {},
   "source": [
    "## SEPTIEMBRE19"
   ]
  },
  {
   "cell_type": "code",
   "execution_count": 502,
   "id": "fff501aa",
   "metadata": {},
   "outputs": [
    {
     "name": "stdout",
     "output_type": "stream",
     "text": [
      "{'descripcion': 'exito', 'estado': 200, 'datos': 'https://opendata.aemet.es/opendata/sh/cfd9dc76', 'metadatos': 'https://opendata.aemet.es/opendata/sh/b3aa9d28'}\n"
     ]
    }
   ],
   "source": [
    "url_sep19 = 'https://opendata.aemet.es/opendata/api/valores/climatologicos/diarios/datos/fechaini/2019-09-01T00%3A00%3A00UTC/fechafin/2019-09-30T00%3A00%3A00UTC/todasestaciones'\n",
    "api_file_path = '../api.txt'\n",
    "\n",
    "septiembre19 = solicitud_get(url_sep19, api_file_path)\n",
    "print(septiembre19)"
   ]
  },
  {
   "cell_type": "code",
   "execution_count": 503,
   "id": "bfe8fc53",
   "metadata": {},
   "outputs": [],
   "source": [
    "url_datos_sep19= 'https://opendata.aemet.es/opendata/sh/cfd9dc76'\n",
    "septiembre_19= procesar_datos_mes(url_datos_sep19, columnas_interes)"
   ]
  },
  {
   "cell_type": "code",
   "execution_count": 504,
   "id": "db1ad46e",
   "metadata": {
    "scrolled": true
   },
   "outputs": [
    {
     "data": {
      "text/html": [
       "<div>\n",
       "<style scoped>\n",
       "    .dataframe tbody tr th:only-of-type {\n",
       "        vertical-align: middle;\n",
       "    }\n",
       "\n",
       "    .dataframe tbody tr th {\n",
       "        vertical-align: top;\n",
       "    }\n",
       "\n",
       "    .dataframe thead th {\n",
       "        text-align: right;\n",
       "    }\n",
       "</style>\n",
       "<table border=\"1\" class=\"dataframe\">\n",
       "  <thead>\n",
       "    <tr style=\"text-align: right;\">\n",
       "      <th></th>\n",
       "      <th>provincia</th>\n",
       "      <th>media_tmed</th>\n",
       "      <th>media_prec</th>\n",
       "      <th>media_sol</th>\n",
       "      <th>media_tmin</th>\n",
       "      <th>media_tmax</th>\n",
       "      <th>año</th>\n",
       "      <th>mes</th>\n",
       "    </tr>\n",
       "  </thead>\n",
       "  <tbody>\n",
       "    <tr>\n",
       "      <th>0</th>\n",
       "      <td>A CORUÑA</td>\n",
       "      <td>18.445673</td>\n",
       "      <td>1.696000</td>\n",
       "      <td>7.462264</td>\n",
       "      <td>14.317788</td>\n",
       "      <td>22.573558</td>\n",
       "      <td>2019</td>\n",
       "      <td>septiembre</td>\n",
       "    </tr>\n",
       "    <tr>\n",
       "      <th>1</th>\n",
       "      <td>ALBACETE</td>\n",
       "      <td>20.938462</td>\n",
       "      <td>2.277119</td>\n",
       "      <td>7.974545</td>\n",
       "      <td>15.021368</td>\n",
       "      <td>26.858120</td>\n",
       "      <td>2019</td>\n",
       "      <td>septiembre</td>\n",
       "    </tr>\n",
       "    <tr>\n",
       "      <th>2</th>\n",
       "      <td>ALICANTE</td>\n",
       "      <td>23.159167</td>\n",
       "      <td>5.114953</td>\n",
       "      <td>8.364045</td>\n",
       "      <td>18.284167</td>\n",
       "      <td>28.024167</td>\n",
       "      <td>2019</td>\n",
       "      <td>septiembre</td>\n",
       "    </tr>\n",
       "    <tr>\n",
       "      <th>3</th>\n",
       "      <td>ALMERIA</td>\n",
       "      <td>23.789189</td>\n",
       "      <td>1.740667</td>\n",
       "      <td>8.523333</td>\n",
       "      <td>19.472297</td>\n",
       "      <td>28.100676</td>\n",
       "      <td>2019</td>\n",
       "      <td>septiembre</td>\n",
       "    </tr>\n",
       "    <tr>\n",
       "      <th>4</th>\n",
       "      <td>ARABA/ALAVA</td>\n",
       "      <td>17.141667</td>\n",
       "      <td>1.418966</td>\n",
       "      <td>6.915000</td>\n",
       "      <td>10.250000</td>\n",
       "      <td>24.036667</td>\n",
       "      <td>2019</td>\n",
       "      <td>septiembre</td>\n",
       "    </tr>\n",
       "  </tbody>\n",
       "</table>\n",
       "</div>"
      ],
      "text/plain": [
       "     provincia  media_tmed  media_prec  media_sol  media_tmin  media_tmax  \\\n",
       "0     A CORUÑA   18.445673    1.696000   7.462264   14.317788   22.573558   \n",
       "1     ALBACETE   20.938462    2.277119   7.974545   15.021368   26.858120   \n",
       "2     ALICANTE   23.159167    5.114953   8.364045   18.284167   28.024167   \n",
       "3      ALMERIA   23.789189    1.740667   8.523333   19.472297   28.100676   \n",
       "4  ARABA/ALAVA   17.141667    1.418966   6.915000   10.250000   24.036667   \n",
       "\n",
       "    año         mes  \n",
       "0  2019  septiembre  \n",
       "1  2019  septiembre  \n",
       "2  2019  septiembre  \n",
       "3  2019  septiembre  \n",
       "4  2019  septiembre  "
      ]
     },
     "execution_count": 504,
     "metadata": {},
     "output_type": "execute_result"
    }
   ],
   "source": [
    "septiembre_19 = procesar_y_setear_mes(septiembre_19, año=2019, mes='septiembre')\n",
    "septiembre_19.head()"
   ]
  },
  {
   "cell_type": "markdown",
   "id": "291df848",
   "metadata": {},
   "source": [
    "## OCTUBRE19"
   ]
  },
  {
   "cell_type": "code",
   "execution_count": 505,
   "id": "e1790cb4",
   "metadata": {},
   "outputs": [
    {
     "name": "stdout",
     "output_type": "stream",
     "text": [
      "{'descripcion': 'exito', 'estado': 200, 'datos': 'https://opendata.aemet.es/opendata/sh/ba3b9a6c', 'metadatos': 'https://opendata.aemet.es/opendata/sh/b3aa9d28'}\n"
     ]
    }
   ],
   "source": [
    "url_oct19 = 'https://opendata.aemet.es/opendata/api/valores/climatologicos/diarios/datos/fechaini/2019-10-01T00%3A00%3A00UTC/fechafin/2019-10-31T00%3A00%3A00UTC/todasestaciones'\n",
    "api_file_path = '../api.txt'\n",
    "\n",
    "octubre19 = solicitud_get(url_oct19, api_file_path)\n",
    "print(octubre19) "
   ]
  },
  {
   "cell_type": "code",
   "execution_count": 506,
   "id": "9a7a6225",
   "metadata": {},
   "outputs": [],
   "source": [
    "url_datos_oct19= 'https://opendata.aemet.es/opendata/sh/ba3b9a6c'\n",
    "octubre_19 = procesar_datos_mes(url_datos_oct19, columnas_interes)"
   ]
  },
  {
   "cell_type": "code",
   "execution_count": 507,
   "id": "b748dbca",
   "metadata": {
    "scrolled": false
   },
   "outputs": [
    {
     "data": {
      "text/html": [
       "<div>\n",
       "<style scoped>\n",
       "    .dataframe tbody tr th:only-of-type {\n",
       "        vertical-align: middle;\n",
       "    }\n",
       "\n",
       "    .dataframe tbody tr th {\n",
       "        vertical-align: top;\n",
       "    }\n",
       "\n",
       "    .dataframe thead th {\n",
       "        text-align: right;\n",
       "    }\n",
       "</style>\n",
       "<table border=\"1\" class=\"dataframe\">\n",
       "  <thead>\n",
       "    <tr style=\"text-align: right;\">\n",
       "      <th></th>\n",
       "      <th>provincia</th>\n",
       "      <th>media_tmed</th>\n",
       "      <th>media_prec</th>\n",
       "      <th>media_sol</th>\n",
       "      <th>media_tmin</th>\n",
       "      <th>media_tmax</th>\n",
       "      <th>año</th>\n",
       "      <th>mes</th>\n",
       "    </tr>\n",
       "  </thead>\n",
       "  <tbody>\n",
       "    <tr>\n",
       "      <th>0</th>\n",
       "      <td>A CORUÑA</td>\n",
       "      <td>15.442254</td>\n",
       "      <td>5.911594</td>\n",
       "      <td>4.044643</td>\n",
       "      <td>12.131455</td>\n",
       "      <td>18.741315</td>\n",
       "      <td>2019</td>\n",
       "      <td>octubre</td>\n",
       "    </tr>\n",
       "    <tr>\n",
       "      <th>1</th>\n",
       "      <td>ALBACETE</td>\n",
       "      <td>16.732231</td>\n",
       "      <td>1.331034</td>\n",
       "      <td>7.756604</td>\n",
       "      <td>10.695868</td>\n",
       "      <td>22.774380</td>\n",
       "      <td>2019</td>\n",
       "      <td>octubre</td>\n",
       "    </tr>\n",
       "    <tr>\n",
       "      <th>2</th>\n",
       "      <td>ALICANTE</td>\n",
       "      <td>19.267480</td>\n",
       "      <td>1.571545</td>\n",
       "      <td>8.441935</td>\n",
       "      <td>13.505691</td>\n",
       "      <td>25.023577</td>\n",
       "      <td>2019</td>\n",
       "      <td>octubre</td>\n",
       "    </tr>\n",
       "    <tr>\n",
       "      <th>3</th>\n",
       "      <td>ALMERIA</td>\n",
       "      <td>19.424138</td>\n",
       "      <td>0.735526</td>\n",
       "      <td>8.525806</td>\n",
       "      <td>14.342069</td>\n",
       "      <td>24.506897</td>\n",
       "      <td>2019</td>\n",
       "      <td>octubre</td>\n",
       "    </tr>\n",
       "    <tr>\n",
       "      <th>4</th>\n",
       "      <td>ARABA/ALAVA</td>\n",
       "      <td>14.488525</td>\n",
       "      <td>1.750000</td>\n",
       "      <td>5.604839</td>\n",
       "      <td>8.355738</td>\n",
       "      <td>20.632787</td>\n",
       "      <td>2019</td>\n",
       "      <td>octubre</td>\n",
       "    </tr>\n",
       "  </tbody>\n",
       "</table>\n",
       "</div>"
      ],
      "text/plain": [
       "     provincia  media_tmed  media_prec  media_sol  media_tmin  media_tmax  \\\n",
       "0     A CORUÑA   15.442254    5.911594   4.044643   12.131455   18.741315   \n",
       "1     ALBACETE   16.732231    1.331034   7.756604   10.695868   22.774380   \n",
       "2     ALICANTE   19.267480    1.571545   8.441935   13.505691   25.023577   \n",
       "3      ALMERIA   19.424138    0.735526   8.525806   14.342069   24.506897   \n",
       "4  ARABA/ALAVA   14.488525    1.750000   5.604839    8.355738   20.632787   \n",
       "\n",
       "    año      mes  \n",
       "0  2019  octubre  \n",
       "1  2019  octubre  \n",
       "2  2019  octubre  \n",
       "3  2019  octubre  \n",
       "4  2019  octubre  "
      ]
     },
     "execution_count": 507,
     "metadata": {},
     "output_type": "execute_result"
    }
   ],
   "source": [
    "octubre_19 = procesar_y_setear_mes(octubre_19, año=2019, mes='octubre')\n",
    "octubre_19.head()"
   ]
  },
  {
   "cell_type": "markdown",
   "id": "6fc60060",
   "metadata": {},
   "source": [
    "## NOVIEMBRE19"
   ]
  },
  {
   "cell_type": "code",
   "execution_count": 508,
   "id": "083a8b73",
   "metadata": {},
   "outputs": [
    {
     "name": "stdout",
     "output_type": "stream",
     "text": [
      "{'descripcion': 'exito', 'estado': 200, 'datos': 'https://opendata.aemet.es/opendata/sh/b57319d7', 'metadatos': 'https://opendata.aemet.es/opendata/sh/b3aa9d28'}\n"
     ]
    }
   ],
   "source": [
    "url_nov19 = 'https://opendata.aemet.es/opendata/api/valores/climatologicos/diarios/datos/fechaini/2019-11-01T00%3A00%3A00UTC/fechafin/2019-11-30T00%3A00%3A00UTC/todasestaciones'\n",
    "api_file_path = '../api.txt'\n",
    "\n",
    "noviembre19 = solicitud_get(url_nov19, api_file_path)\n",
    "print(noviembre19) "
   ]
  },
  {
   "cell_type": "code",
   "execution_count": 509,
   "id": "de6b003d",
   "metadata": {},
   "outputs": [],
   "source": [
    "url_datos_nov19= 'https://opendata.aemet.es/opendata/sh/b57319d7'\n",
    "noviembre_19 = procesar_datos_mes(url_datos_nov19, columnas_interes)"
   ]
  },
  {
   "cell_type": "code",
   "execution_count": 510,
   "id": "94b79b4a",
   "metadata": {
    "scrolled": false
   },
   "outputs": [
    {
     "data": {
      "text/html": [
       "<div>\n",
       "<style scoped>\n",
       "    .dataframe tbody tr th:only-of-type {\n",
       "        vertical-align: middle;\n",
       "    }\n",
       "\n",
       "    .dataframe tbody tr th {\n",
       "        vertical-align: top;\n",
       "    }\n",
       "\n",
       "    .dataframe thead th {\n",
       "        text-align: right;\n",
       "    }\n",
       "</style>\n",
       "<table border=\"1\" class=\"dataframe\">\n",
       "  <thead>\n",
       "    <tr style=\"text-align: right;\">\n",
       "      <th></th>\n",
       "      <th>provincia</th>\n",
       "      <th>media_tmed</th>\n",
       "      <th>media_prec</th>\n",
       "      <th>media_sol</th>\n",
       "      <th>media_tmin</th>\n",
       "      <th>media_tmax</th>\n",
       "      <th>año</th>\n",
       "      <th>mes</th>\n",
       "    </tr>\n",
       "  </thead>\n",
       "  <tbody>\n",
       "    <tr>\n",
       "      <th>0</th>\n",
       "      <td>A CORUÑA</td>\n",
       "      <td>11.531841</td>\n",
       "      <td>9.725126</td>\n",
       "      <td>1.725714</td>\n",
       "      <td>9.056219</td>\n",
       "      <td>14.005970</td>\n",
       "      <td>2019</td>\n",
       "      <td>noviembre</td>\n",
       "    </tr>\n",
       "    <tr>\n",
       "      <th>1</th>\n",
       "      <td>ALBACETE</td>\n",
       "      <td>9.603509</td>\n",
       "      <td>1.343243</td>\n",
       "      <td>4.811111</td>\n",
       "      <td>5.712281</td>\n",
       "      <td>13.491228</td>\n",
       "      <td>2019</td>\n",
       "      <td>noviembre</td>\n",
       "    </tr>\n",
       "    <tr>\n",
       "      <th>2</th>\n",
       "      <td>ALICANTE</td>\n",
       "      <td>14.652500</td>\n",
       "      <td>0.800840</td>\n",
       "      <td>7.308889</td>\n",
       "      <td>9.755833</td>\n",
       "      <td>19.555000</td>\n",
       "      <td>2019</td>\n",
       "      <td>noviembre</td>\n",
       "    </tr>\n",
       "    <tr>\n",
       "      <th>3</th>\n",
       "      <td>ALMERIA</td>\n",
       "      <td>14.647297</td>\n",
       "      <td>0.685294</td>\n",
       "      <td>6.956667</td>\n",
       "      <td>10.315541</td>\n",
       "      <td>18.979730</td>\n",
       "      <td>2019</td>\n",
       "      <td>noviembre</td>\n",
       "    </tr>\n",
       "    <tr>\n",
       "      <th>4</th>\n",
       "      <td>ARABA/ALAVA</td>\n",
       "      <td>8.538333</td>\n",
       "      <td>8.127586</td>\n",
       "      <td>2.076667</td>\n",
       "      <td>4.933333</td>\n",
       "      <td>12.121667</td>\n",
       "      <td>2019</td>\n",
       "      <td>noviembre</td>\n",
       "    </tr>\n",
       "  </tbody>\n",
       "</table>\n",
       "</div>"
      ],
      "text/plain": [
       "     provincia  media_tmed  media_prec  media_sol  media_tmin  media_tmax  \\\n",
       "0     A CORUÑA   11.531841    9.725126   1.725714    9.056219   14.005970   \n",
       "1     ALBACETE    9.603509    1.343243   4.811111    5.712281   13.491228   \n",
       "2     ALICANTE   14.652500    0.800840   7.308889    9.755833   19.555000   \n",
       "3      ALMERIA   14.647297    0.685294   6.956667   10.315541   18.979730   \n",
       "4  ARABA/ALAVA    8.538333    8.127586   2.076667    4.933333   12.121667   \n",
       "\n",
       "    año        mes  \n",
       "0  2019  noviembre  \n",
       "1  2019  noviembre  \n",
       "2  2019  noviembre  \n",
       "3  2019  noviembre  \n",
       "4  2019  noviembre  "
      ]
     },
     "execution_count": 510,
     "metadata": {},
     "output_type": "execute_result"
    }
   ],
   "source": [
    "noviembre_19 = procesar_y_setear_mes(noviembre_19, año=2019, mes='noviembre')\n",
    "noviembre_19.head()"
   ]
  },
  {
   "cell_type": "markdown",
   "id": "f229a7a5",
   "metadata": {},
   "source": [
    "## DICIEMBRE19"
   ]
  },
  {
   "cell_type": "code",
   "execution_count": 511,
   "id": "23ec604b",
   "metadata": {},
   "outputs": [
    {
     "name": "stdout",
     "output_type": "stream",
     "text": [
      "{'descripcion': 'exito', 'estado': 200, 'datos': 'https://opendata.aemet.es/opendata/sh/f4610c81', 'metadatos': 'https://opendata.aemet.es/opendata/sh/b3aa9d28'}\n"
     ]
    }
   ],
   "source": [
    "url_dic19= 'https://opendata.aemet.es/opendata/api/valores/climatologicos/diarios/datos/fechaini/2019-12-01T00%3A00%3A00UTC/fechafin/2019-12-31T00%3A00%3A00UTC/todasestaciones'\n",
    "api_file_path = '../api.txt'\n",
    "\n",
    "diciembre19 = solicitud_get(url_dic19, api_file_path)\n",
    "print(diciembre19) "
   ]
  },
  {
   "cell_type": "code",
   "execution_count": 512,
   "id": "0db91e37",
   "metadata": {},
   "outputs": [],
   "source": [
    "url_datos_dic19= 'https://opendata.aemet.es/opendata/sh/f4610c81'\n",
    "diciembre_19= procesar_datos_mes(url_datos_dic19, columnas_interes)"
   ]
  },
  {
   "cell_type": "code",
   "execution_count": 513,
   "id": "0681ac1f",
   "metadata": {
    "scrolled": false
   },
   "outputs": [
    {
     "data": {
      "text/html": [
       "<div>\n",
       "<style scoped>\n",
       "    .dataframe tbody tr th:only-of-type {\n",
       "        vertical-align: middle;\n",
       "    }\n",
       "\n",
       "    .dataframe tbody tr th {\n",
       "        vertical-align: top;\n",
       "    }\n",
       "\n",
       "    .dataframe thead th {\n",
       "        text-align: right;\n",
       "    }\n",
       "</style>\n",
       "<table border=\"1\" class=\"dataframe\">\n",
       "  <thead>\n",
       "    <tr style=\"text-align: right;\">\n",
       "      <th></th>\n",
       "      <th>provincia</th>\n",
       "      <th>media_tmed</th>\n",
       "      <th>media_prec</th>\n",
       "      <th>media_sol</th>\n",
       "      <th>media_tmin</th>\n",
       "      <th>media_tmax</th>\n",
       "      <th>año</th>\n",
       "      <th>mes</th>\n",
       "    </tr>\n",
       "  </thead>\n",
       "  <tbody>\n",
       "    <tr>\n",
       "      <th>0</th>\n",
       "      <td>A CORUÑA</td>\n",
       "      <td>10.770335</td>\n",
       "      <td>7.096078</td>\n",
       "      <td>3.263717</td>\n",
       "      <td>7.733971</td>\n",
       "      <td>13.805263</td>\n",
       "      <td>2019</td>\n",
       "      <td>diciembre</td>\n",
       "    </tr>\n",
       "    <tr>\n",
       "      <th>1</th>\n",
       "      <td>ALBACETE</td>\n",
       "      <td>8.819130</td>\n",
       "      <td>1.376991</td>\n",
       "      <td>4.288889</td>\n",
       "      <td>4.589565</td>\n",
       "      <td>13.049565</td>\n",
       "      <td>2019</td>\n",
       "      <td>diciembre</td>\n",
       "    </tr>\n",
       "    <tr>\n",
       "      <th>2</th>\n",
       "      <td>ALICANTE</td>\n",
       "      <td>13.031452</td>\n",
       "      <td>2.489076</td>\n",
       "      <td>5.381720</td>\n",
       "      <td>7.960484</td>\n",
       "      <td>18.105645</td>\n",
       "      <td>2019</td>\n",
       "      <td>diciembre</td>\n",
       "    </tr>\n",
       "    <tr>\n",
       "      <th>3</th>\n",
       "      <td>ALMERIA</td>\n",
       "      <td>13.610526</td>\n",
       "      <td>0.782517</td>\n",
       "      <td>5.677419</td>\n",
       "      <td>8.779699</td>\n",
       "      <td>18.431579</td>\n",
       "      <td>2019</td>\n",
       "      <td>diciembre</td>\n",
       "    </tr>\n",
       "    <tr>\n",
       "      <th>4</th>\n",
       "      <td>ARABA/ALAVA</td>\n",
       "      <td>6.743548</td>\n",
       "      <td>2.942857</td>\n",
       "      <td>2.685484</td>\n",
       "      <td>2.224194</td>\n",
       "      <td>11.269355</td>\n",
       "      <td>2019</td>\n",
       "      <td>diciembre</td>\n",
       "    </tr>\n",
       "  </tbody>\n",
       "</table>\n",
       "</div>"
      ],
      "text/plain": [
       "     provincia  media_tmed  media_prec  media_sol  media_tmin  media_tmax  \\\n",
       "0     A CORUÑA   10.770335    7.096078   3.263717    7.733971   13.805263   \n",
       "1     ALBACETE    8.819130    1.376991   4.288889    4.589565   13.049565   \n",
       "2     ALICANTE   13.031452    2.489076   5.381720    7.960484   18.105645   \n",
       "3      ALMERIA   13.610526    0.782517   5.677419    8.779699   18.431579   \n",
       "4  ARABA/ALAVA    6.743548    2.942857   2.685484    2.224194   11.269355   \n",
       "\n",
       "    año        mes  \n",
       "0  2019  diciembre  \n",
       "1  2019  diciembre  \n",
       "2  2019  diciembre  \n",
       "3  2019  diciembre  \n",
       "4  2019  diciembre  "
      ]
     },
     "execution_count": 513,
     "metadata": {},
     "output_type": "execute_result"
    }
   ],
   "source": [
    "diciembre_19 = procesar_y_setear_mes(diciembre_19, año=2019, mes='diciembre')\n",
    "diciembre_19.head()"
   ]
  },
  {
   "cell_type": "markdown",
   "id": "9eebc103",
   "metadata": {},
   "source": [
    "## ENERO18"
   ]
  },
  {
   "cell_type": "code",
   "execution_count": 514,
   "id": "8c02e3cc",
   "metadata": {},
   "outputs": [
    {
     "name": "stdout",
     "output_type": "stream",
     "text": [
      "{'descripcion': 'exito', 'estado': 200, 'datos': 'https://opendata.aemet.es/opendata/sh/4cb844f4', 'metadatos': 'https://opendata.aemet.es/opendata/sh/b3aa9d28'}\n"
     ]
    }
   ],
   "source": [
    "url_en18 = 'https://opendata.aemet.es/opendata/api/valores/climatologicos/diarios/datos/fechaini/2018-01-01T00%3A00%3A00UTC/fechafin/2018-01-31T00%3A00%3A00UTC/todasestaciones'\n",
    "api_file_path = '../api.txt'\n",
    "\n",
    "enero18 = solicitud_get(url_en18, api_file_path)\n",
    "print(enero18)"
   ]
  },
  {
   "cell_type": "code",
   "execution_count": 515,
   "id": "fa5777e0",
   "metadata": {},
   "outputs": [],
   "source": [
    "url_datos_en18= 'https://opendata.aemet.es/opendata/sh/4cb844f4'\n",
    "enero_18= procesar_datos_mes(url_datos_en18, columnas_interes)"
   ]
  },
  {
   "cell_type": "code",
   "execution_count": 516,
   "id": "bf5788ca",
   "metadata": {},
   "outputs": [
    {
     "data": {
      "text/html": [
       "<div>\n",
       "<style scoped>\n",
       "    .dataframe tbody tr th:only-of-type {\n",
       "        vertical-align: middle;\n",
       "    }\n",
       "\n",
       "    .dataframe tbody tr th {\n",
       "        vertical-align: top;\n",
       "    }\n",
       "\n",
       "    .dataframe thead th {\n",
       "        text-align: right;\n",
       "    }\n",
       "</style>\n",
       "<table border=\"1\" class=\"dataframe\">\n",
       "  <thead>\n",
       "    <tr style=\"text-align: right;\">\n",
       "      <th></th>\n",
       "      <th>provincia</th>\n",
       "      <th>media_tmed</th>\n",
       "      <th>media_prec</th>\n",
       "      <th>media_sol</th>\n",
       "      <th>media_tmin</th>\n",
       "      <th>media_tmax</th>\n",
       "      <th>año</th>\n",
       "      <th>mes</th>\n",
       "    </tr>\n",
       "  </thead>\n",
       "  <tbody>\n",
       "    <tr>\n",
       "      <th>0</th>\n",
       "      <td>A CORUÑA</td>\n",
       "      <td>10.068163</td>\n",
       "      <td>3.769456</td>\n",
       "      <td>2.528467</td>\n",
       "      <td>7.360408</td>\n",
       "      <td>12.773469</td>\n",
       "      <td>2018</td>\n",
       "      <td>enero</td>\n",
       "    </tr>\n",
       "    <tr>\n",
       "      <th>1</th>\n",
       "      <td>ALBACETE</td>\n",
       "      <td>7.240323</td>\n",
       "      <td>1.161789</td>\n",
       "      <td>5.959649</td>\n",
       "      <td>2.165323</td>\n",
       "      <td>12.312903</td>\n",
       "      <td>2018</td>\n",
       "      <td>enero</td>\n",
       "    </tr>\n",
       "    <tr>\n",
       "      <th>2</th>\n",
       "      <td>ALICANTE</td>\n",
       "      <td>11.533871</td>\n",
       "      <td>2.181197</td>\n",
       "      <td>7.197849</td>\n",
       "      <td>6.019355</td>\n",
       "      <td>17.037903</td>\n",
       "      <td>2018</td>\n",
       "      <td>enero</td>\n",
       "    </tr>\n",
       "    <tr>\n",
       "      <th>3</th>\n",
       "      <td>ALMERIA</td>\n",
       "      <td>12.171895</td>\n",
       "      <td>0.392763</td>\n",
       "      <td>6.748387</td>\n",
       "      <td>7.255556</td>\n",
       "      <td>17.081699</td>\n",
       "      <td>2018</td>\n",
       "      <td>enero</td>\n",
       "    </tr>\n",
       "    <tr>\n",
       "      <th>4</th>\n",
       "      <td>ARABA/ALAVA</td>\n",
       "      <td>6.133871</td>\n",
       "      <td>4.018033</td>\n",
       "      <td>2.643548</td>\n",
       "      <td>2.108065</td>\n",
       "      <td>10.162903</td>\n",
       "      <td>2018</td>\n",
       "      <td>enero</td>\n",
       "    </tr>\n",
       "  </tbody>\n",
       "</table>\n",
       "</div>"
      ],
      "text/plain": [
       "     provincia  media_tmed  media_prec  media_sol  media_tmin  media_tmax  \\\n",
       "0     A CORUÑA   10.068163    3.769456   2.528467    7.360408   12.773469   \n",
       "1     ALBACETE    7.240323    1.161789   5.959649    2.165323   12.312903   \n",
       "2     ALICANTE   11.533871    2.181197   7.197849    6.019355   17.037903   \n",
       "3      ALMERIA   12.171895    0.392763   6.748387    7.255556   17.081699   \n",
       "4  ARABA/ALAVA    6.133871    4.018033   2.643548    2.108065   10.162903   \n",
       "\n",
       "    año    mes  \n",
       "0  2018  enero  \n",
       "1  2018  enero  \n",
       "2  2018  enero  \n",
       "3  2018  enero  \n",
       "4  2018  enero  "
      ]
     },
     "execution_count": 516,
     "metadata": {},
     "output_type": "execute_result"
    }
   ],
   "source": [
    "enero_18 = procesar_y_setear_mes(enero_18, año=2018, mes='enero')\n",
    "enero_18.head()"
   ]
  },
  {
   "cell_type": "markdown",
   "id": "45fc18fd",
   "metadata": {},
   "source": [
    "## FEBRERO18"
   ]
  },
  {
   "cell_type": "code",
   "execution_count": 517,
   "id": "986b8abd",
   "metadata": {},
   "outputs": [
    {
     "name": "stdout",
     "output_type": "stream",
     "text": [
      "{'descripcion': 'exito', 'estado': 200, 'datos': 'https://opendata.aemet.es/opendata/sh/efe9ffd6', 'metadatos': 'https://opendata.aemet.es/opendata/sh/b3aa9d28'}\n"
     ]
    }
   ],
   "source": [
    "url_feb18 = 'https://opendata.aemet.es/opendata/api/valores/climatologicos/diarios/datos/fechaini/2018-02-01T00%3A00%3A00UTC/fechafin/2018-02-28T00%3A00%3A00UTC/todasestaciones'\n",
    "\n",
    "febrero18 = solicitud_get(url_feb18, api_file_path)\n",
    "print(febrero18)"
   ]
  },
  {
   "cell_type": "code",
   "execution_count": 518,
   "id": "0aca17c5",
   "metadata": {},
   "outputs": [],
   "source": [
    "url_datos_feb18=  'https://opendata.aemet.es/opendata/sh/efe9ffd6'\n",
    "febrero_18= procesar_datos_mes(url_datos_feb18, columnas_interes)"
   ]
  },
  {
   "cell_type": "code",
   "execution_count": 519,
   "id": "99c626ac",
   "metadata": {},
   "outputs": [
    {
     "ename": "TypeError",
     "evalue": "'NoneType' object is not subscriptable",
     "output_type": "error",
     "traceback": [
      "\u001b[1;31m---------------------------------------------------------------------------\u001b[0m",
      "\u001b[1;31mTypeError\u001b[0m                                 Traceback (most recent call last)",
      "Cell \u001b[1;32mIn[519], line 1\u001b[0m\n\u001b[1;32m----> 1\u001b[0m febrero_18 \u001b[38;5;241m=\u001b[39m procesar_y_setear_mes(febrero_18, año\u001b[38;5;241m=\u001b[39m\u001b[38;5;241m2018\u001b[39m, mes\u001b[38;5;241m=\u001b[39m\u001b[38;5;124m'\u001b[39m\u001b[38;5;124mfebrero\u001b[39m\u001b[38;5;124m'\u001b[39m)\n\u001b[0;32m      2\u001b[0m febrero_18\u001b[38;5;241m.\u001b[39mhead()\n",
      "File \u001b[1;32m~\\AppData\\Local\\Temp\\ipykernel_15512\\3365622616.py:2\u001b[0m, in \u001b[0;36mprocesar_y_setear_mes\u001b[1;34m(df, año, mes)\u001b[0m\n\u001b[0;32m      1\u001b[0m \u001b[38;5;28;01mdef\u001b[39;00m \u001b[38;5;21mprocesar_y_setear_mes\u001b[39m(df, año, mes):\n\u001b[1;32m----> 2\u001b[0m     df \u001b[38;5;241m=\u001b[39m procesar_mes(df)\n\u001b[0;32m      3\u001b[0m     df[\u001b[38;5;124m'\u001b[39m\u001b[38;5;124maño\u001b[39m\u001b[38;5;124m'\u001b[39m] \u001b[38;5;241m=\u001b[39m [año] \u001b[38;5;241m*\u001b[39m \u001b[38;5;28mlen\u001b[39m(df)\n\u001b[0;32m      4\u001b[0m     df[\u001b[38;5;124m'\u001b[39m\u001b[38;5;124mmes\u001b[39m\u001b[38;5;124m'\u001b[39m] \u001b[38;5;241m=\u001b[39m [mes] \u001b[38;5;241m*\u001b[39m \u001b[38;5;28mlen\u001b[39m(df)\n",
      "File \u001b[1;32m~\\AppData\\Local\\Temp\\ipykernel_15512\\1578188507.py:5\u001b[0m, in \u001b[0;36mprocesar_mes\u001b[1;34m(df_mes)\u001b[0m\n\u001b[0;32m      3\u001b[0m \u001b[38;5;28;01mdef\u001b[39;00m \u001b[38;5;21mprocesar_mes\u001b[39m(df_mes):\n\u001b[0;32m      4\u001b[0m     \u001b[38;5;66;03m# Reemplazar comas por puntos y convertir las columnas numéricas a tipo float\u001b[39;00m\n\u001b[1;32m----> 5\u001b[0m     df_mes[\u001b[38;5;124m'\u001b[39m\u001b[38;5;124mtmed\u001b[39m\u001b[38;5;124m'\u001b[39m] \u001b[38;5;241m=\u001b[39m df_mes[\u001b[38;5;124m'\u001b[39m\u001b[38;5;124mtmed\u001b[39m\u001b[38;5;124m'\u001b[39m]\u001b[38;5;241m.\u001b[39mstr\u001b[38;5;241m.\u001b[39mreplace(\u001b[38;5;124m'\u001b[39m\u001b[38;5;124m,\u001b[39m\u001b[38;5;124m'\u001b[39m, \u001b[38;5;124m'\u001b[39m\u001b[38;5;124m.\u001b[39m\u001b[38;5;124m'\u001b[39m)\u001b[38;5;241m.\u001b[39mastype(\u001b[38;5;28mfloat\u001b[39m)\n\u001b[0;32m      6\u001b[0m     df_mes[\u001b[38;5;124m'\u001b[39m\u001b[38;5;124mprec\u001b[39m\u001b[38;5;124m'\u001b[39m] \u001b[38;5;241m=\u001b[39m df_mes[\u001b[38;5;124m'\u001b[39m\u001b[38;5;124mprec\u001b[39m\u001b[38;5;124m'\u001b[39m]\u001b[38;5;241m.\u001b[39mreplace(\u001b[38;5;124m'\u001b[39m\u001b[38;5;124mAcum\u001b[39m\u001b[38;5;124m'\u001b[39m, np\u001b[38;5;241m.\u001b[39mnan)\n\u001b[0;32m      7\u001b[0m     df_mes[\u001b[38;5;124m'\u001b[39m\u001b[38;5;124mprec\u001b[39m\u001b[38;5;124m'\u001b[39m] \u001b[38;5;241m=\u001b[39m df_mes[\u001b[38;5;124m'\u001b[39m\u001b[38;5;124mprec\u001b[39m\u001b[38;5;124m'\u001b[39m]\u001b[38;5;241m.\u001b[39mstr\u001b[38;5;241m.\u001b[39mreplace(\u001b[38;5;124m'\u001b[39m\u001b[38;5;124m,\u001b[39m\u001b[38;5;124m'\u001b[39m, \u001b[38;5;124m'\u001b[39m\u001b[38;5;124m.\u001b[39m\u001b[38;5;124m'\u001b[39m)\u001b[38;5;241m.\u001b[39mreplace(\u001b[38;5;124m'\u001b[39m\u001b[38;5;124mIp\u001b[39m\u001b[38;5;124m'\u001b[39m, np\u001b[38;5;241m.\u001b[39mnan)\u001b[38;5;241m.\u001b[39mastype(\u001b[38;5;28mfloat\u001b[39m)\n",
      "\u001b[1;31mTypeError\u001b[0m: 'NoneType' object is not subscriptable"
     ]
    }
   ],
   "source": [
    "febrero_18 = procesar_y_setear_mes(febrero_18, año=2018, mes='febrero')\n",
    "febrero_18.head()"
   ]
  },
  {
   "cell_type": "markdown",
   "id": "92c838bc",
   "metadata": {},
   "source": [
    "## MARZO18"
   ]
  },
  {
   "cell_type": "code",
   "execution_count": 522,
   "id": "5d33e9bd",
   "metadata": {},
   "outputs": [
    {
     "name": "stdout",
     "output_type": "stream",
     "text": [
      "{'descripcion': 'exito', 'estado': 200, 'datos': 'https://opendata.aemet.es/opendata/sh/3268a413', 'metadatos': 'https://opendata.aemet.es/opendata/sh/b3aa9d28'}\n"
     ]
    }
   ],
   "source": [
    "url_mzo18 = 'https://opendata.aemet.es/opendata/api/valores/climatologicos/diarios/datos/fechaini/2018-03-01T00%3A00%3A00UTC/fechafin/2018-03-31T00%3A00%3A00UTC/todasestaciones'\n",
    "api_file_path = '../api.txt'\n",
    "\n",
    "marzo18 = solicitud_get(url_mzo18, api_file_path)\n",
    "print(marzo18)"
   ]
  },
  {
   "cell_type": "code",
   "execution_count": 523,
   "id": "9fab1eb6",
   "metadata": {},
   "outputs": [],
   "source": [
    "url_datos_mzo18=  'https://opendata.aemet.es/opendata/sh/3268a413'\n",
    "marzo_18= procesar_datos_mes(url_datos_mzo18, columnas_interes)"
   ]
  },
  {
   "cell_type": "code",
   "execution_count": 524,
   "id": "d52aaa8a",
   "metadata": {
    "scrolled": false
   },
   "outputs": [
    {
     "data": {
      "text/html": [
       "<div>\n",
       "<style scoped>\n",
       "    .dataframe tbody tr th:only-of-type {\n",
       "        vertical-align: middle;\n",
       "    }\n",
       "\n",
       "    .dataframe tbody tr th {\n",
       "        vertical-align: top;\n",
       "    }\n",
       "\n",
       "    .dataframe thead th {\n",
       "        text-align: right;\n",
       "    }\n",
       "</style>\n",
       "<table border=\"1\" class=\"dataframe\">\n",
       "  <thead>\n",
       "    <tr style=\"text-align: right;\">\n",
       "      <th></th>\n",
       "      <th>provincia</th>\n",
       "      <th>media_tmed</th>\n",
       "      <th>media_prec</th>\n",
       "      <th>media_sol</th>\n",
       "      <th>media_tmin</th>\n",
       "      <th>media_tmax</th>\n",
       "      <th>año</th>\n",
       "      <th>mes</th>\n",
       "    </tr>\n",
       "  </thead>\n",
       "  <tbody>\n",
       "    <tr>\n",
       "      <th>0</th>\n",
       "      <td>A CORUÑA</td>\n",
       "      <td>9.337959</td>\n",
       "      <td>7.681780</td>\n",
       "      <td>3.750388</td>\n",
       "      <td>6.058776</td>\n",
       "      <td>12.623673</td>\n",
       "      <td>2018</td>\n",
       "      <td>marzo</td>\n",
       "    </tr>\n",
       "    <tr>\n",
       "      <th>1</th>\n",
       "      <td>ALBACETE</td>\n",
       "      <td>8.905645</td>\n",
       "      <td>1.706838</td>\n",
       "      <td>6.288333</td>\n",
       "      <td>4.174194</td>\n",
       "      <td>13.645968</td>\n",
       "      <td>2018</td>\n",
       "      <td>marzo</td>\n",
       "    </tr>\n",
       "    <tr>\n",
       "      <th>2</th>\n",
       "      <td>ALICANTE</td>\n",
       "      <td>13.057258</td>\n",
       "      <td>0.808621</td>\n",
       "      <td>7.337778</td>\n",
       "      <td>7.661290</td>\n",
       "      <td>18.453226</td>\n",
       "      <td>2018</td>\n",
       "      <td>marzo</td>\n",
       "    </tr>\n",
       "    <tr>\n",
       "      <th>3</th>\n",
       "      <td>ALMERIA</td>\n",
       "      <td>13.696667</td>\n",
       "      <td>1.901600</td>\n",
       "      <td>7.270968</td>\n",
       "      <td>9.570000</td>\n",
       "      <td>17.832500</td>\n",
       "      <td>2018</td>\n",
       "      <td>marzo</td>\n",
       "    </tr>\n",
       "    <tr>\n",
       "      <th>4</th>\n",
       "      <td>ARABA/ALAVA</td>\n",
       "      <td>7.946774</td>\n",
       "      <td>2.750847</td>\n",
       "      <td>4.769355</td>\n",
       "      <td>3.441935</td>\n",
       "      <td>12.450000</td>\n",
       "      <td>2018</td>\n",
       "      <td>marzo</td>\n",
       "    </tr>\n",
       "  </tbody>\n",
       "</table>\n",
       "</div>"
      ],
      "text/plain": [
       "     provincia  media_tmed  media_prec  media_sol  media_tmin  media_tmax  \\\n",
       "0     A CORUÑA    9.337959    7.681780   3.750388    6.058776   12.623673   \n",
       "1     ALBACETE    8.905645    1.706838   6.288333    4.174194   13.645968   \n",
       "2     ALICANTE   13.057258    0.808621   7.337778    7.661290   18.453226   \n",
       "3      ALMERIA   13.696667    1.901600   7.270968    9.570000   17.832500   \n",
       "4  ARABA/ALAVA    7.946774    2.750847   4.769355    3.441935   12.450000   \n",
       "\n",
       "    año    mes  \n",
       "0  2018  marzo  \n",
       "1  2018  marzo  \n",
       "2  2018  marzo  \n",
       "3  2018  marzo  \n",
       "4  2018  marzo  "
      ]
     },
     "execution_count": 524,
     "metadata": {},
     "output_type": "execute_result"
    }
   ],
   "source": [
    "marzo_18 = procesar_y_setear_mes(marzo_18, año=2018, mes='marzo')\n",
    "marzo_18.head()"
   ]
  },
  {
   "cell_type": "markdown",
   "id": "4b546663",
   "metadata": {},
   "source": [
    "## ABRIL18"
   ]
  },
  {
   "cell_type": "code",
   "execution_count": 527,
   "id": "3b4735c9",
   "metadata": {},
   "outputs": [
    {
     "name": "stdout",
     "output_type": "stream",
     "text": [
      "{'descripcion': 'exito', 'estado': 200, 'datos': 'https://opendata.aemet.es/opendata/sh/de263bee', 'metadatos': 'https://opendata.aemet.es/opendata/sh/b3aa9d28'}\n"
     ]
    }
   ],
   "source": [
    "url_abr18 = 'https://opendata.aemet.es/opendata/api/valores/climatologicos/diarios/datos/fechaini/2018-04-01T00%3A00%3A00UTC/fechafin/2018-04-30T00%3A00%3A00UTC/todasestaciones'\n",
    "api_file_path = '../api.txt'\n",
    "\n",
    "abril18 = solicitud_get(url_abr18, api_file_path)\n",
    "print(abril18)"
   ]
  },
  {
   "cell_type": "code",
   "execution_count": 528,
   "id": "db747cea",
   "metadata": {},
   "outputs": [],
   "source": [
    "url_datos_abr18=  'https://opendata.aemet.es/opendata/sh/de263bee'\n",
    "abril_18= procesar_datos_mes(url_datos_abr18, columnas_interes)"
   ]
  },
  {
   "cell_type": "code",
   "execution_count": 529,
   "id": "f3a2ac17",
   "metadata": {
    "scrolled": false
   },
   "outputs": [
    {
     "data": {
      "text/html": [
       "<div>\n",
       "<style scoped>\n",
       "    .dataframe tbody tr th:only-of-type {\n",
       "        vertical-align: middle;\n",
       "    }\n",
       "\n",
       "    .dataframe tbody tr th {\n",
       "        vertical-align: top;\n",
       "    }\n",
       "\n",
       "    .dataframe thead th {\n",
       "        text-align: right;\n",
       "    }\n",
       "</style>\n",
       "<table border=\"1\" class=\"dataframe\">\n",
       "  <thead>\n",
       "    <tr style=\"text-align: right;\">\n",
       "      <th></th>\n",
       "      <th>provincia</th>\n",
       "      <th>media_tmed</th>\n",
       "      <th>media_prec</th>\n",
       "      <th>media_sol</th>\n",
       "      <th>media_tmin</th>\n",
       "      <th>media_tmax</th>\n",
       "      <th>año</th>\n",
       "      <th>mes</th>\n",
       "    </tr>\n",
       "  </thead>\n",
       "  <tbody>\n",
       "    <tr>\n",
       "      <th>0</th>\n",
       "      <td>A CORUÑA</td>\n",
       "      <td>12.369231</td>\n",
       "      <td>3.871681</td>\n",
       "      <td>6.020968</td>\n",
       "      <td>8.676923</td>\n",
       "      <td>16.060684</td>\n",
       "      <td>2018</td>\n",
       "      <td>abril</td>\n",
       "    </tr>\n",
       "    <tr>\n",
       "      <th>1</th>\n",
       "      <td>ALBACETE</td>\n",
       "      <td>12.586441</td>\n",
       "      <td>1.064912</td>\n",
       "      <td>7.311111</td>\n",
       "      <td>6.808475</td>\n",
       "      <td>18.365254</td>\n",
       "      <td>2018</td>\n",
       "      <td>abril</td>\n",
       "    </tr>\n",
       "    <tr>\n",
       "      <th>2</th>\n",
       "      <td>ALICANTE</td>\n",
       "      <td>15.486667</td>\n",
       "      <td>0.811304</td>\n",
       "      <td>8.816667</td>\n",
       "      <td>10.012500</td>\n",
       "      <td>20.960000</td>\n",
       "      <td>2018</td>\n",
       "      <td>abril</td>\n",
       "    </tr>\n",
       "    <tr>\n",
       "      <th>3</th>\n",
       "      <td>ALMERIA</td>\n",
       "      <td>15.936036</td>\n",
       "      <td>0.400000</td>\n",
       "      <td>8.530000</td>\n",
       "      <td>11.006306</td>\n",
       "      <td>20.871171</td>\n",
       "      <td>2018</td>\n",
       "      <td>abril</td>\n",
       "    </tr>\n",
       "    <tr>\n",
       "      <th>4</th>\n",
       "      <td>ARABA/ALAVA</td>\n",
       "      <td>11.706667</td>\n",
       "      <td>3.929310</td>\n",
       "      <td>5.868333</td>\n",
       "      <td>6.125000</td>\n",
       "      <td>17.310000</td>\n",
       "      <td>2018</td>\n",
       "      <td>abril</td>\n",
       "    </tr>\n",
       "  </tbody>\n",
       "</table>\n",
       "</div>"
      ],
      "text/plain": [
       "     provincia  media_tmed  media_prec  media_sol  media_tmin  media_tmax  \\\n",
       "0     A CORUÑA   12.369231    3.871681   6.020968    8.676923   16.060684   \n",
       "1     ALBACETE   12.586441    1.064912   7.311111    6.808475   18.365254   \n",
       "2     ALICANTE   15.486667    0.811304   8.816667   10.012500   20.960000   \n",
       "3      ALMERIA   15.936036    0.400000   8.530000   11.006306   20.871171   \n",
       "4  ARABA/ALAVA   11.706667    3.929310   5.868333    6.125000   17.310000   \n",
       "\n",
       "    año    mes  \n",
       "0  2018  abril  \n",
       "1  2018  abril  \n",
       "2  2018  abril  \n",
       "3  2018  abril  \n",
       "4  2018  abril  "
      ]
     },
     "execution_count": 529,
     "metadata": {},
     "output_type": "execute_result"
    }
   ],
   "source": [
    "abril_18 = procesar_y_setear_mes(abril_18, año=2018, mes='abril')\n",
    "abril_18.head()"
   ]
  },
  {
   "cell_type": "markdown",
   "id": "f8b49fae",
   "metadata": {},
   "source": [
    "## MAYO18"
   ]
  },
  {
   "cell_type": "code",
   "execution_count": 530,
   "id": "9738b4a9",
   "metadata": {},
   "outputs": [
    {
     "name": "stdout",
     "output_type": "stream",
     "text": [
      "{'descripcion': 'exito', 'estado': 200, 'datos': 'https://opendata.aemet.es/opendata/sh/c1889823', 'metadatos': 'https://opendata.aemet.es/opendata/sh/b3aa9d28'}\n"
     ]
    }
   ],
   "source": [
    "url_my18 = 'https://opendata.aemet.es/opendata/api/valores/climatologicos/diarios/datos/fechaini/2018-05-01T00%3A00%3A00UTC/fechafin/2018-05-31T00%3A00%3A00UTC/todasestaciones'\n",
    "api_file_path = '../api.txt'\n",
    "\n",
    "mayo18 = solicitud_get(url_my18, api_file_path)\n",
    "print(mayo18)"
   ]
  },
  {
   "cell_type": "code",
   "execution_count": 531,
   "id": "a40acdc5",
   "metadata": {},
   "outputs": [],
   "source": [
    "url_datos_my18=  'https://opendata.aemet.es/opendata/sh/c1889823'\n",
    "mayo_18= procesar_datos_mes(url_datos_my18, columnas_interes)"
   ]
  },
  {
   "cell_type": "code",
   "execution_count": 532,
   "id": "7625f30e",
   "metadata": {
    "scrolled": true
   },
   "outputs": [
    {
     "data": {
      "text/html": [
       "<div>\n",
       "<style scoped>\n",
       "    .dataframe tbody tr th:only-of-type {\n",
       "        vertical-align: middle;\n",
       "    }\n",
       "\n",
       "    .dataframe tbody tr th {\n",
       "        vertical-align: top;\n",
       "    }\n",
       "\n",
       "    .dataframe thead th {\n",
       "        text-align: right;\n",
       "    }\n",
       "</style>\n",
       "<table border=\"1\" class=\"dataframe\">\n",
       "  <thead>\n",
       "    <tr style=\"text-align: right;\">\n",
       "      <th></th>\n",
       "      <th>provincia</th>\n",
       "      <th>media_tmed</th>\n",
       "      <th>media_prec</th>\n",
       "      <th>media_sol</th>\n",
       "      <th>media_tmin</th>\n",
       "      <th>media_tmax</th>\n",
       "      <th>año</th>\n",
       "      <th>mes</th>\n",
       "    </tr>\n",
       "  </thead>\n",
       "  <tbody>\n",
       "    <tr>\n",
       "      <th>0</th>\n",
       "      <td>A CORUÑA</td>\n",
       "      <td>14.513878</td>\n",
       "      <td>0.953448</td>\n",
       "      <td>7.141221</td>\n",
       "      <td>10.636735</td>\n",
       "      <td>18.380408</td>\n",
       "      <td>2018</td>\n",
       "      <td>mayo</td>\n",
       "    </tr>\n",
       "    <tr>\n",
       "      <th>1</th>\n",
       "      <td>ALBACETE</td>\n",
       "      <td>16.001613</td>\n",
       "      <td>1.914407</td>\n",
       "      <td>8.929825</td>\n",
       "      <td>9.309677</td>\n",
       "      <td>22.691129</td>\n",
       "      <td>2018</td>\n",
       "      <td>mayo</td>\n",
       "    </tr>\n",
       "    <tr>\n",
       "      <th>2</th>\n",
       "      <td>ALICANTE</td>\n",
       "      <td>17.824194</td>\n",
       "      <td>0.437705</td>\n",
       "      <td>11.055914</td>\n",
       "      <td>12.179839</td>\n",
       "      <td>23.475000</td>\n",
       "      <td>2018</td>\n",
       "      <td>mayo</td>\n",
       "    </tr>\n",
       "    <tr>\n",
       "      <th>3</th>\n",
       "      <td>ALMERIA</td>\n",
       "      <td>18.320833</td>\n",
       "      <td>0.147368</td>\n",
       "      <td>10.780645</td>\n",
       "      <td>13.611111</td>\n",
       "      <td>23.022917</td>\n",
       "      <td>2018</td>\n",
       "      <td>mayo</td>\n",
       "    </tr>\n",
       "    <tr>\n",
       "      <th>4</th>\n",
       "      <td>ARABA/ALAVA</td>\n",
       "      <td>12.561290</td>\n",
       "      <td>1.905263</td>\n",
       "      <td>5.254839</td>\n",
       "      <td>6.664516</td>\n",
       "      <td>18.462903</td>\n",
       "      <td>2018</td>\n",
       "      <td>mayo</td>\n",
       "    </tr>\n",
       "  </tbody>\n",
       "</table>\n",
       "</div>"
      ],
      "text/plain": [
       "     provincia  media_tmed  media_prec  media_sol  media_tmin  media_tmax  \\\n",
       "0     A CORUÑA   14.513878    0.953448   7.141221   10.636735   18.380408   \n",
       "1     ALBACETE   16.001613    1.914407   8.929825    9.309677   22.691129   \n",
       "2     ALICANTE   17.824194    0.437705  11.055914   12.179839   23.475000   \n",
       "3      ALMERIA   18.320833    0.147368  10.780645   13.611111   23.022917   \n",
       "4  ARABA/ALAVA   12.561290    1.905263   5.254839    6.664516   18.462903   \n",
       "\n",
       "    año   mes  \n",
       "0  2018  mayo  \n",
       "1  2018  mayo  \n",
       "2  2018  mayo  \n",
       "3  2018  mayo  \n",
       "4  2018  mayo  "
      ]
     },
     "execution_count": 532,
     "metadata": {},
     "output_type": "execute_result"
    }
   ],
   "source": [
    "mayo_18 = procesar_y_setear_mes(mayo_18, año=2018, mes='mayo')\n",
    "mayo_18.head()"
   ]
  },
  {
   "cell_type": "markdown",
   "id": "7b251c09",
   "metadata": {},
   "source": [
    "## JUNIO18"
   ]
  },
  {
   "cell_type": "code",
   "execution_count": 533,
   "id": "3ca6cd81",
   "metadata": {},
   "outputs": [
    {
     "name": "stdout",
     "output_type": "stream",
     "text": [
      "{'descripcion': 'exito', 'estado': 200, 'datos': 'https://opendata.aemet.es/opendata/sh/e5a68a26', 'metadatos': 'https://opendata.aemet.es/opendata/sh/b3aa9d28'}\n"
     ]
    }
   ],
   "source": [
    "url_jun18 = 'https://opendata.aemet.es/opendata/api/valores/climatologicos/diarios/datos/fechaini/2018-06-01T00%3A00%3A00UTC/fechafin/2018-06-30T00%3A00%3A00UTC/todasestaciones'\n",
    "api_file_path = '../api.txt'\n",
    "\n",
    "junio18 = solicitud_get(url_jun18, api_file_path)\n",
    "print(junio18)"
   ]
  },
  {
   "cell_type": "code",
   "execution_count": 534,
   "id": "2c0bbc24",
   "metadata": {},
   "outputs": [],
   "source": [
    "url_datos_jun18=  'https://opendata.aemet.es/opendata/sh/e5a68a26'\n",
    "junio_18= procesar_datos_mes(url_datos_jun18, columnas_interes)"
   ]
  },
  {
   "cell_type": "code",
   "execution_count": 535,
   "id": "af106c1c",
   "metadata": {
    "scrolled": false
   },
   "outputs": [
    {
     "data": {
      "text/html": [
       "<div>\n",
       "<style scoped>\n",
       "    .dataframe tbody tr th:only-of-type {\n",
       "        vertical-align: middle;\n",
       "    }\n",
       "\n",
       "    .dataframe tbody tr th {\n",
       "        vertical-align: top;\n",
       "    }\n",
       "\n",
       "    .dataframe thead th {\n",
       "        text-align: right;\n",
       "    }\n",
       "</style>\n",
       "<table border=\"1\" class=\"dataframe\">\n",
       "  <thead>\n",
       "    <tr style=\"text-align: right;\">\n",
       "      <th></th>\n",
       "      <th>provincia</th>\n",
       "      <th>media_tmed</th>\n",
       "      <th>media_prec</th>\n",
       "      <th>media_sol</th>\n",
       "      <th>media_tmin</th>\n",
       "      <th>media_tmax</th>\n",
       "      <th>año</th>\n",
       "      <th>mes</th>\n",
       "    </tr>\n",
       "  </thead>\n",
       "  <tbody>\n",
       "    <tr>\n",
       "      <th>0</th>\n",
       "      <td>A CORUÑA</td>\n",
       "      <td>17.012766</td>\n",
       "      <td>3.060699</td>\n",
       "      <td>6.017323</td>\n",
       "      <td>13.600851</td>\n",
       "      <td>20.420851</td>\n",
       "      <td>2018</td>\n",
       "      <td>junio</td>\n",
       "    </tr>\n",
       "    <tr>\n",
       "      <th>1</th>\n",
       "      <td>ALBACETE</td>\n",
       "      <td>20.758333</td>\n",
       "      <td>1.621008</td>\n",
       "      <td>10.818182</td>\n",
       "      <td>13.981667</td>\n",
       "      <td>27.540000</td>\n",
       "      <td>2018</td>\n",
       "      <td>junio</td>\n",
       "    </tr>\n",
       "    <tr>\n",
       "      <th>2</th>\n",
       "      <td>ALICANTE</td>\n",
       "      <td>22.212605</td>\n",
       "      <td>1.241026</td>\n",
       "      <td>11.290000</td>\n",
       "      <td>16.554622</td>\n",
       "      <td>27.873109</td>\n",
       "      <td>2018</td>\n",
       "      <td>junio</td>\n",
       "    </tr>\n",
       "    <tr>\n",
       "      <th>3</th>\n",
       "      <td>ALMERIA</td>\n",
       "      <td>22.151408</td>\n",
       "      <td>0.124107</td>\n",
       "      <td>11.726667</td>\n",
       "      <td>17.355634</td>\n",
       "      <td>26.939437</td>\n",
       "      <td>2018</td>\n",
       "      <td>junio</td>\n",
       "    </tr>\n",
       "    <tr>\n",
       "      <th>4</th>\n",
       "      <td>ARABA/ALAVA</td>\n",
       "      <td>17.380000</td>\n",
       "      <td>1.969811</td>\n",
       "      <td>6.801667</td>\n",
       "      <td>11.325000</td>\n",
       "      <td>23.438333</td>\n",
       "      <td>2018</td>\n",
       "      <td>junio</td>\n",
       "    </tr>\n",
       "  </tbody>\n",
       "</table>\n",
       "</div>"
      ],
      "text/plain": [
       "     provincia  media_tmed  media_prec  media_sol  media_tmin  media_tmax  \\\n",
       "0     A CORUÑA   17.012766    3.060699   6.017323   13.600851   20.420851   \n",
       "1     ALBACETE   20.758333    1.621008  10.818182   13.981667   27.540000   \n",
       "2     ALICANTE   22.212605    1.241026  11.290000   16.554622   27.873109   \n",
       "3      ALMERIA   22.151408    0.124107  11.726667   17.355634   26.939437   \n",
       "4  ARABA/ALAVA   17.380000    1.969811   6.801667   11.325000   23.438333   \n",
       "\n",
       "    año    mes  \n",
       "0  2018  junio  \n",
       "1  2018  junio  \n",
       "2  2018  junio  \n",
       "3  2018  junio  \n",
       "4  2018  junio  "
      ]
     },
     "execution_count": 535,
     "metadata": {},
     "output_type": "execute_result"
    }
   ],
   "source": [
    "junio_18 = procesar_y_setear_mes(junio_18, año=2018, mes='junio')\n",
    "junio_18.head()"
   ]
  },
  {
   "cell_type": "markdown",
   "id": "abe5d7e8",
   "metadata": {},
   "source": [
    "## JULIO18"
   ]
  },
  {
   "cell_type": "code",
   "execution_count": 536,
   "id": "620beccc",
   "metadata": {},
   "outputs": [
    {
     "name": "stdout",
     "output_type": "stream",
     "text": [
      "{'descripcion': 'exito', 'estado': 200, 'datos': 'https://opendata.aemet.es/opendata/sh/79909d39', 'metadatos': 'https://opendata.aemet.es/opendata/sh/b3aa9d28'}\n"
     ]
    }
   ],
   "source": [
    "url_jul18 = 'https://opendata.aemet.es/opendata/api/valores/climatologicos/diarios/datos/fechaini/2018-07-01T00%3A00%3A00UTC/fechafin/2018-07-31T00%3A00%3A00UTC/todasestaciones'\n",
    "api_file_path = '../api.txt'\n",
    "\n",
    "julio18 = solicitud_get(url_jul18, api_file_path)\n",
    "print(julio18)"
   ]
  },
  {
   "cell_type": "code",
   "execution_count": 537,
   "id": "5feb6e31",
   "metadata": {},
   "outputs": [],
   "source": [
    "url_datos_jul18=  'https://opendata.aemet.es/opendata/sh/79909d39'\n",
    "julio_18= procesar_datos_mes(url_datos_jul18, columnas_interes)"
   ]
  },
  {
   "cell_type": "code",
   "execution_count": 538,
   "id": "8ce69692",
   "metadata": {
    "scrolled": true
   },
   "outputs": [
    {
     "data": {
      "text/html": [
       "<div>\n",
       "<style scoped>\n",
       "    .dataframe tbody tr th:only-of-type {\n",
       "        vertical-align: middle;\n",
       "    }\n",
       "\n",
       "    .dataframe tbody tr th {\n",
       "        vertical-align: top;\n",
       "    }\n",
       "\n",
       "    .dataframe thead th {\n",
       "        text-align: right;\n",
       "    }\n",
       "</style>\n",
       "<table border=\"1\" class=\"dataframe\">\n",
       "  <thead>\n",
       "    <tr style=\"text-align: right;\">\n",
       "      <th></th>\n",
       "      <th>provincia</th>\n",
       "      <th>media_tmed</th>\n",
       "      <th>media_prec</th>\n",
       "      <th>media_sol</th>\n",
       "      <th>media_tmin</th>\n",
       "      <th>media_tmax</th>\n",
       "      <th>año</th>\n",
       "      <th>mes</th>\n",
       "    </tr>\n",
       "  </thead>\n",
       "  <tbody>\n",
       "    <tr>\n",
       "      <th>0</th>\n",
       "      <td>A CORUÑA</td>\n",
       "      <td>19.324066</td>\n",
       "      <td>1.054894</td>\n",
       "      <td>6.597692</td>\n",
       "      <td>15.859336</td>\n",
       "      <td>22.787552</td>\n",
       "      <td>2018</td>\n",
       "      <td>julio</td>\n",
       "    </tr>\n",
       "    <tr>\n",
       "      <th>1</th>\n",
       "      <td>ALBACETE</td>\n",
       "      <td>25.502419</td>\n",
       "      <td>0.064228</td>\n",
       "      <td>13.034483</td>\n",
       "      <td>17.388710</td>\n",
       "      <td>33.624194</td>\n",
       "      <td>2018</td>\n",
       "      <td>julio</td>\n",
       "    </tr>\n",
       "    <tr>\n",
       "      <th>2</th>\n",
       "      <td>ALICANTE</td>\n",
       "      <td>25.777686</td>\n",
       "      <td>0.000820</td>\n",
       "      <td>12.192473</td>\n",
       "      <td>19.961983</td>\n",
       "      <td>31.598347</td>\n",
       "      <td>2018</td>\n",
       "      <td>julio</td>\n",
       "    </tr>\n",
       "    <tr>\n",
       "      <th>3</th>\n",
       "      <td>ALMERIA</td>\n",
       "      <td>24.681379</td>\n",
       "      <td>0.000000</td>\n",
       "      <td>11.574194</td>\n",
       "      <td>19.720000</td>\n",
       "      <td>29.640000</td>\n",
       "      <td>2018</td>\n",
       "      <td>julio</td>\n",
       "    </tr>\n",
       "    <tr>\n",
       "      <th>4</th>\n",
       "      <td>ARABA/ALAVA</td>\n",
       "      <td>20.703226</td>\n",
       "      <td>2.185000</td>\n",
       "      <td>8.122581</td>\n",
       "      <td>14.385484</td>\n",
       "      <td>27.027419</td>\n",
       "      <td>2018</td>\n",
       "      <td>julio</td>\n",
       "    </tr>\n",
       "  </tbody>\n",
       "</table>\n",
       "</div>"
      ],
      "text/plain": [
       "     provincia  media_tmed  media_prec  media_sol  media_tmin  media_tmax  \\\n",
       "0     A CORUÑA   19.324066    1.054894   6.597692   15.859336   22.787552   \n",
       "1     ALBACETE   25.502419    0.064228  13.034483   17.388710   33.624194   \n",
       "2     ALICANTE   25.777686    0.000820  12.192473   19.961983   31.598347   \n",
       "3      ALMERIA   24.681379    0.000000  11.574194   19.720000   29.640000   \n",
       "4  ARABA/ALAVA   20.703226    2.185000   8.122581   14.385484   27.027419   \n",
       "\n",
       "    año    mes  \n",
       "0  2018  julio  \n",
       "1  2018  julio  \n",
       "2  2018  julio  \n",
       "3  2018  julio  \n",
       "4  2018  julio  "
      ]
     },
     "execution_count": 538,
     "metadata": {},
     "output_type": "execute_result"
    }
   ],
   "source": [
    "julio_18 = procesar_y_setear_mes(julio_18, año=2018, mes='julio')\n",
    "julio_18.head()"
   ]
  },
  {
   "cell_type": "markdown",
   "id": "68427eda",
   "metadata": {},
   "source": [
    "## AGOSTO18"
   ]
  },
  {
   "cell_type": "code",
   "execution_count": 539,
   "id": "76db37f7",
   "metadata": {},
   "outputs": [
    {
     "name": "stdout",
     "output_type": "stream",
     "text": [
      "{'descripcion': 'exito', 'estado': 200, 'datos': 'https://opendata.aemet.es/opendata/sh/d4add51a', 'metadatos': 'https://opendata.aemet.es/opendata/sh/b3aa9d28'}\n"
     ]
    }
   ],
   "source": [
    "url_ag18 = 'https://opendata.aemet.es/opendata/api/valores/climatologicos/diarios/datos/fechaini/2018-08-01T00%3A00%3A00UTC/fechafin/2018-08-31T00%3A00%3A00UTC/todasestaciones'\n",
    "api_file_path = '../api.txt'\n",
    "\n",
    "agosto18 = solicitud_get(url_ag18, api_file_path)\n",
    "print(agosto18)"
   ]
  },
  {
   "cell_type": "code",
   "execution_count": 540,
   "id": "10917221",
   "metadata": {},
   "outputs": [],
   "source": [
    "url_datos_ag18= 'https://opendata.aemet.es/opendata/sh/d4add51a'\n",
    "agosto_18= procesar_datos_mes(url_datos_ag18, columnas_interes)"
   ]
  },
  {
   "cell_type": "code",
   "execution_count": 541,
   "id": "6b219fa1",
   "metadata": {
    "scrolled": false
   },
   "outputs": [
    {
     "data": {
      "text/html": [
       "<div>\n",
       "<style scoped>\n",
       "    .dataframe tbody tr th:only-of-type {\n",
       "        vertical-align: middle;\n",
       "    }\n",
       "\n",
       "    .dataframe tbody tr th {\n",
       "        vertical-align: top;\n",
       "    }\n",
       "\n",
       "    .dataframe thead th {\n",
       "        text-align: right;\n",
       "    }\n",
       "</style>\n",
       "<table border=\"1\" class=\"dataframe\">\n",
       "  <thead>\n",
       "    <tr style=\"text-align: right;\">\n",
       "      <th></th>\n",
       "      <th>provincia</th>\n",
       "      <th>media_tmed</th>\n",
       "      <th>media_prec</th>\n",
       "      <th>media_sol</th>\n",
       "      <th>media_tmin</th>\n",
       "      <th>media_tmax</th>\n",
       "      <th>año</th>\n",
       "      <th>mes</th>\n",
       "    </tr>\n",
       "  </thead>\n",
       "  <tbody>\n",
       "    <tr>\n",
       "      <th>0</th>\n",
       "      <td>A CORUÑA</td>\n",
       "      <td>20.326471</td>\n",
       "      <td>0.485909</td>\n",
       "      <td>9.269853</td>\n",
       "      <td>15.633193</td>\n",
       "      <td>25.016807</td>\n",
       "      <td>2018</td>\n",
       "      <td>agosto</td>\n",
       "    </tr>\n",
       "    <tr>\n",
       "      <th>1</th>\n",
       "      <td>ALBACETE</td>\n",
       "      <td>25.845161</td>\n",
       "      <td>0.926016</td>\n",
       "      <td>10.615517</td>\n",
       "      <td>18.541935</td>\n",
       "      <td>33.153226</td>\n",
       "      <td>2018</td>\n",
       "      <td>agosto</td>\n",
       "    </tr>\n",
       "    <tr>\n",
       "      <th>2</th>\n",
       "      <td>ALICANTE</td>\n",
       "      <td>26.163415</td>\n",
       "      <td>1.804959</td>\n",
       "      <td>10.328571</td>\n",
       "      <td>20.834959</td>\n",
       "      <td>31.489431</td>\n",
       "      <td>2018</td>\n",
       "      <td>agosto</td>\n",
       "    </tr>\n",
       "    <tr>\n",
       "      <th>3</th>\n",
       "      <td>ALMERIA</td>\n",
       "      <td>26.763934</td>\n",
       "      <td>0.000000</td>\n",
       "      <td>11.429032</td>\n",
       "      <td>21.574590</td>\n",
       "      <td>31.956557</td>\n",
       "      <td>2018</td>\n",
       "      <td>agosto</td>\n",
       "    </tr>\n",
       "    <tr>\n",
       "      <th>4</th>\n",
       "      <td>ARABA/ALAVA</td>\n",
       "      <td>20.100000</td>\n",
       "      <td>0.055357</td>\n",
       "      <td>7.950000</td>\n",
       "      <td>12.666129</td>\n",
       "      <td>27.538710</td>\n",
       "      <td>2018</td>\n",
       "      <td>agosto</td>\n",
       "    </tr>\n",
       "  </tbody>\n",
       "</table>\n",
       "</div>"
      ],
      "text/plain": [
       "     provincia  media_tmed  media_prec  media_sol  media_tmin  media_tmax  \\\n",
       "0     A CORUÑA   20.326471    0.485909   9.269853   15.633193   25.016807   \n",
       "1     ALBACETE   25.845161    0.926016  10.615517   18.541935   33.153226   \n",
       "2     ALICANTE   26.163415    1.804959  10.328571   20.834959   31.489431   \n",
       "3      ALMERIA   26.763934    0.000000  11.429032   21.574590   31.956557   \n",
       "4  ARABA/ALAVA   20.100000    0.055357   7.950000   12.666129   27.538710   \n",
       "\n",
       "    año     mes  \n",
       "0  2018  agosto  \n",
       "1  2018  agosto  \n",
       "2  2018  agosto  \n",
       "3  2018  agosto  \n",
       "4  2018  agosto  "
      ]
     },
     "execution_count": 541,
     "metadata": {},
     "output_type": "execute_result"
    }
   ],
   "source": [
    "agosto_18 = procesar_y_setear_mes(agosto_18, año=2018, mes='agosto')\n",
    "agosto_18.head()"
   ]
  },
  {
   "cell_type": "markdown",
   "id": "c5c3392f",
   "metadata": {},
   "source": [
    "## SEPTIEMBRE18"
   ]
  },
  {
   "cell_type": "code",
   "execution_count": 542,
   "id": "942d49f8",
   "metadata": {},
   "outputs": [
    {
     "name": "stdout",
     "output_type": "stream",
     "text": [
      "{'descripcion': 'exito', 'estado': 200, 'datos': 'https://opendata.aemet.es/opendata/sh/ab92cd66', 'metadatos': 'https://opendata.aemet.es/opendata/sh/b3aa9d28'}\n"
     ]
    }
   ],
   "source": [
    "url_sep18 = 'https://opendata.aemet.es/opendata/api/valores/climatologicos/diarios/datos/fechaini/2018-09-01T00%3A00%3A00UTC/fechafin/2018-09-30T00%3A00%3A00UTC/todasestaciones'\n",
    "api_file_path = '../api.txt'\n",
    "\n",
    "septiembre18 = solicitud_get(url_sep18, api_file_path)\n",
    "print(septiembre18)"
   ]
  },
  {
   "cell_type": "code",
   "execution_count": 543,
   "id": "3968b2cf",
   "metadata": {},
   "outputs": [],
   "source": [
    "url_datos_sep18= 'https://opendata.aemet.es/opendata/sh/ab92cd66'\n",
    "septiembre_18= procesar_datos_mes(url_datos_sep18, columnas_interes)"
   ]
  },
  {
   "cell_type": "code",
   "execution_count": 544,
   "id": "4f6eea50",
   "metadata": {
    "scrolled": true
   },
   "outputs": [
    {
     "data": {
      "text/html": [
       "<div>\n",
       "<style scoped>\n",
       "    .dataframe tbody tr th:only-of-type {\n",
       "        vertical-align: middle;\n",
       "    }\n",
       "\n",
       "    .dataframe tbody tr th {\n",
       "        vertical-align: top;\n",
       "    }\n",
       "\n",
       "    .dataframe thead th {\n",
       "        text-align: right;\n",
       "    }\n",
       "</style>\n",
       "<table border=\"1\" class=\"dataframe\">\n",
       "  <thead>\n",
       "    <tr style=\"text-align: right;\">\n",
       "      <th></th>\n",
       "      <th>provincia</th>\n",
       "      <th>media_tmed</th>\n",
       "      <th>media_prec</th>\n",
       "      <th>media_sol</th>\n",
       "      <th>media_tmin</th>\n",
       "      <th>media_tmax</th>\n",
       "      <th>año</th>\n",
       "      <th>mes</th>\n",
       "    </tr>\n",
       "  </thead>\n",
       "  <tbody>\n",
       "    <tr>\n",
       "      <th>0</th>\n",
       "      <td>A CORUÑA</td>\n",
       "      <td>19.470306</td>\n",
       "      <td>0.188043</td>\n",
       "      <td>8.218045</td>\n",
       "      <td>14.895197</td>\n",
       "      <td>24.047162</td>\n",
       "      <td>2018</td>\n",
       "      <td>septiembre</td>\n",
       "    </tr>\n",
       "    <tr>\n",
       "      <th>1</th>\n",
       "      <td>ALBACETE</td>\n",
       "      <td>22.040336</td>\n",
       "      <td>1.602564</td>\n",
       "      <td>8.309615</td>\n",
       "      <td>15.802521</td>\n",
       "      <td>28.285714</td>\n",
       "      <td>2018</td>\n",
       "      <td>septiembre</td>\n",
       "    </tr>\n",
       "    <tr>\n",
       "      <th>2</th>\n",
       "      <td>ALICANTE</td>\n",
       "      <td>23.689167</td>\n",
       "      <td>1.967797</td>\n",
       "      <td>8.681111</td>\n",
       "      <td>18.853333</td>\n",
       "      <td>28.525000</td>\n",
       "      <td>2018</td>\n",
       "      <td>septiembre</td>\n",
       "    </tr>\n",
       "    <tr>\n",
       "      <th>3</th>\n",
       "      <td>ALMERIA</td>\n",
       "      <td>24.269159</td>\n",
       "      <td>0.925926</td>\n",
       "      <td>8.240000</td>\n",
       "      <td>19.415888</td>\n",
       "      <td>29.135514</td>\n",
       "      <td>2018</td>\n",
       "      <td>septiembre</td>\n",
       "    </tr>\n",
       "    <tr>\n",
       "      <th>4</th>\n",
       "      <td>ARABA/ALAVA</td>\n",
       "      <td>18.963333</td>\n",
       "      <td>0.245614</td>\n",
       "      <td>8.038333</td>\n",
       "      <td>11.033333</td>\n",
       "      <td>26.903333</td>\n",
       "      <td>2018</td>\n",
       "      <td>septiembre</td>\n",
       "    </tr>\n",
       "  </tbody>\n",
       "</table>\n",
       "</div>"
      ],
      "text/plain": [
       "     provincia  media_tmed  media_prec  media_sol  media_tmin  media_tmax  \\\n",
       "0     A CORUÑA   19.470306    0.188043   8.218045   14.895197   24.047162   \n",
       "1     ALBACETE   22.040336    1.602564   8.309615   15.802521   28.285714   \n",
       "2     ALICANTE   23.689167    1.967797   8.681111   18.853333   28.525000   \n",
       "3      ALMERIA   24.269159    0.925926   8.240000   19.415888   29.135514   \n",
       "4  ARABA/ALAVA   18.963333    0.245614   8.038333   11.033333   26.903333   \n",
       "\n",
       "    año         mes  \n",
       "0  2018  septiembre  \n",
       "1  2018  septiembre  \n",
       "2  2018  septiembre  \n",
       "3  2018  septiembre  \n",
       "4  2018  septiembre  "
      ]
     },
     "execution_count": 544,
     "metadata": {},
     "output_type": "execute_result"
    }
   ],
   "source": [
    "septiembre_18 = procesar_y_setear_mes(septiembre_18, año=2018, mes='septiembre')\n",
    "septiembre_18.head()"
   ]
  },
  {
   "cell_type": "markdown",
   "id": "fbf6d84e",
   "metadata": {},
   "source": [
    "## OCTUBRE18"
   ]
  },
  {
   "cell_type": "code",
   "execution_count": 545,
   "id": "9c7f33d5",
   "metadata": {},
   "outputs": [
    {
     "name": "stdout",
     "output_type": "stream",
     "text": [
      "{'descripcion': 'exito', 'estado': 200, 'datos': 'https://opendata.aemet.es/opendata/sh/c5fa3f02', 'metadatos': 'https://opendata.aemet.es/opendata/sh/b3aa9d28'}\n"
     ]
    }
   ],
   "source": [
    "url_oct18 = 'https://opendata.aemet.es/opendata/api/valores/climatologicos/diarios/datos/fechaini/2018-10-01T00%3A00%3A00UTC/fechafin/2018-10-31T00%3A00%3A00UTC/todasestaciones'\n",
    "api_file_path = '../api.txt'\n",
    "\n",
    "octubre18 = solicitud_get(url_oct18, api_file_path)\n",
    "print(octubre18) "
   ]
  },
  {
   "cell_type": "code",
   "execution_count": 546,
   "id": "18342601",
   "metadata": {},
   "outputs": [],
   "source": [
    "url_datos_oct18= 'https://opendata.aemet.es/opendata/sh/c5fa3f02'\n",
    "octubre_18 = procesar_datos_mes(url_datos_oct18, columnas_interes)"
   ]
  },
  {
   "cell_type": "code",
   "execution_count": 547,
   "id": "996b86d3",
   "metadata": {
    "scrolled": true
   },
   "outputs": [
    {
     "data": {
      "text/html": [
       "<div>\n",
       "<style scoped>\n",
       "    .dataframe tbody tr th:only-of-type {\n",
       "        vertical-align: middle;\n",
       "    }\n",
       "\n",
       "    .dataframe tbody tr th {\n",
       "        vertical-align: top;\n",
       "    }\n",
       "\n",
       "    .dataframe thead th {\n",
       "        text-align: right;\n",
       "    }\n",
       "</style>\n",
       "<table border=\"1\" class=\"dataframe\">\n",
       "  <thead>\n",
       "    <tr style=\"text-align: right;\">\n",
       "      <th></th>\n",
       "      <th>provincia</th>\n",
       "      <th>media_tmed</th>\n",
       "      <th>media_prec</th>\n",
       "      <th>media_sol</th>\n",
       "      <th>media_tmin</th>\n",
       "      <th>media_tmax</th>\n",
       "      <th>año</th>\n",
       "      <th>mes</th>\n",
       "    </tr>\n",
       "  </thead>\n",
       "  <tbody>\n",
       "    <tr>\n",
       "      <th>0</th>\n",
       "      <td>A CORUÑA</td>\n",
       "      <td>14.978138</td>\n",
       "      <td>3.752500</td>\n",
       "      <td>6.746715</td>\n",
       "      <td>10.872874</td>\n",
       "      <td>19.086235</td>\n",
       "      <td>2018</td>\n",
       "      <td>octubre</td>\n",
       "    </tr>\n",
       "    <tr>\n",
       "      <th>1</th>\n",
       "      <td>ALBACETE</td>\n",
       "      <td>14.942276</td>\n",
       "      <td>1.233065</td>\n",
       "      <td>6.663462</td>\n",
       "      <td>9.178049</td>\n",
       "      <td>20.707317</td>\n",
       "      <td>2018</td>\n",
       "      <td>octubre</td>\n",
       "    </tr>\n",
       "    <tr>\n",
       "      <th>2</th>\n",
       "      <td>ALICANTE</td>\n",
       "      <td>17.866129</td>\n",
       "      <td>2.457627</td>\n",
       "      <td>7.353763</td>\n",
       "      <td>12.545161</td>\n",
       "      <td>23.183871</td>\n",
       "      <td>2018</td>\n",
       "      <td>octubre</td>\n",
       "    </tr>\n",
       "    <tr>\n",
       "      <th>3</th>\n",
       "      <td>ALMERIA</td>\n",
       "      <td>19.172662</td>\n",
       "      <td>0.751111</td>\n",
       "      <td>6.832258</td>\n",
       "      <td>14.812950</td>\n",
       "      <td>23.544604</td>\n",
       "      <td>2018</td>\n",
       "      <td>octubre</td>\n",
       "    </tr>\n",
       "    <tr>\n",
       "      <th>4</th>\n",
       "      <td>ARABA/ALAVA</td>\n",
       "      <td>12.553226</td>\n",
       "      <td>3.572727</td>\n",
       "      <td>5.172581</td>\n",
       "      <td>6.743548</td>\n",
       "      <td>18.374194</td>\n",
       "      <td>2018</td>\n",
       "      <td>octubre</td>\n",
       "    </tr>\n",
       "  </tbody>\n",
       "</table>\n",
       "</div>"
      ],
      "text/plain": [
       "     provincia  media_tmed  media_prec  media_sol  media_tmin  media_tmax  \\\n",
       "0     A CORUÑA   14.978138    3.752500   6.746715   10.872874   19.086235   \n",
       "1     ALBACETE   14.942276    1.233065   6.663462    9.178049   20.707317   \n",
       "2     ALICANTE   17.866129    2.457627   7.353763   12.545161   23.183871   \n",
       "3      ALMERIA   19.172662    0.751111   6.832258   14.812950   23.544604   \n",
       "4  ARABA/ALAVA   12.553226    3.572727   5.172581    6.743548   18.374194   \n",
       "\n",
       "    año      mes  \n",
       "0  2018  octubre  \n",
       "1  2018  octubre  \n",
       "2  2018  octubre  \n",
       "3  2018  octubre  \n",
       "4  2018  octubre  "
      ]
     },
     "execution_count": 547,
     "metadata": {},
     "output_type": "execute_result"
    }
   ],
   "source": [
    "octubre_18 = procesar_y_setear_mes(octubre_18, año=2018, mes='octubre')\n",
    "octubre_18.head()"
   ]
  },
  {
   "cell_type": "markdown",
   "id": "811d3da4",
   "metadata": {},
   "source": [
    "## NOVIEMBRE18"
   ]
  },
  {
   "cell_type": "code",
   "execution_count": 548,
   "id": "ba73ac7a",
   "metadata": {},
   "outputs": [
    {
     "name": "stdout",
     "output_type": "stream",
     "text": [
      "{'descripcion': 'exito', 'estado': 200, 'datos': 'https://opendata.aemet.es/opendata/sh/f6b1117e', 'metadatos': 'https://opendata.aemet.es/opendata/sh/b3aa9d28'}\n"
     ]
    }
   ],
   "source": [
    "url_nov18 = 'https://opendata.aemet.es/opendata/api/valores/climatologicos/diarios/datos/fechaini/2018-11-01T00%3A00%3A00UTC/fechafin/2018-11-30T00%3A00%3A00UTC/todasestaciones'\n",
    "api_file_path = '../api.txt'\n",
    "\n",
    "noviembre18 = solicitud_get(url_nov18, api_file_path)\n",
    "print(noviembre18) "
   ]
  },
  {
   "cell_type": "code",
   "execution_count": 549,
   "id": "290ed473",
   "metadata": {},
   "outputs": [],
   "source": [
    "url_datos_nov18= 'https://opendata.aemet.es/opendata/sh/f6b1117e'\n",
    "noviembre_18= procesar_datos_mes(url_datos_nov18, columnas_interes)"
   ]
  },
  {
   "cell_type": "code",
   "execution_count": 550,
   "id": "29b24190",
   "metadata": {
    "scrolled": true
   },
   "outputs": [
    {
     "data": {
      "text/html": [
       "<div>\n",
       "<style scoped>\n",
       "    .dataframe tbody tr th:only-of-type {\n",
       "        vertical-align: middle;\n",
       "    }\n",
       "\n",
       "    .dataframe tbody tr th {\n",
       "        vertical-align: top;\n",
       "    }\n",
       "\n",
       "    .dataframe thead th {\n",
       "        text-align: right;\n",
       "    }\n",
       "</style>\n",
       "<table border=\"1\" class=\"dataframe\">\n",
       "  <thead>\n",
       "    <tr style=\"text-align: right;\">\n",
       "      <th></th>\n",
       "      <th>provincia</th>\n",
       "      <th>media_tmed</th>\n",
       "      <th>media_prec</th>\n",
       "      <th>media_sol</th>\n",
       "      <th>media_tmin</th>\n",
       "      <th>media_tmax</th>\n",
       "      <th>año</th>\n",
       "      <th>mes</th>\n",
       "    </tr>\n",
       "  </thead>\n",
       "  <tbody>\n",
       "    <tr>\n",
       "      <th>0</th>\n",
       "      <td>A CORUÑA</td>\n",
       "      <td>11.880426</td>\n",
       "      <td>9.925000</td>\n",
       "      <td>3.191667</td>\n",
       "      <td>8.994043</td>\n",
       "      <td>14.765957</td>\n",
       "      <td>2018</td>\n",
       "      <td>noviembre</td>\n",
       "    </tr>\n",
       "    <tr>\n",
       "      <th>1</th>\n",
       "      <td>ALBACETE</td>\n",
       "      <td>10.178641</td>\n",
       "      <td>1.840404</td>\n",
       "      <td>4.301923</td>\n",
       "      <td>5.811650</td>\n",
       "      <td>14.552427</td>\n",
       "      <td>2018</td>\n",
       "      <td>noviembre</td>\n",
       "    </tr>\n",
       "    <tr>\n",
       "      <th>2</th>\n",
       "      <td>ALICANTE</td>\n",
       "      <td>13.529661</td>\n",
       "      <td>2.042857</td>\n",
       "      <td>5.422222</td>\n",
       "      <td>8.515254</td>\n",
       "      <td>18.547458</td>\n",
       "      <td>2018</td>\n",
       "      <td>noviembre</td>\n",
       "    </tr>\n",
       "    <tr>\n",
       "      <th>3</th>\n",
       "      <td>ALMERIA</td>\n",
       "      <td>14.713287</td>\n",
       "      <td>1.024060</td>\n",
       "      <td>6.233333</td>\n",
       "      <td>10.380420</td>\n",
       "      <td>19.034965</td>\n",
       "      <td>2018</td>\n",
       "      <td>noviembre</td>\n",
       "    </tr>\n",
       "    <tr>\n",
       "      <th>4</th>\n",
       "      <td>ARABA/ALAVA</td>\n",
       "      <td>9.341667</td>\n",
       "      <td>2.651786</td>\n",
       "      <td>3.848333</td>\n",
       "      <td>4.755000</td>\n",
       "      <td>13.920000</td>\n",
       "      <td>2018</td>\n",
       "      <td>noviembre</td>\n",
       "    </tr>\n",
       "  </tbody>\n",
       "</table>\n",
       "</div>"
      ],
      "text/plain": [
       "     provincia  media_tmed  media_prec  media_sol  media_tmin  media_tmax  \\\n",
       "0     A CORUÑA   11.880426    9.925000   3.191667    8.994043   14.765957   \n",
       "1     ALBACETE   10.178641    1.840404   4.301923    5.811650   14.552427   \n",
       "2     ALICANTE   13.529661    2.042857   5.422222    8.515254   18.547458   \n",
       "3      ALMERIA   14.713287    1.024060   6.233333   10.380420   19.034965   \n",
       "4  ARABA/ALAVA    9.341667    2.651786   3.848333    4.755000   13.920000   \n",
       "\n",
       "    año        mes  \n",
       "0  2018  noviembre  \n",
       "1  2018  noviembre  \n",
       "2  2018  noviembre  \n",
       "3  2018  noviembre  \n",
       "4  2018  noviembre  "
      ]
     },
     "execution_count": 550,
     "metadata": {},
     "output_type": "execute_result"
    }
   ],
   "source": [
    "noviembre_18 = procesar_y_setear_mes(noviembre_18, año=2018, mes='noviembre')\n",
    "noviembre_18.head()"
   ]
  },
  {
   "cell_type": "markdown",
   "id": "6bf880e9",
   "metadata": {},
   "source": [
    "## DICIEMBRE18"
   ]
  },
  {
   "cell_type": "code",
   "execution_count": 551,
   "id": "e3fa88ee",
   "metadata": {},
   "outputs": [
    {
     "name": "stdout",
     "output_type": "stream",
     "text": [
      "{'descripcion': 'exito', 'estado': 200, 'datos': 'https://opendata.aemet.es/opendata/sh/77d063ff', 'metadatos': 'https://opendata.aemet.es/opendata/sh/b3aa9d28'}\n"
     ]
    }
   ],
   "source": [
    "url_dic18= 'https://opendata.aemet.es/opendata/api/valores/climatologicos/diarios/datos/fechaini/2018-12-01T00%3A00%3A00UTC/fechafin/2018-12-31T00%3A00%3A00UTC/todasestaciones'\n",
    "api_file_path = '../api.txt'\n",
    "\n",
    "diciembre18 = solicitud_get(url_dic18, api_file_path)\n",
    "print(diciembre18) "
   ]
  },
  {
   "cell_type": "code",
   "execution_count": 552,
   "id": "aa53c7ce",
   "metadata": {},
   "outputs": [],
   "source": [
    "url_datos_dic18= 'https://opendata.aemet.es/opendata/sh/77d063ff'\n",
    "diciembre_18= procesar_datos_mes(url_datos_dic18, columnas_interes)"
   ]
  },
  {
   "cell_type": "code",
   "execution_count": 553,
   "id": "c34b4470",
   "metadata": {
    "scrolled": true
   },
   "outputs": [
    {
     "data": {
      "text/html": [
       "<div>\n",
       "<style scoped>\n",
       "    .dataframe tbody tr th:only-of-type {\n",
       "        vertical-align: middle;\n",
       "    }\n",
       "\n",
       "    .dataframe tbody tr th {\n",
       "        vertical-align: top;\n",
       "    }\n",
       "\n",
       "    .dataframe thead th {\n",
       "        text-align: right;\n",
       "    }\n",
       "</style>\n",
       "<table border=\"1\" class=\"dataframe\">\n",
       "  <thead>\n",
       "    <tr style=\"text-align: right;\">\n",
       "      <th></th>\n",
       "      <th>provincia</th>\n",
       "      <th>media_tmed</th>\n",
       "      <th>media_prec</th>\n",
       "      <th>media_sol</th>\n",
       "      <th>media_tmin</th>\n",
       "      <th>media_tmax</th>\n",
       "      <th>año</th>\n",
       "      <th>mes</th>\n",
       "    </tr>\n",
       "  </thead>\n",
       "  <tbody>\n",
       "    <tr>\n",
       "      <th>0</th>\n",
       "      <td>A CORUÑA</td>\n",
       "      <td>11.794672</td>\n",
       "      <td>4.259227</td>\n",
       "      <td>3.036029</td>\n",
       "      <td>9.082377</td>\n",
       "      <td>14.511475</td>\n",
       "      <td>2018</td>\n",
       "      <td>diciembre</td>\n",
       "    </tr>\n",
       "    <tr>\n",
       "      <th>1</th>\n",
       "      <td>ALBACETE</td>\n",
       "      <td>8.378495</td>\n",
       "      <td>0.277419</td>\n",
       "      <td>5.596154</td>\n",
       "      <td>2.412903</td>\n",
       "      <td>14.336559</td>\n",
       "      <td>2018</td>\n",
       "      <td>diciembre</td>\n",
       "    </tr>\n",
       "    <tr>\n",
       "      <th>2</th>\n",
       "      <td>ALICANTE</td>\n",
       "      <td>12.069919</td>\n",
       "      <td>0.472727</td>\n",
       "      <td>7.054839</td>\n",
       "      <td>5.852033</td>\n",
       "      <td>18.294309</td>\n",
       "      <td>2018</td>\n",
       "      <td>diciembre</td>\n",
       "    </tr>\n",
       "    <tr>\n",
       "      <th>3</th>\n",
       "      <td>ALMERIA</td>\n",
       "      <td>13.578710</td>\n",
       "      <td>0.137419</td>\n",
       "      <td>7.135484</td>\n",
       "      <td>8.172258</td>\n",
       "      <td>18.988387</td>\n",
       "      <td>2018</td>\n",
       "      <td>diciembre</td>\n",
       "    </tr>\n",
       "    <tr>\n",
       "      <th>4</th>\n",
       "      <td>ARABA/ALAVA</td>\n",
       "      <td>6.827419</td>\n",
       "      <td>0.796610</td>\n",
       "      <td>3.585484</td>\n",
       "      <td>1.477419</td>\n",
       "      <td>12.175806</td>\n",
       "      <td>2018</td>\n",
       "      <td>diciembre</td>\n",
       "    </tr>\n",
       "  </tbody>\n",
       "</table>\n",
       "</div>"
      ],
      "text/plain": [
       "     provincia  media_tmed  media_prec  media_sol  media_tmin  media_tmax  \\\n",
       "0     A CORUÑA   11.794672    4.259227   3.036029    9.082377   14.511475   \n",
       "1     ALBACETE    8.378495    0.277419   5.596154    2.412903   14.336559   \n",
       "2     ALICANTE   12.069919    0.472727   7.054839    5.852033   18.294309   \n",
       "3      ALMERIA   13.578710    0.137419   7.135484    8.172258   18.988387   \n",
       "4  ARABA/ALAVA    6.827419    0.796610   3.585484    1.477419   12.175806   \n",
       "\n",
       "    año        mes  \n",
       "0  2018  diciembre  \n",
       "1  2018  diciembre  \n",
       "2  2018  diciembre  \n",
       "3  2018  diciembre  \n",
       "4  2018  diciembre  "
      ]
     },
     "execution_count": 553,
     "metadata": {},
     "output_type": "execute_result"
    }
   ],
   "source": [
    "diciembre_18 = procesar_y_setear_mes(diciembre_18, año=2018, mes='diciembre')\n",
    "diciembre_18.head()"
   ]
  },
  {
   "cell_type": "markdown",
   "id": "2c661a9f",
   "metadata": {},
   "source": [
    "# CONCATENAR DF"
   ]
  },
  {
   "cell_type": "code",
   "execution_count": 586,
   "id": "fcd747d9",
   "metadata": {},
   "outputs": [
    {
     "data": {
      "text/html": [
       "<div>\n",
       "<style scoped>\n",
       "    .dataframe tbody tr th:only-of-type {\n",
       "        vertical-align: middle;\n",
       "    }\n",
       "\n",
       "    .dataframe tbody tr th {\n",
       "        vertical-align: top;\n",
       "    }\n",
       "\n",
       "    .dataframe thead th {\n",
       "        text-align: right;\n",
       "    }\n",
       "</style>\n",
       "<table border=\"1\" class=\"dataframe\">\n",
       "  <thead>\n",
       "    <tr style=\"text-align: right;\">\n",
       "      <th></th>\n",
       "      <th>provincia</th>\n",
       "      <th>media_tmed</th>\n",
       "      <th>media_prec</th>\n",
       "      <th>media_sol</th>\n",
       "      <th>media_tmin</th>\n",
       "      <th>media_tmax</th>\n",
       "      <th>año</th>\n",
       "      <th>mes</th>\n",
       "    </tr>\n",
       "  </thead>\n",
       "  <tbody>\n",
       "    <tr>\n",
       "      <th>0</th>\n",
       "      <td>A CORUÑA</td>\n",
       "      <td>10.068163</td>\n",
       "      <td>3.769456</td>\n",
       "      <td>2.528467</td>\n",
       "      <td>7.360408</td>\n",
       "      <td>12.773469</td>\n",
       "      <td>2018</td>\n",
       "      <td>enero</td>\n",
       "    </tr>\n",
       "    <tr>\n",
       "      <th>1</th>\n",
       "      <td>ALBACETE</td>\n",
       "      <td>7.240323</td>\n",
       "      <td>1.161789</td>\n",
       "      <td>5.959649</td>\n",
       "      <td>2.165323</td>\n",
       "      <td>12.312903</td>\n",
       "      <td>2018</td>\n",
       "      <td>enero</td>\n",
       "    </tr>\n",
       "    <tr>\n",
       "      <th>2</th>\n",
       "      <td>ALICANTE</td>\n",
       "      <td>11.533871</td>\n",
       "      <td>2.181197</td>\n",
       "      <td>7.197849</td>\n",
       "      <td>6.019355</td>\n",
       "      <td>17.037903</td>\n",
       "      <td>2018</td>\n",
       "      <td>enero</td>\n",
       "    </tr>\n",
       "    <tr>\n",
       "      <th>3</th>\n",
       "      <td>ALMERIA</td>\n",
       "      <td>12.171895</td>\n",
       "      <td>0.392763</td>\n",
       "      <td>6.748387</td>\n",
       "      <td>7.255556</td>\n",
       "      <td>17.081699</td>\n",
       "      <td>2018</td>\n",
       "      <td>enero</td>\n",
       "    </tr>\n",
       "    <tr>\n",
       "      <th>4</th>\n",
       "      <td>ARABA/ALAVA</td>\n",
       "      <td>6.133871</td>\n",
       "      <td>4.018033</td>\n",
       "      <td>2.643548</td>\n",
       "      <td>2.108065</td>\n",
       "      <td>10.162903</td>\n",
       "      <td>2018</td>\n",
       "      <td>enero</td>\n",
       "    </tr>\n",
       "  </tbody>\n",
       "</table>\n",
       "</div>"
      ],
      "text/plain": [
       "     provincia  media_tmed  media_prec  media_sol  media_tmin  media_tmax  \\\n",
       "0     A CORUÑA   10.068163    3.769456   2.528467    7.360408   12.773469   \n",
       "1     ALBACETE    7.240323    1.161789   5.959649    2.165323   12.312903   \n",
       "2     ALICANTE   11.533871    2.181197   7.197849    6.019355   17.037903   \n",
       "3      ALMERIA   12.171895    0.392763   6.748387    7.255556   17.081699   \n",
       "4  ARABA/ALAVA    6.133871    4.018033   2.643548    2.108065   10.162903   \n",
       "\n",
       "    año    mes  \n",
       "0  2018  enero  \n",
       "1  2018  enero  \n",
       "2  2018  enero  \n",
       "3  2018  enero  \n",
       "4  2018  enero  "
      ]
     },
     "execution_count": 586,
     "metadata": {},
     "output_type": "execute_result"
    }
   ],
   "source": [
    "dataframes = [\n",
    "    enero_18, febrero_18, marzo_18, abril_18, mayo_18, junio_18, julio_18, agosto_18, septiembre_18, noviembre_18, diciembre_18,\n",
    "    enero_19, febrero_19, marzo_19, abril_19, mayo_19, junio_19, julio_19, agosto_19, septiembre_19, noviembre_19, diciembre_19,\n",
    "    enero_20, febrero_20, marzo_20, abril_20, mayo_20, junio_20, julio_20, agosto_20, septiembre_20, noviembre_20, diciembre_20,\n",
    "    enero_21, febrero_21, marzo_21, abril_21, mayo_21, junio_21, julio_21, agosto_21, septiembre_21, noviembre_21, diciembre_21,\n",
    "    enero_22, febrero_22, marzo_22, abril_22, mayo_22, junio_22, julio_22, agosto_22, septiembre_22, noviembre_22, diciembre_22\n",
    "]\n",
    "\n",
    "# Concatenar los DataFrames\n",
    "df_concatenado = pd.concat(dataframes)\n",
    "\n",
    "# Resetear el índice\n",
    "df_concatenado.reset_index(drop=True, inplace=True)\n",
    "\n",
    "# Mostrar el DataFrame resultante\n",
    "df_concatenado.head()"
   ]
  },
  {
   "cell_type": "code",
   "execution_count": 587,
   "id": "a385948e",
   "metadata": {},
   "outputs": [
    {
     "data": {
      "text/html": [
       "<div>\n",
       "<style scoped>\n",
       "    .dataframe tbody tr th:only-of-type {\n",
       "        vertical-align: middle;\n",
       "    }\n",
       "\n",
       "    .dataframe tbody tr th {\n",
       "        vertical-align: top;\n",
       "    }\n",
       "\n",
       "    .dataframe thead th {\n",
       "        text-align: right;\n",
       "    }\n",
       "</style>\n",
       "<table border=\"1\" class=\"dataframe\">\n",
       "  <thead>\n",
       "    <tr style=\"text-align: right;\">\n",
       "      <th></th>\n",
       "      <th>provincia</th>\n",
       "      <th>media_tmed</th>\n",
       "      <th>media_prec</th>\n",
       "      <th>media_sol</th>\n",
       "      <th>media_tmin</th>\n",
       "      <th>media_tmax</th>\n",
       "      <th>año</th>\n",
       "      <th>mes</th>\n",
       "      <th>fecha_str</th>\n",
       "      <th>fecha</th>\n",
       "    </tr>\n",
       "  </thead>\n",
       "  <tbody>\n",
       "    <tr>\n",
       "      <th>0</th>\n",
       "      <td>A CORUÑA</td>\n",
       "      <td>10.068163</td>\n",
       "      <td>3.769456</td>\n",
       "      <td>2.528467</td>\n",
       "      <td>7.360408</td>\n",
       "      <td>12.773469</td>\n",
       "      <td>2018</td>\n",
       "      <td>enero</td>\n",
       "      <td>2018-enero</td>\n",
       "      <td>2018-01-01</td>\n",
       "    </tr>\n",
       "    <tr>\n",
       "      <th>1</th>\n",
       "      <td>ALBACETE</td>\n",
       "      <td>7.240323</td>\n",
       "      <td>1.161789</td>\n",
       "      <td>5.959649</td>\n",
       "      <td>2.165323</td>\n",
       "      <td>12.312903</td>\n",
       "      <td>2018</td>\n",
       "      <td>enero</td>\n",
       "      <td>2018-enero</td>\n",
       "      <td>2018-01-01</td>\n",
       "    </tr>\n",
       "    <tr>\n",
       "      <th>2</th>\n",
       "      <td>ALICANTE</td>\n",
       "      <td>11.533871</td>\n",
       "      <td>2.181197</td>\n",
       "      <td>7.197849</td>\n",
       "      <td>6.019355</td>\n",
       "      <td>17.037903</td>\n",
       "      <td>2018</td>\n",
       "      <td>enero</td>\n",
       "      <td>2018-enero</td>\n",
       "      <td>2018-01-01</td>\n",
       "    </tr>\n",
       "    <tr>\n",
       "      <th>3</th>\n",
       "      <td>ALMERIA</td>\n",
       "      <td>12.171895</td>\n",
       "      <td>0.392763</td>\n",
       "      <td>6.748387</td>\n",
       "      <td>7.255556</td>\n",
       "      <td>17.081699</td>\n",
       "      <td>2018</td>\n",
       "      <td>enero</td>\n",
       "      <td>2018-enero</td>\n",
       "      <td>2018-01-01</td>\n",
       "    </tr>\n",
       "    <tr>\n",
       "      <th>4</th>\n",
       "      <td>ARABA/ALAVA</td>\n",
       "      <td>6.133871</td>\n",
       "      <td>4.018033</td>\n",
       "      <td>2.643548</td>\n",
       "      <td>2.108065</td>\n",
       "      <td>10.162903</td>\n",
       "      <td>2018</td>\n",
       "      <td>enero</td>\n",
       "      <td>2018-enero</td>\n",
       "      <td>2018-01-01</td>\n",
       "    </tr>\n",
       "  </tbody>\n",
       "</table>\n",
       "</div>"
      ],
      "text/plain": [
       "     provincia  media_tmed  media_prec  media_sol  media_tmin  media_tmax  \\\n",
       "0     A CORUÑA   10.068163    3.769456   2.528467    7.360408   12.773469   \n",
       "1     ALBACETE    7.240323    1.161789   5.959649    2.165323   12.312903   \n",
       "2     ALICANTE   11.533871    2.181197   7.197849    6.019355   17.037903   \n",
       "3      ALMERIA   12.171895    0.392763   6.748387    7.255556   17.081699   \n",
       "4  ARABA/ALAVA    6.133871    4.018033   2.643548    2.108065   10.162903   \n",
       "\n",
       "    año    mes   fecha_str      fecha  \n",
       "0  2018  enero  2018-enero 2018-01-01  \n",
       "1  2018  enero  2018-enero 2018-01-01  \n",
       "2  2018  enero  2018-enero 2018-01-01  \n",
       "3  2018  enero  2018-enero 2018-01-01  \n",
       "4  2018  enero  2018-enero 2018-01-01  "
      ]
     },
     "execution_count": 587,
     "metadata": {},
     "output_type": "execute_result"
    }
   ],
   "source": [
    "locale.setlocale(locale.LC_TIME, 'es_ES')\n",
    "# Combina las columnas 'año' y 'mes' en una nueva columna 'fecha_str'\n",
    "df_concatenado['fecha_str'] = df_concatenado['año'].astype(str) + '-' + df_concatenado['mes']\n",
    "\n",
    "# Convierte la nueva columna 'fecha_str' a tipo datetime\n",
    "df_concatenado['fecha'] = pd.to_datetime(df_concatenado['fecha_str'], format='%Y-%B', errors='coerce')\n",
    "\n",
    "# Muestra el DataFrame resultante\n",
    "df_concatenado.head()"
   ]
  },
  {
   "cell_type": "code",
   "execution_count": 590,
   "id": "7e0fb5e5",
   "metadata": {},
   "outputs": [
    {
     "data": {
      "text/html": [
       "<div>\n",
       "<style scoped>\n",
       "    .dataframe tbody tr th:only-of-type {\n",
       "        vertical-align: middle;\n",
       "    }\n",
       "\n",
       "    .dataframe tbody tr th {\n",
       "        vertical-align: top;\n",
       "    }\n",
       "\n",
       "    .dataframe thead th {\n",
       "        text-align: right;\n",
       "    }\n",
       "</style>\n",
       "<table border=\"1\" class=\"dataframe\">\n",
       "  <thead>\n",
       "    <tr style=\"text-align: right;\">\n",
       "      <th></th>\n",
       "      <th>provincia</th>\n",
       "      <th>media_tmed</th>\n",
       "      <th>media_prec</th>\n",
       "      <th>media_sol</th>\n",
       "      <th>media_tmin</th>\n",
       "      <th>media_tmax</th>\n",
       "      <th>año</th>\n",
       "      <th>mes</th>\n",
       "      <th>fecha_str</th>\n",
       "      <th>fecha</th>\n",
       "    </tr>\n",
       "  </thead>\n",
       "  <tbody>\n",
       "    <tr>\n",
       "      <th>0</th>\n",
       "      <td>A CORUÑA</td>\n",
       "      <td>10.07</td>\n",
       "      <td>3.77</td>\n",
       "      <td>2.53</td>\n",
       "      <td>7.36</td>\n",
       "      <td>12.77</td>\n",
       "      <td>2018</td>\n",
       "      <td>enero</td>\n",
       "      <td>2018-enero</td>\n",
       "      <td>2018-01-01</td>\n",
       "    </tr>\n",
       "    <tr>\n",
       "      <th>1</th>\n",
       "      <td>ALBACETE</td>\n",
       "      <td>7.24</td>\n",
       "      <td>1.16</td>\n",
       "      <td>5.96</td>\n",
       "      <td>2.17</td>\n",
       "      <td>12.31</td>\n",
       "      <td>2018</td>\n",
       "      <td>enero</td>\n",
       "      <td>2018-enero</td>\n",
       "      <td>2018-01-01</td>\n",
       "    </tr>\n",
       "    <tr>\n",
       "      <th>2</th>\n",
       "      <td>ALICANTE</td>\n",
       "      <td>11.53</td>\n",
       "      <td>2.18</td>\n",
       "      <td>7.20</td>\n",
       "      <td>6.02</td>\n",
       "      <td>17.04</td>\n",
       "      <td>2018</td>\n",
       "      <td>enero</td>\n",
       "      <td>2018-enero</td>\n",
       "      <td>2018-01-01</td>\n",
       "    </tr>\n",
       "    <tr>\n",
       "      <th>3</th>\n",
       "      <td>ALMERIA</td>\n",
       "      <td>12.17</td>\n",
       "      <td>0.39</td>\n",
       "      <td>6.75</td>\n",
       "      <td>7.26</td>\n",
       "      <td>17.08</td>\n",
       "      <td>2018</td>\n",
       "      <td>enero</td>\n",
       "      <td>2018-enero</td>\n",
       "      <td>2018-01-01</td>\n",
       "    </tr>\n",
       "    <tr>\n",
       "      <th>4</th>\n",
       "      <td>ARABA/ALAVA</td>\n",
       "      <td>6.13</td>\n",
       "      <td>4.02</td>\n",
       "      <td>2.64</td>\n",
       "      <td>2.11</td>\n",
       "      <td>10.16</td>\n",
       "      <td>2018</td>\n",
       "      <td>enero</td>\n",
       "      <td>2018-enero</td>\n",
       "      <td>2018-01-01</td>\n",
       "    </tr>\n",
       "  </tbody>\n",
       "</table>\n",
       "</div>"
      ],
      "text/plain": [
       "     provincia  media_tmed  media_prec  media_sol  media_tmin  media_tmax  \\\n",
       "0     A CORUÑA       10.07        3.77       2.53        7.36       12.77   \n",
       "1     ALBACETE        7.24        1.16       5.96        2.17       12.31   \n",
       "2     ALICANTE       11.53        2.18       7.20        6.02       17.04   \n",
       "3      ALMERIA       12.17        0.39       6.75        7.26       17.08   \n",
       "4  ARABA/ALAVA        6.13        4.02       2.64        2.11       10.16   \n",
       "\n",
       "    año    mes   fecha_str      fecha  \n",
       "0  2018  enero  2018-enero 2018-01-01  \n",
       "1  2018  enero  2018-enero 2018-01-01  \n",
       "2  2018  enero  2018-enero 2018-01-01  \n",
       "3  2018  enero  2018-enero 2018-01-01  \n",
       "4  2018  enero  2018-enero 2018-01-01  "
      ]
     },
     "execution_count": 590,
     "metadata": {},
     "output_type": "execute_result"
    }
   ],
   "source": [
    "columnas_float = ['media_tmed', 'media_prec', 'media_sol', 'media_tmin', 'media_tmax']\n",
    "\n",
    "# Redondear a dos decimales las columnas especificadas\n",
    "df_concatenado[columnas_float] = df_concatenado[columnas_float].round(2)\n",
    "df_concatenado.head()"
   ]
  },
  {
   "cell_type": "code",
   "execution_count": 591,
   "id": "bce7e027",
   "metadata": {},
   "outputs": [],
   "source": [
    "# Guardar el DataFrame combinado en un nuevo archivo csv\n",
    "df_concatenado.to_csv('clima.csv')"
   ]
  }
 ],
 "metadata": {
  "kernelspec": {
   "display_name": "clase",
   "language": "python",
   "name": "clase"
  },
  "language_info": {
   "codemirror_mode": {
    "name": "ipython",
    "version": 3
   },
   "file_extension": ".py",
   "mimetype": "text/x-python",
   "name": "python",
   "nbconvert_exporter": "python",
   "pygments_lexer": "ipython3",
   "version": "3.11.4"
  }
 },
 "nbformat": 4,
 "nbformat_minor": 5
}
