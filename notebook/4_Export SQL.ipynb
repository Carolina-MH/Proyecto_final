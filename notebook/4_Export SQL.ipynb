{
 "cells": [
  {
   "cell_type": "markdown",
   "id": "db57af4f",
   "metadata": {},
   "source": [
    "# SQL"
   ]
  },
  {
   "cell_type": "markdown",
   "id": "7350cd46",
   "metadata": {},
   "source": [
    "Una vez realizada toda la limpieza y ordenado todos mis datos. Me conecto con la base de datos a SQL para establecer relaciones:"
   ]
  },
  {
   "cell_type": "code",
   "execution_count": 1,
   "id": "fa2067b9",
   "metadata": {},
   "outputs": [],
   "source": [
    "import pandas as pd\n",
    "from sqlalchemy import create_engine\n",
    "%run 5_Funciones.ipynb"
   ]
  },
  {
   "cell_type": "code",
   "execution_count": 30,
   "id": "3d067ba6",
   "metadata": {},
   "outputs": [],
   "source": [
    "usuario = 'root'\n",
    "ruta_archivo_contraseña = '../SQL_pass.txt'  # Reemplaza con la ruta correcta al archivo de texto\n",
    "host = 'localhost'\n",
    "puerto = '3306'\n",
    "nombre_bd = 'turismo'\n",
    "\n",
    "cadena_conexion = crear_cadena_conexion(usuario, ruta_archivo_contraseña, host, puerto)\n",
    "crear_base_de_datos(cadena_conexion, nombre_bd)\n"
   ]
  },
  {
   "cell_type": "markdown",
   "id": "bc468375",
   "metadata": {},
   "source": [
    "#### INE"
   ]
  },
  {
   "cell_type": "code",
   "execution_count": 31,
   "id": "25866702",
   "metadata": {},
   "outputs": [
    {
     "name": "stdout",
     "output_type": "stream",
     "text": [
      "Datos cargados en la tabla viajeros con éxito.\n"
     ]
    }
   ],
   "source": [
    "ruta_csv_ine_viajeros = '../data/ine_viajeros.csv'\n",
    "nombre_tabla_mysql = 'viajeros'\n",
    "cargar_csv_a_mysql(ruta_csv_ine_viajeros, cadena_conexion, nombre_tabla_mysql, nombre_bd)"
   ]
  },
  {
   "cell_type": "code",
   "execution_count": 32,
   "id": "26e2eac3",
   "metadata": {},
   "outputs": [
    {
     "name": "stdout",
     "output_type": "stream",
     "text": [
      "Datos cargados en la tabla pernoctaciones con éxito.\n"
     ]
    }
   ],
   "source": [
    "ruta_csv_ine_pernoctaciones = '../data/ine_pernoctaciones.csv'\n",
    "nombre_tabla_mysql = 'pernoctaciones'\n",
    "cargar_csv_a_mysql(ruta_csv_ine_pernoctaciones, cadena_conexion, nombre_tabla_mysql, nombre_bd)"
   ]
  },
  {
   "cell_type": "code",
   "execution_count": 33,
   "id": "be7a9c50",
   "metadata": {},
   "outputs": [
    {
     "name": "stdout",
     "output_type": "stream",
     "text": [
      "Datos cargados en la tabla total con éxito.\n"
     ]
    }
   ],
   "source": [
    "ruta_csv_ine_total = '../data/ine_total.csv'\n",
    "nombre_tabla_mysql = 'total'\n",
    "cargar_csv_a_mysql(ruta_csv_ine_total, cadena_conexion, nombre_tabla_mysql, nombre_bd)"
   ]
  },
  {
   "cell_type": "markdown",
   "id": "b33cd070",
   "metadata": {},
   "source": [
    "AEMET"
   ]
  },
  {
   "cell_type": "code",
   "execution_count": 34,
   "id": "b3606122",
   "metadata": {},
   "outputs": [
    {
     "name": "stdout",
     "output_type": "stream",
     "text": [
      "Datos cargados en la tabla clima con éxito.\n"
     ]
    }
   ],
   "source": [
    "ruta_csv_aemet_meses = '../data/clima.csv'\n",
    "nombre_tabla_mysql = 'clima'\n",
    "cargar_csv_a_mysql(ruta_csv_aemet_meses, cadena_conexion, nombre_tabla_mysql, nombre_bd)"
   ]
  }
 ],
 "metadata": {
  "kernelspec": {
   "display_name": "clase",
   "language": "python",
   "name": "clase"
  },
  "language_info": {
   "codemirror_mode": {
    "name": "ipython",
    "version": 3
   },
   "file_extension": ".py",
   "mimetype": "text/x-python",
   "name": "python",
   "nbconvert_exporter": "python",
   "pygments_lexer": "ipython3",
   "version": "3.11.4"
  }
 },
 "nbformat": 4,
 "nbformat_minor": 5
}
