{
 "cells": [
  {
   "cell_type": "code",
   "execution_count": 54,
   "id": "97e99a00",
   "metadata": {},
   "outputs": [],
   "source": [
    "import pandas as pd\n",
    "from selenium.webdriver.chrome.options import Options\n",
    "from selenium import webdriver\n",
    "from selenium.webdriver.common.by import By\n",
    "import time"
   ]
  },
  {
   "cell_type": "code",
   "execution_count": 69,
   "id": "0d435475",
   "metadata": {},
   "outputs": [],
   "source": [
    "opciones = Options()\n",
    "opciones.add_experimental_option('excludeSwitches', ['enable-automation'])\n",
    "opciones.add_experimental_option('useAutomationExtension', False)\n",
    "opciones.headless = False\n",
    "opciones.add_argument('--start-maximized')\n",
    "opciones.add_argument('--incognito')"
   ]
  },
  {
   "cell_type": "code",
   "execution_count": 70,
   "id": "dc7bce94",
   "metadata": {},
   "outputs": [],
   "source": [
    "PATH = 'drive/chromedriver'\n",
    "driver = webdriver.Chrome(options=opciones)"
   ]
  },
  {
   "cell_type": "code",
   "execution_count": 71,
   "id": "1018b320",
   "metadata": {},
   "outputs": [],
   "source": [
    "url = \"https://www.ign.es/web/ane-datos-geograficos/-/datos-geograficos/datosPoblacion?tipoBusqueda=capitales\"\n",
    "driver.get(url)"
   ]
  },
  {
   "cell_type": "code",
   "execution_count": 72,
   "id": "a48a2eb3",
   "metadata": {},
   "outputs": [],
   "source": [
    "time.sleep(3)"
   ]
  },
  {
   "cell_type": "code",
   "execution_count": 73,
   "id": "6032989c",
   "metadata": {},
   "outputs": [],
   "source": [
    "elemento_select = driver.find_element(By.CSS_SELECTOR, '#_IGNANEDatosGeograficos_WAR_IGNANEDatosGeograficosportlet_tipoBusqueda')"
   ]
  },
  {
   "cell_type": "code",
   "execution_count": 74,
   "id": "68f905fe",
   "metadata": {},
   "outputs": [],
   "source": [
    "elemento_select.click()"
   ]
  },
  {
   "cell_type": "code",
   "execution_count": 75,
   "id": "44f2f68c",
   "metadata": {},
   "outputs": [],
   "source": [
    "time.sleep(1)"
   ]
  },
  {
   "cell_type": "code",
   "execution_count": 76,
   "id": "729b0790",
   "metadata": {},
   "outputs": [],
   "source": [
    "opcion_provincias = driver.find_element(By.CSS_SELECTOR, '#_IGNANEDatosGeograficos_WAR_IGNANEDatosGeograficosportlet_tipoBusqueda > option:nth-child(2)')\n",
    "opcion_provincias.click()"
   ]
  },
  {
   "cell_type": "code",
   "execution_count": null,
   "id": "230d1ef2",
   "metadata": {},
   "outputs": [],
   "source": []
  }
 ],
 "metadata": {
  "kernelspec": {
   "display_name": "clima",
   "language": "python",
   "name": "clima"
  },
  "language_info": {
   "codemirror_mode": {
    "name": "ipython",
    "version": 3
   },
   "file_extension": ".py",
   "mimetype": "text/x-python",
   "name": "python",
   "nbconvert_exporter": "python",
   "pygments_lexer": "ipython3",
   "version": "3.11.4"
  }
 },
 "nbformat": 4,
 "nbformat_minor": 5
}
